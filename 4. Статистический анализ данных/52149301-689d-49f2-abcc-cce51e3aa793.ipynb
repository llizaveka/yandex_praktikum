{
 "cells": [
  {
   "cell_type": "markdown",
   "id": "40234cbd",
   "metadata": {},
   "source": [
    "# Исследование популярного сервиса аренды самокатов GoFast"
   ]
  },
  {
   "cell_type": "markdown",
   "id": "0c20dc93",
   "metadata": {},
   "source": [
    "# Описание проекта"
   ]
  },
  {
   "cell_type": "markdown",
   "id": "11f8bb2a",
   "metadata": {},
   "source": [
    "Есть данные о некоторых пользователях из нескольких городов, а также об их поездках. Нужно проанализировать данные и проверить некоторые гипотезы, которые могут помочь бизнесу вырасти.\n",
    "\n",
    "Чтобы совершать поездки по городу, пользователи сервиса GoFast пользуются мобильным приложением. Сервисом можно пользоваться:\n",
    "\n",
    "без подписки\n",
    "\n",
    "    абонентская плата отсутствует;\n",
    "    стоимость одной минуты поездки — 8 рублей;\n",
    "    стоимость старта (начала поездки) — 50 рублей;\n",
    "    \n",
    "с подпиской Ultra\n",
    "\n",
    "    абонентская плата — 199 рублей в месяц;\n",
    "    стоимость одной минуты поездки — 6 рублей;\n",
    "    стоимость старта — бесплатно."
   ]
  },
  {
   "cell_type": "markdown",
   "id": "fc0f0668",
   "metadata": {},
   "source": [
    "# Описание данных"
   ]
  },
  {
   "cell_type": "markdown",
   "id": "a3911200",
   "metadata": {},
   "source": [
    "В основных данных есть информация о пользователях, их поездках и подписках.\n",
    "\n",
    "Пользователи — users_go.csv\n",
    "\n",
    "    user_id\tуникальный идентификатор пользователя\n",
    "    name\tимя пользователя\n",
    "    age\tвозраст\n",
    "    city\tгород\n",
    "    subscription_type\tтип подписки (free, ultra)\n",
    "    \n",
    "Поездки — rides_go.csv\n",
    "\n",
    "    user_id\tуникальный идентификатор пользователя\n",
    "    distance\tрасстояние, которое пользователь проехал в текущей сессии (в метрах)\n",
    "    duration\tпродолжительность сессии (в минутах) — время с того момента, как пользователь нажал кнопку «Начать поездку» до     момента, как он нажал кнопку «Завершить поездку»\n",
    "    date\tдата совершения поездки\n",
    "    \n",
    "Подписки — subscriptions_go.csv\n",
    "\n",
    "    subscription_type\tтип подписки\n",
    "    minute_price\tстоимость одной минуты поездки по данной подписке\n",
    "    start_ride_price\tстоимость начала поездки\n",
    "    subscription_fee\tстоимость ежемесячного платежа"
   ]
  },
  {
   "cell_type": "markdown",
   "id": "e24a81b6",
   "metadata": {},
   "source": [
    "## Шаг 1. Загрузка данных"
   ]
  },
  {
   "cell_type": "markdown",
   "id": "09201cf3",
   "metadata": {},
   "source": [
    "### Считайте CSV-файлы с данными с помощью библиотеки pandas и сохраните их в датафреймы. Пути к файлам:"
   ]
  },
  {
   "cell_type": "code",
   "execution_count": 1,
   "id": "7668eff1",
   "metadata": {},
   "outputs": [],
   "source": [
    "import pandas as pd\n",
    "from matplotlib import pyplot as plt\n",
    "from scipy import stats as st\n",
    "import numpy as np\n",
    "users_go = pd.read_csv('/datasets/users_go.csv')\n",
    "rides_go = pd.read_csv('/datasets/rides_go.csv')\n",
    "subscriptions_go = pd.read_csv('/datasets/subscriptions_go.csv')"
   ]
  },
  {
   "cell_type": "markdown",
   "id": "0f35fa37",
   "metadata": {},
   "source": [
    "### Выведите первые строки каждого набора данных. Изучите общую информацию о каждом датафрейме."
   ]
  },
  {
   "cell_type": "code",
   "execution_count": 2,
   "id": "ef5ea402",
   "metadata": {},
   "outputs": [
    {
     "data": {
      "text/html": [
       "<div>\n",
       "<style scoped>\n",
       "    .dataframe tbody tr th:only-of-type {\n",
       "        vertical-align: middle;\n",
       "    }\n",
       "\n",
       "    .dataframe tbody tr th {\n",
       "        vertical-align: top;\n",
       "    }\n",
       "\n",
       "    .dataframe thead th {\n",
       "        text-align: right;\n",
       "    }\n",
       "</style>\n",
       "<table border=\"1\" class=\"dataframe\">\n",
       "  <thead>\n",
       "    <tr style=\"text-align: right;\">\n",
       "      <th></th>\n",
       "      <th>user_id</th>\n",
       "      <th>name</th>\n",
       "      <th>age</th>\n",
       "      <th>city</th>\n",
       "      <th>subscription_type</th>\n",
       "    </tr>\n",
       "  </thead>\n",
       "  <tbody>\n",
       "    <tr>\n",
       "      <th>0</th>\n",
       "      <td>1</td>\n",
       "      <td>Кира</td>\n",
       "      <td>22</td>\n",
       "      <td>Тюмень</td>\n",
       "      <td>ultra</td>\n",
       "    </tr>\n",
       "    <tr>\n",
       "      <th>1</th>\n",
       "      <td>2</td>\n",
       "      <td>Станислав</td>\n",
       "      <td>31</td>\n",
       "      <td>Омск</td>\n",
       "      <td>ultra</td>\n",
       "    </tr>\n",
       "    <tr>\n",
       "      <th>2</th>\n",
       "      <td>3</td>\n",
       "      <td>Алексей</td>\n",
       "      <td>20</td>\n",
       "      <td>Москва</td>\n",
       "      <td>ultra</td>\n",
       "    </tr>\n",
       "    <tr>\n",
       "      <th>3</th>\n",
       "      <td>4</td>\n",
       "      <td>Константин</td>\n",
       "      <td>26</td>\n",
       "      <td>Ростов-на-Дону</td>\n",
       "      <td>ultra</td>\n",
       "    </tr>\n",
       "    <tr>\n",
       "      <th>4</th>\n",
       "      <td>5</td>\n",
       "      <td>Адель</td>\n",
       "      <td>28</td>\n",
       "      <td>Омск</td>\n",
       "      <td>ultra</td>\n",
       "    </tr>\n",
       "    <tr>\n",
       "      <th>5</th>\n",
       "      <td>6</td>\n",
       "      <td>Регина</td>\n",
       "      <td>25</td>\n",
       "      <td>Краснодар</td>\n",
       "      <td>ultra</td>\n",
       "    </tr>\n",
       "    <tr>\n",
       "      <th>6</th>\n",
       "      <td>7</td>\n",
       "      <td>Игорь</td>\n",
       "      <td>23</td>\n",
       "      <td>Омск</td>\n",
       "      <td>ultra</td>\n",
       "    </tr>\n",
       "    <tr>\n",
       "      <th>7</th>\n",
       "      <td>8</td>\n",
       "      <td>Юрий</td>\n",
       "      <td>23</td>\n",
       "      <td>Краснодар</td>\n",
       "      <td>ultra</td>\n",
       "    </tr>\n",
       "    <tr>\n",
       "      <th>8</th>\n",
       "      <td>9</td>\n",
       "      <td>Ян</td>\n",
       "      <td>21</td>\n",
       "      <td>Пятигорск</td>\n",
       "      <td>ultra</td>\n",
       "    </tr>\n",
       "    <tr>\n",
       "      <th>9</th>\n",
       "      <td>10</td>\n",
       "      <td>Валерий</td>\n",
       "      <td>18</td>\n",
       "      <td>Екатеринбург</td>\n",
       "      <td>ultra</td>\n",
       "    </tr>\n",
       "  </tbody>\n",
       "</table>\n",
       "</div>"
      ],
      "text/plain": [
       "   user_id        name  age            city subscription_type\n",
       "0        1        Кира   22          Тюмень             ultra\n",
       "1        2   Станислав   31            Омск             ultra\n",
       "2        3     Алексей   20          Москва             ultra\n",
       "3        4  Константин   26  Ростов-на-Дону             ultra\n",
       "4        5       Адель   28            Омск             ultra\n",
       "5        6      Регина   25       Краснодар             ultra\n",
       "6        7       Игорь   23            Омск             ultra\n",
       "7        8        Юрий   23       Краснодар             ultra\n",
       "8        9          Ян   21       Пятигорск             ultra\n",
       "9       10     Валерий   18    Екатеринбург             ultra"
      ]
     },
     "execution_count": 2,
     "metadata": {},
     "output_type": "execute_result"
    }
   ],
   "source": [
    "users_go.head(10)"
   ]
  },
  {
   "cell_type": "code",
   "execution_count": 3,
   "id": "264c11f2",
   "metadata": {},
   "outputs": [
    {
     "name": "stdout",
     "output_type": "stream",
     "text": [
      "<class 'pandas.core.frame.DataFrame'>\n",
      "RangeIndex: 1565 entries, 0 to 1564\n",
      "Data columns (total 5 columns):\n",
      " #   Column             Non-Null Count  Dtype \n",
      "---  ------             --------------  ----- \n",
      " 0   user_id            1565 non-null   int64 \n",
      " 1   name               1565 non-null   object\n",
      " 2   age                1565 non-null   int64 \n",
      " 3   city               1565 non-null   object\n",
      " 4   subscription_type  1565 non-null   object\n",
      "dtypes: int64(2), object(3)\n",
      "memory usage: 61.3+ KB\n"
     ]
    }
   ],
   "source": [
    "users_go.info()"
   ]
  },
  {
   "cell_type": "code",
   "execution_count": 4,
   "id": "88039cdc",
   "metadata": {},
   "outputs": [
    {
     "data": {
      "text/html": [
       "<div>\n",
       "<style scoped>\n",
       "    .dataframe tbody tr th:only-of-type {\n",
       "        vertical-align: middle;\n",
       "    }\n",
       "\n",
       "    .dataframe tbody tr th {\n",
       "        vertical-align: top;\n",
       "    }\n",
       "\n",
       "    .dataframe thead th {\n",
       "        text-align: right;\n",
       "    }\n",
       "</style>\n",
       "<table border=\"1\" class=\"dataframe\">\n",
       "  <thead>\n",
       "    <tr style=\"text-align: right;\">\n",
       "      <th></th>\n",
       "      <th>user_id</th>\n",
       "      <th>distance</th>\n",
       "      <th>duration</th>\n",
       "      <th>date</th>\n",
       "    </tr>\n",
       "  </thead>\n",
       "  <tbody>\n",
       "    <tr>\n",
       "      <th>0</th>\n",
       "      <td>1</td>\n",
       "      <td>4409.919140</td>\n",
       "      <td>25.599769</td>\n",
       "      <td>2021-01-01</td>\n",
       "    </tr>\n",
       "    <tr>\n",
       "      <th>1</th>\n",
       "      <td>1</td>\n",
       "      <td>2617.592153</td>\n",
       "      <td>15.816871</td>\n",
       "      <td>2021-01-18</td>\n",
       "    </tr>\n",
       "    <tr>\n",
       "      <th>2</th>\n",
       "      <td>1</td>\n",
       "      <td>754.159807</td>\n",
       "      <td>6.232113</td>\n",
       "      <td>2021-04-20</td>\n",
       "    </tr>\n",
       "    <tr>\n",
       "      <th>3</th>\n",
       "      <td>1</td>\n",
       "      <td>2694.783254</td>\n",
       "      <td>18.511000</td>\n",
       "      <td>2021-08-11</td>\n",
       "    </tr>\n",
       "    <tr>\n",
       "      <th>4</th>\n",
       "      <td>1</td>\n",
       "      <td>4028.687306</td>\n",
       "      <td>26.265803</td>\n",
       "      <td>2021-08-28</td>\n",
       "    </tr>\n",
       "    <tr>\n",
       "      <th>5</th>\n",
       "      <td>1</td>\n",
       "      <td>2770.890808</td>\n",
       "      <td>16.650138</td>\n",
       "      <td>2021-10-09</td>\n",
       "    </tr>\n",
       "    <tr>\n",
       "      <th>6</th>\n",
       "      <td>1</td>\n",
       "      <td>3039.020292</td>\n",
       "      <td>14.927879</td>\n",
       "      <td>2021-10-19</td>\n",
       "    </tr>\n",
       "    <tr>\n",
       "      <th>7</th>\n",
       "      <td>1</td>\n",
       "      <td>2842.118050</td>\n",
       "      <td>23.117468</td>\n",
       "      <td>2021-11-06</td>\n",
       "    </tr>\n",
       "    <tr>\n",
       "      <th>8</th>\n",
       "      <td>1</td>\n",
       "      <td>3412.690668</td>\n",
       "      <td>15.238072</td>\n",
       "      <td>2021-11-14</td>\n",
       "    </tr>\n",
       "    <tr>\n",
       "      <th>9</th>\n",
       "      <td>1</td>\n",
       "      <td>748.690645</td>\n",
       "      <td>15.041884</td>\n",
       "      <td>2021-11-22</td>\n",
       "    </tr>\n",
       "  </tbody>\n",
       "</table>\n",
       "</div>"
      ],
      "text/plain": [
       "   user_id     distance   duration        date\n",
       "0        1  4409.919140  25.599769  2021-01-01\n",
       "1        1  2617.592153  15.816871  2021-01-18\n",
       "2        1   754.159807   6.232113  2021-04-20\n",
       "3        1  2694.783254  18.511000  2021-08-11\n",
       "4        1  4028.687306  26.265803  2021-08-28\n",
       "5        1  2770.890808  16.650138  2021-10-09\n",
       "6        1  3039.020292  14.927879  2021-10-19\n",
       "7        1  2842.118050  23.117468  2021-11-06\n",
       "8        1  3412.690668  15.238072  2021-11-14\n",
       "9        1   748.690645  15.041884  2021-11-22"
      ]
     },
     "execution_count": 4,
     "metadata": {},
     "output_type": "execute_result"
    }
   ],
   "source": [
    "rides_go.head(10)"
   ]
  },
  {
   "cell_type": "code",
   "execution_count": 5,
   "id": "cf918126",
   "metadata": {},
   "outputs": [
    {
     "name": "stdout",
     "output_type": "stream",
     "text": [
      "<class 'pandas.core.frame.DataFrame'>\n",
      "RangeIndex: 18068 entries, 0 to 18067\n",
      "Data columns (total 4 columns):\n",
      " #   Column    Non-Null Count  Dtype  \n",
      "---  ------    --------------  -----  \n",
      " 0   user_id   18068 non-null  int64  \n",
      " 1   distance  18068 non-null  float64\n",
      " 2   duration  18068 non-null  float64\n",
      " 3   date      18068 non-null  object \n",
      "dtypes: float64(2), int64(1), object(1)\n",
      "memory usage: 564.8+ KB\n"
     ]
    }
   ],
   "source": [
    "rides_go.info()"
   ]
  },
  {
   "cell_type": "code",
   "execution_count": 6,
   "id": "ccd245c9",
   "metadata": {},
   "outputs": [
    {
     "data": {
      "text/html": [
       "<div>\n",
       "<style scoped>\n",
       "    .dataframe tbody tr th:only-of-type {\n",
       "        vertical-align: middle;\n",
       "    }\n",
       "\n",
       "    .dataframe tbody tr th {\n",
       "        vertical-align: top;\n",
       "    }\n",
       "\n",
       "    .dataframe thead th {\n",
       "        text-align: right;\n",
       "    }\n",
       "</style>\n",
       "<table border=\"1\" class=\"dataframe\">\n",
       "  <thead>\n",
       "    <tr style=\"text-align: right;\">\n",
       "      <th></th>\n",
       "      <th>subscription_type</th>\n",
       "      <th>minute_price</th>\n",
       "      <th>start_ride_price</th>\n",
       "      <th>subscription_fee</th>\n",
       "    </tr>\n",
       "  </thead>\n",
       "  <tbody>\n",
       "    <tr>\n",
       "      <th>0</th>\n",
       "      <td>free</td>\n",
       "      <td>8</td>\n",
       "      <td>50</td>\n",
       "      <td>0</td>\n",
       "    </tr>\n",
       "    <tr>\n",
       "      <th>1</th>\n",
       "      <td>ultra</td>\n",
       "      <td>6</td>\n",
       "      <td>0</td>\n",
       "      <td>199</td>\n",
       "    </tr>\n",
       "  </tbody>\n",
       "</table>\n",
       "</div>"
      ],
      "text/plain": [
       "  subscription_type  minute_price  start_ride_price  subscription_fee\n",
       "0              free             8                50                 0\n",
       "1             ultra             6                 0               199"
      ]
     },
     "execution_count": 6,
     "metadata": {},
     "output_type": "execute_result"
    }
   ],
   "source": [
    "subscriptions_go.head()"
   ]
  },
  {
   "cell_type": "code",
   "execution_count": 7,
   "id": "2009ac88",
   "metadata": {},
   "outputs": [
    {
     "name": "stdout",
     "output_type": "stream",
     "text": [
      "<class 'pandas.core.frame.DataFrame'>\n",
      "RangeIndex: 2 entries, 0 to 1\n",
      "Data columns (total 4 columns):\n",
      " #   Column             Non-Null Count  Dtype \n",
      "---  ------             --------------  ----- \n",
      " 0   subscription_type  2 non-null      object\n",
      " 1   minute_price       2 non-null      int64 \n",
      " 2   start_ride_price   2 non-null      int64 \n",
      " 3   subscription_fee   2 non-null      int64 \n",
      "dtypes: int64(3), object(1)\n",
      "memory usage: 192.0+ bytes\n"
     ]
    }
   ],
   "source": [
    "subscriptions_go.info()"
   ]
  },
  {
   "cell_type": "markdown",
   "id": "55c02aab",
   "metadata": {},
   "source": [
    "**Вывод:** users_go - 1565 строк, rides_go - date требуется привести к временному типу, 18068 записей, subscriptions_go - 2 записи."
   ]
  },
  {
   "cell_type": "markdown",
   "id": "0f94bfbd",
   "metadata": {},
   "source": [
    "## Шаг 2. Предобработка данных"
   ]
  },
  {
   "cell_type": "markdown",
   "id": "2a26414a",
   "metadata": {},
   "source": [
    "### Приведите столбец date к типу даты pandas."
   ]
  },
  {
   "cell_type": "code",
   "execution_count": 8,
   "id": "39cf59f2",
   "metadata": {},
   "outputs": [],
   "source": [
    "rides_go['date'] = pd.to_datetime(rides_go['date'], format='%Y-%m-%dT%H:%M:%S')"
   ]
  },
  {
   "cell_type": "markdown",
   "id": "78ca3fc9",
   "metadata": {},
   "source": [
    "### Создайте новый столбец с номером месяца на основе столбца date."
   ]
  },
  {
   "cell_type": "code",
   "execution_count": 9,
   "id": "967de23b",
   "metadata": {},
   "outputs": [],
   "source": [
    "rides_go['month'] = rides_go['date'].dt.month"
   ]
  },
  {
   "cell_type": "markdown",
   "id": "43bfcac2",
   "metadata": {},
   "source": [
    "### Проверьте наличие пропущенных значений и дубликатов в датафреймах. Обработайте их, если такие значения присутствуют."
   ]
  },
  {
   "cell_type": "code",
   "execution_count": 10,
   "id": "dbd6b2bf",
   "metadata": {},
   "outputs": [
    {
     "data": {
      "text/plain": [
       "user_id              0\n",
       "name                 0\n",
       "age                  0\n",
       "city                 0\n",
       "subscription_type    0\n",
       "dtype: int64"
      ]
     },
     "execution_count": 10,
     "metadata": {},
     "output_type": "execute_result"
    }
   ],
   "source": [
    "users_go.isna().sum()"
   ]
  },
  {
   "cell_type": "code",
   "execution_count": 11,
   "id": "8802bea8",
   "metadata": {},
   "outputs": [
    {
     "data": {
      "text/plain": [
       "user_id     0\n",
       "distance    0\n",
       "duration    0\n",
       "date        0\n",
       "month       0\n",
       "dtype: int64"
      ]
     },
     "execution_count": 11,
     "metadata": {},
     "output_type": "execute_result"
    }
   ],
   "source": [
    "rides_go.isna().sum()"
   ]
  },
  {
   "cell_type": "code",
   "execution_count": 12,
   "id": "ad0f46ca",
   "metadata": {},
   "outputs": [
    {
     "data": {
      "text/plain": [
       "subscription_type    0\n",
       "minute_price         0\n",
       "start_ride_price     0\n",
       "subscription_fee     0\n",
       "dtype: int64"
      ]
     },
     "execution_count": 12,
     "metadata": {},
     "output_type": "execute_result"
    }
   ],
   "source": [
    "subscriptions_go.isna().sum()"
   ]
  },
  {
   "cell_type": "markdown",
   "id": "7d289d16",
   "metadata": {},
   "source": [
    "**Вывод:** пропусков нет."
   ]
  },
  {
   "cell_type": "code",
   "execution_count": 13,
   "id": "e0603d82",
   "metadata": {},
   "outputs": [],
   "source": [
    "users_go.duplicated().sum()\n",
    "users_go = users_go.drop_duplicates()\n",
    "users_go = users_go.reset_index(drop=True)"
   ]
  },
  {
   "cell_type": "code",
   "execution_count": 14,
   "id": "7c15a819",
   "metadata": {},
   "outputs": [
    {
     "data": {
      "text/plain": [
       "0"
      ]
     },
     "execution_count": 14,
     "metadata": {},
     "output_type": "execute_result"
    }
   ],
   "source": [
    "rides_go.duplicated().sum()"
   ]
  },
  {
   "cell_type": "code",
   "execution_count": 15,
   "id": "9ed0571e",
   "metadata": {},
   "outputs": [
    {
     "data": {
      "text/plain": [
       "0"
      ]
     },
     "execution_count": 15,
     "metadata": {},
     "output_type": "execute_result"
    }
   ],
   "source": [
    "subscriptions_go.duplicated().sum()"
   ]
  },
  {
   "cell_type": "code",
   "execution_count": 16,
   "id": "d9c6a578",
   "metadata": {},
   "outputs": [
    {
     "data": {
      "text/plain": [
       "0"
      ]
     },
     "execution_count": 16,
     "metadata": {},
     "output_type": "execute_result"
    }
   ],
   "source": [
    "users_go.duplicated().sum()"
   ]
  },
  {
   "cell_type": "markdown",
   "id": "5a2f62e0",
   "metadata": {},
   "source": [
    "**Вывод:** избавились от явных дубликатов."
   ]
  },
  {
   "cell_type": "code",
   "execution_count": 17,
   "id": "d9bc64f7",
   "metadata": {},
   "outputs": [
    {
     "data": {
      "text/plain": [
       "array(['Тюмень', 'Омск', 'Москва', 'Ростов-на-Дону', 'Краснодар',\n",
       "       'Пятигорск', 'Екатеринбург', 'Сочи'], dtype=object)"
      ]
     },
     "execution_count": 17,
     "metadata": {},
     "output_type": "execute_result"
    }
   ],
   "source": [
    "users_go['city'].unique()"
   ]
  },
  {
   "cell_type": "code",
   "execution_count": 18,
   "id": "82556313",
   "metadata": {},
   "outputs": [
    {
     "data": {
      "text/plain": [
       "user_id              0.0\n",
       "name                 0.0\n",
       "age                  0.0\n",
       "city                 0.0\n",
       "subscription_type    0.0\n",
       "dtype: float64"
      ]
     },
     "execution_count": 18,
     "metadata": {},
     "output_type": "execute_result"
    }
   ],
   "source": [
    "users_go[users_go.duplicated(['user_id'])].sum() # дубликатов по user_id нет"
   ]
  },
  {
   "cell_type": "markdown",
   "id": "8ec25c1d",
   "metadata": {},
   "source": [
    "Неявных дубликатов не выявила."
   ]
  },
  {
   "cell_type": "markdown",
   "id": "da87cf3e",
   "metadata": {},
   "source": [
    "**Вывод:** Столбец date привели к нужному типу. Проверили наличие пропусков и дубликатов, обработали. Можно приступать к анализу."
   ]
  },
  {
   "cell_type": "markdown",
   "id": "d68e9a9d",
   "metadata": {},
   "source": [
    "## Шаг 3. Исследовательский анализ данных"
   ]
  },
  {
   "cell_type": "markdown",
   "id": "bc4df250",
   "metadata": {},
   "source": [
    "### Частота встречаемости городов"
   ]
  },
  {
   "cell_type": "code",
   "execution_count": 19,
   "id": "f7429b66",
   "metadata": {},
   "outputs": [
    {
     "data": {
      "text/plain": [
       "count    1534.000000\n",
       "mean      767.500000\n",
       "std       442.971971\n",
       "min         1.000000\n",
       "25%       384.250000\n",
       "50%       767.500000\n",
       "75%      1150.750000\n",
       "max      1534.000000\n",
       "Name: user_id, dtype: float64"
      ]
     },
     "execution_count": 19,
     "metadata": {},
     "output_type": "execute_result"
    }
   ],
   "source": [
    "users_go['user_id'].describe()"
   ]
  },
  {
   "cell_type": "code",
   "execution_count": 20,
   "id": "0e6e6da9",
   "metadata": {},
   "outputs": [
    {
     "data": {
      "text/html": [
       "<div>\n",
       "<style scoped>\n",
       "    .dataframe tbody tr th:only-of-type {\n",
       "        vertical-align: middle;\n",
       "    }\n",
       "\n",
       "    .dataframe tbody tr th {\n",
       "        vertical-align: top;\n",
       "    }\n",
       "\n",
       "    .dataframe thead th {\n",
       "        text-align: right;\n",
       "    }\n",
       "</style>\n",
       "<table border=\"1\" class=\"dataframe\">\n",
       "  <thead>\n",
       "    <tr style=\"text-align: right;\">\n",
       "      <th></th>\n",
       "      <th>user_id</th>\n",
       "    </tr>\n",
       "    <tr>\n",
       "      <th>city</th>\n",
       "      <th></th>\n",
       "    </tr>\n",
       "  </thead>\n",
       "  <tbody>\n",
       "    <tr>\n",
       "      <th>Пятигорск</th>\n",
       "      <td>219</td>\n",
       "    </tr>\n",
       "    <tr>\n",
       "      <th>Екатеринбург</th>\n",
       "      <td>204</td>\n",
       "    </tr>\n",
       "    <tr>\n",
       "      <th>Ростов-на-Дону</th>\n",
       "      <td>198</td>\n",
       "    </tr>\n",
       "    <tr>\n",
       "      <th>Краснодар</th>\n",
       "      <td>193</td>\n",
       "    </tr>\n",
       "    <tr>\n",
       "      <th>Сочи</th>\n",
       "      <td>189</td>\n",
       "    </tr>\n",
       "    <tr>\n",
       "      <th>Омск</th>\n",
       "      <td>183</td>\n",
       "    </tr>\n",
       "    <tr>\n",
       "      <th>Тюмень</th>\n",
       "      <td>180</td>\n",
       "    </tr>\n",
       "    <tr>\n",
       "      <th>Москва</th>\n",
       "      <td>168</td>\n",
       "    </tr>\n",
       "  </tbody>\n",
       "</table>\n",
       "</div>"
      ],
      "text/plain": [
       "                user_id\n",
       "city                   \n",
       "Пятигорск           219\n",
       "Екатеринбург        204\n",
       "Ростов-на-Дону      198\n",
       "Краснодар           193\n",
       "Сочи                189\n",
       "Омск                183\n",
       "Тюмень              180\n",
       "Москва              168"
      ]
     },
     "execution_count": 20,
     "metadata": {},
     "output_type": "execute_result"
    }
   ],
   "source": [
    "users_go_city = users_go.pivot_table(index='city', values='user_id', aggfunc='count')\n",
    "users_go_city.sort_values('user_id', ascending=False)"
   ]
  },
  {
   "cell_type": "code",
   "execution_count": 21,
   "id": "dcf4fdd6",
   "metadata": {},
   "outputs": [
    {
     "data": {
      "image/png": "[encoded data removed]",
      "text/plain": [
       "<Figure size 576x576 with 1 Axes>"
      ]
     },
     "metadata": {},
     "output_type": "display_data"
    }
   ],
   "source": [
    "users_go_city.plot(kind='pie', figsize=(8, 8), y='user_id', autopct = '%1.0f%%')\n",
    "plt.title('Города')\n",
    "plt.show() "
   ]
  },
  {
   "cell_type": "markdown",
   "id": "d1a85958",
   "metadata": {},
   "source": [
    "**Вывод:** Чаще всего встречается город Екатеринбург - 204 пользователя, меньше всего Тюмень - 180."
   ]
  },
  {
   "cell_type": "markdown",
   "id": "eaa4d304",
   "metadata": {},
   "source": [
    "### Соотношение пользователей с подпиской и без подписки"
   ]
  },
  {
   "cell_type": "code",
   "execution_count": 22,
   "id": "104fb79f",
   "metadata": {},
   "outputs": [
    {
     "data": {
      "text/html": [
       "<div>\n",
       "<style scoped>\n",
       "    .dataframe tbody tr th:only-of-type {\n",
       "        vertical-align: middle;\n",
       "    }\n",
       "\n",
       "    .dataframe tbody tr th {\n",
       "        vertical-align: top;\n",
       "    }\n",
       "\n",
       "    .dataframe thead th {\n",
       "        text-align: right;\n",
       "    }\n",
       "</style>\n",
       "<table border=\"1\" class=\"dataframe\">\n",
       "  <thead>\n",
       "    <tr style=\"text-align: right;\">\n",
       "      <th></th>\n",
       "      <th>user_id</th>\n",
       "    </tr>\n",
       "    <tr>\n",
       "      <th>subscription_type</th>\n",
       "      <th></th>\n",
       "    </tr>\n",
       "  </thead>\n",
       "  <tbody>\n",
       "    <tr>\n",
       "      <th>free</th>\n",
       "      <td>835</td>\n",
       "    </tr>\n",
       "    <tr>\n",
       "      <th>ultra</th>\n",
       "      <td>699</td>\n",
       "    </tr>\n",
       "  </tbody>\n",
       "</table>\n",
       "</div>"
      ],
      "text/plain": [
       "                   user_id\n",
       "subscription_type         \n",
       "free                   835\n",
       "ultra                  699"
      ]
     },
     "execution_count": 22,
     "metadata": {},
     "output_type": "execute_result"
    }
   ],
   "source": [
    "users_go_subscription_type = users_go.pivot_table(index='subscription_type', values='user_id', aggfunc='count')\n",
    "users_go_subscription_type.sort_values('user_id', ascending=False)"
   ]
  },
  {
   "cell_type": "code",
   "execution_count": 23,
   "id": "a87dbc8f",
   "metadata": {},
   "outputs": [
    {
     "data": {
      "text/plain": [
       "1534"
      ]
     },
     "execution_count": 23,
     "metadata": {},
     "output_type": "execute_result"
    }
   ],
   "source": [
    "all_users = users_go_subscription_type['user_id'].sum()\n",
    "all_users"
   ]
  },
  {
   "cell_type": "code",
   "execution_count": 24,
   "id": "aa7236d1",
   "metadata": {},
   "outputs": [
    {
     "data": {
      "image/png": "[encoded data removed]",
      "text/plain": [
       "<Figure size 432x432 with 1 Axes>"
      ]
     },
     "metadata": {},
     "output_type": "display_data"
    }
   ],
   "source": [
    "users_go_subscription_type.plot(kind='pie', figsize=(6, 6), y='user_id', autopct = '%1.0f%%')\n",
    "plt.title('Подписка')\n",
    "plt.show() "
   ]
  },
  {
   "cell_type": "markdown",
   "id": "f6c02b7c",
   "metadata": {},
   "source": [
    "**Вывод:** Всего клиентов 1534. Доля клиентов без подписки - 54% (835). С подпиской - 46% (699)."
   ]
  },
  {
   "cell_type": "markdown",
   "id": "b5aefdfd",
   "metadata": {},
   "source": [
    "### Возраст пользователей"
   ]
  },
  {
   "cell_type": "code",
   "execution_count": 25,
   "id": "b2ac4b9a",
   "metadata": {},
   "outputs": [
    {
     "data": {
      "text/plain": [
       "25    145\n",
       "24    132\n",
       "26    131\n",
       "23    129\n",
       "27    119\n",
       "22    119\n",
       "28    112\n",
       "21     93\n",
       "20     71\n",
       "30     68\n",
       "29     68\n",
       "31     48\n",
       "19     47\n",
       "18     46\n",
       "32     41\n",
       "33     39\n",
       "17     26\n",
       "34     19\n",
       "16     19\n",
       "35     15\n",
       "15     13\n",
       "14      9\n",
       "13      8\n",
       "36      6\n",
       "12      4\n",
       "38      3\n",
       "37      2\n",
       "39      1\n",
       "43      1\n",
       "Name: age, dtype: int64"
      ]
     },
     "execution_count": 25,
     "metadata": {},
     "output_type": "execute_result"
    }
   ],
   "source": [
    "users_go['age'].value_counts()"
   ]
  },
  {
   "cell_type": "code",
   "execution_count": 26,
   "id": "0437e66d",
   "metadata": {},
   "outputs": [
    {
     "data": {
      "image/png": "[encoded data removed]",
      "text/plain": [
       "<Figure size 432x432 with 1 Axes>"
      ]
     },
     "metadata": {
      "needs_background": "light"
     },
     "output_type": "display_data"
    }
   ],
   "source": [
    "users_go['age'].plot(kind='hist', figsize=(6, 6), grid=True)\n",
    "plt.title('Возраст пользователей')\n",
    "plt.ylabel('Пользователи')\n",
    "plt.xlabel('Возраст')\n",
    "plt.show()"
   ]
  },
  {
   "cell_type": "markdown",
   "id": "8b65d79f",
   "metadata": {},
   "source": [
    "**Вывод:** Можно отметить, что чаще всего сервисом пользуются клиенты с возрастом от 22 до 27 лет примерно. Чаще всего встречается возраст 25 лет - 145 клиентов."
   ]
  },
  {
   "cell_type": "markdown",
   "id": "d3814d72",
   "metadata": {},
   "source": [
    "### Расстояние, которое пользователь преодолел за одну поездку"
   ]
  },
  {
   "cell_type": "code",
   "execution_count": 27,
   "id": "7a429251",
   "metadata": {},
   "outputs": [
    {
     "data": {
      "image/png": "[encoded data removed]",
      "text/plain": [
       "<Figure size 432x432 with 1 Axes>"
      ]
     },
     "metadata": {
      "needs_background": "light"
     },
     "output_type": "display_data"
    }
   ],
   "source": [
    "rides_go['distance'].plot(kind='hist', figsize=(6, 6), grid=True, bins=100)\n",
    "plt.title('Расстояние поездок')\n",
    "plt.ylabel('Пользователи')\n",
    "plt.xlabel('Расстояние')\n",
    "plt.show()"
   ]
  },
  {
   "cell_type": "code",
   "execution_count": 28,
   "id": "b50437f5",
   "metadata": {},
   "outputs": [
    {
     "data": {
      "text/plain": [
       "count    18068.000000\n",
       "mean      3070.659976\n",
       "std       1116.831209\n",
       "min          0.855683\n",
       "25%       2543.226360\n",
       "50%       3133.609994\n",
       "75%       3776.222735\n",
       "max       7211.007745\n",
       "Name: distance, dtype: float64"
      ]
     },
     "execution_count": 28,
     "metadata": {},
     "output_type": "execute_result"
    }
   ],
   "source": [
    "rides_go['distance'].describe()"
   ]
  },
  {
   "cell_type": "code",
   "execution_count": 29,
   "id": "393f35c2",
   "metadata": {},
   "outputs": [
    {
     "data": {
      "image/png": "[encoded data removed]",
      "text/plain": [
       "<Figure size 576x576 with 1 Axes>"
      ]
     },
     "metadata": {
      "needs_background": "light"
     },
     "output_type": "display_data"
    }
   ],
   "source": [
    "rides_go.boxplot('distance', figsize=(8, 8))\n",
    "plt.title('Диаграмма размаха')\n",
    "plt.show()"
   ]
  },
  {
   "cell_type": "markdown",
   "id": "b244b11d",
   "metadata": {},
   "source": [
    "**Вывод:** Можно отметить, что присутствуют выбросы. Минимальное расстояние - 0,85, максимальное - 7211. В среднем расстояние около 3000 - 4000 м."
   ]
  },
  {
   "cell_type": "markdown",
   "id": "2da4ca31",
   "metadata": {},
   "source": [
    "### Продолжительность поездок"
   ]
  },
  {
   "cell_type": "code",
   "execution_count": 30,
   "id": "5b87d434",
   "metadata": {},
   "outputs": [
    {
     "data": {
      "image/png": "[encoded data removed]",
      "text/plain": [
       "<Figure size 432x432 with 1 Axes>"
      ]
     },
     "metadata": {
      "needs_background": "light"
     },
     "output_type": "display_data"
    }
   ],
   "source": [
    "rides_go['duration'].plot(kind='hist', figsize=(6, 6), grid=True, bins=100)\n",
    "plt.title('Продолжительнось поездок')\n",
    "plt.ylabel('Пользователи')\n",
    "plt.xlabel('Продолжительнось')\n",
    "plt.show()"
   ]
  },
  {
   "cell_type": "code",
   "execution_count": 31,
   "id": "9f9363b5",
   "metadata": {},
   "outputs": [
    {
     "data": {
      "text/plain": [
       "count    18068.000000\n",
       "mean        17.805011\n",
       "std          6.091051\n",
       "min          0.500000\n",
       "25%         13.597563\n",
       "50%         17.678395\n",
       "75%         21.724800\n",
       "max         40.823963\n",
       "Name: duration, dtype: float64"
      ]
     },
     "execution_count": 31,
     "metadata": {},
     "output_type": "execute_result"
    }
   ],
   "source": [
    "rides_go['duration'].describe()"
   ]
  },
  {
   "cell_type": "code",
   "execution_count": 32,
   "id": "3de947c8",
   "metadata": {},
   "outputs": [
    {
     "data": {
      "image/png": "[encoded data removed]",
      "text/plain": [
       "<Figure size 576x576 with 1 Axes>"
      ]
     },
     "metadata": {
      "needs_background": "light"
     },
     "output_type": "display_data"
    }
   ],
   "source": [
    "rides_go.boxplot('duration', figsize=(8, 8))\n",
    "plt.title('Диаграмма размаха')\n",
    "plt.show()"
   ]
  },
  {
   "cell_type": "markdown",
   "id": "10c5888d",
   "metadata": {},
   "source": [
    "**Вывод:** Можно отметить выбросы на 0. Очень странно. Минимальная поездка - 0,5. Максимальная продолжительность - 40,8 мин. В среднем время поездки около 17 минут. Значение адекватное."
   ]
  },
  {
   "cell_type": "markdown",
   "id": "79344bbf",
   "metadata": {},
   "source": [
    "**Общий вывод:**\n",
    "\n",
    "Чаще всего встречается город Екатеринбург - 204 пользователя, меньше всего Тюмень - 180.\n",
    "\n",
    "Всего клиентов 1534. Доля клиентов без подписки - 54% (835). С подпиской - 46% (699).\n",
    "\n",
    "Чаще всего сервисом пользуются клиенты с возрастом от 22 до 27 лет примерно. Чаще всего встречается возраст 25 лет - 145 клиентов.\n",
    "\n",
    "Минимальное расстояние - 0,85, максимальное - 7211. В среднем расстояние около 3000 - 4000 м.\n",
    "\n",
    "Минимальная поездка - 0,5. Максимальная продолжительность - 40,8 мин. В среднем время поездки около 17 минут. Значение адекватное."
   ]
  },
  {
   "cell_type": "markdown",
   "id": "5b2c49dc",
   "metadata": {},
   "source": [
    "## Шаг 4. Объединение данных"
   ]
  },
  {
   "cell_type": "markdown",
   "id": "f7d06235",
   "metadata": {},
   "source": [
    "### Объедините данные о пользователях, поездках и подписках в один датафрейм. Для этого воспользуйтесь методом merge()"
   ]
  },
  {
   "cell_type": "code",
   "execution_count": 33,
   "id": "44db5a28",
   "metadata": {},
   "outputs": [],
   "source": [
    "df = users_go.merge(rides_go, on='user_id')"
   ]
  },
  {
   "cell_type": "code",
   "execution_count": 34,
   "id": "156198ec",
   "metadata": {},
   "outputs": [],
   "source": [
    "df = df.merge(subscriptions_go, on='subscription_type')"
   ]
  },
  {
   "cell_type": "code",
   "execution_count": 35,
   "id": "a9cf571f",
   "metadata": {},
   "outputs": [
    {
     "data": {
      "text/html": [
       "<div>\n",
       "<style scoped>\n",
       "    .dataframe tbody tr th:only-of-type {\n",
       "        vertical-align: middle;\n",
       "    }\n",
       "\n",
       "    .dataframe tbody tr th {\n",
       "        vertical-align: top;\n",
       "    }\n",
       "\n",
       "    .dataframe thead th {\n",
       "        text-align: right;\n",
       "    }\n",
       "</style>\n",
       "<table border=\"1\" class=\"dataframe\">\n",
       "  <thead>\n",
       "    <tr style=\"text-align: right;\">\n",
       "      <th></th>\n",
       "      <th>user_id</th>\n",
       "      <th>name</th>\n",
       "      <th>age</th>\n",
       "      <th>city</th>\n",
       "      <th>subscription_type</th>\n",
       "      <th>distance</th>\n",
       "      <th>duration</th>\n",
       "      <th>date</th>\n",
       "      <th>month</th>\n",
       "      <th>minute_price</th>\n",
       "      <th>start_ride_price</th>\n",
       "      <th>subscription_fee</th>\n",
       "    </tr>\n",
       "  </thead>\n",
       "  <tbody>\n",
       "    <tr>\n",
       "      <th>0</th>\n",
       "      <td>1</td>\n",
       "      <td>Кира</td>\n",
       "      <td>22</td>\n",
       "      <td>Тюмень</td>\n",
       "      <td>ultra</td>\n",
       "      <td>4409.919140</td>\n",
       "      <td>25.599769</td>\n",
       "      <td>2021-01-01</td>\n",
       "      <td>1</td>\n",
       "      <td>6</td>\n",
       "      <td>0</td>\n",
       "      <td>199</td>\n",
       "    </tr>\n",
       "    <tr>\n",
       "      <th>1</th>\n",
       "      <td>1</td>\n",
       "      <td>Кира</td>\n",
       "      <td>22</td>\n",
       "      <td>Тюмень</td>\n",
       "      <td>ultra</td>\n",
       "      <td>2617.592153</td>\n",
       "      <td>15.816871</td>\n",
       "      <td>2021-01-18</td>\n",
       "      <td>1</td>\n",
       "      <td>6</td>\n",
       "      <td>0</td>\n",
       "      <td>199</td>\n",
       "    </tr>\n",
       "    <tr>\n",
       "      <th>2</th>\n",
       "      <td>1</td>\n",
       "      <td>Кира</td>\n",
       "      <td>22</td>\n",
       "      <td>Тюмень</td>\n",
       "      <td>ultra</td>\n",
       "      <td>754.159807</td>\n",
       "      <td>6.232113</td>\n",
       "      <td>2021-04-20</td>\n",
       "      <td>4</td>\n",
       "      <td>6</td>\n",
       "      <td>0</td>\n",
       "      <td>199</td>\n",
       "    </tr>\n",
       "    <tr>\n",
       "      <th>3</th>\n",
       "      <td>1</td>\n",
       "      <td>Кира</td>\n",
       "      <td>22</td>\n",
       "      <td>Тюмень</td>\n",
       "      <td>ultra</td>\n",
       "      <td>2694.783254</td>\n",
       "      <td>18.511000</td>\n",
       "      <td>2021-08-11</td>\n",
       "      <td>8</td>\n",
       "      <td>6</td>\n",
       "      <td>0</td>\n",
       "      <td>199</td>\n",
       "    </tr>\n",
       "    <tr>\n",
       "      <th>4</th>\n",
       "      <td>1</td>\n",
       "      <td>Кира</td>\n",
       "      <td>22</td>\n",
       "      <td>Тюмень</td>\n",
       "      <td>ultra</td>\n",
       "      <td>4028.687306</td>\n",
       "      <td>26.265803</td>\n",
       "      <td>2021-08-28</td>\n",
       "      <td>8</td>\n",
       "      <td>6</td>\n",
       "      <td>0</td>\n",
       "      <td>199</td>\n",
       "    </tr>\n",
       "  </tbody>\n",
       "</table>\n",
       "</div>"
      ],
      "text/plain": [
       "   user_id  name  age    city subscription_type     distance   duration  \\\n",
       "0        1  Кира   22  Тюмень             ultra  4409.919140  25.599769   \n",
       "1        1  Кира   22  Тюмень             ultra  2617.592153  15.816871   \n",
       "2        1  Кира   22  Тюмень             ultra   754.159807   6.232113   \n",
       "3        1  Кира   22  Тюмень             ultra  2694.783254  18.511000   \n",
       "4        1  Кира   22  Тюмень             ultra  4028.687306  26.265803   \n",
       "\n",
       "        date  month  minute_price  start_ride_price  subscription_fee  \n",
       "0 2021-01-01      1             6                 0               199  \n",
       "1 2021-01-18      1             6                 0               199  \n",
       "2 2021-04-20      4             6                 0               199  \n",
       "3 2021-08-11      8             6                 0               199  \n",
       "4 2021-08-28      8             6                 0               199  "
      ]
     },
     "execution_count": 35,
     "metadata": {},
     "output_type": "execute_result"
    }
   ],
   "source": [
    "df.head()"
   ]
  },
  {
   "cell_type": "markdown",
   "id": "0112353b",
   "metadata": {},
   "source": [
    "**Вывод:** Датафреймы объеденены успешно."
   ]
  },
  {
   "cell_type": "markdown",
   "id": "bbbfe1c1",
   "metadata": {},
   "source": [
    "### Создайте ещё два датафрейма из датафрейма, созданного на этапе 4.1:\n",
    "    c данными о пользователях без подписки;\n",
    "    с данными о пользователях с подпиской.\n"
   ]
  },
  {
   "cell_type": "code",
   "execution_count": 36,
   "id": "fa9ab94f",
   "metadata": {},
   "outputs": [],
   "source": [
    "df_ultra = df.query('subscription_type==\"ultra\"')"
   ]
  },
  {
   "cell_type": "code",
   "execution_count": 37,
   "id": "44cb8cee",
   "metadata": {},
   "outputs": [
    {
     "data": {
      "text/html": [
       "<div>\n",
       "<style scoped>\n",
       "    .dataframe tbody tr th:only-of-type {\n",
       "        vertical-align: middle;\n",
       "    }\n",
       "\n",
       "    .dataframe tbody tr th {\n",
       "        vertical-align: top;\n",
       "    }\n",
       "\n",
       "    .dataframe thead th {\n",
       "        text-align: right;\n",
       "    }\n",
       "</style>\n",
       "<table border=\"1\" class=\"dataframe\">\n",
       "  <thead>\n",
       "    <tr style=\"text-align: right;\">\n",
       "      <th></th>\n",
       "      <th>user_id</th>\n",
       "      <th>name</th>\n",
       "      <th>age</th>\n",
       "      <th>city</th>\n",
       "      <th>subscription_type</th>\n",
       "      <th>distance</th>\n",
       "      <th>duration</th>\n",
       "      <th>date</th>\n",
       "      <th>month</th>\n",
       "      <th>minute_price</th>\n",
       "      <th>start_ride_price</th>\n",
       "      <th>subscription_fee</th>\n",
       "    </tr>\n",
       "  </thead>\n",
       "  <tbody>\n",
       "    <tr>\n",
       "      <th>0</th>\n",
       "      <td>1</td>\n",
       "      <td>Кира</td>\n",
       "      <td>22</td>\n",
       "      <td>Тюмень</td>\n",
       "      <td>ultra</td>\n",
       "      <td>4409.919140</td>\n",
       "      <td>25.599769</td>\n",
       "      <td>2021-01-01</td>\n",
       "      <td>1</td>\n",
       "      <td>6</td>\n",
       "      <td>0</td>\n",
       "      <td>199</td>\n",
       "    </tr>\n",
       "    <tr>\n",
       "      <th>1</th>\n",
       "      <td>1</td>\n",
       "      <td>Кира</td>\n",
       "      <td>22</td>\n",
       "      <td>Тюмень</td>\n",
       "      <td>ultra</td>\n",
       "      <td>2617.592153</td>\n",
       "      <td>15.816871</td>\n",
       "      <td>2021-01-18</td>\n",
       "      <td>1</td>\n",
       "      <td>6</td>\n",
       "      <td>0</td>\n",
       "      <td>199</td>\n",
       "    </tr>\n",
       "    <tr>\n",
       "      <th>2</th>\n",
       "      <td>1</td>\n",
       "      <td>Кира</td>\n",
       "      <td>22</td>\n",
       "      <td>Тюмень</td>\n",
       "      <td>ultra</td>\n",
       "      <td>754.159807</td>\n",
       "      <td>6.232113</td>\n",
       "      <td>2021-04-20</td>\n",
       "      <td>4</td>\n",
       "      <td>6</td>\n",
       "      <td>0</td>\n",
       "      <td>199</td>\n",
       "    </tr>\n",
       "    <tr>\n",
       "      <th>3</th>\n",
       "      <td>1</td>\n",
       "      <td>Кира</td>\n",
       "      <td>22</td>\n",
       "      <td>Тюмень</td>\n",
       "      <td>ultra</td>\n",
       "      <td>2694.783254</td>\n",
       "      <td>18.511000</td>\n",
       "      <td>2021-08-11</td>\n",
       "      <td>8</td>\n",
       "      <td>6</td>\n",
       "      <td>0</td>\n",
       "      <td>199</td>\n",
       "    </tr>\n",
       "    <tr>\n",
       "      <th>4</th>\n",
       "      <td>1</td>\n",
       "      <td>Кира</td>\n",
       "      <td>22</td>\n",
       "      <td>Тюмень</td>\n",
       "      <td>ultra</td>\n",
       "      <td>4028.687306</td>\n",
       "      <td>26.265803</td>\n",
       "      <td>2021-08-28</td>\n",
       "      <td>8</td>\n",
       "      <td>6</td>\n",
       "      <td>0</td>\n",
       "      <td>199</td>\n",
       "    </tr>\n",
       "  </tbody>\n",
       "</table>\n",
       "</div>"
      ],
      "text/plain": [
       "   user_id  name  age    city subscription_type     distance   duration  \\\n",
       "0        1  Кира   22  Тюмень             ultra  4409.919140  25.599769   \n",
       "1        1  Кира   22  Тюмень             ultra  2617.592153  15.816871   \n",
       "2        1  Кира   22  Тюмень             ultra   754.159807   6.232113   \n",
       "3        1  Кира   22  Тюмень             ultra  2694.783254  18.511000   \n",
       "4        1  Кира   22  Тюмень             ultra  4028.687306  26.265803   \n",
       "\n",
       "        date  month  minute_price  start_ride_price  subscription_fee  \n",
       "0 2021-01-01      1             6                 0               199  \n",
       "1 2021-01-18      1             6                 0               199  \n",
       "2 2021-04-20      4             6                 0               199  \n",
       "3 2021-08-11      8             6                 0               199  \n",
       "4 2021-08-28      8             6                 0               199  "
      ]
     },
     "execution_count": 37,
     "metadata": {},
     "output_type": "execute_result"
    }
   ],
   "source": [
    "df_ultra.head()"
   ]
  },
  {
   "cell_type": "code",
   "execution_count": 38,
   "id": "aa881286",
   "metadata": {},
   "outputs": [],
   "source": [
    "df_free = df.query('subscription_type==\"free\"')"
   ]
  },
  {
   "cell_type": "code",
   "execution_count": 39,
   "id": "677f7c78",
   "metadata": {},
   "outputs": [
    {
     "data": {
      "text/html": [
       "<div>\n",
       "<style scoped>\n",
       "    .dataframe tbody tr th:only-of-type {\n",
       "        vertical-align: middle;\n",
       "    }\n",
       "\n",
       "    .dataframe tbody tr th {\n",
       "        vertical-align: top;\n",
       "    }\n",
       "\n",
       "    .dataframe thead th {\n",
       "        text-align: right;\n",
       "    }\n",
       "</style>\n",
       "<table border=\"1\" class=\"dataframe\">\n",
       "  <thead>\n",
       "    <tr style=\"text-align: right;\">\n",
       "      <th></th>\n",
       "      <th>user_id</th>\n",
       "      <th>name</th>\n",
       "      <th>age</th>\n",
       "      <th>city</th>\n",
       "      <th>subscription_type</th>\n",
       "      <th>distance</th>\n",
       "      <th>duration</th>\n",
       "      <th>date</th>\n",
       "      <th>month</th>\n",
       "      <th>minute_price</th>\n",
       "      <th>start_ride_price</th>\n",
       "      <th>subscription_fee</th>\n",
       "    </tr>\n",
       "  </thead>\n",
       "  <tbody>\n",
       "    <tr>\n",
       "      <th>6500</th>\n",
       "      <td>700</td>\n",
       "      <td>Айдар</td>\n",
       "      <td>22</td>\n",
       "      <td>Омск</td>\n",
       "      <td>free</td>\n",
       "      <td>2515.690719</td>\n",
       "      <td>14.944286</td>\n",
       "      <td>2021-01-02</td>\n",
       "      <td>1</td>\n",
       "      <td>8</td>\n",
       "      <td>50</td>\n",
       "      <td>0</td>\n",
       "    </tr>\n",
       "    <tr>\n",
       "      <th>6501</th>\n",
       "      <td>700</td>\n",
       "      <td>Айдар</td>\n",
       "      <td>22</td>\n",
       "      <td>Омск</td>\n",
       "      <td>free</td>\n",
       "      <td>846.932642</td>\n",
       "      <td>16.234663</td>\n",
       "      <td>2021-02-01</td>\n",
       "      <td>2</td>\n",
       "      <td>8</td>\n",
       "      <td>50</td>\n",
       "      <td>0</td>\n",
       "    </tr>\n",
       "    <tr>\n",
       "      <th>6502</th>\n",
       "      <td>700</td>\n",
       "      <td>Айдар</td>\n",
       "      <td>22</td>\n",
       "      <td>Омск</td>\n",
       "      <td>free</td>\n",
       "      <td>4004.434142</td>\n",
       "      <td>20.016628</td>\n",
       "      <td>2021-02-04</td>\n",
       "      <td>2</td>\n",
       "      <td>8</td>\n",
       "      <td>50</td>\n",
       "      <td>0</td>\n",
       "    </tr>\n",
       "    <tr>\n",
       "      <th>6503</th>\n",
       "      <td>700</td>\n",
       "      <td>Айдар</td>\n",
       "      <td>22</td>\n",
       "      <td>Омск</td>\n",
       "      <td>free</td>\n",
       "      <td>1205.911290</td>\n",
       "      <td>9.782872</td>\n",
       "      <td>2021-02-10</td>\n",
       "      <td>2</td>\n",
       "      <td>8</td>\n",
       "      <td>50</td>\n",
       "      <td>0</td>\n",
       "    </tr>\n",
       "    <tr>\n",
       "      <th>6504</th>\n",
       "      <td>700</td>\n",
       "      <td>Айдар</td>\n",
       "      <td>22</td>\n",
       "      <td>Омск</td>\n",
       "      <td>free</td>\n",
       "      <td>3047.379435</td>\n",
       "      <td>17.427673</td>\n",
       "      <td>2021-02-14</td>\n",
       "      <td>2</td>\n",
       "      <td>8</td>\n",
       "      <td>50</td>\n",
       "      <td>0</td>\n",
       "    </tr>\n",
       "  </tbody>\n",
       "</table>\n",
       "</div>"
      ],
      "text/plain": [
       "      user_id   name  age  city subscription_type     distance   duration  \\\n",
       "6500      700  Айдар   22  Омск              free  2515.690719  14.944286   \n",
       "6501      700  Айдар   22  Омск              free   846.932642  16.234663   \n",
       "6502      700  Айдар   22  Омск              free  4004.434142  20.016628   \n",
       "6503      700  Айдар   22  Омск              free  1205.911290   9.782872   \n",
       "6504      700  Айдар   22  Омск              free  3047.379435  17.427673   \n",
       "\n",
       "           date  month  minute_price  start_ride_price  subscription_fee  \n",
       "6500 2021-01-02      1             8                50                 0  \n",
       "6501 2021-02-01      2             8                50                 0  \n",
       "6502 2021-02-04      2             8                50                 0  \n",
       "6503 2021-02-10      2             8                50                 0  \n",
       "6504 2021-02-14      2             8                50                 0  "
      ]
     },
     "execution_count": 39,
     "metadata": {},
     "output_type": "execute_result"
    }
   ],
   "source": [
    "df_free.head()"
   ]
  },
  {
   "cell_type": "markdown",
   "id": "1c25bc88",
   "metadata": {},
   "source": [
    "**Вывод:** Датафреймы созданы. df_ultra - с подпиской, df_free - без подписки."
   ]
  },
  {
   "cell_type": "markdown",
   "id": "36262e42",
   "metadata": {},
   "source": [
    "### Визуализируйте информацию о расстоянии и времени поездок для пользователей обеих категорий"
   ]
  },
  {
   "cell_type": "markdown",
   "id": "3451f568",
   "metadata": {},
   "source": [
    "**Пользователи с подпиской**"
   ]
  },
  {
   "cell_type": "code",
   "execution_count": 40,
   "id": "76d87a23",
   "metadata": {},
   "outputs": [
    {
     "data": {
      "image/png": "[encoded data removed]",
      "text/plain": [
       "<Figure size 432x432 with 1 Axes>"
      ]
     },
     "metadata": {
      "needs_background": "light"
     },
     "output_type": "display_data"
    }
   ],
   "source": [
    "df_ultra['distance'].plot(kind='hist', figsize=(6, 6), grid=True, bins=100)\n",
    "plt.title('Расстояние поездок')\n",
    "plt.ylabel('Пользователи')\n",
    "plt.xlabel('Расстояние')\n",
    "plt.show()"
   ]
  },
  {
   "cell_type": "code",
   "execution_count": 41,
   "id": "d3cd6142",
   "metadata": {},
   "outputs": [
    {
     "data": {
      "text/plain": [
       "count    6500.000000\n",
       "mean     3115.445388\n",
       "std       836.895330\n",
       "min       244.210438\n",
       "25%      2785.444017\n",
       "50%      3148.637229\n",
       "75%      3560.574425\n",
       "max      5699.769662\n",
       "Name: distance, dtype: float64"
      ]
     },
     "execution_count": 41,
     "metadata": {},
     "output_type": "execute_result"
    }
   ],
   "source": [
    "df_ultra['distance'].describe()"
   ]
  },
  {
   "cell_type": "code",
   "execution_count": 42,
   "id": "76a1c4e3",
   "metadata": {},
   "outputs": [
    {
     "data": {
      "image/png": "[encoded data removed]",
      "text/plain": [
       "<Figure size 576x576 with 1 Axes>"
      ]
     },
     "metadata": {
      "needs_background": "light"
     },
     "output_type": "display_data"
    }
   ],
   "source": [
    "df_ultra.boxplot('distance', figsize=(8, 8))\n",
    "plt.title('Диаграмма размаха')\n",
    "plt.show()"
   ]
  },
  {
   "cell_type": "markdown",
   "id": "28e050eb",
   "metadata": {},
   "source": [
    "**Вывод:** Наименьшая дистанция - 244м, максимальная - 5699. Выбросы есть, однако значений дистанций около 0 нет. Средняя дистанция - около 3110 м."
   ]
  },
  {
   "cell_type": "code",
   "execution_count": 43,
   "id": "ba6848ee",
   "metadata": {},
   "outputs": [
    {
     "data": {
      "image/png": "[encoded data removed]",
      "text/plain": [
       "<Figure size 432x432 with 1 Axes>"
      ]
     },
     "metadata": {
      "needs_background": "light"
     },
     "output_type": "display_data"
    }
   ],
   "source": [
    "df_ultra['duration'].plot(kind='hist', figsize=(6, 6), grid=True, bins=100)\n",
    "plt.title('Продолжительность поездок')\n",
    "plt.ylabel('Пользователи')\n",
    "plt.xlabel('Продолжительность')\n",
    "plt.show()"
   ]
  },
  {
   "cell_type": "code",
   "execution_count": 44,
   "id": "36b25faa",
   "metadata": {},
   "outputs": [
    {
     "data": {
      "text/plain": [
       "count    6500.000000\n",
       "mean       18.541985\n",
       "std         5.572048\n",
       "min         3.760353\n",
       "25%        14.524654\n",
       "50%        18.178153\n",
       "75%        21.884129\n",
       "max        40.823963\n",
       "Name: duration, dtype: float64"
      ]
     },
     "execution_count": 44,
     "metadata": {},
     "output_type": "execute_result"
    }
   ],
   "source": [
    "df_ultra['duration'].describe()"
   ]
  },
  {
   "cell_type": "code",
   "execution_count": 45,
   "id": "c21f9a34",
   "metadata": {},
   "outputs": [
    {
     "data": {
      "image/png": "[encoded data removed]",
      "text/plain": [
       "<Figure size 576x576 with 1 Axes>"
      ]
     },
     "metadata": {
      "needs_background": "light"
     },
     "output_type": "display_data"
    }
   ],
   "source": [
    "df_ultra.boxplot('duration', figsize=(8, 8))\n",
    "plt.title('Диаграмма размаха')\n",
    "plt.show()"
   ]
  },
  {
   "cell_type": "markdown",
   "id": "c535630d",
   "metadata": {},
   "source": [
    "**Вывод:** Минимальное значение 3 мин, максимальное - 40 минут. Распределение в целом нормальное."
   ]
  },
  {
   "cell_type": "markdown",
   "id": "220c7192",
   "metadata": {},
   "source": [
    "**Пользователи без подписки**"
   ]
  },
  {
   "cell_type": "code",
   "execution_count": 46,
   "id": "3975ec5d",
   "metadata": {},
   "outputs": [
    {
     "data": {
      "image/png": "[encoded data removed]",
      "text/plain": [
       "<Figure size 432x432 with 1 Axes>"
      ]
     },
     "metadata": {
      "needs_background": "light"
     },
     "output_type": "display_data"
    }
   ],
   "source": [
    "df_free['distance'].plot(kind='hist', figsize=(6, 6), grid=True, bins=100)\n",
    "plt.title('Расстояние поездок')\n",
    "plt.ylabel('Пользователи')\n",
    "plt.xlabel('Расстояние')\n",
    "plt.show()"
   ]
  },
  {
   "cell_type": "code",
   "execution_count": 47,
   "id": "a6ba92d5",
   "metadata": {},
   "outputs": [
    {
     "data": {
      "text/plain": [
       "count    11568.000000\n",
       "mean      3045.495282\n",
       "std       1246.173806\n",
       "min          0.855683\n",
       "25%       2366.562689\n",
       "50%       3114.648465\n",
       "75%       3905.697894\n",
       "max       7211.007745\n",
       "Name: distance, dtype: float64"
      ]
     },
     "execution_count": 47,
     "metadata": {},
     "output_type": "execute_result"
    }
   ],
   "source": [
    "df_free['distance'].describe()"
   ]
  },
  {
   "cell_type": "code",
   "execution_count": 48,
   "id": "9b854807",
   "metadata": {},
   "outputs": [
    {
     "data": {
      "image/png": "[encoded data removed]",
      "text/plain": [
       "<Figure size 576x576 with 1 Axes>"
      ]
     },
     "metadata": {
      "needs_background": "light"
     },
     "output_type": "display_data"
    }
   ],
   "source": [
    "df_free.boxplot('distance', figsize=(8, 8))\n",
    "plt.title('Диаграмма размаха')\n",
    "plt.show()"
   ]
  },
  {
   "cell_type": "markdown",
   "id": "4dc860b8",
   "metadata": {},
   "source": [
    "**Вывод:** Минимальное значение - 0,8, максимальное - 7211 м. Можно сделать выводы, что выбросы в районе 0 именно у клиентов, которые без подписки."
   ]
  },
  {
   "cell_type": "code",
   "execution_count": 49,
   "id": "86ec7c73",
   "metadata": {},
   "outputs": [
    {
     "data": {
      "image/png": "[encoded data removed]",
      "text/plain": [
       "<Figure size 432x432 with 1 Axes>"
      ]
     },
     "metadata": {
      "needs_background": "light"
     },
     "output_type": "display_data"
    }
   ],
   "source": [
    "df_free['duration'].plot(kind='hist', figsize=(6, 6), grid=True, bins=100)\n",
    "plt.title('Продолжительность поездок')\n",
    "plt.ylabel('Пользователи')\n",
    "plt.xlabel('Продолжительность')\n",
    "plt.show()"
   ]
  },
  {
   "cell_type": "code",
   "execution_count": 50,
   "id": "7c70f97d",
   "metadata": {},
   "outputs": [
    {
     "data": {
      "text/plain": [
       "count    11568.000000\n",
       "mean        17.390909\n",
       "std          6.326803\n",
       "min          0.500000\n",
       "25%         12.958437\n",
       "50%         17.326890\n",
       "75%         21.594071\n",
       "max         34.948498\n",
       "Name: duration, dtype: float64"
      ]
     },
     "execution_count": 50,
     "metadata": {},
     "output_type": "execute_result"
    }
   ],
   "source": [
    "df_free['duration'].describe()"
   ]
  },
  {
   "cell_type": "code",
   "execution_count": 51,
   "id": "6434d23e",
   "metadata": {},
   "outputs": [
    {
     "data": {
      "image/png": "[encoded data removed]",
      "text/plain": [
       "<Figure size 576x576 with 1 Axes>"
      ]
     },
     "metadata": {
      "needs_background": "light"
     },
     "output_type": "display_data"
    }
   ],
   "source": [
    "df_free.boxplot('duration', figsize=(8, 8))\n",
    "plt.title('Диаграмма размаха')\n",
    "plt.show()"
   ]
  },
  {
   "cell_type": "markdown",
   "id": "de8c5339",
   "metadata": {},
   "source": [
    "**Вывод:** Минимальное значение - 0,5. Максимальное - 34,9 мин. Опять таки выбросы в районе нулей. Предположительно, что это именно одни и те же поездки"
   ]
  },
  {
   "cell_type": "code",
   "execution_count": 52,
   "id": "5a534c59",
   "metadata": {},
   "outputs": [
    {
     "data": {
      "text/html": [
       "<div>\n",
       "<style scoped>\n",
       "    .dataframe tbody tr th:only-of-type {\n",
       "        vertical-align: middle;\n",
       "    }\n",
       "\n",
       "    .dataframe tbody tr th {\n",
       "        vertical-align: top;\n",
       "    }\n",
       "\n",
       "    .dataframe thead th {\n",
       "        text-align: right;\n",
       "    }\n",
       "</style>\n",
       "<table border=\"1\" class=\"dataframe\">\n",
       "  <thead>\n",
       "    <tr style=\"text-align: right;\">\n",
       "      <th></th>\n",
       "      <th>user_id</th>\n",
       "      <th>name</th>\n",
       "      <th>age</th>\n",
       "      <th>city</th>\n",
       "      <th>subscription_type</th>\n",
       "      <th>distance</th>\n",
       "      <th>duration</th>\n",
       "      <th>date</th>\n",
       "      <th>month</th>\n",
       "      <th>minute_price</th>\n",
       "      <th>start_ride_price</th>\n",
       "      <th>subscription_fee</th>\n",
       "    </tr>\n",
       "  </thead>\n",
       "  <tbody>\n",
       "    <tr>\n",
       "      <th>6531</th>\n",
       "      <td>701</td>\n",
       "      <td>Иван</td>\n",
       "      <td>31</td>\n",
       "      <td>Екатеринбург</td>\n",
       "      <td>free</td>\n",
       "      <td>4196.445201</td>\n",
       "      <td>0.5</td>\n",
       "      <td>2021-08-31</td>\n",
       "      <td>8</td>\n",
       "      <td>8</td>\n",
       "      <td>50</td>\n",
       "      <td>0</td>\n",
       "    </tr>\n",
       "    <tr>\n",
       "      <th>6570</th>\n",
       "      <td>704</td>\n",
       "      <td>Мирон</td>\n",
       "      <td>29</td>\n",
       "      <td>Ростов-на-Дону</td>\n",
       "      <td>free</td>\n",
       "      <td>4830.824371</td>\n",
       "      <td>0.5</td>\n",
       "      <td>2021-10-14</td>\n",
       "      <td>10</td>\n",
       "      <td>8</td>\n",
       "      <td>50</td>\n",
       "      <td>0</td>\n",
       "    </tr>\n",
       "    <tr>\n",
       "      <th>6680</th>\n",
       "      <td>712</td>\n",
       "      <td>Дарья</td>\n",
       "      <td>28</td>\n",
       "      <td>Москва</td>\n",
       "      <td>free</td>\n",
       "      <td>4684.004397</td>\n",
       "      <td>0.5</td>\n",
       "      <td>2021-03-04</td>\n",
       "      <td>3</td>\n",
       "      <td>8</td>\n",
       "      <td>50</td>\n",
       "      <td>0</td>\n",
       "    </tr>\n",
       "    <tr>\n",
       "      <th>6695</th>\n",
       "      <td>713</td>\n",
       "      <td>Святослав</td>\n",
       "      <td>30</td>\n",
       "      <td>Краснодар</td>\n",
       "      <td>free</td>\n",
       "      <td>5215.642710</td>\n",
       "      <td>0.5</td>\n",
       "      <td>2021-02-25</td>\n",
       "      <td>2</td>\n",
       "      <td>8</td>\n",
       "      <td>50</td>\n",
       "      <td>0</td>\n",
       "    </tr>\n",
       "    <tr>\n",
       "      <th>6768</th>\n",
       "      <td>718</td>\n",
       "      <td>Владислава</td>\n",
       "      <td>31</td>\n",
       "      <td>Москва</td>\n",
       "      <td>free</td>\n",
       "      <td>5197.436649</td>\n",
       "      <td>0.5</td>\n",
       "      <td>2021-02-11</td>\n",
       "      <td>2</td>\n",
       "      <td>8</td>\n",
       "      <td>50</td>\n",
       "      <td>0</td>\n",
       "    </tr>\n",
       "    <tr>\n",
       "      <th>...</th>\n",
       "      <td>...</td>\n",
       "      <td>...</td>\n",
       "      <td>...</td>\n",
       "      <td>...</td>\n",
       "      <td>...</td>\n",
       "      <td>...</td>\n",
       "      <td>...</td>\n",
       "      <td>...</td>\n",
       "      <td>...</td>\n",
       "      <td>...</td>\n",
       "      <td>...</td>\n",
       "      <td>...</td>\n",
       "    </tr>\n",
       "    <tr>\n",
       "      <th>17004</th>\n",
       "      <td>1460</td>\n",
       "      <td>Жанна</td>\n",
       "      <td>27</td>\n",
       "      <td>Пятигорск</td>\n",
       "      <td>free</td>\n",
       "      <td>5531.335845</td>\n",
       "      <td>0.5</td>\n",
       "      <td>2021-01-19</td>\n",
       "      <td>1</td>\n",
       "      <td>8</td>\n",
       "      <td>50</td>\n",
       "      <td>0</td>\n",
       "    </tr>\n",
       "    <tr>\n",
       "      <th>17242</th>\n",
       "      <td>1477</td>\n",
       "      <td>Ян</td>\n",
       "      <td>17</td>\n",
       "      <td>Сочи</td>\n",
       "      <td>free</td>\n",
       "      <td>6724.932981</td>\n",
       "      <td>0.5</td>\n",
       "      <td>2021-01-12</td>\n",
       "      <td>1</td>\n",
       "      <td>8</td>\n",
       "      <td>50</td>\n",
       "      <td>0</td>\n",
       "    </tr>\n",
       "    <tr>\n",
       "      <th>17314</th>\n",
       "      <td>1483</td>\n",
       "      <td>Роберт</td>\n",
       "      <td>26</td>\n",
       "      <td>Екатеринбург</td>\n",
       "      <td>free</td>\n",
       "      <td>4445.481070</td>\n",
       "      <td>0.5</td>\n",
       "      <td>2021-03-06</td>\n",
       "      <td>3</td>\n",
       "      <td>8</td>\n",
       "      <td>50</td>\n",
       "      <td>0</td>\n",
       "    </tr>\n",
       "    <tr>\n",
       "      <th>17505</th>\n",
       "      <td>1496</td>\n",
       "      <td>Яна</td>\n",
       "      <td>19</td>\n",
       "      <td>Москва</td>\n",
       "      <td>free</td>\n",
       "      <td>5722.551787</td>\n",
       "      <td>0.5</td>\n",
       "      <td>2021-02-14</td>\n",
       "      <td>2</td>\n",
       "      <td>8</td>\n",
       "      <td>50</td>\n",
       "      <td>0</td>\n",
       "    </tr>\n",
       "    <tr>\n",
       "      <th>17909</th>\n",
       "      <td>1524</td>\n",
       "      <td>Матвей</td>\n",
       "      <td>32</td>\n",
       "      <td>Москва</td>\n",
       "      <td>free</td>\n",
       "      <td>4103.998874</td>\n",
       "      <td>0.5</td>\n",
       "      <td>2021-06-18</td>\n",
       "      <td>6</td>\n",
       "      <td>8</td>\n",
       "      <td>50</td>\n",
       "      <td>0</td>\n",
       "    </tr>\n",
       "  </tbody>\n",
       "</table>\n",
       "<p>95 rows × 12 columns</p>\n",
       "</div>"
      ],
      "text/plain": [
       "       user_id        name  age            city subscription_type  \\\n",
       "6531       701        Иван   31    Екатеринбург              free   \n",
       "6570       704       Мирон   29  Ростов-на-Дону              free   \n",
       "6680       712       Дарья   28          Москва              free   \n",
       "6695       713   Святослав   30       Краснодар              free   \n",
       "6768       718  Владислава   31          Москва              free   \n",
       "...        ...         ...  ...             ...               ...   \n",
       "17004     1460       Жанна   27       Пятигорск              free   \n",
       "17242     1477          Ян   17            Сочи              free   \n",
       "17314     1483      Роберт   26    Екатеринбург              free   \n",
       "17505     1496         Яна   19          Москва              free   \n",
       "17909     1524      Матвей   32          Москва              free   \n",
       "\n",
       "          distance  duration       date  month  minute_price  \\\n",
       "6531   4196.445201       0.5 2021-08-31      8             8   \n",
       "6570   4830.824371       0.5 2021-10-14     10             8   \n",
       "6680   4684.004397       0.5 2021-03-04      3             8   \n",
       "6695   5215.642710       0.5 2021-02-25      2             8   \n",
       "6768   5197.436649       0.5 2021-02-11      2             8   \n",
       "...            ...       ...        ...    ...           ...   \n",
       "17004  5531.335845       0.5 2021-01-19      1             8   \n",
       "17242  6724.932981       0.5 2021-01-12      1             8   \n",
       "17314  4445.481070       0.5 2021-03-06      3             8   \n",
       "17505  5722.551787       0.5 2021-02-14      2             8   \n",
       "17909  4103.998874       0.5 2021-06-18      6             8   \n",
       "\n",
       "       start_ride_price  subscription_fee  \n",
       "6531                 50                 0  \n",
       "6570                 50                 0  \n",
       "6680                 50                 0  \n",
       "6695                 50                 0  \n",
       "6768                 50                 0  \n",
       "...                 ...               ...  \n",
       "17004                50                 0  \n",
       "17242                50                 0  \n",
       "17314                50                 0  \n",
       "17505                50                 0  \n",
       "17909                50                 0  \n",
       "\n",
       "[95 rows x 12 columns]"
      ]
     },
     "execution_count": 52,
     "metadata": {},
     "output_type": "execute_result"
    }
   ],
   "source": [
    "df_free.query('duration<=0.5')"
   ]
  },
  {
   "cell_type": "markdown",
   "id": "6374971b",
   "metadata": {},
   "source": [
    "**Вывод:** Можно отметить, что есть поездки при дистанции 3-4 тыс. метров, но при этом продолжительность 0,5. Очень похоже на сбой. Всего поездок с временем 0,5 - 95. При этом дистанции там больше 4000 м."
   ]
  },
  {
   "cell_type": "code",
   "execution_count": 53,
   "id": "84aa735e",
   "metadata": {},
   "outputs": [
    {
     "data": {
      "text/html": [
       "<div>\n",
       "<style scoped>\n",
       "    .dataframe tbody tr th:only-of-type {\n",
       "        vertical-align: middle;\n",
       "    }\n",
       "\n",
       "    .dataframe tbody tr th {\n",
       "        vertical-align: top;\n",
       "    }\n",
       "\n",
       "    .dataframe thead th {\n",
       "        text-align: right;\n",
       "    }\n",
       "</style>\n",
       "<table border=\"1\" class=\"dataframe\">\n",
       "  <thead>\n",
       "    <tr style=\"text-align: right;\">\n",
       "      <th></th>\n",
       "      <th>user_id</th>\n",
       "      <th>name</th>\n",
       "      <th>age</th>\n",
       "      <th>city</th>\n",
       "      <th>subscription_type</th>\n",
       "      <th>distance</th>\n",
       "      <th>duration</th>\n",
       "      <th>date</th>\n",
       "      <th>month</th>\n",
       "      <th>minute_price</th>\n",
       "      <th>start_ride_price</th>\n",
       "      <th>subscription_fee</th>\n",
       "    </tr>\n",
       "  </thead>\n",
       "  <tbody>\n",
       "    <tr>\n",
       "      <th>7841</th>\n",
       "      <td>796</td>\n",
       "      <td>Алексей</td>\n",
       "      <td>25</td>\n",
       "      <td>Екатеринбург</td>\n",
       "      <td>free</td>\n",
       "      <td>7.097072</td>\n",
       "      <td>10.026614</td>\n",
       "      <td>2021-11-26</td>\n",
       "      <td>11</td>\n",
       "      <td>8</td>\n",
       "      <td>50</td>\n",
       "      <td>0</td>\n",
       "    </tr>\n",
       "    <tr>\n",
       "      <th>8658</th>\n",
       "      <td>861</td>\n",
       "      <td>Мария</td>\n",
       "      <td>27</td>\n",
       "      <td>Краснодар</td>\n",
       "      <td>free</td>\n",
       "      <td>6.784447</td>\n",
       "      <td>6.015656</td>\n",
       "      <td>2021-07-21</td>\n",
       "      <td>7</td>\n",
       "      <td>8</td>\n",
       "      <td>50</td>\n",
       "      <td>0</td>\n",
       "    </tr>\n",
       "    <tr>\n",
       "      <th>9541</th>\n",
       "      <td>925</td>\n",
       "      <td>Всеволод</td>\n",
       "      <td>28</td>\n",
       "      <td>Ростов-на-Дону</td>\n",
       "      <td>free</td>\n",
       "      <td>2.570787</td>\n",
       "      <td>3.011018</td>\n",
       "      <td>2021-10-19</td>\n",
       "      <td>10</td>\n",
       "      <td>8</td>\n",
       "      <td>50</td>\n",
       "      <td>0</td>\n",
       "    </tr>\n",
       "    <tr>\n",
       "      <th>11555</th>\n",
       "      <td>1069</td>\n",
       "      <td>Степан</td>\n",
       "      <td>20</td>\n",
       "      <td>Сочи</td>\n",
       "      <td>free</td>\n",
       "      <td>0.855683</td>\n",
       "      <td>10.001902</td>\n",
       "      <td>2021-01-31</td>\n",
       "      <td>1</td>\n",
       "      <td>8</td>\n",
       "      <td>50</td>\n",
       "      <td>0</td>\n",
       "    </tr>\n",
       "    <tr>\n",
       "      <th>13690</th>\n",
       "      <td>1223</td>\n",
       "      <td>Злата</td>\n",
       "      <td>22</td>\n",
       "      <td>Тюмень</td>\n",
       "      <td>free</td>\n",
       "      <td>4.329506</td>\n",
       "      <td>4.008958</td>\n",
       "      <td>2021-05-22</td>\n",
       "      <td>5</td>\n",
       "      <td>8</td>\n",
       "      <td>50</td>\n",
       "      <td>0</td>\n",
       "    </tr>\n",
       "  </tbody>\n",
       "</table>\n",
       "</div>"
      ],
      "text/plain": [
       "       user_id      name  age            city subscription_type  distance  \\\n",
       "7841       796   Алексей   25    Екатеринбург              free  7.097072   \n",
       "8658       861     Мария   27       Краснодар              free  6.784447   \n",
       "9541       925  Всеволод   28  Ростов-на-Дону              free  2.570787   \n",
       "11555     1069    Степан   20            Сочи              free  0.855683   \n",
       "13690     1223     Злата   22          Тюмень              free  4.329506   \n",
       "\n",
       "        duration       date  month  minute_price  start_ride_price  \\\n",
       "7841   10.026614 2021-11-26     11             8                50   \n",
       "8658    6.015656 2021-07-21      7             8                50   \n",
       "9541    3.011018 2021-10-19     10             8                50   \n",
       "11555  10.001902 2021-01-31      1             8                50   \n",
       "13690   4.008958 2021-05-22      5             8                50   \n",
       "\n",
       "       subscription_fee  \n",
       "7841                  0  \n",
       "8658                  0  \n",
       "9541                  0  \n",
       "11555                 0  \n",
       "13690                 0  "
      ]
     },
     "execution_count": 53,
     "metadata": {},
     "output_type": "execute_result"
    }
   ],
   "source": [
    "df_free.query('distance<=10')"
   ]
  },
  {
   "cell_type": "markdown",
   "id": "76974106",
   "metadata": {},
   "source": [
    "**Вывод:** С дистанцией меньше 10 метров - 5 поездок. Возможно клиенты включали и выключали самокат. В целом с продолжительностью всё ок."
   ]
  },
  {
   "cell_type": "markdown",
   "id": "a8bb3539",
   "metadata": {},
   "source": [
    "**Общий вывод:**\n",
    "\n",
    "Датафреймы объеденены успешно.\n",
    "\n",
    "Датафреймы созданы. df_ultra - с подпиской, df_free - без подписки.\n",
    "\n",
    "**Пользователи с подпиской:**\n",
    "\n",
    "Наименьшая дистанция - 244м, максимальная - 5699. Выбросы есть, однако значений дистанций около 0 нет. Средняя дистанция - около 3110 м.\n",
    "\n",
    "Минимальное значение 3 мин, максимальное - 40 минут. Распределение в целом нормальное.\n",
    "\n",
    "**Пользователи без подписки:**\n",
    "\n",
    "Минимальное значение - 0,8, максимальное - 7211 м. Можно сделать выводы, что выбросы в районе 0 именно у клиентов, которые без подписки.\n",
    "\n",
    "Можно отметить, что есть поездки при дистанции 3-4 тыс. метров, но при этом продолжительность 0,5. Очень похоже на сбой. Всего поездок с временем 0,5 - 95. При этом дистанции там больше 4000 м.\n",
    "\n",
    "С дистанцией меньше 10 метров - 5 поездок. Возможно клиенты включали и выключали самокат. В целом с продолжительностью всё ок.\n",
    "\n",
    "В целом среднее значение дистанций примерно одинаковые. Средняя продолжительность 17 минут у пользователей без подписки, 18 - с подпиской. Разницы практически нет."
   ]
  },
  {
   "cell_type": "markdown",
   "id": "56cdc782",
   "metadata": {},
   "source": [
    "## Шаг 5. Подсчёт выручки"
   ]
  },
  {
   "cell_type": "markdown",
   "id": "566ea5c3",
   "metadata": {},
   "source": [
    "### Создайте датафрейм с агрегированными данными о поездках на основе датафрейма с объединёнными данными из шага 4: найдите суммарное расстояние, количество поездок и суммарное время для каждого пользователя за каждый месяц"
   ]
  },
  {
   "cell_type": "code",
   "execution_count": 54,
   "id": "e395c11e",
   "metadata": {},
   "outputs": [
    {
     "data": {
      "text/html": [
       "<div>\n",
       "<style scoped>\n",
       "    .dataframe tbody tr th:only-of-type {\n",
       "        vertical-align: middle;\n",
       "    }\n",
       "\n",
       "    .dataframe tbody tr th {\n",
       "        vertical-align: top;\n",
       "    }\n",
       "\n",
       "    .dataframe thead th {\n",
       "        text-align: right;\n",
       "    }\n",
       "</style>\n",
       "<table border=\"1\" class=\"dataframe\">\n",
       "  <thead>\n",
       "    <tr style=\"text-align: right;\">\n",
       "      <th></th>\n",
       "      <th>user_id</th>\n",
       "      <th>name</th>\n",
       "      <th>age</th>\n",
       "      <th>city</th>\n",
       "      <th>subscription_type</th>\n",
       "      <th>distance</th>\n",
       "      <th>duration</th>\n",
       "      <th>date</th>\n",
       "      <th>month</th>\n",
       "      <th>minute_price</th>\n",
       "      <th>start_ride_price</th>\n",
       "      <th>subscription_fee</th>\n",
       "    </tr>\n",
       "  </thead>\n",
       "  <tbody>\n",
       "    <tr>\n",
       "      <th>0</th>\n",
       "      <td>1</td>\n",
       "      <td>Кира</td>\n",
       "      <td>22</td>\n",
       "      <td>Тюмень</td>\n",
       "      <td>ultra</td>\n",
       "      <td>4409.919140</td>\n",
       "      <td>25.599769</td>\n",
       "      <td>2021-01-01</td>\n",
       "      <td>1</td>\n",
       "      <td>6</td>\n",
       "      <td>0</td>\n",
       "      <td>199</td>\n",
       "    </tr>\n",
       "    <tr>\n",
       "      <th>1</th>\n",
       "      <td>1</td>\n",
       "      <td>Кира</td>\n",
       "      <td>22</td>\n",
       "      <td>Тюмень</td>\n",
       "      <td>ultra</td>\n",
       "      <td>2617.592153</td>\n",
       "      <td>15.816871</td>\n",
       "      <td>2021-01-18</td>\n",
       "      <td>1</td>\n",
       "      <td>6</td>\n",
       "      <td>0</td>\n",
       "      <td>199</td>\n",
       "    </tr>\n",
       "    <tr>\n",
       "      <th>2</th>\n",
       "      <td>1</td>\n",
       "      <td>Кира</td>\n",
       "      <td>22</td>\n",
       "      <td>Тюмень</td>\n",
       "      <td>ultra</td>\n",
       "      <td>754.159807</td>\n",
       "      <td>6.232113</td>\n",
       "      <td>2021-04-20</td>\n",
       "      <td>4</td>\n",
       "      <td>6</td>\n",
       "      <td>0</td>\n",
       "      <td>199</td>\n",
       "    </tr>\n",
       "    <tr>\n",
       "      <th>3</th>\n",
       "      <td>1</td>\n",
       "      <td>Кира</td>\n",
       "      <td>22</td>\n",
       "      <td>Тюмень</td>\n",
       "      <td>ultra</td>\n",
       "      <td>2694.783254</td>\n",
       "      <td>18.511000</td>\n",
       "      <td>2021-08-11</td>\n",
       "      <td>8</td>\n",
       "      <td>6</td>\n",
       "      <td>0</td>\n",
       "      <td>199</td>\n",
       "    </tr>\n",
       "    <tr>\n",
       "      <th>4</th>\n",
       "      <td>1</td>\n",
       "      <td>Кира</td>\n",
       "      <td>22</td>\n",
       "      <td>Тюмень</td>\n",
       "      <td>ultra</td>\n",
       "      <td>4028.687306</td>\n",
       "      <td>26.265803</td>\n",
       "      <td>2021-08-28</td>\n",
       "      <td>8</td>\n",
       "      <td>6</td>\n",
       "      <td>0</td>\n",
       "      <td>199</td>\n",
       "    </tr>\n",
       "  </tbody>\n",
       "</table>\n",
       "</div>"
      ],
      "text/plain": [
       "   user_id  name  age    city subscription_type     distance   duration  \\\n",
       "0        1  Кира   22  Тюмень             ultra  4409.919140  25.599769   \n",
       "1        1  Кира   22  Тюмень             ultra  2617.592153  15.816871   \n",
       "2        1  Кира   22  Тюмень             ultra   754.159807   6.232113   \n",
       "3        1  Кира   22  Тюмень             ultra  2694.783254  18.511000   \n",
       "4        1  Кира   22  Тюмень             ultra  4028.687306  26.265803   \n",
       "\n",
       "        date  month  minute_price  start_ride_price  subscription_fee  \n",
       "0 2021-01-01      1             6                 0               199  \n",
       "1 2021-01-18      1             6                 0               199  \n",
       "2 2021-04-20      4             6                 0               199  \n",
       "3 2021-08-11      8             6                 0               199  \n",
       "4 2021-08-28      8             6                 0               199  "
      ]
     },
     "execution_count": 54,
     "metadata": {},
     "output_type": "execute_result"
    }
   ],
   "source": [
    "df.head()"
   ]
  },
  {
   "cell_type": "code",
   "execution_count": 55,
   "id": "48bb1173",
   "metadata": {},
   "outputs": [],
   "source": [
    "df_revenue = df.pivot_table(\n",
    "    index=['user_id', 'month'], \n",
    "    values=['name', 'distance','duration', 'subscription_type'], \n",
    "    aggfunc={'name' : 'count', 'distance': 'sum', 'duration' : 'sum', 'subscription_type' : 'min'})"
   ]
  },
  {
   "cell_type": "markdown",
   "id": "28fe823d",
   "metadata": {},
   "source": [
    "### В этот же датафрейм добавьте столбец с помесячной выручкой, которую принёс каждый пользователь"
   ]
  },
  {
   "cell_type": "code",
   "execution_count": 56,
   "id": "8c90e923",
   "metadata": {},
   "outputs": [],
   "source": [
    "df_revenue['duration'] = np.ceil(df_revenue['duration']) # округляем значение продолжительности"
   ]
  },
  {
   "cell_type": "code",
   "execution_count": 57,
   "id": "6b9116ea",
   "metadata": {},
   "outputs": [
    {
     "data": {
      "text/html": [
       "<div>\n",
       "<style scoped>\n",
       "    .dataframe tbody tr th:only-of-type {\n",
       "        vertical-align: middle;\n",
       "    }\n",
       "\n",
       "    .dataframe tbody tr th {\n",
       "        vertical-align: top;\n",
       "    }\n",
       "\n",
       "    .dataframe thead th {\n",
       "        text-align: right;\n",
       "    }\n",
       "</style>\n",
       "<table border=\"1\" class=\"dataframe\">\n",
       "  <thead>\n",
       "    <tr style=\"text-align: right;\">\n",
       "      <th></th>\n",
       "      <th></th>\n",
       "      <th>distance</th>\n",
       "      <th>duration</th>\n",
       "      <th>name</th>\n",
       "      <th>subscription_type</th>\n",
       "    </tr>\n",
       "    <tr>\n",
       "      <th>user_id</th>\n",
       "      <th>month</th>\n",
       "      <th></th>\n",
       "      <th></th>\n",
       "      <th></th>\n",
       "      <th></th>\n",
       "    </tr>\n",
       "  </thead>\n",
       "  <tbody>\n",
       "    <tr>\n",
       "      <th rowspan=\"5\" valign=\"top\">1</th>\n",
       "      <th>1</th>\n",
       "      <td>7027.511294</td>\n",
       "      <td>42.0</td>\n",
       "      <td>2</td>\n",
       "      <td>ultra</td>\n",
       "    </tr>\n",
       "    <tr>\n",
       "      <th>4</th>\n",
       "      <td>754.159807</td>\n",
       "      <td>7.0</td>\n",
       "      <td>1</td>\n",
       "      <td>ultra</td>\n",
       "    </tr>\n",
       "    <tr>\n",
       "      <th>8</th>\n",
       "      <td>6723.470560</td>\n",
       "      <td>45.0</td>\n",
       "      <td>2</td>\n",
       "      <td>ultra</td>\n",
       "    </tr>\n",
       "    <tr>\n",
       "      <th>10</th>\n",
       "      <td>5809.911100</td>\n",
       "      <td>32.0</td>\n",
       "      <td>2</td>\n",
       "      <td>ultra</td>\n",
       "    </tr>\n",
       "    <tr>\n",
       "      <th>11</th>\n",
       "      <td>7003.499363</td>\n",
       "      <td>54.0</td>\n",
       "      <td>3</td>\n",
       "      <td>ultra</td>\n",
       "    </tr>\n",
       "  </tbody>\n",
       "</table>\n",
       "</div>"
      ],
      "text/plain": [
       "                  distance  duration  name subscription_type\n",
       "user_id month                                               \n",
       "1       1      7027.511294      42.0     2             ultra\n",
       "        4       754.159807       7.0     1             ultra\n",
       "        8      6723.470560      45.0     2             ultra\n",
       "        10     5809.911100      32.0     2             ultra\n",
       "        11     7003.499363      54.0     3             ultra"
      ]
     },
     "execution_count": 57,
     "metadata": {},
     "output_type": "execute_result"
    }
   ],
   "source": [
    "df_revenue.head()"
   ]
  },
  {
   "cell_type": "code",
   "execution_count": 58,
   "id": "c3f27bab",
   "metadata": {},
   "outputs": [],
   "source": [
    "def revenue(row):\n",
    "    if row['subscription_type'] == 'free':\n",
    "        return 50 * row['duration'] + 8 * row['duration']\n",
    "    elif row['subscription_type'] == 'ultra':\n",
    "        return 6 * row['duration'] + 199"
   ]
  },
  {
   "cell_type": "code",
   "execution_count": 59,
   "id": "b3134cc4",
   "metadata": {},
   "outputs": [],
   "source": [
    "df_revenue['revenue'] = df_revenue.apply(revenue, axis=1)"
   ]
  },
  {
   "cell_type": "code",
   "execution_count": 60,
   "id": "73f75eb9",
   "metadata": {},
   "outputs": [
    {
     "data": {
      "text/html": [
       "<div>\n",
       "<style scoped>\n",
       "    .dataframe tbody tr th:only-of-type {\n",
       "        vertical-align: middle;\n",
       "    }\n",
       "\n",
       "    .dataframe tbody tr th {\n",
       "        vertical-align: top;\n",
       "    }\n",
       "\n",
       "    .dataframe thead th {\n",
       "        text-align: right;\n",
       "    }\n",
       "</style>\n",
       "<table border=\"1\" class=\"dataframe\">\n",
       "  <thead>\n",
       "    <tr style=\"text-align: right;\">\n",
       "      <th></th>\n",
       "      <th></th>\n",
       "      <th>distance</th>\n",
       "      <th>duration</th>\n",
       "      <th>name</th>\n",
       "      <th>subscription_type</th>\n",
       "      <th>revenue</th>\n",
       "    </tr>\n",
       "    <tr>\n",
       "      <th>user_id</th>\n",
       "      <th>month</th>\n",
       "      <th></th>\n",
       "      <th></th>\n",
       "      <th></th>\n",
       "      <th></th>\n",
       "      <th></th>\n",
       "    </tr>\n",
       "  </thead>\n",
       "  <tbody>\n",
       "    <tr>\n",
       "      <th rowspan=\"5\" valign=\"top\">1</th>\n",
       "      <th>1</th>\n",
       "      <td>7027.511294</td>\n",
       "      <td>42.0</td>\n",
       "      <td>2</td>\n",
       "      <td>ultra</td>\n",
       "      <td>451.0</td>\n",
       "    </tr>\n",
       "    <tr>\n",
       "      <th>4</th>\n",
       "      <td>754.159807</td>\n",
       "      <td>7.0</td>\n",
       "      <td>1</td>\n",
       "      <td>ultra</td>\n",
       "      <td>241.0</td>\n",
       "    </tr>\n",
       "    <tr>\n",
       "      <th>8</th>\n",
       "      <td>6723.470560</td>\n",
       "      <td>45.0</td>\n",
       "      <td>2</td>\n",
       "      <td>ultra</td>\n",
       "      <td>469.0</td>\n",
       "    </tr>\n",
       "    <tr>\n",
       "      <th>10</th>\n",
       "      <td>5809.911100</td>\n",
       "      <td>32.0</td>\n",
       "      <td>2</td>\n",
       "      <td>ultra</td>\n",
       "      <td>391.0</td>\n",
       "    </tr>\n",
       "    <tr>\n",
       "      <th>11</th>\n",
       "      <td>7003.499363</td>\n",
       "      <td>54.0</td>\n",
       "      <td>3</td>\n",
       "      <td>ultra</td>\n",
       "      <td>523.0</td>\n",
       "    </tr>\n",
       "  </tbody>\n",
       "</table>\n",
       "</div>"
      ],
      "text/plain": [
       "                  distance  duration  name subscription_type  revenue\n",
       "user_id month                                                        \n",
       "1       1      7027.511294      42.0     2             ultra    451.0\n",
       "        4       754.159807       7.0     1             ultra    241.0\n",
       "        8      6723.470560      45.0     2             ultra    469.0\n",
       "        10     5809.911100      32.0     2             ultra    391.0\n",
       "        11     7003.499363      54.0     3             ultra    523.0"
      ]
     },
     "execution_count": 60,
     "metadata": {},
     "output_type": "execute_result"
    }
   ],
   "source": [
    "df_revenue.head()"
   ]
  },
  {
   "cell_type": "code",
   "execution_count": 61,
   "id": "47df61d7",
   "metadata": {},
   "outputs": [
    {
     "data": {
      "text/html": [
       "<div>\n",
       "<style scoped>\n",
       "    .dataframe tbody tr th:only-of-type {\n",
       "        vertical-align: middle;\n",
       "    }\n",
       "\n",
       "    .dataframe tbody tr th {\n",
       "        vertical-align: top;\n",
       "    }\n",
       "\n",
       "    .dataframe thead th {\n",
       "        text-align: right;\n",
       "    }\n",
       "</style>\n",
       "<table border=\"1\" class=\"dataframe\">\n",
       "  <thead>\n",
       "    <tr style=\"text-align: right;\">\n",
       "      <th></th>\n",
       "      <th>distance</th>\n",
       "      <th>duration</th>\n",
       "      <th>name</th>\n",
       "      <th>revenue</th>\n",
       "    </tr>\n",
       "  </thead>\n",
       "  <tbody>\n",
       "    <tr>\n",
       "      <th>count</th>\n",
       "      <td>11331.000000</td>\n",
       "      <td>11331.000000</td>\n",
       "      <td>11331.000000</td>\n",
       "      <td>11331.000000</td>\n",
       "    </tr>\n",
       "    <tr>\n",
       "      <th>mean</th>\n",
       "      <td>4896.362584</td>\n",
       "      <td>28.888889</td>\n",
       "      <td>1.594564</td>\n",
       "      <td>1191.821287</td>\n",
       "    </tr>\n",
       "    <tr>\n",
       "      <th>std</th>\n",
       "      <td>2911.516556</td>\n",
       "      <td>16.382916</td>\n",
       "      <td>0.831604</td>\n",
       "      <td>1038.896699</td>\n",
       "    </tr>\n",
       "    <tr>\n",
       "      <th>min</th>\n",
       "      <td>2.570787</td>\n",
       "      <td>1.000000</td>\n",
       "      <td>1.000000</td>\n",
       "      <td>58.000000</td>\n",
       "    </tr>\n",
       "    <tr>\n",
       "      <th>25%</th>\n",
       "      <td>2972.202146</td>\n",
       "      <td>17.000000</td>\n",
       "      <td>1.000000</td>\n",
       "      <td>355.000000</td>\n",
       "    </tr>\n",
       "    <tr>\n",
       "      <th>50%</th>\n",
       "      <td>3988.723985</td>\n",
       "      <td>24.000000</td>\n",
       "      <td>1.000000</td>\n",
       "      <td>870.000000</td>\n",
       "    </tr>\n",
       "    <tr>\n",
       "      <th>75%</th>\n",
       "      <td>6421.375890</td>\n",
       "      <td>37.000000</td>\n",
       "      <td>2.000000</td>\n",
       "      <td>1682.000000</td>\n",
       "    </tr>\n",
       "    <tr>\n",
       "      <th>max</th>\n",
       "      <td>23429.487786</td>\n",
       "      <td>141.000000</td>\n",
       "      <td>7.000000</td>\n",
       "      <td>8178.000000</td>\n",
       "    </tr>\n",
       "  </tbody>\n",
       "</table>\n",
       "</div>"
      ],
      "text/plain": [
       "           distance      duration          name       revenue\n",
       "count  11331.000000  11331.000000  11331.000000  11331.000000\n",
       "mean    4896.362584     28.888889      1.594564   1191.821287\n",
       "std     2911.516556     16.382916      0.831604   1038.896699\n",
       "min        2.570787      1.000000      1.000000     58.000000\n",
       "25%     2972.202146     17.000000      1.000000    355.000000\n",
       "50%     3988.723985     24.000000      1.000000    870.000000\n",
       "75%     6421.375890     37.000000      2.000000   1682.000000\n",
       "max    23429.487786    141.000000      7.000000   8178.000000"
      ]
     },
     "execution_count": 61,
     "metadata": {},
     "output_type": "execute_result"
    }
   ],
   "source": [
    "df_revenue.describe()"
   ]
  },
  {
   "cell_type": "markdown",
   "id": "dc7d8b58",
   "metadata": {},
   "source": [
    "**Общий вывод:** Создали датафрейм с агрегированными данными о поездках. Посчитали выручку на каждого клиента по каждому месяцу. Средняя выручка составила 1191 р, медина - 870, разница есть. "
   ]
  },
  {
   "cell_type": "markdown",
   "id": "352d7313",
   "metadata": {},
   "source": [
    "## Шаг 6. Проверка гипотез"
   ]
  },
  {
   "cell_type": "markdown",
   "id": "3cd32c0f",
   "metadata": {},
   "source": [
    "### Тратят ли пользователи с подпиской больше времени на поездки"
   ]
  },
  {
   "cell_type": "markdown",
   "id": "c5f237b7",
   "metadata": {},
   "source": [
    "H_0 (нулевая гипотеза): Продолжительность duration пользователей с подпиской ultra = Продолжительность duration пользователей без подписки free\n",
    "\n",
    "H_1 (альтернативная гипотеза): Продолжительность duration пользователей с подпиской ultra не равна Продолжительность duration пользователей без подписки free"
   ]
  },
  {
   "cell_type": "code",
   "execution_count": 62,
   "id": "85cfc00c",
   "metadata": {},
   "outputs": [
    {
     "name": "stdout",
     "output_type": "stream",
     "text": [
      "p-значение: 1.2804098316645618e-34\n",
      "Отвергаем нулевую гипотезу\n"
     ]
    }
   ],
   "source": [
    "ultra = df_ultra['duration']\n",
    "free = df_free['duration']\n",
    "\n",
    "alpha = 0.05\n",
    "\n",
    "results = st.ttest_ind(ultra, free, alternative='greater')\n",
    "\n",
    "print('p-значение:', results.pvalue)\n",
    "\n",
    "if results.pvalue < alpha:\n",
    "    print('Отвергаем нулевую гипотезу')\n",
    "else:\n",
    "    print('Не получилось отвергнуть нулевую гипотезу') "
   ]
  },
  {
   "cell_type": "markdown",
   "id": "48d58247",
   "metadata": {},
   "source": [
    "**Вывод:** Отвергаем нулевую гипотезу в пользу альтернативной. Можем согласиться, что пользователи с подпиской тратят времени не столько же, как пользователи без подписки."
   ]
  },
  {
   "cell_type": "markdown",
   "id": "96771961",
   "metadata": {},
   "source": [
    "### Расстояние одной поездки в 3130 метров — оптимальное с точки зрения износа самоката. Можно ли сказать, что среднее расстояние, которое проезжают пользователи с подпиской за одну поездку, не превышает 3130 метров"
   ]
  },
  {
   "cell_type": "markdown",
   "id": "31b057e3",
   "metadata": {},
   "source": [
    "H_0 (нулевая гипотеза): Расстояние поездки клиента с подпиской равна 3130\n",
    "\n",
    "H_1 (альтернативная гипотеза): Расстояние поездки клиента с подпиской меньше 3130"
   ]
  },
  {
   "cell_type": "code",
   "execution_count": 63,
   "id": "4c421b36",
   "metadata": {},
   "outputs": [
    {
     "name": "stdout",
     "output_type": "stream",
     "text": [
      "p-значение: 0.08046311521502146\n",
      "Не получилось отвергнуть нулевую гипотезу\n"
     ]
    }
   ],
   "source": [
    "ultra = df_ultra['distance']\n",
    "\n",
    "interested_value = 3130\n",
    "\n",
    "alpha = 0.05\n",
    "\n",
    "results = st.ttest_1samp(ultra, interested_value, alternative='less')\n",
    "\n",
    "print('p-значение:', results.pvalue)\n",
    "\n",
    "if results.pvalue < alpha:\n",
    "    print('Отвергаем нулевую гипотезу')\n",
    "else:\n",
    "    print('Не получилось отвергнуть нулевую гипотезу') "
   ]
  },
  {
   "cell_type": "markdown",
   "id": "f0817b13",
   "metadata": {},
   "source": [
    "**Вывод:** Не получилось отвергнуть нулевую гипотезу. Можем предполагать, что расстояние одной поездки пользователя с подпиской не больше 3130 метров."
   ]
  },
  {
   "cell_type": "markdown",
   "id": "883e044b",
   "metadata": {},
   "source": [
    "### Проверьте гипотезу о том, будет ли помесячная выручка от пользователей с подпиской по месяцам выше, чем выручка от пользователей без подписки"
   ]
  },
  {
   "cell_type": "markdown",
   "id": "0fbea1c2",
   "metadata": {},
   "source": [
    "H_0 (нулевая гипотеза): Выручка пользователей с подпиской = выручка пользователей без подписки\n",
    "\n",
    "H_1 (альтернативная гипотеза): Выручка пользователей с подпиской > выручка пользователей без подписки"
   ]
  },
  {
   "cell_type": "code",
   "execution_count": 66,
   "id": "9b124b54",
   "metadata": {},
   "outputs": [
    {
     "name": "stdout",
     "output_type": "stream",
     "text": [
      "p-значение: 1.0\n",
      "Не получилось отвергнуть нулевую гипотезу\n"
     ]
    }
   ],
   "source": [
    "ultra = df_revenue.query('subscription_type == \"ultra\"').loc[:, 'revenue']\n",
    "free = df_revenue.query('subscription_type == \"free\"').loc[:, 'revenue']\n",
    "\n",
    "alpha = 0.05\n",
    "\n",
    "results = st.ttest_ind(ultra, free, alternative='greater')\n",
    "\n",
    "print('p-значение:', results.pvalue)\n",
    "\n",
    "if results.pvalue < alpha:\n",
    "    print('Отвергаем нулевую гипотезу')\n",
    "else:\n",
    "    print('Не получилось отвергнуть нулевую гипотезу') "
   ]
  },
  {
   "cell_type": "markdown",
   "id": "be76e2a3",
   "metadata": {},
   "source": [
    "**Вывод:** Не получилось отвергнуть нулевую гипотезу. Мы не можем утверждать, что помесячная выручка от пользователей с подпиской по месяцам выше, чем выручка от пользователей без подписки."
   ]
  },
  {
   "cell_type": "markdown",
   "id": "ad27c2d9",
   "metadata": {},
   "source": [
    "### Представьте такую ситуацию: техническая команда сервиса обновила сервера, с которыми взаимодействует мобильное приложение. Она надеется, что из-за этого количество обращений в техподдержку значимо снизилось. Некоторый файл содержит для каждого пользователя данные о количестве обращений до обновления и после него. Какой тест вам понадобился бы для проверки этой гипотезы?"
   ]
  },
  {
   "cell_type": "markdown",
   "id": "faa10e49",
   "metadata": {},
   "source": [
    "Гипотеза о равенстве средних для зависимых (парных) выборок\n",
    "\n",
    "H_0 (нулевая гипотеза): Количество обращений до и после обновления равны\n",
    "\n",
    "H_1 (альтернативная гипотеза): Количество обращений после обновления стало меньше\n",
    "\n",
    "st.ttest_rel(before, after)"
   ]
  },
  {
   "cell_type": "markdown",
   "id": "2773055b",
   "metadata": {},
   "source": [
    "# Общий вывод"
   ]
  },
  {
   "cell_type": "markdown",
   "id": "49494e93",
   "metadata": {},
   "source": [
    "Посмотрели общую информацию о данных, проверили наличие пропусков и дубликатов, обработали.\n",
    "\n",
    "**Исследовательский анализ**\n",
    "\n",
    "Чаще всего встречается город Екатеринбург - 204 пользователя, меньше всего Тюмень - 180.\n",
    "\n",
    "Всего клиентов 1534. Доля клиентов без подписки - 54% (835). С подпиской - 46% (699).\n",
    "\n",
    "Чаще всего сервисом пользуются клиенты с возрастом от 22 до 27 лет примерно. Чаще всего встречается возраст 25 лет - 145 клиентов.\n",
    "\n",
    "Минимальное расстояние - 0,85, максимальное - 7211. В среднем расстояние около 3000 - 4000 м.\n",
    "\n",
    "Минимальная поездка - 0,5. Максимальная продолжительность - 40,8 мин. В среднем время поездки около 17 минут. Значение адекватное.\n",
    "\n",
    "Датафреймы созданы. df_ultra - с подпиской, df_free - без подписки.\n",
    "\n",
    "\n",
    "\n",
    "Пользователи с подпиской:\n",
    "\n",
    "Наименьшая дистанция - 244м, максимальная - 5699. Выбросы есть, однако значений дистанций около 0 нет. Средняя дистанция - около 3110 м.\n",
    "\n",
    "Минимальное значение 3 мин, максимальное - 40 минут. Распределение в целом нормальное.\n",
    "\n",
    "Пользователи без подписки:\n",
    "\n",
    "Минимальное значение - 0,8, максимальное - 7211 м. Можно сделать выводы, что выбросы в районе 0 именно у клиентов, которые без подписки.\n",
    "\n",
    "Можно отметить, что есть поездки при дистанции 3-4 тыс. метров, но при этом продолжительность 0,5. Очень похоже на сбой. Всего поездок с временем 0,5 - 95. При этом дистанции там больше 4000 м.\n",
    "\n",
    "С дистанцией меньше 10 метров - 5 поездок. Возможно клиенты включали и выключали самокат. В целом с продолжительностью всё ок.\n",
    "\n",
    "В целом среднее значение дистанций примерно одинаковые. Средняя продолжительность 17 минут у пользователей без подписки, 18 - с подпиской. Разницы практически нет.\n",
    "\n",
    "**Проверка гипотез**\n",
    "\n",
    "Можем согласиться, что пользователи с подпиской тратят времени не столько же, как пользователи без подписки.\n",
    "\n",
    "Можем предполагать, что расстояние одной поездки пользователя с подпиской не больше 3130 метров.\n",
    "\n",
    "Мы не можем утверждать, что помесячная выручка от пользователей с подпиской по месяцам выше, чем выручка от пользователей без подписки."
   ]
  }
 ],
 "metadata": {
  "ExecuteTimeLog": [
   {
    "duration": 44,
    "start_time": "2024-05-15T17:56:56.700Z"
   },
   {
    "duration": 384,
    "start_time": "2024-05-15T17:57:01.303Z"
   },
   {
    "duration": 78,
    "start_time": "2024-05-15T17:57:03.943Z"
   },
   {
    "duration": 34,
    "start_time": "2024-05-15T17:57:12.935Z"
   },
   {
    "duration": 370,
    "start_time": "2024-05-15T17:57:50.416Z"
   },
   {
    "duration": 34,
    "start_time": "2024-05-15T17:57:52.313Z"
   },
   {
    "duration": 140,
    "start_time": "2024-05-15T17:57:53.936Z"
   },
   {
    "duration": 74,
    "start_time": "2024-05-15T17:57:55.105Z"
   },
   {
    "duration": 42,
    "start_time": "2024-05-15T17:58:05.073Z"
   },
   {
    "duration": 32,
    "start_time": "2024-05-15T17:58:06.536Z"
   },
   {
    "duration": 30,
    "start_time": "2024-05-15T17:58:49.401Z"
   },
   {
    "duration": 32,
    "start_time": "2024-05-15T17:59:04.809Z"
   },
   {
    "duration": 377,
    "start_time": "2024-05-15T17:59:09.081Z"
   },
   {
    "duration": 34,
    "start_time": "2024-05-15T17:59:09.460Z"
   },
   {
    "duration": 44,
    "start_time": "2024-05-15T17:59:09.495Z"
   },
   {
    "duration": 22,
    "start_time": "2024-05-15T17:59:09.542Z"
   },
   {
    "duration": 15,
    "start_time": "2024-05-15T18:00:52.675Z"
   },
   {
    "duration": 11,
    "start_time": "2024-05-15T18:00:54.540Z"
   },
   {
    "duration": 6,
    "start_time": "2024-05-15T18:00:55.469Z"
   },
   {
    "duration": 773,
    "start_time": "2024-05-15T18:05:09.350Z"
   },
   {
    "duration": 439,
    "start_time": "2024-05-15T18:06:29.704Z"
   },
   {
    "duration": 7,
    "start_time": "2024-05-15T18:07:21.335Z"
   },
   {
    "duration": 51,
    "start_time": "2024-05-15T18:07:46.623Z"
   },
   {
    "duration": 17,
    "start_time": "2024-05-15T18:08:01.055Z"
   },
   {
    "duration": 24,
    "start_time": "2024-05-15T18:08:12.840Z"
   },
   {
    "duration": 12,
    "start_time": "2024-05-15T18:09:15.072Z"
   },
   {
    "duration": 5,
    "start_time": "2024-05-15T18:10:25.857Z"
   },
   {
    "duration": 11,
    "start_time": "2024-05-15T18:10:50.737Z"
   },
   {
    "duration": 6,
    "start_time": "2024-05-15T18:10:55.737Z"
   },
   {
    "duration": 15,
    "start_time": "2024-05-15T18:19:18.037Z"
   },
   {
    "duration": 6,
    "start_time": "2024-05-15T18:19:24.486Z"
   },
   {
    "duration": 6,
    "start_time": "2024-05-15T18:19:26.392Z"
   },
   {
    "duration": 8,
    "start_time": "2024-05-15T18:19:47.821Z"
   },
   {
    "duration": 6,
    "start_time": "2024-05-15T18:20:00.269Z"
   },
   {
    "duration": 7,
    "start_time": "2024-05-15T18:20:01.758Z"
   },
   {
    "duration": 5,
    "start_time": "2024-05-15T18:20:14.046Z"
   },
   {
    "duration": 6,
    "start_time": "2024-05-15T18:20:58.526Z"
   },
   {
    "duration": 8,
    "start_time": "2024-05-15T18:20:59.838Z"
   },
   {
    "duration": 6,
    "start_time": "2024-05-15T18:21:00.455Z"
   },
   {
    "duration": 7,
    "start_time": "2024-05-15T18:24:34.912Z"
   },
   {
    "duration": 8,
    "start_time": "2024-05-15T18:24:51.096Z"
   },
   {
    "duration": 4,
    "start_time": "2024-05-15T18:25:44.473Z"
   },
   {
    "duration": 590,
    "start_time": "2024-05-15T18:42:41.586Z"
   },
   {
    "duration": 184,
    "start_time": "2024-05-15T18:42:50.161Z"
   },
   {
    "duration": 1087,
    "start_time": "2024-05-15T18:43:25.233Z"
   },
   {
    "duration": 37,
    "start_time": "2024-05-15T18:43:26.322Z"
   },
   {
    "duration": 35,
    "start_time": "2024-05-15T18:43:26.360Z"
   },
   {
    "duration": 21,
    "start_time": "2024-05-15T18:43:26.397Z"
   },
   {
    "duration": 14,
    "start_time": "2024-05-15T18:43:26.419Z"
   },
   {
    "duration": 8,
    "start_time": "2024-05-15T18:43:26.435Z"
   },
   {
    "duration": 8,
    "start_time": "2024-05-15T18:43:26.444Z"
   },
   {
    "duration": 17,
    "start_time": "2024-05-15T18:43:26.453Z"
   },
   {
    "duration": 6,
    "start_time": "2024-05-15T18:43:26.471Z"
   },
   {
    "duration": 24,
    "start_time": "2024-05-15T18:43:26.478Z"
   },
   {
    "duration": 12,
    "start_time": "2024-05-15T18:43:26.504Z"
   },
   {
    "duration": 5,
    "start_time": "2024-05-15T18:43:26.517Z"
   },
   {
    "duration": 14,
    "start_time": "2024-05-15T18:43:26.523Z"
   },
   {
    "duration": 7,
    "start_time": "2024-05-15T18:43:26.539Z"
   },
   {
    "duration": 4,
    "start_time": "2024-05-15T18:43:26.548Z"
   },
   {
    "duration": 12,
    "start_time": "2024-05-15T18:43:26.553Z"
   },
   {
    "duration": 4,
    "start_time": "2024-05-15T18:43:26.567Z"
   },
   {
    "duration": 206,
    "start_time": "2024-05-15T18:43:26.573Z"
   },
   {
    "duration": 185,
    "start_time": "2024-05-15T18:45:18.874Z"
   },
   {
    "duration": 203,
    "start_time": "2024-05-15T18:45:26.481Z"
   },
   {
    "duration": 205,
    "start_time": "2024-05-15T18:51:01.684Z"
   },
   {
    "duration": 92,
    "start_time": "2024-05-15T18:51:17.932Z"
   },
   {
    "duration": 139,
    "start_time": "2024-05-15T18:51:25.316Z"
   },
   {
    "duration": 119,
    "start_time": "2024-05-15T18:52:05.261Z"
   },
   {
    "duration": 152,
    "start_time": "2024-05-15T18:52:20.357Z"
   },
   {
    "duration": 748,
    "start_time": "2024-05-15T18:54:00.830Z"
   },
   {
    "duration": 224,
    "start_time": "2024-05-15T18:54:15.869Z"
   },
   {
    "duration": 160,
    "start_time": "2024-05-15T18:54:25.190Z"
   },
   {
    "duration": 143,
    "start_time": "2024-05-15T18:55:02.838Z"
   },
   {
    "duration": 137,
    "start_time": "2024-05-15T18:55:17.334Z"
   },
   {
    "duration": 278,
    "start_time": "2024-05-15T19:08:20.221Z"
   },
   {
    "duration": 213,
    "start_time": "2024-05-15T19:09:29.885Z"
   },
   {
    "duration": 16,
    "start_time": "2024-05-15T19:12:22.206Z"
   },
   {
    "duration": 209,
    "start_time": "2024-05-15T19:12:35.302Z"
   },
   {
    "duration": 10,
    "start_time": "2024-05-15T19:15:20.704Z"
   },
   {
    "duration": 7,
    "start_time": "2024-05-15T19:15:39.872Z"
   },
   {
    "duration": 8,
    "start_time": "2024-05-15T19:16:08.848Z"
   },
   {
    "duration": 7,
    "start_time": "2024-05-15T19:18:19.425Z"
   },
   {
    "duration": 676,
    "start_time": "2024-05-15T19:19:22.874Z"
   },
   {
    "duration": 58,
    "start_time": "2024-05-15T19:23:45.673Z"
   },
   {
    "duration": 49,
    "start_time": "2024-05-15T19:23:49.318Z"
   },
   {
    "duration": 9,
    "start_time": "2024-05-15T19:25:08.620Z"
   },
   {
    "duration": 759,
    "start_time": "2024-05-15T19:25:11.012Z"
   },
   {
    "duration": 684,
    "start_time": "2024-05-15T19:25:19.652Z"
   },
   {
    "duration": 797,
    "start_time": "2024-05-15T19:25:30.596Z"
   },
   {
    "duration": 657,
    "start_time": "2024-05-15T19:25:46.436Z"
   },
   {
    "duration": 21,
    "start_time": "2024-05-15T19:42:23.149Z"
   },
   {
    "duration": 20,
    "start_time": "2024-05-15T19:42:46.773Z"
   },
   {
    "duration": 15,
    "start_time": "2024-05-15T19:44:55.557Z"
   },
   {
    "duration": 20,
    "start_time": "2024-05-15T19:45:02.686Z"
   },
   {
    "duration": 28,
    "start_time": "2024-05-15T19:45:19.205Z"
   },
   {
    "duration": 143,
    "start_time": "2024-05-15T19:46:02.989Z"
   },
   {
    "duration": 12,
    "start_time": "2024-05-15T19:46:13.235Z"
   },
   {
    "duration": 6,
    "start_time": "2024-05-15T19:47:57.695Z"
   },
   {
    "duration": 15,
    "start_time": "2024-05-15T19:48:15.559Z"
   },
   {
    "duration": 9,
    "start_time": "2024-05-15T19:48:54.331Z"
   },
   {
    "duration": 9,
    "start_time": "2024-05-15T19:48:59.999Z"
   },
   {
    "duration": 14,
    "start_time": "2024-05-15T19:49:14.095Z"
   },
   {
    "duration": 16,
    "start_time": "2024-05-15T19:49:33.072Z"
   },
   {
    "duration": 211,
    "start_time": "2024-05-15T19:55:40.706Z"
   },
   {
    "duration": 218,
    "start_time": "2024-05-15T19:56:03.811Z"
   },
   {
    "duration": 211,
    "start_time": "2024-05-15T19:56:11.483Z"
   },
   {
    "duration": 5,
    "start_time": "2024-05-15T19:58:37.884Z"
   },
   {
    "duration": 7,
    "start_time": "2024-05-15T19:59:59.637Z"
   },
   {
    "duration": 9,
    "start_time": "2024-05-15T20:00:22.229Z"
   },
   {
    "duration": 8,
    "start_time": "2024-05-15T20:00:32.276Z"
   },
   {
    "duration": 7,
    "start_time": "2024-05-15T20:00:54.941Z"
   },
   {
    "duration": 8,
    "start_time": "2024-05-15T20:00:56.789Z"
   },
   {
    "duration": 9,
    "start_time": "2024-05-16T19:44:46.626Z"
   },
   {
    "duration": 48,
    "start_time": "2024-05-16T19:44:51.407Z"
   },
   {
    "duration": 1465,
    "start_time": "2024-05-16T19:45:04.504Z"
   },
   {
    "duration": 125,
    "start_time": "2024-05-16T19:45:05.971Z"
   },
   {
    "duration": 143,
    "start_time": "2024-05-16T19:45:06.098Z"
   },
   {
    "duration": 75,
    "start_time": "2024-05-16T19:45:06.243Z"
   },
   {
    "duration": 13,
    "start_time": "2024-05-16T19:45:06.321Z"
   },
   {
    "duration": 36,
    "start_time": "2024-05-16T19:45:06.336Z"
   },
   {
    "duration": 48,
    "start_time": "2024-05-16T19:45:06.374Z"
   },
   {
    "duration": 13,
    "start_time": "2024-05-16T19:45:06.424Z"
   },
   {
    "duration": 19,
    "start_time": "2024-05-16T19:45:06.439Z"
   },
   {
    "duration": 22,
    "start_time": "2024-05-16T19:45:06.460Z"
   },
   {
    "duration": 29,
    "start_time": "2024-05-16T19:45:06.484Z"
   },
   {
    "duration": 40,
    "start_time": "2024-05-16T19:45:06.515Z"
   },
   {
    "duration": 19,
    "start_time": "2024-05-16T19:45:06.557Z"
   },
   {
    "duration": 18,
    "start_time": "2024-05-16T19:45:06.579Z"
   },
   {
    "duration": 5,
    "start_time": "2024-05-16T19:45:06.598Z"
   },
   {
    "duration": 35,
    "start_time": "2024-05-16T19:45:06.605Z"
   },
   {
    "duration": 6,
    "start_time": "2024-05-16T19:45:06.642Z"
   },
   {
    "duration": 10,
    "start_time": "2024-05-16T19:45:06.649Z"
   },
   {
    "duration": 277,
    "start_time": "2024-05-16T19:45:06.660Z"
   },
   {
    "duration": 8,
    "start_time": "2024-05-16T19:45:06.939Z"
   },
   {
    "duration": 184,
    "start_time": "2024-05-16T19:45:06.949Z"
   },
   {
    "duration": 10,
    "start_time": "2024-05-16T19:45:07.134Z"
   },
   {
    "duration": 262,
    "start_time": "2024-05-16T19:45:07.145Z"
   },
   {
    "duration": 9,
    "start_time": "2024-05-16T19:45:07.409Z"
   },
   {
    "duration": 789,
    "start_time": "2024-05-16T19:45:07.420Z"
   },
   {
    "duration": 11,
    "start_time": "2024-05-16T19:45:08.211Z"
   },
   {
    "duration": 875,
    "start_time": "2024-05-16T19:45:08.224Z"
   },
   {
    "duration": 30,
    "start_time": "2024-05-16T19:45:09.101Z"
   },
   {
    "duration": 35,
    "start_time": "2024-05-16T19:45:09.132Z"
   },
   {
    "duration": 27,
    "start_time": "2024-05-16T19:45:09.169Z"
   },
   {
    "duration": 21,
    "start_time": "2024-05-16T19:45:09.198Z"
   },
   {
    "duration": 299,
    "start_time": "2024-05-16T19:45:09.221Z"
   },
   {
    "duration": 13,
    "start_time": "2024-05-16T19:45:09.522Z"
   },
   {
    "duration": 30,
    "start_time": "2024-05-16T19:45:09.537Z"
   },
   {
    "duration": 311,
    "start_time": "2024-05-16T19:45:09.569Z"
   },
   {
    "duration": 10,
    "start_time": "2024-05-16T19:45:09.882Z"
   },
   {
    "duration": 90,
    "start_time": "2024-05-16T19:45:09.894Z"
   },
   {
    "duration": 1069,
    "start_time": "2024-05-16T19:45:09.985Z"
   },
   {
    "duration": 987,
    "start_time": "2024-05-16T19:46:02.072Z"
   },
   {
    "duration": 100,
    "start_time": "2024-05-16T19:47:51.817Z"
   },
   {
    "duration": 47,
    "start_time": "2024-05-16T19:47:57.417Z"
   },
   {
    "duration": 46,
    "start_time": "2024-05-16T19:49:14.346Z"
   },
   {
    "duration": 14,
    "start_time": "2024-05-16T19:58:16.478Z"
   },
   {
    "duration": 59,
    "start_time": "2024-05-16T19:59:47.779Z"
   },
   {
    "duration": 55,
    "start_time": "2024-05-16T19:59:52.358Z"
   },
   {
    "duration": 63,
    "start_time": "2024-05-16T20:00:10.215Z"
   },
   {
    "duration": 65,
    "start_time": "2024-05-16T20:00:33.039Z"
   },
   {
    "duration": 5,
    "start_time": "2024-05-16T20:00:52.758Z"
   },
   {
    "duration": 14,
    "start_time": "2024-05-16T20:01:06.703Z"
   },
   {
    "duration": 45,
    "start_time": "2024-05-16T20:03:19.619Z"
   },
   {
    "duration": 12,
    "start_time": "2024-05-16T20:11:58.379Z"
   },
   {
    "duration": 5,
    "start_time": "2024-05-16T20:12:05.384Z"
   },
   {
    "duration": 20,
    "start_time": "2024-05-16T20:21:09.031Z"
   },
   {
    "duration": 16,
    "start_time": "2024-05-16T20:21:46.803Z"
   },
   {
    "duration": 49,
    "start_time": "2024-05-17T18:30:11.719Z"
   },
   {
    "duration": 1285,
    "start_time": "2024-05-17T18:30:21.869Z"
   },
   {
    "duration": 109,
    "start_time": "2024-05-17T18:30:23.156Z"
   },
   {
    "duration": 162,
    "start_time": "2024-05-17T18:30:23.267Z"
   },
   {
    "duration": 75,
    "start_time": "2024-05-17T18:30:23.432Z"
   },
   {
    "duration": 12,
    "start_time": "2024-05-17T18:30:23.509Z"
   },
   {
    "duration": 154,
    "start_time": "2024-05-17T18:30:23.523Z"
   },
   {
    "duration": 123,
    "start_time": "2024-05-17T18:30:23.678Z"
   },
   {
    "duration": 41,
    "start_time": "2024-05-17T18:30:23.803Z"
   },
   {
    "duration": 27,
    "start_time": "2024-05-17T18:30:23.846Z"
   },
   {
    "duration": 51,
    "start_time": "2024-05-17T18:30:23.875Z"
   },
   {
    "duration": 47,
    "start_time": "2024-05-17T18:30:23.927Z"
   },
   {
    "duration": 24,
    "start_time": "2024-05-17T18:30:23.975Z"
   },
   {
    "duration": 46,
    "start_time": "2024-05-17T18:30:24.001Z"
   },
   {
    "duration": 41,
    "start_time": "2024-05-17T18:30:24.050Z"
   },
   {
    "duration": 22,
    "start_time": "2024-05-17T18:30:24.093Z"
   },
   {
    "duration": 175,
    "start_time": "2024-05-17T18:30:24.117Z"
   },
   {
    "duration": 110,
    "start_time": "2024-05-17T18:30:24.294Z"
   },
   {
    "duration": 97,
    "start_time": "2024-05-17T18:30:24.406Z"
   },
   {
    "duration": 248,
    "start_time": "2024-05-17T18:30:24.504Z"
   },
   {
    "duration": 7,
    "start_time": "2024-05-17T18:30:24.754Z"
   },
   {
    "duration": 195,
    "start_time": "2024-05-17T18:30:24.763Z"
   },
   {
    "duration": 8,
    "start_time": "2024-05-17T18:30:24.960Z"
   },
   {
    "duration": 297,
    "start_time": "2024-05-17T18:30:24.970Z"
   },
   {
    "duration": 10,
    "start_time": "2024-05-17T18:30:25.268Z"
   },
   {
    "duration": 753,
    "start_time": "2024-05-17T18:30:25.279Z"
   },
   {
    "duration": 8,
    "start_time": "2024-05-17T18:30:26.034Z"
   },
   {
    "duration": 814,
    "start_time": "2024-05-17T18:30:26.043Z"
   },
   {
    "duration": 26,
    "start_time": "2024-05-17T18:30:26.859Z"
   },
   {
    "duration": 43,
    "start_time": "2024-05-17T18:30:26.893Z"
   },
   {
    "duration": 82,
    "start_time": "2024-05-17T18:30:26.937Z"
   },
   {
    "duration": 21,
    "start_time": "2024-05-17T18:30:27.021Z"
   },
   {
    "duration": 247,
    "start_time": "2024-05-17T18:30:27.043Z"
   },
   {
    "duration": 7,
    "start_time": "2024-05-17T18:30:27.293Z"
   },
   {
    "duration": 22,
    "start_time": "2024-05-17T18:30:27.302Z"
   },
   {
    "duration": 256,
    "start_time": "2024-05-17T18:30:27.326Z"
   },
   {
    "duration": 12,
    "start_time": "2024-05-17T18:30:27.584Z"
   },
   {
    "duration": 30,
    "start_time": "2024-05-17T18:30:27.598Z"
   },
   {
    "duration": 82,
    "start_time": "2024-05-17T18:30:27.629Z"
   },
   {
    "duration": 43,
    "start_time": "2024-05-17T18:30:27.712Z"
   },
   {
    "duration": 49,
    "start_time": "2024-05-17T18:30:27.756Z"
   },
   {
    "duration": 22,
    "start_time": "2024-05-17T18:30:27.808Z"
   },
   {
    "duration": 31,
    "start_time": "2024-05-17T18:30:27.832Z"
   },
   {
    "duration": 5,
    "start_time": "2024-05-17T18:30:51.562Z"
   },
   {
    "duration": 5,
    "start_time": "2024-05-17T18:38:35.519Z"
   },
   {
    "duration": 6,
    "start_time": "2024-05-17T18:38:58.450Z"
   },
   {
    "duration": 90,
    "start_time": "2024-05-17T18:42:40.056Z"
   },
   {
    "duration": 9,
    "start_time": "2024-05-17T18:42:56.336Z"
   },
   {
    "duration": 1094,
    "start_time": "2024-05-17T18:43:05.115Z"
   },
   {
    "duration": 1032,
    "start_time": "2024-05-17T18:46:44.705Z"
   },
   {
    "duration": 1118,
    "start_time": "2024-05-17T18:47:00.934Z"
   },
   {
    "duration": 10,
    "start_time": "2024-05-17T18:47:38.886Z"
   },
   {
    "duration": 8,
    "start_time": "2024-05-17T18:49:18.902Z"
   },
   {
    "duration": 1152,
    "start_time": "2024-05-17T18:54:47.496Z"
   },
   {
    "duration": 35,
    "start_time": "2024-05-17T18:54:48.650Z"
   },
   {
    "duration": 37,
    "start_time": "2024-05-17T18:54:48.687Z"
   },
   {
    "duration": 23,
    "start_time": "2024-05-17T18:54:48.725Z"
   },
   {
    "duration": 11,
    "start_time": "2024-05-17T18:54:48.750Z"
   },
   {
    "duration": 31,
    "start_time": "2024-05-17T18:54:48.763Z"
   },
   {
    "duration": 15,
    "start_time": "2024-05-17T18:54:48.795Z"
   },
   {
    "duration": 30,
    "start_time": "2024-05-17T18:54:48.812Z"
   },
   {
    "duration": 14,
    "start_time": "2024-05-17T18:54:48.844Z"
   },
   {
    "duration": 11,
    "start_time": "2024-05-17T18:54:48.860Z"
   },
   {
    "duration": 7,
    "start_time": "2024-05-17T18:54:48.872Z"
   },
   {
    "duration": 5,
    "start_time": "2024-05-17T18:54:48.880Z"
   },
   {
    "duration": 7,
    "start_time": "2024-05-17T18:54:48.887Z"
   },
   {
    "duration": 11,
    "start_time": "2024-05-17T18:54:48.898Z"
   },
   {
    "duration": 13,
    "start_time": "2024-05-17T18:54:48.911Z"
   },
   {
    "duration": 19,
    "start_time": "2024-05-17T18:54:48.926Z"
   },
   {
    "duration": 26,
    "start_time": "2024-05-17T18:54:48.947Z"
   },
   {
    "duration": 32,
    "start_time": "2024-05-17T18:54:48.975Z"
   },
   {
    "duration": 254,
    "start_time": "2024-05-17T18:54:49.009Z"
   },
   {
    "duration": 7,
    "start_time": "2024-05-17T18:54:49.264Z"
   },
   {
    "duration": 215,
    "start_time": "2024-05-17T18:54:49.272Z"
   },
   {
    "duration": 8,
    "start_time": "2024-05-17T18:54:49.489Z"
   },
   {
    "duration": 230,
    "start_time": "2024-05-17T18:54:49.499Z"
   },
   {
    "duration": 8,
    "start_time": "2024-05-17T18:54:49.731Z"
   },
   {
    "duration": 701,
    "start_time": "2024-05-17T18:54:49.741Z"
   },
   {
    "duration": 8,
    "start_time": "2024-05-17T18:54:50.443Z"
   },
   {
    "duration": 892,
    "start_time": "2024-05-17T18:54:50.453Z"
   },
   {
    "duration": 25,
    "start_time": "2024-05-17T18:54:51.347Z"
   },
   {
    "duration": 24,
    "start_time": "2024-05-17T18:54:51.373Z"
   },
   {
    "duration": 39,
    "start_time": "2024-05-17T18:54:51.398Z"
   },
   {
    "duration": 27,
    "start_time": "2024-05-17T18:54:51.439Z"
   },
   {
    "duration": 214,
    "start_time": "2024-05-17T18:54:51.468Z"
   },
   {
    "duration": 13,
    "start_time": "2024-05-17T18:54:51.683Z"
   },
   {
    "duration": 37,
    "start_time": "2024-05-17T18:54:51.697Z"
   },
   {
    "duration": 278,
    "start_time": "2024-05-17T18:54:51.735Z"
   },
   {
    "duration": 8,
    "start_time": "2024-05-17T18:54:52.014Z"
   },
   {
    "duration": 57,
    "start_time": "2024-05-17T18:54:52.023Z"
   },
   {
    "duration": 55,
    "start_time": "2024-05-17T18:54:52.081Z"
   },
   {
    "duration": 5,
    "start_time": "2024-05-17T18:54:52.137Z"
   },
   {
    "duration": 49,
    "start_time": "2024-05-17T18:54:52.143Z"
   },
   {
    "duration": 27,
    "start_time": "2024-05-17T18:54:52.196Z"
   },
   {
    "duration": 53,
    "start_time": "2024-05-17T18:54:52.225Z"
   },
   {
    "duration": 42,
    "start_time": "2024-05-17T18:54:52.279Z"
   },
   {
    "duration": 82,
    "start_time": "2024-05-17T18:54:52.322Z"
   },
   {
    "duration": 1325,
    "start_time": "2024-05-17T19:47:46.236Z"
   },
   {
    "duration": 116,
    "start_time": "2024-05-17T19:47:47.563Z"
   },
   {
    "duration": 146,
    "start_time": "2024-05-17T19:47:47.681Z"
   },
   {
    "duration": 75,
    "start_time": "2024-05-17T19:47:47.829Z"
   },
   {
    "duration": 80,
    "start_time": "2024-05-17T19:47:47.906Z"
   },
   {
    "duration": 9,
    "start_time": "2024-05-17T19:47:47.988Z"
   },
   {
    "duration": 7,
    "start_time": "2024-05-17T19:47:47.998Z"
   },
   {
    "duration": 8,
    "start_time": "2024-05-17T19:47:48.007Z"
   },
   {
    "duration": 5,
    "start_time": "2024-05-17T19:47:48.016Z"
   },
   {
    "duration": 6,
    "start_time": "2024-05-17T19:47:48.022Z"
   },
   {
    "duration": 8,
    "start_time": "2024-05-17T19:47:48.029Z"
   },
   {
    "duration": 31,
    "start_time": "2024-05-17T19:47:48.039Z"
   },
   {
    "duration": 5,
    "start_time": "2024-05-17T19:47:48.072Z"
   },
   {
    "duration": 9,
    "start_time": "2024-05-17T19:47:48.080Z"
   },
   {
    "duration": 5,
    "start_time": "2024-05-17T19:47:48.090Z"
   },
   {
    "duration": 10,
    "start_time": "2024-05-17T19:47:48.097Z"
   },
   {
    "duration": 5,
    "start_time": "2024-05-17T19:47:48.109Z"
   },
   {
    "duration": 13,
    "start_time": "2024-05-17T19:47:48.115Z"
   },
   {
    "duration": 292,
    "start_time": "2024-05-17T19:47:48.129Z"
   },
   {
    "duration": 6,
    "start_time": "2024-05-17T19:47:48.423Z"
   },
   {
    "duration": 201,
    "start_time": "2024-05-17T19:47:48.431Z"
   },
   {
    "duration": 7,
    "start_time": "2024-05-17T19:47:48.634Z"
   },
   {
    "duration": 252,
    "start_time": "2024-05-17T19:47:48.642Z"
   },
   {
    "duration": 8,
    "start_time": "2024-05-17T19:47:48.895Z"
   },
   {
    "duration": 827,
    "start_time": "2024-05-17T19:47:48.905Z"
   },
   {
    "duration": 8,
    "start_time": "2024-05-17T19:47:49.733Z"
   },
   {
    "duration": 867,
    "start_time": "2024-05-17T19:47:49.743Z"
   },
   {
    "duration": 28,
    "start_time": "2024-05-17T19:47:50.612Z"
   },
   {
    "duration": 28,
    "start_time": "2024-05-17T19:47:50.641Z"
   },
   {
    "duration": 17,
    "start_time": "2024-05-17T19:47:50.671Z"
   },
   {
    "duration": 13,
    "start_time": "2024-05-17T19:47:50.690Z"
   },
   {
    "duration": 252,
    "start_time": "2024-05-17T19:47:50.705Z"
   },
   {
    "duration": 13,
    "start_time": "2024-05-17T19:47:50.959Z"
   },
   {
    "duration": 60,
    "start_time": "2024-05-17T19:47:50.974Z"
   },
   {
    "duration": 266,
    "start_time": "2024-05-17T19:47:51.035Z"
   },
   {
    "duration": 9,
    "start_time": "2024-05-17T19:47:51.302Z"
   },
   {
    "duration": 8,
    "start_time": "2024-05-17T19:47:51.312Z"
   },
   {
    "duration": 66,
    "start_time": "2024-05-17T19:47:51.321Z"
   },
   {
    "duration": 5,
    "start_time": "2024-05-17T19:47:51.389Z"
   },
   {
    "duration": 20,
    "start_time": "2024-05-17T19:47:51.396Z"
   },
   {
    "duration": 31,
    "start_time": "2024-05-17T19:47:51.420Z"
   },
   {
    "duration": 9,
    "start_time": "2024-05-17T19:47:51.452Z"
   },
   {
    "duration": 42,
    "start_time": "2024-05-17T19:47:51.463Z"
   },
   {
    "duration": 27,
    "start_time": "2024-05-17T19:47:51.507Z"
   },
   {
    "duration": 110,
    "start_time": "2024-05-17T20:41:00.986Z"
   },
   {
    "duration": 10,
    "start_time": "2024-05-17T20:41:06.097Z"
   },
   {
    "duration": 1118,
    "start_time": "2024-05-17T20:44:26.748Z"
   },
   {
    "duration": 38,
    "start_time": "2024-05-17T20:44:27.868Z"
   },
   {
    "duration": 36,
    "start_time": "2024-05-17T20:44:27.908Z"
   },
   {
    "duration": 22,
    "start_time": "2024-05-17T20:44:27.946Z"
   },
   {
    "duration": 12,
    "start_time": "2024-05-17T20:44:27.970Z"
   },
   {
    "duration": 33,
    "start_time": "2024-05-17T20:44:27.983Z"
   },
   {
    "duration": 15,
    "start_time": "2024-05-17T20:44:28.017Z"
   },
   {
    "duration": 50,
    "start_time": "2024-05-17T20:44:28.034Z"
   },
   {
    "duration": 29,
    "start_time": "2024-05-17T20:44:28.086Z"
   },
   {
    "duration": 166,
    "start_time": "2024-05-17T20:44:28.118Z"
   },
   {
    "duration": 15,
    "start_time": "2024-05-17T20:44:28.286Z"
   },
   {
    "duration": 6,
    "start_time": "2024-05-17T20:44:28.302Z"
   },
   {
    "duration": 9,
    "start_time": "2024-05-17T20:44:28.309Z"
   },
   {
    "duration": 8,
    "start_time": "2024-05-17T20:44:28.319Z"
   },
   {
    "duration": 13,
    "start_time": "2024-05-17T20:44:28.329Z"
   },
   {
    "duration": 15,
    "start_time": "2024-05-17T20:44:28.344Z"
   },
   {
    "duration": 10,
    "start_time": "2024-05-17T20:44:28.360Z"
   },
   {
    "duration": 16,
    "start_time": "2024-05-17T20:44:28.371Z"
   },
   {
    "duration": 246,
    "start_time": "2024-05-17T20:44:28.389Z"
   },
   {
    "duration": 7,
    "start_time": "2024-05-17T20:44:28.637Z"
   },
   {
    "duration": 173,
    "start_time": "2024-05-17T20:44:28.646Z"
   },
   {
    "duration": 8,
    "start_time": "2024-05-17T20:44:28.820Z"
   },
   {
    "duration": 257,
    "start_time": "2024-05-17T20:44:28.830Z"
   },
   {
    "duration": 8,
    "start_time": "2024-05-17T20:44:29.089Z"
   },
   {
    "duration": 814,
    "start_time": "2024-05-17T20:44:29.099Z"
   },
   {
    "duration": 10,
    "start_time": "2024-05-17T20:44:29.915Z"
   },
   {
    "duration": 878,
    "start_time": "2024-05-17T20:44:29.928Z"
   },
   {
    "duration": 26,
    "start_time": "2024-05-17T20:44:30.810Z"
   },
   {
    "duration": 71,
    "start_time": "2024-05-17T20:44:30.838Z"
   },
   {
    "duration": 69,
    "start_time": "2024-05-17T20:44:30.910Z"
   },
   {
    "duration": 113,
    "start_time": "2024-05-17T20:44:30.981Z"
   },
   {
    "duration": 436,
    "start_time": "2024-05-17T20:44:31.095Z"
   },
   {
    "duration": 110,
    "start_time": "2024-05-17T20:44:31.533Z"
   },
   {
    "duration": 60,
    "start_time": "2024-05-17T20:44:31.644Z"
   },
   {
    "duration": 353,
    "start_time": "2024-05-17T20:44:31.706Z"
   },
   {
    "duration": 9,
    "start_time": "2024-05-17T20:44:32.061Z"
   },
   {
    "duration": 7,
    "start_time": "2024-05-17T20:44:32.072Z"
   },
   {
    "duration": 46,
    "start_time": "2024-05-17T20:44:32.081Z"
   },
   {
    "duration": 5,
    "start_time": "2024-05-17T20:44:32.129Z"
   },
   {
    "duration": 34,
    "start_time": "2024-05-17T20:44:32.136Z"
   },
   {
    "duration": 11,
    "start_time": "2024-05-17T20:44:32.172Z"
   },
   {
    "duration": 6,
    "start_time": "2024-05-17T20:44:32.184Z"
   },
   {
    "duration": 11,
    "start_time": "2024-05-17T20:44:32.192Z"
   },
   {
    "duration": 18,
    "start_time": "2024-05-17T20:44:32.205Z"
   },
   {
    "duration": 1101,
    "start_time": "2024-05-17T20:45:35.926Z"
   },
   {
    "duration": 36,
    "start_time": "2024-05-17T20:45:37.030Z"
   },
   {
    "duration": 34,
    "start_time": "2024-05-17T20:45:37.068Z"
   },
   {
    "duration": 21,
    "start_time": "2024-05-17T20:45:37.104Z"
   },
   {
    "duration": 83,
    "start_time": "2024-05-17T20:45:37.127Z"
   },
   {
    "duration": 10,
    "start_time": "2024-05-17T20:45:37.212Z"
   },
   {
    "duration": 16,
    "start_time": "2024-05-17T20:45:37.223Z"
   },
   {
    "duration": 27,
    "start_time": "2024-05-17T20:45:37.241Z"
   },
   {
    "duration": 9,
    "start_time": "2024-05-17T20:45:37.270Z"
   },
   {
    "duration": 19,
    "start_time": "2024-05-17T20:45:37.282Z"
   },
   {
    "duration": 69,
    "start_time": "2024-05-17T20:45:37.302Z"
   },
   {
    "duration": 11,
    "start_time": "2024-05-17T20:45:37.373Z"
   },
   {
    "duration": 19,
    "start_time": "2024-05-17T20:45:37.386Z"
   },
   {
    "duration": 19,
    "start_time": "2024-05-17T20:45:37.406Z"
   },
   {
    "duration": 44,
    "start_time": "2024-05-17T20:45:37.426Z"
   },
   {
    "duration": 14,
    "start_time": "2024-05-17T20:45:37.472Z"
   },
   {
    "duration": 5,
    "start_time": "2024-05-17T20:45:37.488Z"
   },
   {
    "duration": 10,
    "start_time": "2024-05-17T20:45:37.495Z"
   },
   {
    "duration": 261,
    "start_time": "2024-05-17T20:45:37.507Z"
   },
   {
    "duration": 7,
    "start_time": "2024-05-17T20:45:37.770Z"
   },
   {
    "duration": 165,
    "start_time": "2024-05-17T20:45:37.778Z"
   },
   {
    "duration": 8,
    "start_time": "2024-05-17T20:45:37.944Z"
   },
   {
    "duration": 218,
    "start_time": "2024-05-17T20:45:37.953Z"
   },
   {
    "duration": 8,
    "start_time": "2024-05-17T20:45:38.173Z"
   },
   {
    "duration": 805,
    "start_time": "2024-05-17T20:45:38.182Z"
   },
   {
    "duration": 8,
    "start_time": "2024-05-17T20:45:38.989Z"
   },
   {
    "duration": 757,
    "start_time": "2024-05-17T20:45:38.999Z"
   },
   {
    "duration": 27,
    "start_time": "2024-05-17T20:45:39.760Z"
   },
   {
    "duration": 132,
    "start_time": "2024-05-17T20:45:39.789Z"
   },
   {
    "duration": 34,
    "start_time": "2024-05-17T20:45:39.923Z"
   },
   {
    "duration": 17,
    "start_time": "2024-05-17T20:45:39.958Z"
   },
   {
    "duration": 244,
    "start_time": "2024-05-17T20:45:39.977Z"
   },
   {
    "duration": 10,
    "start_time": "2024-05-17T20:45:40.223Z"
   },
   {
    "duration": 39,
    "start_time": "2024-05-17T20:45:40.234Z"
   },
   {
    "duration": 232,
    "start_time": "2024-05-17T20:45:40.274Z"
   },
   {
    "duration": 7,
    "start_time": "2024-05-17T20:45:40.508Z"
   },
   {
    "duration": 126,
    "start_time": "2024-05-17T20:45:40.516Z"
   },
   {
    "duration": 49,
    "start_time": "2024-05-17T20:45:40.644Z"
   },
   {
    "duration": 86,
    "start_time": "2024-05-17T20:45:40.694Z"
   },
   {
    "duration": 28,
    "start_time": "2024-05-17T20:45:40.782Z"
   },
   {
    "duration": 15,
    "start_time": "2024-05-17T20:45:40.812Z"
   },
   {
    "duration": 5,
    "start_time": "2024-05-17T20:45:40.829Z"
   },
   {
    "duration": 5,
    "start_time": "2024-05-17T20:45:40.835Z"
   },
   {
    "duration": 9,
    "start_time": "2024-05-17T20:45:40.841Z"
   },
   {
    "duration": 104,
    "start_time": "2024-05-21T11:25:27.030Z"
   },
   {
    "duration": 94,
    "start_time": "2024-05-21T11:29:17.675Z"
   },
   {
    "duration": 72,
    "start_time": "2024-05-21T11:39:21.835Z"
   },
   {
    "duration": 49,
    "start_time": "2024-05-21T12:00:05.382Z"
   },
   {
    "duration": 1295,
    "start_time": "2024-05-21T12:00:12.617Z"
   },
   {
    "duration": 84,
    "start_time": "2024-05-21T12:00:13.914Z"
   },
   {
    "duration": 85,
    "start_time": "2024-05-21T12:00:13.999Z"
   },
   {
    "duration": 67,
    "start_time": "2024-05-21T12:00:14.086Z"
   },
   {
    "duration": 12,
    "start_time": "2024-05-21T12:00:14.154Z"
   },
   {
    "duration": 12,
    "start_time": "2024-05-21T12:00:14.168Z"
   },
   {
    "duration": 17,
    "start_time": "2024-05-21T12:00:14.181Z"
   },
   {
    "duration": 15,
    "start_time": "2024-05-21T12:00:14.200Z"
   },
   {
    "duration": 24,
    "start_time": "2024-05-21T12:00:14.217Z"
   },
   {
    "duration": 33,
    "start_time": "2024-05-21T12:00:14.243Z"
   },
   {
    "duration": 10,
    "start_time": "2024-05-21T12:00:14.278Z"
   },
   {
    "duration": 41,
    "start_time": "2024-05-21T12:00:14.290Z"
   },
   {
    "duration": 15,
    "start_time": "2024-05-21T12:00:14.332Z"
   },
   {
    "duration": 26,
    "start_time": "2024-05-21T12:00:14.348Z"
   },
   {
    "duration": 22,
    "start_time": "2024-05-21T12:00:14.376Z"
   },
   {
    "duration": 20,
    "start_time": "2024-05-21T12:00:14.400Z"
   },
   {
    "duration": 28,
    "start_time": "2024-05-21T12:00:14.422Z"
   },
   {
    "duration": 6,
    "start_time": "2024-05-21T12:00:14.452Z"
   },
   {
    "duration": 23,
    "start_time": "2024-05-21T12:00:14.460Z"
   },
   {
    "duration": 246,
    "start_time": "2024-05-21T12:00:14.485Z"
   },
   {
    "duration": 12,
    "start_time": "2024-05-21T12:00:14.733Z"
   },
   {
    "duration": 155,
    "start_time": "2024-05-21T12:00:14.746Z"
   },
   {
    "duration": 8,
    "start_time": "2024-05-21T12:00:14.902Z"
   },
   {
    "duration": 229,
    "start_time": "2024-05-21T12:00:14.912Z"
   },
   {
    "duration": 8,
    "start_time": "2024-05-21T12:00:15.145Z"
   },
   {
    "duration": 758,
    "start_time": "2024-05-21T12:00:15.155Z"
   },
   {
    "duration": 10,
    "start_time": "2024-05-21T12:00:15.915Z"
   },
   {
    "duration": 813,
    "start_time": "2024-05-21T12:00:15.945Z"
   },
   {
    "duration": 30,
    "start_time": "2024-05-21T12:00:16.760Z"
   },
   {
    "duration": 15,
    "start_time": "2024-05-21T12:00:16.791Z"
   },
   {
    "duration": 42,
    "start_time": "2024-05-21T12:00:16.808Z"
   },
   {
    "duration": 15,
    "start_time": "2024-05-21T12:00:16.851Z"
   },
   {
    "duration": 250,
    "start_time": "2024-05-21T12:00:16.867Z"
   },
   {
    "duration": 8,
    "start_time": "2024-05-21T12:00:17.119Z"
   },
   {
    "duration": 20,
    "start_time": "2024-05-21T12:00:17.128Z"
   },
   {
    "duration": 285,
    "start_time": "2024-05-21T12:00:17.149Z"
   },
   {
    "duration": 12,
    "start_time": "2024-05-21T12:00:17.435Z"
   },
   {
    "duration": 63,
    "start_time": "2024-05-21T12:00:17.449Z"
   },
   {
    "duration": 75,
    "start_time": "2024-05-21T12:00:17.514Z"
   },
   {
    "duration": 5,
    "start_time": "2024-05-21T12:00:17.590Z"
   },
   {
    "duration": 10,
    "start_time": "2024-05-21T12:00:17.596Z"
   },
   {
    "duration": 15,
    "start_time": "2024-05-21T12:00:17.607Z"
   },
   {
    "duration": 6,
    "start_time": "2024-05-21T12:00:17.623Z"
   },
   {
    "duration": 10,
    "start_time": "2024-05-21T12:00:17.644Z"
   },
   {
    "duration": 17,
    "start_time": "2024-05-21T12:00:17.657Z"
   },
   {
    "duration": 10,
    "start_time": "2024-05-21T12:00:44.275Z"
   },
   {
    "duration": 64,
    "start_time": "2024-05-21T12:01:35.271Z"
   },
   {
    "duration": 64,
    "start_time": "2024-05-21T12:01:40.073Z"
   },
   {
    "duration": 58,
    "start_time": "2024-05-21T12:03:42.960Z"
   },
   {
    "duration": 200,
    "start_time": "2024-05-21T12:03:49.964Z"
   },
   {
    "duration": 249,
    "start_time": "2024-05-21T12:04:03.564Z"
   },
   {
    "duration": 174,
    "start_time": "2024-05-21T12:04:16.860Z"
   },
   {
    "duration": 169,
    "start_time": "2024-05-21T12:08:15.766Z"
   },
   {
    "duration": 183,
    "start_time": "2024-05-21T12:08:21.846Z"
   },
   {
    "duration": 210,
    "start_time": "2024-05-21T12:08:32.558Z"
   },
   {
    "duration": 105,
    "start_time": "2024-05-21T12:08:36.918Z"
   },
   {
    "duration": 180,
    "start_time": "2024-05-21T12:08:43.032Z"
   },
   {
    "duration": 60,
    "start_time": "2024-05-21T12:15:48.471Z"
   },
   {
    "duration": 58,
    "start_time": "2024-05-21T12:15:59.150Z"
   },
   {
    "duration": 158,
    "start_time": "2024-05-21T12:16:09.663Z"
   },
   {
    "duration": 64,
    "start_time": "2024-05-21T12:16:45.648Z"
   },
   {
    "duration": 168,
    "start_time": "2024-05-21T12:17:57.400Z"
   },
   {
    "duration": 153,
    "start_time": "2024-05-21T12:19:32.402Z"
   },
   {
    "duration": 78,
    "start_time": "2024-05-21T12:19:58.698Z"
   },
   {
    "duration": 94,
    "start_time": "2024-05-21T12:30:40.083Z"
   },
   {
    "duration": 12,
    "start_time": "2024-05-21T12:30:46.682Z"
   },
   {
    "duration": 460,
    "start_time": "2024-05-21T12:31:00.699Z"
   },
   {
    "duration": 350,
    "start_time": "2024-05-21T12:31:08.427Z"
   },
   {
    "duration": 678,
    "start_time": "2024-05-21T12:31:21.955Z"
   },
   {
    "duration": 9,
    "start_time": "2024-05-21T12:33:26.420Z"
   },
   {
    "duration": 12,
    "start_time": "2024-05-21T12:33:30.043Z"
   },
   {
    "duration": 20,
    "start_time": "2024-05-21T12:34:00.949Z"
   },
   {
    "duration": 238,
    "start_time": "2024-05-21T12:34:11.156Z"
   },
   {
    "duration": 9,
    "start_time": "2024-05-21T12:35:56.950Z"
   },
   {
    "duration": 3,
    "start_time": "2024-05-21T12:52:39.342Z"
   },
   {
    "duration": 5,
    "start_time": "2024-05-21T12:52:47.022Z"
   },
   {
    "duration": 5,
    "start_time": "2024-05-21T12:53:14.342Z"
   },
   {
    "duration": 5,
    "start_time": "2024-05-21T12:53:57.480Z"
   },
   {
    "duration": 11,
    "start_time": "2024-05-21T12:54:30.849Z"
   },
   {
    "duration": 18,
    "start_time": "2024-05-21T12:54:37.696Z"
   },
   {
    "duration": 255,
    "start_time": "2024-05-21T12:55:18.414Z"
   },
   {
    "duration": 225,
    "start_time": "2024-05-21T12:55:27.537Z"
   },
   {
    "duration": 200,
    "start_time": "2024-05-21T12:55:33.745Z"
   },
   {
    "duration": 313,
    "start_time": "2024-05-21T12:56:48.211Z"
   },
   {
    "duration": 190,
    "start_time": "2024-05-21T12:57:18.595Z"
   },
   {
    "duration": 209,
    "start_time": "2024-05-21T12:57:38.283Z"
   },
   {
    "duration": 212,
    "start_time": "2024-05-21T12:57:51.851Z"
   },
   {
    "duration": 206,
    "start_time": "2024-05-21T12:58:23.868Z"
   },
   {
    "duration": 204,
    "start_time": "2024-05-21T12:58:58.361Z"
   },
   {
    "duration": 227,
    "start_time": "2024-05-21T12:59:33.397Z"
   },
   {
    "duration": 229,
    "start_time": "2024-05-21T13:00:13.990Z"
   },
   {
    "duration": 831,
    "start_time": "2024-05-21T13:01:27.406Z"
   },
   {
    "duration": 740,
    "start_time": "2024-05-21T13:02:19.576Z"
   },
   {
    "duration": 15,
    "start_time": "2024-05-21T13:03:19.745Z"
   },
   {
    "duration": 15,
    "start_time": "2024-05-21T13:03:43.320Z"
   },
   {
    "duration": 76,
    "start_time": "2024-05-21T13:04:29.094Z"
   },
   {
    "duration": 281,
    "start_time": "2024-05-21T13:08:23.445Z"
   },
   {
    "duration": 386,
    "start_time": "2024-05-21T13:08:44.165Z"
   },
   {
    "duration": 241,
    "start_time": "2024-05-21T13:08:52.677Z"
   },
   {
    "duration": 272,
    "start_time": "2024-05-21T13:10:18.166Z"
   },
   {
    "duration": 3,
    "start_time": "2024-05-21T13:10:22.622Z"
   },
   {
    "duration": 41,
    "start_time": "2024-05-21T13:10:24.587Z"
   },
   {
    "duration": 6,
    "start_time": "2024-05-21T13:10:27.269Z"
   },
   {
    "duration": 5,
    "start_time": "2024-05-21T13:10:32.237Z"
   },
   {
    "duration": 63,
    "start_time": "2024-05-21T13:10:54.956Z"
   },
   {
    "duration": 1095,
    "start_time": "2024-05-21T13:19:42.540Z"
   },
   {
    "duration": 42,
    "start_time": "2024-05-21T13:19:43.637Z"
   },
   {
    "duration": 35,
    "start_time": "2024-05-21T13:19:43.681Z"
   },
   {
    "duration": 21,
    "start_time": "2024-05-21T13:19:43.718Z"
   },
   {
    "duration": 17,
    "start_time": "2024-05-21T13:19:43.741Z"
   },
   {
    "duration": 12,
    "start_time": "2024-05-21T13:19:43.760Z"
   },
   {
    "duration": 8,
    "start_time": "2024-05-21T13:19:43.774Z"
   },
   {
    "duration": 14,
    "start_time": "2024-05-21T13:19:43.784Z"
   },
   {
    "duration": 5,
    "start_time": "2024-05-21T13:19:43.800Z"
   },
   {
    "duration": 4,
    "start_time": "2024-05-21T13:19:43.807Z"
   },
   {
    "duration": 9,
    "start_time": "2024-05-21T13:19:43.813Z"
   },
   {
    "duration": 25,
    "start_time": "2024-05-21T13:19:43.823Z"
   },
   {
    "duration": 16,
    "start_time": "2024-05-21T13:19:43.849Z"
   },
   {
    "duration": 10,
    "start_time": "2024-05-21T13:19:43.867Z"
   },
   {
    "duration": 9,
    "start_time": "2024-05-21T13:19:43.879Z"
   },
   {
    "duration": 8,
    "start_time": "2024-05-21T13:19:43.890Z"
   },
   {
    "duration": 4,
    "start_time": "2024-05-21T13:19:43.900Z"
   },
   {
    "duration": 9,
    "start_time": "2024-05-21T13:19:43.906Z"
   },
   {
    "duration": 32,
    "start_time": "2024-05-21T13:19:43.916Z"
   },
   {
    "duration": 8,
    "start_time": "2024-05-21T13:19:43.950Z"
   },
   {
    "duration": 214,
    "start_time": "2024-05-21T13:19:43.959Z"
   },
   {
    "duration": 7,
    "start_time": "2024-05-21T13:19:44.175Z"
   },
   {
    "duration": 174,
    "start_time": "2024-05-21T13:19:44.184Z"
   },
   {
    "duration": 7,
    "start_time": "2024-05-21T13:19:44.360Z"
   },
   {
    "duration": 236,
    "start_time": "2024-05-21T13:19:44.368Z"
   },
   {
    "duration": 8,
    "start_time": "2024-05-21T13:19:44.606Z"
   },
   {
    "duration": 716,
    "start_time": "2024-05-21T13:19:44.615Z"
   },
   {
    "duration": 12,
    "start_time": "2024-05-21T13:19:45.334Z"
   },
   {
    "duration": 799,
    "start_time": "2024-05-21T13:19:45.348Z"
   },
   {
    "duration": 238,
    "start_time": "2024-05-21T13:19:46.149Z"
   },
   {
    "duration": 26,
    "start_time": "2024-05-21T13:19:46.389Z"
   },
   {
    "duration": 34,
    "start_time": "2024-05-21T13:19:46.416Z"
   },
   {
    "duration": 9,
    "start_time": "2024-05-21T13:19:46.451Z"
   },
   {
    "duration": 18,
    "start_time": "2024-05-21T13:19:46.462Z"
   },
   {
    "duration": 16,
    "start_time": "2024-05-21T13:19:46.486Z"
   },
   {
    "duration": 14,
    "start_time": "2024-05-21T13:19:46.504Z"
   },
   {
    "duration": 237,
    "start_time": "2024-05-21T13:19:46.546Z"
   },
   {
    "duration": 8,
    "start_time": "2024-05-21T13:19:46.784Z"
   },
   {
    "duration": 8,
    "start_time": "2024-05-21T13:19:46.794Z"
   },
   {
    "duration": 262,
    "start_time": "2024-05-21T13:19:46.803Z"
   },
   {
    "duration": 7,
    "start_time": "2024-05-21T13:19:47.067Z"
   },
   {
    "duration": 34,
    "start_time": "2024-05-21T13:19:47.075Z"
   },
   {
    "duration": 13,
    "start_time": "2024-05-21T13:19:47.111Z"
   },
   {
    "duration": 158,
    "start_time": "2024-05-21T13:19:47.126Z"
   },
   {
    "duration": 4,
    "start_time": "2024-05-21T13:19:47.286Z"
   },
   {
    "duration": 14,
    "start_time": "2024-05-21T13:19:47.292Z"
   },
   {
    "duration": 24,
    "start_time": "2024-05-21T13:19:47.308Z"
   },
   {
    "duration": 9,
    "start_time": "2024-05-21T13:19:47.333Z"
   },
   {
    "duration": 28,
    "start_time": "2024-05-21T13:19:47.344Z"
   },
   {
    "duration": 1350,
    "start_time": "2024-05-21T17:56:30.732Z"
   },
   {
    "duration": 86,
    "start_time": "2024-05-21T17:56:32.084Z"
   },
   {
    "duration": 98,
    "start_time": "2024-05-21T17:56:32.172Z"
   },
   {
    "duration": 68,
    "start_time": "2024-05-21T17:56:32.273Z"
   },
   {
    "duration": 16,
    "start_time": "2024-05-21T17:56:32.343Z"
   },
   {
    "duration": 9,
    "start_time": "2024-05-21T17:56:32.360Z"
   },
   {
    "duration": 9,
    "start_time": "2024-05-21T17:56:32.371Z"
   },
   {
    "duration": 8,
    "start_time": "2024-05-21T17:56:32.382Z"
   },
   {
    "duration": 5,
    "start_time": "2024-05-21T17:56:32.392Z"
   },
   {
    "duration": 5,
    "start_time": "2024-05-21T17:56:32.401Z"
   },
   {
    "duration": 15,
    "start_time": "2024-05-21T17:56:32.408Z"
   },
   {
    "duration": 34,
    "start_time": "2024-05-21T17:56:32.425Z"
   },
   {
    "duration": 11,
    "start_time": "2024-05-21T17:56:32.461Z"
   },
   {
    "duration": 5,
    "start_time": "2024-05-21T17:56:32.474Z"
   },
   {
    "duration": 7,
    "start_time": "2024-05-21T17:56:32.480Z"
   },
   {
    "duration": 9,
    "start_time": "2024-05-21T17:56:32.488Z"
   },
   {
    "duration": 5,
    "start_time": "2024-05-21T17:56:32.498Z"
   },
   {
    "duration": 9,
    "start_time": "2024-05-21T17:56:32.504Z"
   },
   {
    "duration": 4,
    "start_time": "2024-05-21T17:56:32.514Z"
   },
   {
    "duration": 9,
    "start_time": "2024-05-21T17:56:32.555Z"
   },
   {
    "duration": 216,
    "start_time": "2024-05-21T17:56:32.566Z"
   },
   {
    "duration": 7,
    "start_time": "2024-05-21T17:56:32.783Z"
   },
   {
    "duration": 173,
    "start_time": "2024-05-21T17:56:32.791Z"
   },
   {
    "duration": 6,
    "start_time": "2024-05-21T17:56:32.966Z"
   },
   {
    "duration": 235,
    "start_time": "2024-05-21T17:56:32.974Z"
   },
   {
    "duration": 8,
    "start_time": "2024-05-21T17:56:33.211Z"
   },
   {
    "duration": 705,
    "start_time": "2024-05-21T17:56:33.220Z"
   },
   {
    "duration": 29,
    "start_time": "2024-05-21T17:56:33.928Z"
   },
   {
    "duration": 760,
    "start_time": "2024-05-21T17:56:33.959Z"
   },
   {
    "duration": 265,
    "start_time": "2024-05-21T17:56:34.720Z"
   },
   {
    "duration": 24,
    "start_time": "2024-05-21T17:56:34.986Z"
   },
   {
    "duration": 12,
    "start_time": "2024-05-21T17:56:35.012Z"
   },
   {
    "duration": 32,
    "start_time": "2024-05-21T17:56:35.025Z"
   },
   {
    "duration": 13,
    "start_time": "2024-05-21T17:56:35.058Z"
   },
   {
    "duration": 32,
    "start_time": "2024-05-21T17:56:35.073Z"
   },
   {
    "duration": 29,
    "start_time": "2024-05-21T17:56:35.106Z"
   },
   {
    "duration": 243,
    "start_time": "2024-05-21T17:56:35.137Z"
   },
   {
    "duration": 9,
    "start_time": "2024-05-21T17:56:35.382Z"
   },
   {
    "duration": 8,
    "start_time": "2024-05-21T17:56:35.392Z"
   },
   {
    "duration": 267,
    "start_time": "2024-05-21T17:56:35.402Z"
   },
   {
    "duration": 9,
    "start_time": "2024-05-21T17:56:35.671Z"
   },
   {
    "duration": 9,
    "start_time": "2024-05-21T17:56:35.682Z"
   },
   {
    "duration": 7,
    "start_time": "2024-05-21T17:56:35.693Z"
   },
   {
    "duration": 157,
    "start_time": "2024-05-21T17:56:35.701Z"
   },
   {
    "duration": 5,
    "start_time": "2024-05-21T17:56:35.860Z"
   },
   {
    "duration": 13,
    "start_time": "2024-05-21T17:56:35.867Z"
   },
   {
    "duration": 12,
    "start_time": "2024-05-21T17:56:35.881Z"
   },
   {
    "duration": 23,
    "start_time": "2024-05-21T17:56:35.895Z"
   },
   {
    "duration": 8,
    "start_time": "2024-05-21T17:56:35.920Z"
   },
   {
    "duration": 15,
    "start_time": "2024-05-21T19:02:30.272Z"
   },
   {
    "duration": 1081,
    "start_time": "2024-05-21T19:07:42.852Z"
   },
   {
    "duration": 38,
    "start_time": "2024-05-21T19:07:43.935Z"
   },
   {
    "duration": 36,
    "start_time": "2024-05-21T19:07:43.974Z"
   },
   {
    "duration": 20,
    "start_time": "2024-05-21T19:07:44.012Z"
   },
   {
    "duration": 12,
    "start_time": "2024-05-21T19:07:44.034Z"
   },
   {
    "duration": 45,
    "start_time": "2024-05-21T19:07:44.048Z"
   },
   {
    "duration": 36,
    "start_time": "2024-05-21T19:07:44.094Z"
   },
   {
    "duration": 58,
    "start_time": "2024-05-21T19:07:44.132Z"
   },
   {
    "duration": 24,
    "start_time": "2024-05-21T19:07:44.191Z"
   },
   {
    "duration": 25,
    "start_time": "2024-05-21T19:07:44.218Z"
   },
   {
    "duration": 25,
    "start_time": "2024-05-21T19:07:44.245Z"
   },
   {
    "duration": 21,
    "start_time": "2024-05-21T19:07:44.272Z"
   },
   {
    "duration": 25,
    "start_time": "2024-05-21T19:07:44.295Z"
   },
   {
    "duration": 26,
    "start_time": "2024-05-21T19:07:44.322Z"
   },
   {
    "duration": 40,
    "start_time": "2024-05-21T19:07:44.349Z"
   },
   {
    "duration": 33,
    "start_time": "2024-05-21T19:07:44.390Z"
   },
   {
    "duration": 31,
    "start_time": "2024-05-21T19:07:44.424Z"
   },
   {
    "duration": 30,
    "start_time": "2024-05-21T19:07:44.457Z"
   },
   {
    "duration": 23,
    "start_time": "2024-05-21T19:07:44.488Z"
   },
   {
    "duration": 24,
    "start_time": "2024-05-21T19:07:44.512Z"
   },
   {
    "duration": 210,
    "start_time": "2024-05-21T19:07:44.537Z"
   },
   {
    "duration": 9,
    "start_time": "2024-05-21T19:07:44.748Z"
   },
   {
    "duration": 169,
    "start_time": "2024-05-21T19:07:44.759Z"
   },
   {
    "duration": 7,
    "start_time": "2024-05-21T19:07:44.930Z"
   },
   {
    "duration": 264,
    "start_time": "2024-05-21T19:07:44.938Z"
   },
   {
    "duration": 8,
    "start_time": "2024-05-21T19:07:45.204Z"
   },
   {
    "duration": 781,
    "start_time": "2024-05-21T19:07:45.214Z"
   },
   {
    "duration": 8,
    "start_time": "2024-05-21T19:07:45.999Z"
   },
   {
    "duration": 763,
    "start_time": "2024-05-21T19:07:46.008Z"
   },
   {
    "duration": 242,
    "start_time": "2024-05-21T19:07:46.773Z"
   },
   {
    "duration": 30,
    "start_time": "2024-05-21T19:07:47.017Z"
   },
   {
    "duration": 15,
    "start_time": "2024-05-21T19:07:47.057Z"
   },
   {
    "duration": 19,
    "start_time": "2024-05-21T19:07:47.074Z"
   },
   {
    "duration": 14,
    "start_time": "2024-05-21T19:07:47.095Z"
   },
   {
    "duration": 28,
    "start_time": "2024-05-21T19:07:47.111Z"
   },
   {
    "duration": 27,
    "start_time": "2024-05-21T19:07:47.141Z"
   },
   {
    "duration": 231,
    "start_time": "2024-05-21T19:07:47.170Z"
   },
   {
    "duration": 9,
    "start_time": "2024-05-21T19:07:47.403Z"
   },
   {
    "duration": 10,
    "start_time": "2024-05-21T19:07:47.413Z"
   },
   {
    "duration": 251,
    "start_time": "2024-05-21T19:07:47.425Z"
   },
   {
    "duration": 7,
    "start_time": "2024-05-21T19:07:47.678Z"
   },
   {
    "duration": 11,
    "start_time": "2024-05-21T19:07:47.687Z"
   },
   {
    "duration": 13,
    "start_time": "2024-05-21T19:07:47.699Z"
   },
   {
    "duration": 143,
    "start_time": "2024-05-21T19:07:47.714Z"
   },
   {
    "duration": 4,
    "start_time": "2024-05-21T19:07:47.859Z"
   },
   {
    "duration": 12,
    "start_time": "2024-05-21T19:07:47.865Z"
   },
   {
    "duration": 22,
    "start_time": "2024-05-21T19:07:47.879Z"
   },
   {
    "duration": 11,
    "start_time": "2024-05-21T19:07:47.903Z"
   },
   {
    "duration": 35,
    "start_time": "2024-05-21T19:07:47.915Z"
   },
   {
    "duration": 60,
    "start_time": "2024-05-22T07:25:55.091Z"
   },
   {
    "duration": 1267,
    "start_time": "2024-05-22T07:26:09.245Z"
   },
   {
    "duration": 80,
    "start_time": "2024-05-22T07:26:10.514Z"
   },
   {
    "duration": 79,
    "start_time": "2024-05-22T07:26:10.595Z"
   },
   {
    "duration": 63,
    "start_time": "2024-05-22T07:26:10.676Z"
   },
   {
    "duration": 11,
    "start_time": "2024-05-22T07:26:10.740Z"
   },
   {
    "duration": 24,
    "start_time": "2024-05-22T07:26:10.752Z"
   },
   {
    "duration": 6,
    "start_time": "2024-05-22T07:26:10.778Z"
   },
   {
    "duration": 8,
    "start_time": "2024-05-22T07:26:10.785Z"
   },
   {
    "duration": 5,
    "start_time": "2024-05-22T07:26:10.794Z"
   },
   {
    "duration": 4,
    "start_time": "2024-05-22T07:26:10.802Z"
   },
   {
    "duration": 8,
    "start_time": "2024-05-22T07:26:10.807Z"
   },
   {
    "duration": 5,
    "start_time": "2024-05-22T07:26:10.817Z"
   },
   {
    "duration": 26,
    "start_time": "2024-05-22T07:26:10.823Z"
   },
   {
    "duration": 5,
    "start_time": "2024-05-22T07:26:10.850Z"
   },
   {
    "duration": 6,
    "start_time": "2024-05-22T07:26:10.856Z"
   },
   {
    "duration": 7,
    "start_time": "2024-05-22T07:26:10.863Z"
   },
   {
    "duration": 4,
    "start_time": "2024-05-22T07:26:10.872Z"
   },
   {
    "duration": 26,
    "start_time": "2024-05-22T07:26:10.877Z"
   },
   {
    "duration": 8,
    "start_time": "2024-05-22T07:26:10.905Z"
   },
   {
    "duration": 8,
    "start_time": "2024-05-22T07:26:10.915Z"
   },
   {
    "duration": 217,
    "start_time": "2024-05-22T07:26:10.925Z"
   },
   {
    "duration": 12,
    "start_time": "2024-05-22T07:26:11.143Z"
   },
   {
    "duration": 6,
    "start_time": "2024-05-22T07:26:11.156Z"
   },
   {
    "duration": 176,
    "start_time": "2024-05-22T07:26:11.164Z"
   },
   {
    "duration": 7,
    "start_time": "2024-05-22T07:26:11.341Z"
   },
   {
    "duration": 251,
    "start_time": "2024-05-22T07:26:11.349Z"
   },
   {
    "duration": 10,
    "start_time": "2024-05-22T07:26:11.602Z"
   },
   {
    "duration": 627,
    "start_time": "2024-05-22T07:26:11.616Z"
   },
   {
    "duration": 8,
    "start_time": "2024-05-22T07:26:12.244Z"
   },
   {
    "duration": 662,
    "start_time": "2024-05-22T07:26:12.253Z"
   },
   {
    "duration": 240,
    "start_time": "2024-05-22T07:26:12.916Z"
   },
   {
    "duration": 23,
    "start_time": "2024-05-22T07:26:13.158Z"
   },
   {
    "duration": 11,
    "start_time": "2024-05-22T07:26:13.182Z"
   },
   {
    "duration": 7,
    "start_time": "2024-05-22T07:26:13.212Z"
   },
   {
    "duration": 12,
    "start_time": "2024-05-22T07:26:13.220Z"
   },
   {
    "duration": 18,
    "start_time": "2024-05-22T07:26:13.234Z"
   },
   {
    "duration": 12,
    "start_time": "2024-05-22T07:26:13.253Z"
   },
   {
    "duration": 242,
    "start_time": "2024-05-22T07:26:13.266Z"
   },
   {
    "duration": 7,
    "start_time": "2024-05-22T07:26:13.512Z"
   },
   {
    "duration": 7,
    "start_time": "2024-05-22T07:26:13.521Z"
   },
   {
    "duration": 257,
    "start_time": "2024-05-22T07:26:13.529Z"
   },
   {
    "duration": 8,
    "start_time": "2024-05-22T07:26:13.788Z"
   },
   {
    "duration": 18,
    "start_time": "2024-05-22T07:26:13.797Z"
   },
   {
    "duration": 4,
    "start_time": "2024-05-22T07:26:13.816Z"
   },
   {
    "duration": 117,
    "start_time": "2024-05-22T07:26:13.821Z"
   },
   {
    "duration": 5,
    "start_time": "2024-05-22T07:26:13.939Z"
   },
   {
    "duration": 13,
    "start_time": "2024-05-22T07:26:13.945Z"
   },
   {
    "duration": 5,
    "start_time": "2024-05-22T07:26:13.959Z"
   },
   {
    "duration": 5,
    "start_time": "2024-05-22T07:26:13.965Z"
   },
   {
    "duration": 7,
    "start_time": "2024-05-22T07:26:13.971Z"
   },
   {
    "duration": 59,
    "start_time": "2024-05-22T07:27:59.230Z"
   },
   {
    "duration": 4,
    "start_time": "2024-05-22T08:52:11.276Z"
   },
   {
    "duration": 60,
    "start_time": "2024-05-22T08:52:29.793Z"
   },
   {
    "duration": 1053,
    "start_time": "2024-05-22T08:53:48.182Z"
   },
   {
    "duration": 35,
    "start_time": "2024-05-22T08:53:49.237Z"
   },
   {
    "duration": 32,
    "start_time": "2024-05-22T08:53:49.274Z"
   },
   {
    "duration": 20,
    "start_time": "2024-05-22T08:53:49.308Z"
   },
   {
    "duration": 10,
    "start_time": "2024-05-22T08:53:49.329Z"
   },
   {
    "duration": 10,
    "start_time": "2024-05-22T08:53:49.341Z"
   },
   {
    "duration": 7,
    "start_time": "2024-05-22T08:53:49.352Z"
   },
   {
    "duration": 6,
    "start_time": "2024-05-22T08:53:49.361Z"
   },
   {
    "duration": 4,
    "start_time": "2024-05-22T08:53:49.368Z"
   },
   {
    "duration": 4,
    "start_time": "2024-05-22T08:53:49.374Z"
   },
   {
    "duration": 8,
    "start_time": "2024-05-22T08:53:49.379Z"
   },
   {
    "duration": 27,
    "start_time": "2024-05-22T08:53:49.388Z"
   },
   {
    "duration": 6,
    "start_time": "2024-05-22T08:53:49.417Z"
   },
   {
    "duration": 5,
    "start_time": "2024-05-22T08:53:49.424Z"
   },
   {
    "duration": 6,
    "start_time": "2024-05-22T08:53:49.430Z"
   },
   {
    "duration": 7,
    "start_time": "2024-05-22T08:53:49.437Z"
   },
   {
    "duration": 4,
    "start_time": "2024-05-22T08:53:49.445Z"
   },
   {
    "duration": 12,
    "start_time": "2024-05-22T08:53:49.451Z"
   },
   {
    "duration": 4,
    "start_time": "2024-05-22T08:53:49.464Z"
   },
   {
    "duration": 6,
    "start_time": "2024-05-22T08:53:49.469Z"
   },
   {
    "duration": 226,
    "start_time": "2024-05-22T08:53:49.477Z"
   },
   {
    "duration": 10,
    "start_time": "2024-05-22T08:53:49.705Z"
   },
   {
    "duration": 8,
    "start_time": "2024-05-22T08:53:49.716Z"
   },
   {
    "duration": 170,
    "start_time": "2024-05-22T08:53:49.725Z"
   },
   {
    "duration": 7,
    "start_time": "2024-05-22T08:53:49.896Z"
   },
   {
    "duration": 239,
    "start_time": "2024-05-22T08:53:49.904Z"
   },
   {
    "duration": 7,
    "start_time": "2024-05-22T08:53:50.145Z"
   },
   {
    "duration": 620,
    "start_time": "2024-05-22T08:53:50.155Z"
   },
   {
    "duration": 7,
    "start_time": "2024-05-22T08:53:50.776Z"
   },
   {
    "duration": 669,
    "start_time": "2024-05-22T08:53:50.785Z"
   },
   {
    "duration": 230,
    "start_time": "2024-05-22T08:53:51.456Z"
   },
   {
    "duration": 29,
    "start_time": "2024-05-22T08:53:51.687Z"
   },
   {
    "duration": 12,
    "start_time": "2024-05-22T08:53:51.717Z"
   },
   {
    "duration": 7,
    "start_time": "2024-05-22T08:53:51.730Z"
   },
   {
    "duration": 15,
    "start_time": "2024-05-22T08:53:51.738Z"
   },
   {
    "duration": 24,
    "start_time": "2024-05-22T08:53:51.754Z"
   },
   {
    "duration": 14,
    "start_time": "2024-05-22T08:53:51.779Z"
   },
   {
    "duration": 220,
    "start_time": "2024-05-22T08:53:51.812Z"
   },
   {
    "duration": 7,
    "start_time": "2024-05-22T08:53:52.033Z"
   },
   {
    "duration": 32,
    "start_time": "2024-05-22T08:53:52.041Z"
   },
   {
    "duration": 225,
    "start_time": "2024-05-22T08:53:52.075Z"
   },
   {
    "duration": 11,
    "start_time": "2024-05-22T08:53:52.301Z"
   },
   {
    "duration": 6,
    "start_time": "2024-05-22T08:53:52.314Z"
   },
   {
    "duration": 8,
    "start_time": "2024-05-22T08:53:52.321Z"
   },
   {
    "duration": 120,
    "start_time": "2024-05-22T08:53:52.330Z"
   },
   {
    "duration": 5,
    "start_time": "2024-05-22T08:53:52.451Z"
   },
   {
    "duration": 25,
    "start_time": "2024-05-22T08:53:52.457Z"
   },
   {
    "duration": 5,
    "start_time": "2024-05-22T08:53:52.484Z"
   },
   {
    "duration": 5,
    "start_time": "2024-05-22T08:53:52.491Z"
   },
   {
    "duration": 20,
    "start_time": "2024-05-22T08:53:52.497Z"
   },
   {
    "duration": 1095,
    "start_time": "2024-05-22T12:00:47.907Z"
   },
   {
    "duration": 110,
    "start_time": "2024-05-22T12:00:49.004Z"
   },
   {
    "duration": 140,
    "start_time": "2024-05-22T12:00:49.115Z"
   },
   {
    "duration": 73,
    "start_time": "2024-05-22T12:00:49.257Z"
   },
   {
    "duration": 9,
    "start_time": "2024-05-22T12:00:49.332Z"
   },
   {
    "duration": 7,
    "start_time": "2024-05-22T12:00:49.342Z"
   },
   {
    "duration": 15,
    "start_time": "2024-05-22T12:00:49.350Z"
   },
   {
    "duration": 15,
    "start_time": "2024-05-22T12:00:49.366Z"
   },
   {
    "duration": 4,
    "start_time": "2024-05-22T12:00:49.382Z"
   },
   {
    "duration": 11,
    "start_time": "2024-05-22T12:00:49.388Z"
   },
   {
    "duration": 10,
    "start_time": "2024-05-22T12:00:49.400Z"
   },
   {
    "duration": 17,
    "start_time": "2024-05-22T12:00:49.411Z"
   },
   {
    "duration": 9,
    "start_time": "2024-05-22T12:00:49.429Z"
   },
   {
    "duration": 10,
    "start_time": "2024-05-22T12:00:49.439Z"
   },
   {
    "duration": 17,
    "start_time": "2024-05-22T12:00:49.451Z"
   },
   {
    "duration": 26,
    "start_time": "2024-05-22T12:00:49.469Z"
   },
   {
    "duration": 7,
    "start_time": "2024-05-22T12:00:49.497Z"
   },
   {
    "duration": 16,
    "start_time": "2024-05-22T12:00:49.505Z"
   },
   {
    "duration": 5,
    "start_time": "2024-05-22T12:00:49.522Z"
   },
   {
    "duration": 7,
    "start_time": "2024-05-22T12:00:49.528Z"
   },
   {
    "duration": 194,
    "start_time": "2024-05-22T12:00:49.536Z"
   },
   {
    "duration": 11,
    "start_time": "2024-05-22T12:00:49.731Z"
   },
   {
    "duration": 7,
    "start_time": "2024-05-22T12:00:49.743Z"
   },
   {
    "duration": 163,
    "start_time": "2024-05-22T12:00:49.751Z"
   },
   {
    "duration": 8,
    "start_time": "2024-05-22T12:00:49.915Z"
   },
   {
    "duration": 214,
    "start_time": "2024-05-22T12:00:49.924Z"
   },
   {
    "duration": 7,
    "start_time": "2024-05-22T12:00:50.140Z"
   },
   {
    "duration": 561,
    "start_time": "2024-05-22T12:00:50.150Z"
   },
   {
    "duration": 9,
    "start_time": "2024-05-22T12:00:50.713Z"
   },
   {
    "duration": 613,
    "start_time": "2024-05-22T12:00:50.723Z"
   },
   {
    "duration": 210,
    "start_time": "2024-05-22T12:00:51.337Z"
   },
   {
    "duration": 21,
    "start_time": "2024-05-22T12:00:51.549Z"
   },
   {
    "duration": 22,
    "start_time": "2024-05-22T12:00:51.571Z"
   },
   {
    "duration": 7,
    "start_time": "2024-05-22T12:00:51.594Z"
   },
   {
    "duration": 13,
    "start_time": "2024-05-22T12:00:51.602Z"
   },
   {
    "duration": 34,
    "start_time": "2024-05-22T12:00:51.617Z"
   },
   {
    "duration": 10,
    "start_time": "2024-05-22T12:00:51.653Z"
   },
   {
    "duration": 210,
    "start_time": "2024-05-22T12:00:51.665Z"
   },
   {
    "duration": 10,
    "start_time": "2024-05-22T12:00:51.877Z"
   },
   {
    "duration": 7,
    "start_time": "2024-05-22T12:00:51.889Z"
   },
   {
    "duration": 209,
    "start_time": "2024-05-22T12:00:51.897Z"
   },
   {
    "duration": 8,
    "start_time": "2024-05-22T12:00:52.108Z"
   },
   {
    "duration": 7,
    "start_time": "2024-05-22T12:00:52.118Z"
   },
   {
    "duration": 10,
    "start_time": "2024-05-22T12:00:52.126Z"
   },
   {
    "duration": 126,
    "start_time": "2024-05-22T12:00:52.138Z"
   },
   {
    "duration": 4,
    "start_time": "2024-05-22T12:00:52.265Z"
   },
   {
    "duration": 33,
    "start_time": "2024-05-22T12:00:52.270Z"
   },
   {
    "duration": 56,
    "start_time": "2024-05-22T12:00:52.304Z"
   },
   {
    "duration": 30,
    "start_time": "2024-05-22T12:00:52.361Z"
   },
   {
    "duration": 14,
    "start_time": "2024-05-22T12:00:52.392Z"
   },
   {
    "duration": 1275,
    "start_time": "2024-05-22T14:43:46.741Z"
   },
   {
    "duration": 122,
    "start_time": "2024-05-22T14:43:48.018Z"
   },
   {
    "duration": 143,
    "start_time": "2024-05-22T14:43:48.141Z"
   },
   {
    "duration": 74,
    "start_time": "2024-05-22T14:43:48.286Z"
   },
   {
    "duration": 11,
    "start_time": "2024-05-22T14:43:48.362Z"
   },
   {
    "duration": 12,
    "start_time": "2024-05-22T14:43:48.375Z"
   },
   {
    "duration": 11,
    "start_time": "2024-05-22T14:43:48.389Z"
   },
   {
    "duration": 22,
    "start_time": "2024-05-22T14:43:48.401Z"
   },
   {
    "duration": 5,
    "start_time": "2024-05-22T14:43:48.426Z"
   },
   {
    "duration": 11,
    "start_time": "2024-05-22T14:43:48.434Z"
   },
   {
    "duration": 21,
    "start_time": "2024-05-22T14:43:48.447Z"
   },
   {
    "duration": 7,
    "start_time": "2024-05-22T14:43:48.470Z"
   },
   {
    "duration": 12,
    "start_time": "2024-05-22T14:43:48.479Z"
   },
   {
    "duration": 22,
    "start_time": "2024-05-22T14:43:48.492Z"
   },
   {
    "duration": 9,
    "start_time": "2024-05-22T14:43:48.515Z"
   },
   {
    "duration": 19,
    "start_time": "2024-05-22T14:43:48.526Z"
   },
   {
    "duration": 15,
    "start_time": "2024-05-22T14:43:48.546Z"
   },
   {
    "duration": 10,
    "start_time": "2024-05-22T14:43:48.563Z"
   },
   {
    "duration": 8,
    "start_time": "2024-05-22T14:43:48.574Z"
   },
   {
    "duration": 23,
    "start_time": "2024-05-22T14:43:48.583Z"
   },
   {
    "duration": 226,
    "start_time": "2024-05-22T14:43:48.608Z"
   },
   {
    "duration": 13,
    "start_time": "2024-05-22T14:43:48.835Z"
   },
   {
    "duration": 22,
    "start_time": "2024-05-22T14:43:48.850Z"
   },
   {
    "duration": 171,
    "start_time": "2024-05-22T14:43:48.874Z"
   },
   {
    "duration": 9,
    "start_time": "2024-05-22T14:43:49.046Z"
   },
   {
    "duration": 282,
    "start_time": "2024-05-22T14:43:49.056Z"
   },
   {
    "duration": 8,
    "start_time": "2024-05-22T14:43:49.340Z"
   },
   {
    "duration": 880,
    "start_time": "2024-05-22T14:43:49.352Z"
   },
   {
    "duration": 9,
    "start_time": "2024-05-22T14:43:50.233Z"
   },
   {
    "duration": 853,
    "start_time": "2024-05-22T14:43:50.243Z"
   },
   {
    "duration": 261,
    "start_time": "2024-05-22T14:43:51.097Z"
   },
   {
    "duration": 33,
    "start_time": "2024-05-22T14:43:51.360Z"
   },
   {
    "duration": 15,
    "start_time": "2024-05-22T14:43:51.395Z"
   },
   {
    "duration": 9,
    "start_time": "2024-05-22T14:43:51.412Z"
   },
   {
    "duration": 15,
    "start_time": "2024-05-22T14:43:51.422Z"
   },
   {
    "duration": 27,
    "start_time": "2024-05-22T14:43:51.439Z"
   },
   {
    "duration": 36,
    "start_time": "2024-05-22T14:43:51.468Z"
   },
   {
    "duration": 264,
    "start_time": "2024-05-22T14:43:51.505Z"
   },
   {
    "duration": 8,
    "start_time": "2024-05-22T14:43:51.771Z"
   },
   {
    "duration": 17,
    "start_time": "2024-05-22T14:43:51.780Z"
   },
   {
    "duration": 296,
    "start_time": "2024-05-22T14:43:51.799Z"
   },
   {
    "duration": 8,
    "start_time": "2024-05-22T14:43:52.097Z"
   },
   {
    "duration": 17,
    "start_time": "2024-05-22T14:43:52.107Z"
   },
   {
    "duration": 37,
    "start_time": "2024-05-22T14:43:52.126Z"
   },
   {
    "duration": 198,
    "start_time": "2024-05-22T14:43:52.165Z"
   },
   {
    "duration": 5,
    "start_time": "2024-05-22T14:43:52.365Z"
   },
   {
    "duration": 46,
    "start_time": "2024-05-22T14:43:52.371Z"
   },
   {
    "duration": 44,
    "start_time": "2024-05-22T14:43:52.419Z"
   },
   {
    "duration": 22,
    "start_time": "2024-05-22T14:43:52.465Z"
   },
   {
    "duration": 11,
    "start_time": "2024-05-22T14:43:52.489Z"
   },
   {
    "duration": 1126,
    "start_time": "2024-05-22T15:01:21.445Z"
   },
   {
    "duration": 38,
    "start_time": "2024-05-22T15:01:22.572Z"
   },
   {
    "duration": 37,
    "start_time": "2024-05-22T15:01:22.611Z"
   },
   {
    "duration": 23,
    "start_time": "2024-05-22T15:01:22.650Z"
   },
   {
    "duration": 38,
    "start_time": "2024-05-22T15:01:22.675Z"
   },
   {
    "duration": 24,
    "start_time": "2024-05-22T15:01:22.714Z"
   },
   {
    "duration": 23,
    "start_time": "2024-05-22T15:01:22.740Z"
   },
   {
    "duration": 27,
    "start_time": "2024-05-22T15:01:22.765Z"
   },
   {
    "duration": 14,
    "start_time": "2024-05-22T15:01:22.794Z"
   },
   {
    "duration": 7,
    "start_time": "2024-05-22T15:01:22.812Z"
   },
   {
    "duration": 12,
    "start_time": "2024-05-22T15:01:22.820Z"
   },
   {
    "duration": 16,
    "start_time": "2024-05-22T15:01:22.834Z"
   },
   {
    "duration": 14,
    "start_time": "2024-05-22T15:01:22.852Z"
   },
   {
    "duration": 5,
    "start_time": "2024-05-22T15:01:22.867Z"
   },
   {
    "duration": 28,
    "start_time": "2024-05-22T15:01:22.874Z"
   },
   {
    "duration": 20,
    "start_time": "2024-05-22T15:01:22.904Z"
   },
   {
    "duration": 8,
    "start_time": "2024-05-22T15:01:22.926Z"
   },
   {
    "duration": 11,
    "start_time": "2024-05-22T15:01:22.936Z"
   },
   {
    "duration": 7,
    "start_time": "2024-05-22T15:01:22.949Z"
   },
   {
    "duration": 22,
    "start_time": "2024-05-22T15:01:22.958Z"
   },
   {
    "duration": 230,
    "start_time": "2024-05-22T15:01:22.981Z"
   },
   {
    "duration": 14,
    "start_time": "2024-05-22T15:01:23.213Z"
   },
   {
    "duration": 7,
    "start_time": "2024-05-22T15:01:23.229Z"
   },
   {
    "duration": 202,
    "start_time": "2024-05-22T15:01:23.238Z"
   },
   {
    "duration": 9,
    "start_time": "2024-05-22T15:01:23.441Z"
   },
   {
    "duration": 275,
    "start_time": "2024-05-22T15:01:23.452Z"
   },
   {
    "duration": 10,
    "start_time": "2024-05-22T15:01:23.729Z"
   },
   {
    "duration": 827,
    "start_time": "2024-05-22T15:01:23.743Z"
   },
   {
    "duration": 9,
    "start_time": "2024-05-22T15:01:24.572Z"
   },
   {
    "duration": 881,
    "start_time": "2024-05-22T15:01:24.592Z"
   },
   {
    "duration": 254,
    "start_time": "2024-05-22T15:01:25.475Z"
   },
   {
    "duration": 28,
    "start_time": "2024-05-22T15:01:25.731Z"
   },
   {
    "duration": 32,
    "start_time": "2024-05-22T15:01:25.760Z"
   },
   {
    "duration": 11,
    "start_time": "2024-05-22T15:01:25.794Z"
   },
   {
    "duration": 35,
    "start_time": "2024-05-22T15:01:25.807Z"
   },
   {
    "duration": 27,
    "start_time": "2024-05-22T15:01:25.844Z"
   },
   {
    "duration": 29,
    "start_time": "2024-05-22T15:01:25.872Z"
   },
   {
    "duration": 269,
    "start_time": "2024-05-22T15:01:25.903Z"
   },
   {
    "duration": 8,
    "start_time": "2024-05-22T15:01:26.174Z"
   },
   {
    "duration": 21,
    "start_time": "2024-05-22T15:01:26.191Z"
   },
   {
    "duration": 260,
    "start_time": "2024-05-22T15:01:26.213Z"
   },
   {
    "duration": 16,
    "start_time": "2024-05-22T15:01:26.475Z"
   },
   {
    "duration": 9,
    "start_time": "2024-05-22T15:01:26.493Z"
   },
   {
    "duration": 7,
    "start_time": "2024-05-22T15:01:26.503Z"
   },
   {
    "duration": 165,
    "start_time": "2024-05-22T15:01:26.512Z"
   },
   {
    "duration": 16,
    "start_time": "2024-05-22T15:01:26.679Z"
   },
   {
    "duration": 39,
    "start_time": "2024-05-22T15:01:26.697Z"
   },
   {
    "duration": 20,
    "start_time": "2024-05-22T15:01:26.738Z"
   },
   {
    "duration": 6,
    "start_time": "2024-05-22T15:01:26.760Z"
   },
   {
    "duration": 9,
    "start_time": "2024-05-22T15:01:26.768Z"
   },
   {
    "duration": 1148,
    "start_time": "2024-05-22T15:45:50.134Z"
   },
   {
    "duration": 37,
    "start_time": "2024-05-22T15:45:51.284Z"
   },
   {
    "duration": 44,
    "start_time": "2024-05-22T15:45:51.322Z"
   },
   {
    "duration": 22,
    "start_time": "2024-05-22T15:45:51.368Z"
   },
   {
    "duration": 28,
    "start_time": "2024-05-22T15:45:51.393Z"
   },
   {
    "duration": 8,
    "start_time": "2024-05-22T15:45:51.423Z"
   },
   {
    "duration": 22,
    "start_time": "2024-05-22T15:45:51.433Z"
   },
   {
    "duration": 12,
    "start_time": "2024-05-22T15:45:51.457Z"
   },
   {
    "duration": 21,
    "start_time": "2024-05-22T15:45:51.470Z"
   },
   {
    "duration": 10,
    "start_time": "2024-05-22T15:45:51.493Z"
   },
   {
    "duration": 13,
    "start_time": "2024-05-22T15:45:51.505Z"
   },
   {
    "duration": 17,
    "start_time": "2024-05-22T15:45:51.519Z"
   },
   {
    "duration": 7,
    "start_time": "2024-05-22T15:45:51.537Z"
   },
   {
    "duration": 6,
    "start_time": "2024-05-22T15:45:51.546Z"
   },
   {
    "duration": 20,
    "start_time": "2024-05-22T15:45:51.554Z"
   },
   {
    "duration": 9,
    "start_time": "2024-05-22T15:45:51.575Z"
   },
   {
    "duration": 24,
    "start_time": "2024-05-22T15:45:51.585Z"
   },
   {
    "duration": 34,
    "start_time": "2024-05-22T15:45:51.611Z"
   },
   {
    "duration": 8,
    "start_time": "2024-05-22T15:45:51.647Z"
   },
   {
    "duration": 11,
    "start_time": "2024-05-22T15:45:51.657Z"
   },
   {
    "duration": 202,
    "start_time": "2024-05-22T15:45:51.669Z"
   },
   {
    "duration": 18,
    "start_time": "2024-05-22T15:45:51.872Z"
   },
   {
    "duration": 23,
    "start_time": "2024-05-22T15:45:51.892Z"
   },
   {
    "duration": 181,
    "start_time": "2024-05-22T15:45:51.916Z"
   },
   {
    "duration": 9,
    "start_time": "2024-05-22T15:45:52.099Z"
   },
   {
    "duration": 245,
    "start_time": "2024-05-22T15:45:52.110Z"
   },
   {
    "duration": 8,
    "start_time": "2024-05-22T15:45:52.357Z"
   },
   {
    "duration": 734,
    "start_time": "2024-05-22T15:45:52.368Z"
   },
   {
    "duration": 9,
    "start_time": "2024-05-22T15:45:53.104Z"
   },
   {
    "duration": 786,
    "start_time": "2024-05-22T15:45:53.114Z"
   },
   {
    "duration": 253,
    "start_time": "2024-05-22T15:45:53.902Z"
   },
   {
    "duration": 36,
    "start_time": "2024-05-22T15:45:54.157Z"
   },
   {
    "duration": 15,
    "start_time": "2024-05-22T15:45:54.194Z"
   },
   {
    "duration": 13,
    "start_time": "2024-05-22T15:45:54.212Z"
   },
   {
    "duration": 19,
    "start_time": "2024-05-22T15:45:54.227Z"
   },
   {
    "duration": 44,
    "start_time": "2024-05-22T15:45:54.248Z"
   },
   {
    "duration": 15,
    "start_time": "2024-05-22T15:45:54.294Z"
   },
   {
    "duration": 269,
    "start_time": "2024-05-22T15:45:54.311Z"
   },
   {
    "duration": 15,
    "start_time": "2024-05-22T15:45:54.582Z"
   },
   {
    "duration": 7,
    "start_time": "2024-05-22T15:45:54.599Z"
   },
   {
    "duration": 270,
    "start_time": "2024-05-22T15:45:54.607Z"
   },
   {
    "duration": 13,
    "start_time": "2024-05-22T15:45:54.879Z"
   },
   {
    "duration": 7,
    "start_time": "2024-05-22T15:45:54.894Z"
   },
   {
    "duration": 7,
    "start_time": "2024-05-22T15:45:54.903Z"
   },
   {
    "duration": 159,
    "start_time": "2024-05-22T15:45:54.912Z"
   },
   {
    "duration": 5,
    "start_time": "2024-05-22T15:45:55.073Z"
   },
   {
    "duration": 48,
    "start_time": "2024-05-22T15:45:55.079Z"
   },
   {
    "duration": 7,
    "start_time": "2024-05-22T15:45:55.129Z"
   },
   {
    "duration": 9,
    "start_time": "2024-05-22T15:45:55.138Z"
   },
   {
    "duration": 9,
    "start_time": "2024-05-22T15:45:55.148Z"
   },
   {
    "duration": 77,
    "start_time": "2024-05-22T16:03:28.605Z"
   },
   {
    "duration": 1374,
    "start_time": "2024-05-22T16:03:35.857Z"
   },
   {
    "duration": 82,
    "start_time": "2024-05-22T16:03:37.234Z"
   },
   {
    "duration": 92,
    "start_time": "2024-05-22T16:03:37.318Z"
   },
   {
    "duration": 65,
    "start_time": "2024-05-22T16:03:37.411Z"
   },
   {
    "duration": 18,
    "start_time": "2024-05-22T16:03:37.478Z"
   },
   {
    "duration": 15,
    "start_time": "2024-05-22T16:03:37.505Z"
   },
   {
    "duration": 24,
    "start_time": "2024-05-22T16:03:37.522Z"
   },
   {
    "duration": 10,
    "start_time": "2024-05-22T16:03:37.548Z"
   },
   {
    "duration": 6,
    "start_time": "2024-05-22T16:03:37.560Z"
   },
   {
    "duration": 18,
    "start_time": "2024-05-22T16:03:37.570Z"
   },
   {
    "duration": 11,
    "start_time": "2024-05-22T16:03:37.589Z"
   },
   {
    "duration": 9,
    "start_time": "2024-05-22T16:03:37.601Z"
   },
   {
    "duration": 26,
    "start_time": "2024-05-22T16:03:37.612Z"
   },
   {
    "duration": 9,
    "start_time": "2024-05-22T16:03:37.640Z"
   },
   {
    "duration": 7,
    "start_time": "2024-05-22T16:03:37.651Z"
   },
   {
    "duration": 11,
    "start_time": "2024-05-22T16:03:37.661Z"
   },
   {
    "duration": 6,
    "start_time": "2024-05-22T16:03:37.674Z"
   },
   {
    "duration": 13,
    "start_time": "2024-05-22T16:03:37.682Z"
   },
   {
    "duration": 35,
    "start_time": "2024-05-22T16:03:37.696Z"
   },
   {
    "duration": 14,
    "start_time": "2024-05-22T16:03:37.733Z"
   },
   {
    "duration": 267,
    "start_time": "2024-05-22T16:03:37.748Z"
   },
   {
    "duration": 14,
    "start_time": "2024-05-22T16:03:38.017Z"
   },
   {
    "duration": 10,
    "start_time": "2024-05-22T16:03:38.039Z"
   },
   {
    "duration": 195,
    "start_time": "2024-05-22T16:03:38.051Z"
   },
   {
    "duration": 9,
    "start_time": "2024-05-22T16:03:38.249Z"
   },
   {
    "duration": 294,
    "start_time": "2024-05-22T16:03:38.260Z"
   },
   {
    "duration": 9,
    "start_time": "2024-05-22T16:03:38.556Z"
   },
   {
    "duration": 814,
    "start_time": "2024-05-22T16:03:38.568Z"
   },
   {
    "duration": 9,
    "start_time": "2024-05-22T16:03:39.383Z"
   },
   {
    "duration": 967,
    "start_time": "2024-05-22T16:03:39.393Z"
   },
   {
    "duration": 274,
    "start_time": "2024-05-22T16:03:40.361Z"
   },
   {
    "duration": 29,
    "start_time": "2024-05-22T16:03:40.638Z"
   },
   {
    "duration": 17,
    "start_time": "2024-05-22T16:03:40.669Z"
   },
   {
    "duration": 18,
    "start_time": "2024-05-22T16:03:40.687Z"
   },
   {
    "duration": 42,
    "start_time": "2024-05-22T16:03:40.706Z"
   },
   {
    "duration": 17,
    "start_time": "2024-05-22T16:03:40.750Z"
   },
   {
    "duration": 18,
    "start_time": "2024-05-22T16:03:40.770Z"
   },
   {
    "duration": 291,
    "start_time": "2024-05-22T16:03:40.789Z"
   },
   {
    "duration": 10,
    "start_time": "2024-05-22T16:03:41.082Z"
   },
   {
    "duration": 8,
    "start_time": "2024-05-22T16:03:41.093Z"
   },
   {
    "duration": 321,
    "start_time": "2024-05-22T16:03:41.102Z"
   },
   {
    "duration": 15,
    "start_time": "2024-05-22T16:03:41.425Z"
   },
   {
    "duration": 12,
    "start_time": "2024-05-22T16:03:41.443Z"
   },
   {
    "duration": 4,
    "start_time": "2024-05-22T16:03:41.457Z"
   },
   {
    "duration": 170,
    "start_time": "2024-05-22T16:03:41.462Z"
   },
   {
    "duration": 10,
    "start_time": "2024-05-22T16:03:41.635Z"
   },
   {
    "duration": 18,
    "start_time": "2024-05-22T16:03:41.647Z"
   },
   {
    "duration": 13,
    "start_time": "2024-05-22T16:03:41.667Z"
   },
   {
    "duration": 12,
    "start_time": "2024-05-22T16:03:41.683Z"
   },
   {
    "duration": 13,
    "start_time": "2024-05-22T16:03:41.697Z"
   },
   {
    "duration": 1381,
    "start_time": "2024-05-22T17:06:26.119Z"
   },
   {
    "duration": 112,
    "start_time": "2024-05-22T17:06:27.503Z"
   },
   {
    "duration": 143,
    "start_time": "2024-05-22T17:06:27.616Z"
   },
   {
    "duration": 74,
    "start_time": "2024-05-22T17:06:27.761Z"
   },
   {
    "duration": 12,
    "start_time": "2024-05-22T17:06:27.837Z"
   },
   {
    "duration": 20,
    "start_time": "2024-05-22T17:06:27.850Z"
   },
   {
    "duration": 14,
    "start_time": "2024-05-22T17:06:27.871Z"
   },
   {
    "duration": 10,
    "start_time": "2024-05-22T17:06:27.887Z"
   },
   {
    "duration": 6,
    "start_time": "2024-05-22T17:06:27.899Z"
   },
   {
    "duration": 12,
    "start_time": "2024-05-22T17:06:27.909Z"
   },
   {
    "duration": 13,
    "start_time": "2024-05-22T17:06:27.923Z"
   },
   {
    "duration": 25,
    "start_time": "2024-05-22T17:06:27.938Z"
   },
   {
    "duration": 25,
    "start_time": "2024-05-22T17:06:27.965Z"
   },
   {
    "duration": 31,
    "start_time": "2024-05-22T17:06:27.992Z"
   },
   {
    "duration": 13,
    "start_time": "2024-05-22T17:06:28.025Z"
   },
   {
    "duration": 24,
    "start_time": "2024-05-22T17:06:28.040Z"
   },
   {
    "duration": 17,
    "start_time": "2024-05-22T17:06:28.066Z"
   },
   {
    "duration": 39,
    "start_time": "2024-05-22T17:06:28.085Z"
   },
   {
    "duration": 17,
    "start_time": "2024-05-22T17:06:28.127Z"
   },
   {
    "duration": 16,
    "start_time": "2024-05-22T17:06:28.146Z"
   },
   {
    "duration": 219,
    "start_time": "2024-05-22T17:06:28.164Z"
   },
   {
    "duration": 13,
    "start_time": "2024-05-22T17:06:28.385Z"
   },
   {
    "duration": 30,
    "start_time": "2024-05-22T17:06:28.400Z"
   },
   {
    "duration": 208,
    "start_time": "2024-05-22T17:06:28.432Z"
   },
   {
    "duration": 10,
    "start_time": "2024-05-22T17:06:28.643Z"
   },
   {
    "duration": 300,
    "start_time": "2024-05-22T17:06:28.655Z"
   },
   {
    "duration": 9,
    "start_time": "2024-05-22T17:06:28.957Z"
   },
   {
    "duration": 794,
    "start_time": "2024-05-22T17:06:28.982Z"
   },
   {
    "duration": 9,
    "start_time": "2024-05-22T17:06:29.780Z"
   },
   {
    "duration": 840,
    "start_time": "2024-05-22T17:06:29.790Z"
   },
   {
    "duration": 280,
    "start_time": "2024-05-22T17:06:30.632Z"
   },
   {
    "duration": 27,
    "start_time": "2024-05-22T17:06:30.913Z"
   },
   {
    "duration": 49,
    "start_time": "2024-05-22T17:06:30.942Z"
   },
   {
    "duration": 136,
    "start_time": "2024-05-22T17:06:30.993Z"
   },
   {
    "duration": 280,
    "start_time": "2024-05-22T17:06:31.130Z"
   },
   {
    "duration": 156,
    "start_time": "2024-05-22T17:06:31.412Z"
   },
   {
    "duration": 62,
    "start_time": "2024-05-22T17:06:31.569Z"
   },
   {
    "duration": 289,
    "start_time": "2024-05-22T17:06:31.632Z"
   },
   {
    "duration": 8,
    "start_time": "2024-05-22T17:06:31.923Z"
   },
   {
    "duration": 58,
    "start_time": "2024-05-22T17:06:31.932Z"
   },
   {
    "duration": 332,
    "start_time": "2024-05-22T17:06:31.991Z"
   },
   {
    "duration": 8,
    "start_time": "2024-05-22T17:06:32.325Z"
   },
   {
    "duration": 29,
    "start_time": "2024-05-22T17:06:32.335Z"
   },
   {
    "duration": 7,
    "start_time": "2024-05-22T17:06:32.365Z"
   },
   {
    "duration": 154,
    "start_time": "2024-05-22T17:06:32.374Z"
   },
   {
    "duration": 6,
    "start_time": "2024-05-22T17:06:32.529Z"
   },
   {
    "duration": 22,
    "start_time": "2024-05-22T17:06:32.536Z"
   },
   {
    "duration": 23,
    "start_time": "2024-05-22T17:06:32.560Z"
   },
   {
    "duration": 39,
    "start_time": "2024-05-22T17:06:32.585Z"
   },
   {
    "duration": 17,
    "start_time": "2024-05-22T17:06:32.626Z"
   },
   {
    "duration": 1135,
    "start_time": "2024-05-22T17:14:09.416Z"
   },
   {
    "duration": 38,
    "start_time": "2024-05-22T17:14:10.553Z"
   },
   {
    "duration": 37,
    "start_time": "2024-05-22T17:14:10.592Z"
   },
   {
    "duration": 23,
    "start_time": "2024-05-22T17:14:10.631Z"
   },
   {
    "duration": 13,
    "start_time": "2024-05-22T17:14:10.656Z"
   },
   {
    "duration": 19,
    "start_time": "2024-05-22T17:14:10.671Z"
   },
   {
    "duration": 11,
    "start_time": "2024-05-22T17:14:10.692Z"
   },
   {
    "duration": 9,
    "start_time": "2024-05-22T17:14:10.704Z"
   },
   {
    "duration": 11,
    "start_time": "2024-05-22T17:14:10.715Z"
   },
   {
    "duration": 5,
    "start_time": "2024-05-22T17:14:10.729Z"
   },
   {
    "duration": 16,
    "start_time": "2024-05-22T17:14:10.736Z"
   },
   {
    "duration": 7,
    "start_time": "2024-05-22T17:14:10.754Z"
   },
   {
    "duration": 7,
    "start_time": "2024-05-22T17:14:10.781Z"
   },
   {
    "duration": 6,
    "start_time": "2024-05-22T17:14:10.790Z"
   },
   {
    "duration": 6,
    "start_time": "2024-05-22T17:14:10.797Z"
   },
   {
    "duration": 9,
    "start_time": "2024-05-22T17:14:10.805Z"
   },
   {
    "duration": 5,
    "start_time": "2024-05-22T17:14:10.815Z"
   },
   {
    "duration": 9,
    "start_time": "2024-05-22T17:14:10.822Z"
   },
   {
    "duration": 5,
    "start_time": "2024-05-22T17:14:10.833Z"
   },
   {
    "duration": 47,
    "start_time": "2024-05-22T17:14:10.840Z"
   },
   {
    "duration": 250,
    "start_time": "2024-05-22T17:14:10.889Z"
   },
   {
    "duration": 15,
    "start_time": "2024-05-22T17:14:11.140Z"
   },
   {
    "duration": 24,
    "start_time": "2024-05-22T17:14:11.157Z"
   },
   {
    "duration": 182,
    "start_time": "2024-05-22T17:14:11.183Z"
   },
   {
    "duration": 14,
    "start_time": "2024-05-22T17:14:11.367Z"
   },
   {
    "duration": 277,
    "start_time": "2024-05-22T17:14:11.383Z"
   },
   {
    "duration": 19,
    "start_time": "2024-05-22T17:14:11.662Z"
   },
   {
    "duration": 806,
    "start_time": "2024-05-22T17:14:11.684Z"
   },
   {
    "duration": 10,
    "start_time": "2024-05-22T17:14:12.492Z"
   },
   {
    "duration": 920,
    "start_time": "2024-05-22T17:14:12.503Z"
   },
   {
    "duration": 266,
    "start_time": "2024-05-22T17:14:13.425Z"
   },
   {
    "duration": 28,
    "start_time": "2024-05-22T17:14:13.693Z"
   },
   {
    "duration": 15,
    "start_time": "2024-05-22T17:14:13.722Z"
   },
   {
    "duration": 9,
    "start_time": "2024-05-22T17:14:13.739Z"
   },
   {
    "duration": 43,
    "start_time": "2024-05-22T17:14:13.750Z"
   },
   {
    "duration": 22,
    "start_time": "2024-05-22T17:14:13.794Z"
   },
   {
    "duration": 16,
    "start_time": "2024-05-22T17:14:13.818Z"
   },
   {
    "duration": 273,
    "start_time": "2024-05-22T17:14:13.836Z"
   },
   {
    "duration": 9,
    "start_time": "2024-05-22T17:14:14.111Z"
   },
   {
    "duration": 8,
    "start_time": "2024-05-22T17:14:14.122Z"
   },
   {
    "duration": 303,
    "start_time": "2024-05-22T17:14:14.132Z"
   },
   {
    "duration": 11,
    "start_time": "2024-05-22T17:14:14.437Z"
   },
   {
    "duration": 10,
    "start_time": "2024-05-22T17:14:14.450Z"
   },
   {
    "duration": 4,
    "start_time": "2024-05-22T17:14:14.480Z"
   },
   {
    "duration": 168,
    "start_time": "2024-05-22T17:14:14.486Z"
   },
   {
    "duration": 5,
    "start_time": "2024-05-22T17:14:14.656Z"
   },
   {
    "duration": 25,
    "start_time": "2024-05-22T17:14:14.663Z"
   },
   {
    "duration": 8,
    "start_time": "2024-05-22T17:14:14.690Z"
   },
   {
    "duration": 11,
    "start_time": "2024-05-22T17:14:14.699Z"
   },
   {
    "duration": 11,
    "start_time": "2024-05-22T17:14:14.711Z"
   },
   {
    "duration": 433,
    "start_time": "2024-09-21T11:46:47.186Z"
   },
   {
    "duration": 954,
    "start_time": "2024-09-21T11:48:04.542Z"
   },
   {
    "duration": 280,
    "start_time": "2024-09-21T11:48:27.313Z"
   },
   {
    "duration": 14,
    "start_time": "2024-09-21T11:48:57.545Z"
   },
   {
    "duration": 7,
    "start_time": "2024-09-21T11:49:03.505Z"
   },
   {
    "duration": 6,
    "start_time": "2024-09-21T11:49:10.233Z"
   },
   {
    "duration": 6,
    "start_time": "2024-09-21T11:49:13.953Z"
   },
   {
    "duration": 10,
    "start_time": "2024-09-21T11:49:46.642Z"
   },
   {
    "duration": 73,
    "start_time": "2024-09-21T11:49:55.649Z"
   },
   {
    "duration": 8,
    "start_time": "2024-09-21T11:49:56.496Z"
   },
   {
    "duration": 71,
    "start_time": "2024-09-21T11:50:04.146Z"
   },
   {
    "duration": 8,
    "start_time": "2024-09-21T11:50:04.712Z"
   },
   {
    "duration": 10,
    "start_time": "2024-09-21T11:50:05.081Z"
   },
   {
    "duration": 8,
    "start_time": "2024-09-21T11:50:05.465Z"
   },
   {
    "duration": 8,
    "start_time": "2024-09-21T11:50:06.584Z"
   },
   {
    "duration": 11,
    "start_time": "2024-09-21T11:50:16.943Z"
   },
   {
    "duration": 10,
    "start_time": "2024-09-21T11:50:22.706Z"
   },
   {
    "duration": 7,
    "start_time": "2024-09-21T11:54:29.893Z"
   },
   {
    "duration": 5,
    "start_time": "2024-09-21T11:55:10.474Z"
   },
   {
    "duration": 5,
    "start_time": "2024-09-21T11:55:23.833Z"
   },
   {
    "duration": 12,
    "start_time": "2024-09-21T11:55:30.361Z"
   },
   {
    "duration": 4,
    "start_time": "2024-09-21T11:55:35.099Z"
   },
   {
    "duration": 6,
    "start_time": "2024-09-21T11:55:51.531Z"
   },
   {
    "duration": 6,
    "start_time": "2024-09-21T11:56:06.066Z"
   },
   {
    "duration": 5,
    "start_time": "2024-09-21T11:56:22.065Z"
   },
   {
    "duration": 97,
    "start_time": "2024-09-21T11:57:30.407Z"
   },
   {
    "duration": 6,
    "start_time": "2024-09-21T11:57:35.791Z"
   },
   {
    "duration": 9,
    "start_time": "2024-09-21T11:57:40.968Z"
   },
   {
    "duration": 11,
    "start_time": "2024-09-21T11:57:47.991Z"
   },
   {
    "duration": 8,
    "start_time": "2024-09-21T11:58:01.232Z"
   },
   {
    "duration": 7,
    "start_time": "2024-09-21T11:58:05.457Z"
   },
   {
    "duration": 5,
    "start_time": "2024-09-21T11:58:07.142Z"
   },
   {
    "duration": 4,
    "start_time": "2024-09-21T11:59:21.477Z"
   },
   {
    "duration": 6,
    "start_time": "2024-09-21T11:59:23.373Z"
   },
   {
    "duration": 6,
    "start_time": "2024-09-21T12:00:18.684Z"
   },
   {
    "duration": 15,
    "start_time": "2024-09-21T12:00:24.021Z"
   },
   {
    "duration": 6,
    "start_time": "2024-09-21T12:00:27.908Z"
   },
   {
    "duration": 8,
    "start_time": "2024-09-21T12:00:29.037Z"
   },
   {
    "duration": 5,
    "start_time": "2024-09-21T12:00:29.451Z"
   },
   {
    "duration": 7,
    "start_time": "2024-09-21T12:00:33.003Z"
   },
   {
    "duration": 200,
    "start_time": "2024-09-21T12:27:23.330Z"
   },
   {
    "duration": 14,
    "start_time": "2024-09-21T12:27:42.105Z"
   },
   {
    "duration": 978,
    "start_time": "2024-09-21T12:30:42.374Z"
   },
   {
    "duration": 4,
    "start_time": "2024-09-21T12:30:46.552Z"
   },
   {
    "duration": 4,
    "start_time": "2024-09-21T12:31:33.869Z"
   },
   {
    "duration": 58,
    "start_time": "2024-09-24T06:46:13.595Z"
   },
   {
    "duration": 54,
    "start_time": "2024-09-24T06:46:21.762Z"
   },
   {
    "duration": 44,
    "start_time": "2024-09-24T06:46:25.794Z"
   },
   {
    "duration": 6,
    "start_time": "2024-09-24T06:46:54.601Z"
   },
   {
    "duration": 1681,
    "start_time": "2024-09-24T06:46:58.995Z"
   },
   {
    "duration": 14,
    "start_time": "2024-09-24T06:47:00.679Z"
   },
   {
    "duration": 10,
    "start_time": "2024-09-24T06:47:00.695Z"
   },
   {
    "duration": 16,
    "start_time": "2024-09-24T06:47:00.707Z"
   },
   {
    "duration": 30,
    "start_time": "2024-09-24T06:47:00.725Z"
   },
   {
    "duration": 12,
    "start_time": "2024-09-24T06:47:00.756Z"
   },
   {
    "duration": 34,
    "start_time": "2024-09-24T06:47:00.769Z"
   },
   {
    "duration": 60,
    "start_time": "2024-09-24T06:47:00.805Z"
   },
   {
    "duration": 12,
    "start_time": "2024-09-24T06:47:00.868Z"
   },
   {
    "duration": 26,
    "start_time": "2024-09-24T06:47:00.882Z"
   },
   {
    "duration": 22,
    "start_time": "2024-09-24T06:47:00.910Z"
   },
   {
    "duration": 17,
    "start_time": "2024-09-24T06:47:00.934Z"
   },
   {
    "duration": 10,
    "start_time": "2024-09-24T06:47:00.952Z"
   },
   {
    "duration": 17,
    "start_time": "2024-09-24T06:47:00.964Z"
   },
   {
    "duration": 5,
    "start_time": "2024-09-24T06:47:00.983Z"
   },
   {
    "duration": 12,
    "start_time": "2024-09-24T06:47:00.989Z"
   },
   {
    "duration": 4,
    "start_time": "2024-09-24T06:47:01.003Z"
   },
   {
    "duration": 9,
    "start_time": "2024-09-24T06:47:01.008Z"
   },
   {
    "duration": 7,
    "start_time": "2024-09-24T06:47:13.239Z"
   },
   {
    "duration": 8,
    "start_time": "2024-09-24T06:47:26.102Z"
   },
   {
    "duration": 9,
    "start_time": "2024-09-24T06:48:12.660Z"
   },
   {
    "duration": 15,
    "start_time": "2024-09-24T06:48:16.637Z"
   },
   {
    "duration": 9,
    "start_time": "2024-09-24T06:48:50.478Z"
   },
   {
    "duration": 48,
    "start_time": "2024-09-24T13:05:32.362Z"
   },
   {
    "duration": 1670,
    "start_time": "2024-09-24T13:05:37.119Z"
   },
   {
    "duration": 15,
    "start_time": "2024-09-24T13:05:38.791Z"
   },
   {
    "duration": 29,
    "start_time": "2024-09-24T13:05:38.808Z"
   },
   {
    "duration": 21,
    "start_time": "2024-09-24T13:05:38.839Z"
   },
   {
    "duration": 20,
    "start_time": "2024-09-24T13:05:38.862Z"
   },
   {
    "duration": 12,
    "start_time": "2024-09-24T13:05:38.884Z"
   },
   {
    "duration": 19,
    "start_time": "2024-09-24T13:05:38.898Z"
   },
   {
    "duration": 18,
    "start_time": "2024-09-24T13:05:38.919Z"
   },
   {
    "duration": 13,
    "start_time": "2024-09-24T13:05:38.939Z"
   },
   {
    "duration": 23,
    "start_time": "2024-09-24T13:05:38.954Z"
   },
   {
    "duration": 21,
    "start_time": "2024-09-24T13:05:38.979Z"
   },
   {
    "duration": 45,
    "start_time": "2024-09-24T13:05:39.002Z"
   },
   {
    "duration": 29,
    "start_time": "2024-09-24T13:05:39.049Z"
   },
   {
    "duration": 26,
    "start_time": "2024-09-24T13:05:39.081Z"
   },
   {
    "duration": 29,
    "start_time": "2024-09-24T13:05:39.109Z"
   },
   {
    "duration": 11,
    "start_time": "2024-09-24T13:05:39.140Z"
   },
   {
    "duration": 18,
    "start_time": "2024-09-24T13:05:39.153Z"
   },
   {
    "duration": 17,
    "start_time": "2024-09-24T13:05:39.173Z"
   },
   {
    "duration": 7,
    "start_time": "2024-09-24T13:05:39.192Z"
   },
   {
    "duration": 97,
    "start_time": "2024-09-24T13:06:06.715Z"
   },
   {
    "duration": 11,
    "start_time": "2024-09-24T13:06:13.042Z"
   },
   {
    "duration": 16,
    "start_time": "2024-09-24T13:06:16.627Z"
   },
   {
    "duration": 8,
    "start_time": "2024-09-24T13:06:42.203Z"
   },
   {
    "duration": 13,
    "start_time": "2024-09-24T13:06:53.394Z"
   },
   {
    "duration": 20,
    "start_time": "2024-09-24T13:06:59.691Z"
   },
   {
    "duration": 15,
    "start_time": "2024-09-24T13:07:05.386Z"
   },
   {
    "duration": 7,
    "start_time": "2024-09-24T13:07:59.626Z"
   },
   {
    "duration": 264,
    "start_time": "2024-09-24T13:08:16.008Z"
   },
   {
    "duration": 280,
    "start_time": "2024-09-24T13:08:26.192Z"
   },
   {
    "duration": 12,
    "start_time": "2024-09-24T13:09:16.360Z"
   },
   {
    "duration": 30,
    "start_time": "2024-09-24T13:09:19.943Z"
   },
   {
    "duration": 12,
    "start_time": "2024-09-24T13:09:27.851Z"
   },
   {
    "duration": 12,
    "start_time": "2024-09-24T13:09:33.462Z"
   },
   {
    "duration": 12,
    "start_time": "2024-09-24T13:09:37.528Z"
   },
   {
    "duration": 16,
    "start_time": "2024-09-24T13:09:42.639Z"
   },
   {
    "duration": 1273,
    "start_time": "2024-09-24T13:10:32.856Z"
   },
   {
    "duration": 246,
    "start_time": "2024-09-24T13:10:44.006Z"
   },
   {
    "duration": 173,
    "start_time": "2024-09-24T13:10:49.208Z"
   },
   {
    "duration": 273,
    "start_time": "2024-09-24T13:11:15.860Z"
   },
   {
    "duration": 245,
    "start_time": "2024-09-24T13:11:34.960Z"
   },
   {
    "duration": 277,
    "start_time": "2024-09-24T13:14:27.004Z"
   },
   {
    "duration": 268,
    "start_time": "2024-09-24T13:15:08.929Z"
   },
   {
    "duration": 156,
    "start_time": "2024-09-24T13:15:14.825Z"
   },
   {
    "duration": 5534,
    "start_time": "2024-09-24T13:15:22.156Z"
   },
   {
    "duration": 55,
    "start_time": "2024-09-27T10:25:35.771Z"
   },
   {
    "duration": 39,
    "start_time": "2024-09-27T10:25:42.698Z"
   },
   {
    "duration": 1654,
    "start_time": "2024-09-27T10:25:46.912Z"
   },
   {
    "duration": 12,
    "start_time": "2024-09-27T10:25:48.568Z"
   },
   {
    "duration": 41,
    "start_time": "2024-09-27T10:25:48.581Z"
   },
   {
    "duration": 17,
    "start_time": "2024-09-27T10:25:48.623Z"
   },
   {
    "duration": 14,
    "start_time": "2024-09-27T10:25:48.642Z"
   },
   {
    "duration": 6,
    "start_time": "2024-09-27T10:25:48.657Z"
   },
   {
    "duration": 8,
    "start_time": "2024-09-27T10:25:48.665Z"
   },
   {
    "duration": 7,
    "start_time": "2024-09-27T10:25:48.674Z"
   },
   {
    "duration": 6,
    "start_time": "2024-09-27T10:25:48.682Z"
   },
   {
    "duration": 5,
    "start_time": "2024-09-27T10:25:48.690Z"
   },
   {
    "duration": 5,
    "start_time": "2024-09-27T10:25:48.696Z"
   },
   {
    "duration": 7,
    "start_time": "2024-09-27T10:25:48.703Z"
   },
   {
    "duration": 7,
    "start_time": "2024-09-27T10:25:48.712Z"
   },
   {
    "duration": 7,
    "start_time": "2024-09-27T10:25:48.720Z"
   },
   {
    "duration": 5,
    "start_time": "2024-09-27T10:25:48.729Z"
   },
   {
    "duration": 11,
    "start_time": "2024-09-27T10:25:48.735Z"
   },
   {
    "duration": 4,
    "start_time": "2024-09-27T10:25:48.747Z"
   },
   {
    "duration": 39,
    "start_time": "2024-09-27T10:25:48.752Z"
   },
   {
    "duration": 7,
    "start_time": "2024-09-27T10:25:48.793Z"
   },
   {
    "duration": 17,
    "start_time": "2024-09-27T10:25:48.802Z"
   },
   {
    "duration": 151,
    "start_time": "2024-09-27T10:25:48.821Z"
   },
   {
    "duration": 126,
    "start_time": "2024-09-27T10:26:51.750Z"
   },
   {
    "duration": 140,
    "start_time": "2024-09-27T10:27:05.662Z"
   },
   {
    "duration": 138,
    "start_time": "2024-09-27T10:27:22.677Z"
   },
   {
    "duration": 139,
    "start_time": "2024-09-27T10:27:33.366Z"
   },
   {
    "duration": 144,
    "start_time": "2024-09-27T10:27:35.549Z"
   },
   {
    "duration": 142,
    "start_time": "2024-09-27T10:27:38.756Z"
   },
   {
    "duration": 131,
    "start_time": "2024-09-27T10:27:57.398Z"
   },
   {
    "duration": 998,
    "start_time": "2024-09-27T10:28:38.285Z"
   },
   {
    "duration": 1184,
    "start_time": "2024-09-27T10:30:10.194Z"
   },
   {
    "duration": 959,
    "start_time": "2024-09-27T10:30:15.853Z"
   },
   {
    "duration": 233,
    "start_time": "2024-09-27T10:30:20.410Z"
   },
   {
    "duration": 239,
    "start_time": "2024-09-27T10:30:26.212Z"
   },
   {
    "duration": 13,
    "start_time": "2024-09-27T10:32:34.501Z"
   },
   {
    "duration": 11,
    "start_time": "2024-09-27T10:32:38.472Z"
   },
   {
    "duration": 12,
    "start_time": "2024-09-27T10:32:53.327Z"
   },
   {
    "duration": 226,
    "start_time": "2024-09-27T10:34:36.405Z"
   },
   {
    "duration": 229,
    "start_time": "2024-09-27T10:34:46.549Z"
   },
   {
    "duration": 234,
    "start_time": "2024-09-27T10:35:12.422Z"
   },
   {
    "duration": 256,
    "start_time": "2024-09-27T10:35:21.708Z"
   },
   {
    "duration": 11,
    "start_time": "2024-09-27T10:36:51.355Z"
   },
   {
    "duration": 5,
    "start_time": "2024-09-27T10:37:33.609Z"
   },
   {
    "duration": 4,
    "start_time": "2024-09-27T10:37:36.786Z"
   },
   {
    "duration": 8,
    "start_time": "2024-09-27T10:37:47.539Z"
   },
   {
    "duration": 984,
    "start_time": "2024-09-27T10:37:57.953Z"
   },
   {
    "duration": 133,
    "start_time": "2024-09-27T10:38:29.313Z"
   },
   {
    "duration": 123,
    "start_time": "2024-09-27T10:38:35.530Z"
   },
   {
    "duration": 12,
    "start_time": "2024-09-27T10:40:32.294Z"
   },
   {
    "duration": 887,
    "start_time": "2024-09-27T10:41:07.798Z"
   },
   {
    "duration": 138,
    "start_time": "2024-09-27T10:41:15.702Z"
   },
   {
    "duration": 145,
    "start_time": "2024-09-27T10:41:29.622Z"
   },
   {
    "duration": 230,
    "start_time": "2024-09-27T10:41:38.557Z"
   },
   {
    "duration": 130,
    "start_time": "2024-09-27T10:41:50.893Z"
   },
   {
    "duration": 74,
    "start_time": "2024-09-27T10:42:08.037Z"
   },
   {
    "duration": 67,
    "start_time": "2024-09-27T10:42:10.271Z"
   },
   {
    "duration": 140,
    "start_time": "2024-09-27T10:42:45.206Z"
   },
   {
    "duration": 135,
    "start_time": "2024-09-27T10:42:51.102Z"
   },
   {
    "duration": 146,
    "start_time": "2024-09-27T10:42:58.043Z"
   },
   {
    "duration": 144,
    "start_time": "2024-09-27T10:43:08.085Z"
   },
   {
    "duration": 146,
    "start_time": "2024-09-27T10:43:20.051Z"
   },
   {
    "duration": 145,
    "start_time": "2024-09-27T10:43:52.715Z"
   },
   {
    "duration": 10,
    "start_time": "2024-09-27T10:45:10.713Z"
   },
   {
    "duration": 5,
    "start_time": "2024-09-27T10:45:15.418Z"
   },
   {
    "duration": 15,
    "start_time": "2024-09-27T10:48:35.621Z"
   },
   {
    "duration": 124,
    "start_time": "2024-09-27T10:49:22.664Z"
   },
   {
    "duration": 219,
    "start_time": "2024-09-27T10:49:57.716Z"
   },
   {
    "duration": 250,
    "start_time": "2024-09-27T10:50:07.851Z"
   },
   {
    "duration": 8,
    "start_time": "2024-09-27T10:50:43.556Z"
   },
   {
    "duration": 8,
    "start_time": "2024-09-27T10:50:51.323Z"
   },
   {
    "duration": 9,
    "start_time": "2024-09-27T10:51:05.083Z"
   },
   {
    "duration": 109,
    "start_time": "2024-09-27T10:52:24.770Z"
   },
   {
    "duration": 121,
    "start_time": "2024-09-27T10:52:41.619Z"
   },
   {
    "duration": 119,
    "start_time": "2024-09-27T10:54:27.230Z"
   },
   {
    "duration": 126,
    "start_time": "2024-09-27T10:54:36.487Z"
   },
   {
    "duration": 239,
    "start_time": "2024-09-27T11:00:07.801Z"
   },
   {
    "duration": 8,
    "start_time": "2024-09-27T11:00:15.619Z"
   },
   {
    "duration": 121,
    "start_time": "2024-09-27T11:00:22.928Z"
   },
   {
    "duration": 22,
    "start_time": "2024-09-27T11:06:58.988Z"
   },
   {
    "duration": 8,
    "start_time": "2024-09-27T11:08:10.096Z"
   },
   {
    "duration": 9,
    "start_time": "2024-09-27T11:08:12.756Z"
   },
   {
    "duration": 7,
    "start_time": "2024-09-27T11:08:13.144Z"
   },
   {
    "duration": 8,
    "start_time": "2024-09-27T11:08:27.495Z"
   },
   {
    "duration": 1162,
    "start_time": "2024-09-27T11:08:36.455Z"
   },
   {
    "duration": 12,
    "start_time": "2024-09-27T11:08:37.618Z"
   },
   {
    "duration": 10,
    "start_time": "2024-09-27T11:08:37.632Z"
   },
   {
    "duration": 9,
    "start_time": "2024-09-27T11:08:37.644Z"
   },
   {
    "duration": 13,
    "start_time": "2024-09-27T11:08:37.656Z"
   },
   {
    "duration": 7,
    "start_time": "2024-09-27T11:08:37.670Z"
   },
   {
    "duration": 9,
    "start_time": "2024-09-27T11:08:37.690Z"
   },
   {
    "duration": 89,
    "start_time": "2024-09-27T11:08:37.700Z"
   },
   {
    "duration": 4,
    "start_time": "2024-09-27T11:08:37.790Z"
   },
   {
    "duration": 5,
    "start_time": "2024-09-27T11:08:37.797Z"
   },
   {
    "duration": 14,
    "start_time": "2024-09-27T11:08:37.803Z"
   },
   {
    "duration": 5,
    "start_time": "2024-09-27T11:08:37.818Z"
   },
   {
    "duration": 7,
    "start_time": "2024-09-27T11:08:37.824Z"
   },
   {
    "duration": 9,
    "start_time": "2024-09-27T11:08:37.832Z"
   },
   {
    "duration": 4,
    "start_time": "2024-09-27T11:08:37.842Z"
   },
   {
    "duration": 7,
    "start_time": "2024-09-27T11:08:37.848Z"
   },
   {
    "duration": 35,
    "start_time": "2024-09-27T11:08:37.857Z"
   },
   {
    "duration": 8,
    "start_time": "2024-09-27T11:08:37.894Z"
   },
   {
    "duration": 7,
    "start_time": "2024-09-27T11:08:37.904Z"
   },
   {
    "duration": 12,
    "start_time": "2024-09-27T11:08:37.912Z"
   },
   {
    "duration": 285,
    "start_time": "2024-09-27T11:08:37.926Z"
   },
   {
    "duration": 11,
    "start_time": "2024-09-27T11:08:38.212Z"
   },
   {
    "duration": 7,
    "start_time": "2024-09-27T11:08:38.224Z"
   },
   {
    "duration": 137,
    "start_time": "2024-09-27T11:08:38.232Z"
   },
   {
    "duration": 5,
    "start_time": "2024-09-27T11:08:38.370Z"
   },
   {
    "duration": 150,
    "start_time": "2024-09-27T11:08:38.376Z"
   },
   {
    "duration": 256,
    "start_time": "2024-09-27T11:08:38.528Z"
   },
   {
    "duration": 8,
    "start_time": "2024-09-27T11:08:38.789Z"
   },
   {
    "duration": 148,
    "start_time": "2024-09-27T11:08:38.798Z"
   },
   {
    "duration": 249,
    "start_time": "2024-09-27T11:08:38.948Z"
   },
   {
    "duration": 8,
    "start_time": "2024-09-27T11:08:39.198Z"
   },
   {
    "duration": 139,
    "start_time": "2024-09-27T11:08:39.207Z"
   },
   {
    "duration": 8,
    "start_time": "2024-09-27T11:08:39.348Z"
   },
   {
    "duration": 101,
    "start_time": "2024-09-27T11:08:39.358Z"
   },
   {
    "duration": 9,
    "start_time": "2024-09-27T11:08:50.055Z"
   },
   {
    "duration": 22,
    "start_time": "2024-09-27T11:08:52.375Z"
   },
   {
    "duration": 8,
    "start_time": "2024-09-27T11:09:01.071Z"
   },
   {
    "duration": 15,
    "start_time": "2024-09-27T11:09:12.487Z"
   },
   {
    "duration": 9,
    "start_time": "2024-09-27T11:09:33.886Z"
   },
   {
    "duration": 11,
    "start_time": "2024-09-27T11:09:38.001Z"
   },
   {
    "duration": 8,
    "start_time": "2024-09-27T11:33:46.851Z"
   },
   {
    "duration": 16,
    "start_time": "2024-09-27T11:33:54.702Z"
   },
   {
    "duration": 77,
    "start_time": "2024-09-27T11:34:04.795Z"
   },
   {
    "duration": 11,
    "start_time": "2024-09-27T11:34:11.723Z"
   },
   {
    "duration": 6,
    "start_time": "2024-09-27T11:34:29.779Z"
   },
   {
    "duration": 6,
    "start_time": "2024-09-27T11:34:31.754Z"
   },
   {
    "duration": 11,
    "start_time": "2024-09-27T11:34:35.922Z"
   },
   {
    "duration": 251,
    "start_time": "2024-09-27T12:34:42.409Z"
   },
   {
    "duration": 258,
    "start_time": "2024-09-27T12:34:52.353Z"
   },
   {
    "duration": 8,
    "start_time": "2024-09-27T12:35:00.507Z"
   },
   {
    "duration": 192,
    "start_time": "2024-09-27T12:35:16.335Z"
   },
   {
    "duration": 249,
    "start_time": "2024-09-27T12:39:22.523Z"
   },
   {
    "duration": 8,
    "start_time": "2024-09-27T12:39:30.322Z"
   },
   {
    "duration": 128,
    "start_time": "2024-09-27T12:39:38.546Z"
   },
   {
    "duration": 229,
    "start_time": "2024-09-27T12:41:27.617Z"
   },
   {
    "duration": 11,
    "start_time": "2024-09-27T12:41:37.240Z"
   },
   {
    "duration": 119,
    "start_time": "2024-09-27T12:41:43.945Z"
   },
   {
    "duration": 254,
    "start_time": "2024-09-27T12:43:05.209Z"
   },
   {
    "duration": 8,
    "start_time": "2024-09-27T12:43:09.142Z"
   },
   {
    "duration": 144,
    "start_time": "2024-09-27T12:43:18.111Z"
   },
   {
    "duration": 20,
    "start_time": "2024-09-27T12:44:57.207Z"
   },
   {
    "duration": 18,
    "start_time": "2024-09-27T12:46:06.209Z"
   },
   {
    "duration": 21,
    "start_time": "2024-09-27T12:47:57.851Z"
   },
   {
    "duration": 14,
    "start_time": "2024-09-27T12:48:26.375Z"
   },
   {
    "duration": 15,
    "start_time": "2024-09-27T12:48:31.874Z"
   },
   {
    "duration": 12,
    "start_time": "2024-09-27T12:56:36.952Z"
   },
   {
    "duration": 11,
    "start_time": "2024-09-27T12:56:52.287Z"
   },
   {
    "duration": 11,
    "start_time": "2024-09-27T12:58:29.512Z"
   },
   {
    "duration": 8,
    "start_time": "2024-09-27T12:58:35.126Z"
   },
   {
    "duration": 13,
    "start_time": "2024-09-27T12:58:46.759Z"
   },
   {
    "duration": 18,
    "start_time": "2024-09-27T12:59:38.872Z"
   },
   {
    "duration": 17,
    "start_time": "2024-09-27T12:59:51.670Z"
   },
   {
    "duration": 21,
    "start_time": "2024-09-27T12:59:57.661Z"
   },
   {
    "duration": 3,
    "start_time": "2024-09-27T13:02:03.306Z"
   },
   {
    "duration": 959,
    "start_time": "2024-09-27T13:02:05.634Z"
   },
   {
    "duration": 918,
    "start_time": "2024-09-27T13:02:12.219Z"
   },
   {
    "duration": 4,
    "start_time": "2024-09-27T13:02:39.009Z"
   },
   {
    "duration": 54,
    "start_time": "2024-09-27T13:02:42.098Z"
   },
   {
    "duration": 57,
    "start_time": "2024-09-27T13:02:53.865Z"
   },
   {
    "duration": 17,
    "start_time": "2024-09-27T13:03:16.099Z"
   },
   {
    "duration": 811,
    "start_time": "2024-09-27T13:03:27.240Z"
   },
   {
    "duration": 5,
    "start_time": "2024-09-27T13:06:43.206Z"
   },
   {
    "duration": 12,
    "start_time": "2024-09-27T13:06:46.933Z"
   },
   {
    "duration": 4,
    "start_time": "2024-09-27T13:07:00.942Z"
   },
   {
    "duration": 3,
    "start_time": "2024-09-27T13:15:05.110Z"
   },
   {
    "duration": 8,
    "start_time": "2024-09-27T13:15:44.452Z"
   },
   {
    "duration": 7,
    "start_time": "2024-09-27T13:15:52.242Z"
   },
   {
    "duration": 732,
    "start_time": "2024-09-27T13:15:54.181Z"
   },
   {
    "duration": 2,
    "start_time": "2024-09-27T13:17:13.009Z"
   },
   {
    "duration": 734,
    "start_time": "2024-09-27T13:17:30.568Z"
   },
   {
    "duration": 111,
    "start_time": "2024-09-27T13:17:35.524Z"
   },
   {
    "duration": 17,
    "start_time": "2024-09-27T13:17:49.616Z"
   },
   {
    "duration": 50,
    "start_time": "2024-09-27T13:18:37.631Z"
   },
   {
    "duration": 16,
    "start_time": "2024-09-27T13:18:38.023Z"
   },
   {
    "duration": 3,
    "start_time": "2024-09-27T13:18:52.343Z"
   },
   {
    "duration": 17,
    "start_time": "2024-09-27T13:18:53.502Z"
   },
   {
    "duration": 3,
    "start_time": "2024-09-27T13:18:57.055Z"
   },
   {
    "duration": 15,
    "start_time": "2024-09-27T13:18:57.462Z"
   },
   {
    "duration": 3,
    "start_time": "2024-09-27T13:19:03.010Z"
   },
   {
    "duration": 135,
    "start_time": "2024-09-27T13:19:03.328Z"
   },
   {
    "duration": 10,
    "start_time": "2024-09-27T13:19:08.470Z"
   },
   {
    "duration": 7,
    "start_time": "2024-09-27T13:20:56.725Z"
   },
   {
    "duration": 18,
    "start_time": "2024-09-27T13:20:58.645Z"
   },
   {
    "duration": 6,
    "start_time": "2024-09-27T13:31:01.748Z"
   },
   {
    "duration": 6,
    "start_time": "2024-09-27T13:32:02.762Z"
   },
   {
    "duration": 2,
    "start_time": "2024-09-27T13:35:32.535Z"
   },
   {
    "duration": 55,
    "start_time": "2024-09-27T13:36:14.308Z"
   },
   {
    "duration": 5,
    "start_time": "2024-09-27T13:38:29.677Z"
   },
   {
    "duration": 9,
    "start_time": "2024-09-27T13:42:54.079Z"
   },
   {
    "duration": 8,
    "start_time": "2024-09-27T13:43:15.029Z"
   },
   {
    "duration": 8,
    "start_time": "2024-09-27T13:45:02.690Z"
   },
   {
    "duration": 8,
    "start_time": "2024-09-27T13:45:10.705Z"
   },
   {
    "duration": 16,
    "start_time": "2024-09-27T13:45:16.249Z"
   },
   {
    "duration": 7,
    "start_time": "2024-09-27T13:45:49.721Z"
   },
   {
    "duration": 10,
    "start_time": "2024-09-27T13:48:13.645Z"
   },
   {
    "duration": 9,
    "start_time": "2024-09-27T13:48:55.580Z"
   },
   {
    "duration": 6,
    "start_time": "2024-09-27T13:48:58.862Z"
   },
   {
    "duration": 1140,
    "start_time": "2024-09-27T13:49:49.677Z"
   },
   {
    "duration": 14,
    "start_time": "2024-09-27T13:49:50.818Z"
   },
   {
    "duration": 28,
    "start_time": "2024-09-27T13:49:50.833Z"
   },
   {
    "duration": 18,
    "start_time": "2024-09-27T13:49:50.863Z"
   },
   {
    "duration": 27,
    "start_time": "2024-09-27T13:49:50.883Z"
   },
   {
    "duration": 20,
    "start_time": "2024-09-27T13:49:50.912Z"
   },
   {
    "duration": 26,
    "start_time": "2024-09-27T13:49:50.933Z"
   },
   {
    "duration": 30,
    "start_time": "2024-09-27T13:49:50.961Z"
   },
   {
    "duration": 48,
    "start_time": "2024-09-27T13:49:50.992Z"
   },
   {
    "duration": 28,
    "start_time": "2024-09-27T13:49:51.042Z"
   },
   {
    "duration": 25,
    "start_time": "2024-09-27T13:49:51.072Z"
   },
   {
    "duration": 20,
    "start_time": "2024-09-27T13:49:51.098Z"
   },
   {
    "duration": 14,
    "start_time": "2024-09-27T13:49:51.120Z"
   },
   {
    "duration": 41,
    "start_time": "2024-09-27T13:49:51.136Z"
   },
   {
    "duration": 25,
    "start_time": "2024-09-27T13:49:51.179Z"
   },
   {
    "duration": 26,
    "start_time": "2024-09-27T13:49:51.205Z"
   },
   {
    "duration": 17,
    "start_time": "2024-09-27T13:49:51.232Z"
   },
   {
    "duration": 24,
    "start_time": "2024-09-27T13:49:51.251Z"
   },
   {
    "duration": 13,
    "start_time": "2024-09-27T13:49:51.276Z"
   },
   {
    "duration": 13,
    "start_time": "2024-09-27T13:49:51.290Z"
   },
   {
    "duration": 264,
    "start_time": "2024-09-27T13:49:51.305Z"
   },
   {
    "duration": 18,
    "start_time": "2024-09-27T13:49:51.571Z"
   },
   {
    "duration": 59,
    "start_time": "2024-09-27T13:49:51.591Z"
   },
   {
    "duration": 145,
    "start_time": "2024-09-27T13:49:51.652Z"
   },
   {
    "duration": 5,
    "start_time": "2024-09-27T13:49:51.799Z"
   },
   {
    "duration": 163,
    "start_time": "2024-09-27T13:49:51.806Z"
   },
   {
    "duration": 249,
    "start_time": "2024-09-27T13:49:51.970Z"
   },
   {
    "duration": 8,
    "start_time": "2024-09-27T13:49:52.223Z"
   },
   {
    "duration": 216,
    "start_time": "2024-09-27T13:49:52.232Z"
   },
   {
    "duration": 261,
    "start_time": "2024-09-27T13:49:52.450Z"
   },
   {
    "duration": 8,
    "start_time": "2024-09-27T13:49:52.713Z"
   },
   {
    "duration": 150,
    "start_time": "2024-09-27T13:49:52.722Z"
   },
   {
    "duration": 17,
    "start_time": "2024-09-27T13:49:52.873Z"
   },
   {
    "duration": 9,
    "start_time": "2024-09-27T13:49:52.892Z"
   },
   {
    "duration": 19,
    "start_time": "2024-09-27T13:49:52.903Z"
   },
   {
    "duration": 10,
    "start_time": "2024-09-27T13:49:52.923Z"
   },
   {
    "duration": 12,
    "start_time": "2024-09-27T13:49:52.934Z"
   },
   {
    "duration": 95,
    "start_time": "2024-09-27T13:49:52.947Z"
   },
   {
    "duration": 11,
    "start_time": "2024-09-27T13:49:53.044Z"
   },
   {
    "duration": 278,
    "start_time": "2024-09-27T13:49:53.056Z"
   },
   {
    "duration": 8,
    "start_time": "2024-09-27T13:49:53.336Z"
   },
   {
    "duration": 120,
    "start_time": "2024-09-27T13:49:53.346Z"
   },
   {
    "duration": 255,
    "start_time": "2024-09-27T13:49:53.467Z"
   },
   {
    "duration": 8,
    "start_time": "2024-09-27T13:49:53.723Z"
   },
   {
    "duration": 122,
    "start_time": "2024-09-27T13:49:53.733Z"
   },
   {
    "duration": 239,
    "start_time": "2024-09-27T13:49:53.857Z"
   },
   {
    "duration": 8,
    "start_time": "2024-09-27T13:49:54.097Z"
   },
   {
    "duration": 136,
    "start_time": "2024-09-27T13:49:54.106Z"
   },
   {
    "duration": 250,
    "start_time": "2024-09-27T13:49:54.243Z"
   },
   {
    "duration": 7,
    "start_time": "2024-09-27T13:49:54.494Z"
   },
   {
    "duration": 211,
    "start_time": "2024-09-27T13:49:54.503Z"
   },
   {
    "duration": 19,
    "start_time": "2024-09-27T13:49:54.716Z"
   },
   {
    "duration": 24,
    "start_time": "2024-09-27T13:49:54.736Z"
   },
   {
    "duration": 10,
    "start_time": "2024-09-27T13:49:54.762Z"
   },
   {
    "duration": 744,
    "start_time": "2024-09-27T13:49:54.774Z"
   },
   {
    "duration": 4,
    "start_time": "2024-09-27T13:49:55.519Z"
   },
   {
    "duration": 26,
    "start_time": "2024-09-27T13:49:55.524Z"
   },
   {
    "duration": 13,
    "start_time": "2024-09-27T13:49:55.552Z"
   },
   {
    "duration": 182,
    "start_time": "2024-09-27T13:49:55.566Z"
   },
   {
    "duration": 9,
    "start_time": "2024-09-27T13:49:55.750Z"
   },
   {
    "duration": 30,
    "start_time": "2024-09-27T13:49:55.760Z"
   },
   {
    "duration": 5,
    "start_time": "2024-09-27T13:49:55.792Z"
   },
   {
    "duration": 4,
    "start_time": "2024-09-27T13:49:55.799Z"
   },
   {
    "duration": 27,
    "start_time": "2024-09-27T13:49:55.805Z"
   },
   {
    "duration": 1132,
    "start_time": "2024-09-27T13:50:34.490Z"
   },
   {
    "duration": 14,
    "start_time": "2024-09-27T13:50:35.623Z"
   },
   {
    "duration": 43,
    "start_time": "2024-09-27T13:50:35.638Z"
   },
   {
    "duration": 21,
    "start_time": "2024-09-27T13:50:35.684Z"
   },
   {
    "duration": 42,
    "start_time": "2024-09-27T13:50:35.706Z"
   },
   {
    "duration": 6,
    "start_time": "2024-09-27T13:50:35.750Z"
   },
   {
    "duration": 42,
    "start_time": "2024-09-27T13:50:35.758Z"
   },
   {
    "duration": 35,
    "start_time": "2024-09-27T13:50:35.802Z"
   },
   {
    "duration": 5,
    "start_time": "2024-09-27T13:50:35.839Z"
   },
   {
    "duration": 5,
    "start_time": "2024-09-27T13:50:35.848Z"
   },
   {
    "duration": 7,
    "start_time": "2024-09-27T13:50:35.855Z"
   },
   {
    "duration": 10,
    "start_time": "2024-09-27T13:50:35.863Z"
   },
   {
    "duration": 20,
    "start_time": "2024-09-27T13:50:35.874Z"
   },
   {
    "duration": 37,
    "start_time": "2024-09-27T13:50:35.896Z"
   },
   {
    "duration": 12,
    "start_time": "2024-09-27T13:50:35.934Z"
   },
   {
    "duration": 6,
    "start_time": "2024-09-27T13:50:35.948Z"
   },
   {
    "duration": 5,
    "start_time": "2024-09-27T13:50:35.956Z"
   },
   {
    "duration": 18,
    "start_time": "2024-09-27T13:50:35.963Z"
   },
   {
    "duration": 36,
    "start_time": "2024-09-27T13:50:35.983Z"
   },
   {
    "duration": 22,
    "start_time": "2024-09-27T13:50:36.021Z"
   },
   {
    "duration": 247,
    "start_time": "2024-09-27T13:50:36.045Z"
   },
   {
    "duration": 12,
    "start_time": "2024-09-27T13:50:36.294Z"
   },
   {
    "duration": 23,
    "start_time": "2024-09-27T13:50:36.308Z"
   },
   {
    "duration": 128,
    "start_time": "2024-09-27T13:50:36.333Z"
   },
   {
    "duration": 5,
    "start_time": "2024-09-27T13:50:36.462Z"
   },
   {
    "duration": 202,
    "start_time": "2024-09-27T13:50:36.468Z"
   },
   {
    "duration": 246,
    "start_time": "2024-09-27T13:50:36.672Z"
   },
   {
    "duration": 8,
    "start_time": "2024-09-27T13:50:36.921Z"
   },
   {
    "duration": 134,
    "start_time": "2024-09-27T13:50:36.930Z"
   },
   {
    "duration": 246,
    "start_time": "2024-09-27T13:50:37.065Z"
   },
   {
    "duration": 8,
    "start_time": "2024-09-27T13:50:37.313Z"
   },
   {
    "duration": 139,
    "start_time": "2024-09-27T13:50:37.322Z"
   },
   {
    "duration": 8,
    "start_time": "2024-09-27T13:50:37.463Z"
   },
   {
    "duration": 20,
    "start_time": "2024-09-27T13:50:37.472Z"
   },
   {
    "duration": 11,
    "start_time": "2024-09-27T13:50:37.494Z"
   },
   {
    "duration": 20,
    "start_time": "2024-09-27T13:50:37.506Z"
   },
   {
    "duration": 29,
    "start_time": "2024-09-27T13:50:37.528Z"
   },
   {
    "duration": 75,
    "start_time": "2024-09-27T13:50:37.559Z"
   },
   {
    "duration": 11,
    "start_time": "2024-09-27T13:50:37.636Z"
   },
   {
    "duration": 237,
    "start_time": "2024-09-27T13:50:37.648Z"
   },
   {
    "duration": 9,
    "start_time": "2024-09-27T13:50:37.886Z"
   },
   {
    "duration": 123,
    "start_time": "2024-09-27T13:50:37.896Z"
   },
   {
    "duration": 252,
    "start_time": "2024-09-27T13:50:38.020Z"
   },
   {
    "duration": 16,
    "start_time": "2024-09-27T13:50:38.274Z"
   },
   {
    "duration": 116,
    "start_time": "2024-09-27T13:50:38.292Z"
   },
   {
    "duration": 235,
    "start_time": "2024-09-27T13:50:38.409Z"
   },
   {
    "duration": 8,
    "start_time": "2024-09-27T13:50:38.646Z"
   },
   {
    "duration": 126,
    "start_time": "2024-09-27T13:50:38.655Z"
   },
   {
    "duration": 233,
    "start_time": "2024-09-27T13:50:38.789Z"
   },
   {
    "duration": 8,
    "start_time": "2024-09-27T13:50:39.023Z"
   },
   {
    "duration": 200,
    "start_time": "2024-09-27T13:50:39.032Z"
   },
   {
    "duration": 18,
    "start_time": "2024-09-27T13:50:39.234Z"
   },
   {
    "duration": 12,
    "start_time": "2024-09-27T13:50:39.253Z"
   },
   {
    "duration": 31,
    "start_time": "2024-09-27T13:50:39.267Z"
   },
   {
    "duration": 758,
    "start_time": "2024-09-27T13:50:39.300Z"
   },
   {
    "duration": 2,
    "start_time": "2024-09-27T13:50:40.060Z"
   },
   {
    "duration": 18,
    "start_time": "2024-09-27T13:50:40.064Z"
   },
   {
    "duration": 5,
    "start_time": "2024-09-27T13:50:40.084Z"
   },
   {
    "duration": 145,
    "start_time": "2024-09-27T13:50:40.090Z"
   },
   {
    "duration": 14,
    "start_time": "2024-09-27T13:50:40.237Z"
   },
   {
    "duration": 58,
    "start_time": "2024-09-27T13:50:40.253Z"
   },
   {
    "duration": 6,
    "start_time": "2024-09-27T13:50:40.313Z"
   },
   {
    "duration": 12,
    "start_time": "2024-09-27T13:50:40.320Z"
   },
   {
    "duration": 10,
    "start_time": "2024-09-27T13:50:40.334Z"
   },
   {
    "duration": 9,
    "start_time": "2024-09-27T13:51:59.712Z"
   },
   {
    "duration": 8,
    "start_time": "2024-09-27T13:52:40.513Z"
   },
   {
    "duration": 7,
    "start_time": "2024-09-27T13:58:34.920Z"
   },
   {
    "duration": 10,
    "start_time": "2024-09-27T13:58:45.064Z"
   },
   {
    "duration": 1061,
    "start_time": "2024-09-27T13:58:54.650Z"
   },
   {
    "duration": 12,
    "start_time": "2024-09-27T13:58:55.713Z"
   },
   {
    "duration": 14,
    "start_time": "2024-09-27T13:58:55.726Z"
   },
   {
    "duration": 8,
    "start_time": "2024-09-27T13:58:55.742Z"
   },
   {
    "duration": 11,
    "start_time": "2024-09-27T13:58:55.751Z"
   },
   {
    "duration": 6,
    "start_time": "2024-09-27T13:58:55.763Z"
   },
   {
    "duration": 9,
    "start_time": "2024-09-27T13:58:55.770Z"
   },
   {
    "duration": 6,
    "start_time": "2024-09-27T13:58:55.790Z"
   },
   {
    "duration": 15,
    "start_time": "2024-09-27T13:58:55.797Z"
   },
   {
    "duration": 5,
    "start_time": "2024-09-27T13:58:55.814Z"
   },
   {
    "duration": 6,
    "start_time": "2024-09-27T13:58:55.821Z"
   },
   {
    "duration": 5,
    "start_time": "2024-09-27T13:58:55.828Z"
   },
   {
    "duration": 9,
    "start_time": "2024-09-27T13:58:55.834Z"
   },
   {
    "duration": 7,
    "start_time": "2024-09-27T13:58:55.845Z"
   },
   {
    "duration": 10,
    "start_time": "2024-09-27T13:58:55.853Z"
   },
   {
    "duration": 26,
    "start_time": "2024-09-27T13:58:55.864Z"
   },
   {
    "duration": 4,
    "start_time": "2024-09-27T13:58:55.891Z"
   },
   {
    "duration": 12,
    "start_time": "2024-09-27T13:58:55.897Z"
   },
   {
    "duration": 9,
    "start_time": "2024-09-27T13:58:55.911Z"
   },
   {
    "duration": 20,
    "start_time": "2024-09-27T13:58:55.922Z"
   },
   {
    "duration": 260,
    "start_time": "2024-09-27T13:58:55.944Z"
   },
   {
    "duration": 11,
    "start_time": "2024-09-27T13:58:56.205Z"
   },
   {
    "duration": 17,
    "start_time": "2024-09-27T13:58:56.217Z"
   },
   {
    "duration": 128,
    "start_time": "2024-09-27T13:58:56.236Z"
   },
   {
    "duration": 5,
    "start_time": "2024-09-27T13:58:56.366Z"
   },
   {
    "duration": 151,
    "start_time": "2024-09-27T13:58:56.372Z"
   },
   {
    "duration": 253,
    "start_time": "2024-09-27T13:58:56.525Z"
   },
   {
    "duration": 13,
    "start_time": "2024-09-27T13:58:56.781Z"
   },
   {
    "duration": 132,
    "start_time": "2024-09-27T13:58:56.796Z"
   },
   {
    "duration": 243,
    "start_time": "2024-09-27T13:58:56.930Z"
   },
   {
    "duration": 16,
    "start_time": "2024-09-27T13:58:57.175Z"
   },
   {
    "duration": 137,
    "start_time": "2024-09-27T13:58:57.193Z"
   },
   {
    "duration": 10,
    "start_time": "2024-09-27T13:58:57.331Z"
   },
   {
    "duration": 8,
    "start_time": "2024-09-27T13:58:57.343Z"
   },
   {
    "duration": 25,
    "start_time": "2024-09-27T13:58:57.353Z"
   },
   {
    "duration": 14,
    "start_time": "2024-09-27T13:58:57.380Z"
   },
   {
    "duration": 17,
    "start_time": "2024-09-27T13:58:57.395Z"
   },
   {
    "duration": 82,
    "start_time": "2024-09-27T13:58:57.414Z"
   },
   {
    "duration": 11,
    "start_time": "2024-09-27T13:58:57.497Z"
   },
   {
    "duration": 242,
    "start_time": "2024-09-27T13:58:57.510Z"
   },
   {
    "duration": 7,
    "start_time": "2024-09-27T13:58:57.754Z"
   },
   {
    "duration": 115,
    "start_time": "2024-09-27T13:58:57.762Z"
   },
   {
    "duration": 247,
    "start_time": "2024-09-27T13:58:57.879Z"
   },
   {
    "duration": 7,
    "start_time": "2024-09-27T13:58:58.128Z"
   },
   {
    "duration": 138,
    "start_time": "2024-09-27T13:58:58.137Z"
   },
   {
    "duration": 246,
    "start_time": "2024-09-27T13:58:58.277Z"
   },
   {
    "duration": 7,
    "start_time": "2024-09-27T13:58:58.525Z"
   },
   {
    "duration": 148,
    "start_time": "2024-09-27T13:58:58.533Z"
   },
   {
    "duration": 242,
    "start_time": "2024-09-27T13:58:58.683Z"
   },
   {
    "duration": 7,
    "start_time": "2024-09-27T13:58:58.927Z"
   },
   {
    "duration": 203,
    "start_time": "2024-09-27T13:58:58.936Z"
   },
   {
    "duration": 19,
    "start_time": "2024-09-27T13:58:59.141Z"
   },
   {
    "duration": 11,
    "start_time": "2024-09-27T13:58:59.162Z"
   },
   {
    "duration": 11,
    "start_time": "2024-09-27T13:58:59.189Z"
   },
   {
    "duration": 818,
    "start_time": "2024-09-27T13:58:59.201Z"
   },
   {
    "duration": 3,
    "start_time": "2024-09-27T13:59:00.021Z"
   },
   {
    "duration": 39,
    "start_time": "2024-09-27T13:59:00.025Z"
   },
   {
    "duration": 9,
    "start_time": "2024-09-27T13:59:00.066Z"
   },
   {
    "duration": 166,
    "start_time": "2024-09-27T13:59:00.077Z"
   },
   {
    "duration": 13,
    "start_time": "2024-09-27T13:59:00.246Z"
   },
   {
    "duration": 82,
    "start_time": "2024-09-27T13:59:00.262Z"
   },
   {
    "duration": 31,
    "start_time": "2024-09-27T13:59:00.346Z"
   },
   {
    "duration": 44,
    "start_time": "2024-09-27T13:59:00.379Z"
   },
   {
    "duration": 24,
    "start_time": "2024-09-27T13:59:00.425Z"
   },
   {
    "duration": 6,
    "start_time": "2024-09-27T13:59:27.538Z"
   },
   {
    "duration": 97,
    "start_time": "2024-09-27T14:00:35.120Z"
   },
   {
    "duration": 6,
    "start_time": "2024-09-27T14:01:18.614Z"
   },
   {
    "duration": 768,
    "start_time": "2024-09-27T14:05:52.394Z"
   },
   {
    "duration": 4,
    "start_time": "2024-09-27T14:05:56.264Z"
   },
   {
    "duration": 9,
    "start_time": "2024-09-27T14:05:56.441Z"
   },
   {
    "duration": 3,
    "start_time": "2024-09-27T14:05:56.592Z"
   },
   {
    "duration": 129,
    "start_time": "2024-09-27T14:05:56.738Z"
   },
   {
    "duration": 9,
    "start_time": "2024-09-27T14:05:56.913Z"
   },
   {
    "duration": 19,
    "start_time": "2024-09-27T14:05:57.042Z"
   },
   {
    "duration": 6,
    "start_time": "2024-09-27T14:05:58.338Z"
   },
   {
    "duration": 4,
    "start_time": "2024-09-27T14:06:00.417Z"
   },
   {
    "duration": 10,
    "start_time": "2024-09-27T14:06:02.122Z"
   },
   {
    "duration": 945,
    "start_time": "2024-09-27T14:16:10.558Z"
   },
   {
    "duration": 732,
    "start_time": "2024-09-27T14:18:51.906Z"
   },
   {
    "duration": 16,
    "start_time": "2024-09-27T14:19:01.278Z"
   },
   {
    "duration": 8,
    "start_time": "2024-09-27T14:19:07.947Z"
   },
   {
    "duration": 10,
    "start_time": "2024-09-27T14:19:26.650Z"
   },
   {
    "duration": 19,
    "start_time": "2024-09-27T14:19:35.642Z"
   },
   {
    "duration": 9,
    "start_time": "2024-09-27T14:19:37.833Z"
   },
   {
    "duration": 10,
    "start_time": "2024-09-27T14:19:51.322Z"
   },
   {
    "duration": 5,
    "start_time": "2024-09-27T14:19:51.969Z"
   },
   {
    "duration": 15,
    "start_time": "2024-09-27T14:23:01.832Z"
   },
   {
    "duration": 10,
    "start_time": "2024-09-27T14:32:00.820Z"
   },
   {
    "duration": 1085,
    "start_time": "2024-09-27T14:34:53.229Z"
   },
   {
    "duration": 12,
    "start_time": "2024-09-27T14:34:54.316Z"
   },
   {
    "duration": 12,
    "start_time": "2024-09-27T14:34:54.330Z"
   },
   {
    "duration": 17,
    "start_time": "2024-09-27T14:34:54.344Z"
   },
   {
    "duration": 42,
    "start_time": "2024-09-27T14:34:54.363Z"
   },
   {
    "duration": 15,
    "start_time": "2024-09-27T14:34:54.407Z"
   },
   {
    "duration": 12,
    "start_time": "2024-09-27T14:34:54.423Z"
   },
   {
    "duration": 8,
    "start_time": "2024-09-27T14:34:54.436Z"
   },
   {
    "duration": 32,
    "start_time": "2024-09-27T14:34:54.445Z"
   },
   {
    "duration": 14,
    "start_time": "2024-09-27T14:34:54.480Z"
   },
   {
    "duration": 17,
    "start_time": "2024-09-27T14:34:54.495Z"
   },
   {
    "duration": 22,
    "start_time": "2024-09-27T14:34:54.513Z"
   },
   {
    "duration": 17,
    "start_time": "2024-09-27T14:34:54.537Z"
   },
   {
    "duration": 19,
    "start_time": "2024-09-27T14:34:54.555Z"
   },
   {
    "duration": 13,
    "start_time": "2024-09-27T14:34:54.575Z"
   },
   {
    "duration": 8,
    "start_time": "2024-09-27T14:34:54.589Z"
   },
   {
    "duration": 11,
    "start_time": "2024-09-27T14:34:54.598Z"
   },
   {
    "duration": 16,
    "start_time": "2024-09-27T14:34:54.610Z"
   },
   {
    "duration": 8,
    "start_time": "2024-09-27T14:34:54.627Z"
   },
   {
    "duration": 39,
    "start_time": "2024-09-27T14:34:54.636Z"
   },
   {
    "duration": 297,
    "start_time": "2024-09-27T14:34:54.676Z"
   },
   {
    "duration": 20,
    "start_time": "2024-09-27T14:34:54.975Z"
   },
   {
    "duration": 38,
    "start_time": "2024-09-27T14:34:54.996Z"
   },
   {
    "duration": 133,
    "start_time": "2024-09-27T14:34:55.035Z"
   },
   {
    "duration": 5,
    "start_time": "2024-09-27T14:34:55.170Z"
   },
   {
    "duration": 170,
    "start_time": "2024-09-27T14:34:55.176Z"
   },
   {
    "duration": 250,
    "start_time": "2024-09-27T14:34:55.347Z"
   },
   {
    "duration": 7,
    "start_time": "2024-09-27T14:34:55.601Z"
   },
   {
    "duration": 137,
    "start_time": "2024-09-27T14:34:55.610Z"
   },
   {
    "duration": 257,
    "start_time": "2024-09-27T14:34:55.748Z"
   },
   {
    "duration": 9,
    "start_time": "2024-09-27T14:34:56.006Z"
   },
   {
    "duration": 135,
    "start_time": "2024-09-27T14:34:56.016Z"
   },
   {
    "duration": 9,
    "start_time": "2024-09-27T14:34:56.152Z"
   },
   {
    "duration": 9,
    "start_time": "2024-09-27T14:34:56.162Z"
   },
   {
    "duration": 23,
    "start_time": "2024-09-27T14:34:56.173Z"
   },
   {
    "duration": 7,
    "start_time": "2024-09-27T14:34:56.197Z"
   },
   {
    "duration": 28,
    "start_time": "2024-09-27T14:34:56.206Z"
   },
   {
    "duration": 83,
    "start_time": "2024-09-27T14:34:56.235Z"
   },
   {
    "duration": 11,
    "start_time": "2024-09-27T14:34:56.319Z"
   },
   {
    "duration": 232,
    "start_time": "2024-09-27T14:34:56.331Z"
   },
   {
    "duration": 8,
    "start_time": "2024-09-27T14:34:56.565Z"
   },
   {
    "duration": 119,
    "start_time": "2024-09-27T14:34:56.574Z"
   },
   {
    "duration": 256,
    "start_time": "2024-09-27T14:34:56.694Z"
   },
   {
    "duration": 7,
    "start_time": "2024-09-27T14:34:56.952Z"
   },
   {
    "duration": 123,
    "start_time": "2024-09-27T14:34:56.961Z"
   },
   {
    "duration": 244,
    "start_time": "2024-09-27T14:34:57.089Z"
   },
   {
    "duration": 9,
    "start_time": "2024-09-27T14:34:57.334Z"
   },
   {
    "duration": 125,
    "start_time": "2024-09-27T14:34:57.345Z"
   },
   {
    "duration": 234,
    "start_time": "2024-09-27T14:34:57.472Z"
   },
   {
    "duration": 7,
    "start_time": "2024-09-27T14:34:57.707Z"
   },
   {
    "duration": 200,
    "start_time": "2024-09-27T14:34:57.716Z"
   },
   {
    "duration": 18,
    "start_time": "2024-09-27T14:34:57.917Z"
   },
   {
    "duration": 18,
    "start_time": "2024-09-27T14:34:57.936Z"
   },
   {
    "duration": 10,
    "start_time": "2024-09-27T14:34:57.955Z"
   },
   {
    "duration": 771,
    "start_time": "2024-09-27T14:34:57.966Z"
   },
   {
    "duration": 3,
    "start_time": "2024-09-27T14:34:58.739Z"
   },
   {
    "duration": 65,
    "start_time": "2024-09-27T14:34:58.743Z"
   },
   {
    "duration": 18,
    "start_time": "2024-09-27T14:34:58.810Z"
   },
   {
    "duration": 129,
    "start_time": "2024-09-27T14:34:58.830Z"
   },
   {
    "duration": 9,
    "start_time": "2024-09-27T14:34:58.961Z"
   },
   {
    "duration": 33,
    "start_time": "2024-09-27T14:34:58.971Z"
   },
   {
    "duration": 4,
    "start_time": "2024-09-27T14:34:59.006Z"
   },
   {
    "duration": 5,
    "start_time": "2024-09-27T14:34:59.011Z"
   },
   {
    "duration": 11,
    "start_time": "2024-09-27T14:34:59.018Z"
   },
   {
    "duration": 785,
    "start_time": "2024-09-27T14:35:15.194Z"
   },
   {
    "duration": 11,
    "start_time": "2024-09-27T14:35:22.559Z"
   },
   {
    "duration": 8,
    "start_time": "2024-09-27T14:36:03.642Z"
   },
   {
    "duration": 7,
    "start_time": "2024-09-27T14:36:04.935Z"
   }
  ],
  "kernelspec": {
   "display_name": "Python 3 (ipykernel)",
   "language": "python",
   "name": "python3"
  },
  "language_info": {
   "codemirror_mode": {
    "name": "ipython",
    "version": 3
   },
   "file_extension": ".py",
   "mimetype": "text/x-python",
   "name": "python",
   "nbconvert_exporter": "python",
   "pygments_lexer": "ipython3",
   "version": "3.9.5"
  },
  "toc": {
   "base_numbering": 1,
   "nav_menu": {},
   "number_sections": true,
   "sideBar": true,
   "skip_h1_title": true,
   "title_cell": "Table of Contents",
   "title_sidebar": "Contents",
   "toc_cell": false,
   "toc_position": {},
   "toc_section_display": true,
   "toc_window_display": false
  }
 },
 "nbformat": 4,
 "nbformat_minor": 5
}
