{
 "cells": [
  {
   "cell_type": "markdown",
   "id": "386f2ae7",
   "metadata": {
    "deletable": false,
    "editable": false,
    "id": "386f2ae7"
   },
   "source": [
    "# Исследование надежности заемщиков\n"
   ]
  },
  {
   "cell_type": "markdown",
   "id": "ffe86f65",
   "metadata": {
    "deletable": false,
    "editable": false,
    "id": "ffe86f65"
   },
   "source": [
    "Во второй части проекта вы выполните шаги 3 и 4. Их вручную проверит ревьюер.\n",
    "Чтобы вам не пришлось писать код заново для шагов 1 и 2, мы добавили авторские решения в ячейки с кодом. \n",
    "\n"
   ]
  },
  {
   "cell_type": "markdown",
   "id": "26613308",
   "metadata": {
    "deletable": false,
    "editable": false,
    "id": "26613308"
   },
   "source": [
    "## Откройте таблицу и изучите общую информацию о данных"
   ]
  },
  {
   "cell_type": "markdown",
   "id": "3c9f838e",
   "metadata": {
    "deletable": false,
    "editable": false,
    "id": "3c9f838e"
   },
   "source": [
    "**Задание 1. Импортируйте библиотеку pandas. Считайте данные из csv-файла в датафрейм и сохраните в переменную `data`. Путь к файлу:**\n",
    "\n",
    "`/datasets/data.csv`"
   ]
  },
  {
   "cell_type": "code",
   "execution_count": 1,
   "id": "77a68a90",
   "metadata": {
    "deletable": false,
    "id": "77a68a90"
   },
   "outputs": [],
   "source": [
    "import pandas as pd\n",
    "data = pd.read_csv('/datasets/data.csv')"
   ]
  },
  {
   "cell_type": "markdown",
   "id": "45365635",
   "metadata": {
    "deletable": false,
    "editable": false,
    "id": "45365635"
   },
   "source": [
    "**Задание 2. Выведите первые 20 строчек датафрейма `data` на экран.**"
   ]
  },
  {
   "cell_type": "code",
   "execution_count": 2,
   "id": "b0451a9a",
   "metadata": {
    "deletable": false,
    "id": "b0451a9a",
    "outputId": "1a8f3ef2-d323-4ec2-ddf7-89670b5944c4"
   },
   "outputs": [
    {
     "data": {
      "text/html": [
       "<div>\n",
       "<style scoped>\n",
       "    .dataframe tbody tr th:only-of-type {\n",
       "        vertical-align: middle;\n",
       "    }\n",
       "\n",
       "    .dataframe tbody tr th {\n",
       "        vertical-align: top;\n",
       "    }\n",
       "\n",
       "    .dataframe thead th {\n",
       "        text-align: right;\n",
       "    }\n",
       "</style>\n",
       "<table border=\"1\" class=\"dataframe\">\n",
       "  <thead>\n",
       "    <tr style=\"text-align: right;\">\n",
       "      <th></th>\n",
       "      <th>children</th>\n",
       "      <th>days_employed</th>\n",
       "      <th>dob_years</th>\n",
       "      <th>education</th>\n",
       "      <th>education_id</th>\n",
       "      <th>family_status</th>\n",
       "      <th>family_status_id</th>\n",
       "      <th>gender</th>\n",
       "      <th>income_type</th>\n",
       "      <th>debt</th>\n",
       "      <th>total_income</th>\n",
       "      <th>purpose</th>\n",
       "    </tr>\n",
       "  </thead>\n",
       "  <tbody>\n",
       "    <tr>\n",
       "      <th>0</th>\n",
       "      <td>1</td>\n",
       "      <td>-8437.673028</td>\n",
       "      <td>42</td>\n",
       "      <td>высшее</td>\n",
       "      <td>0</td>\n",
       "      <td>женат / замужем</td>\n",
       "      <td>0</td>\n",
       "      <td>F</td>\n",
       "      <td>сотрудник</td>\n",
       "      <td>0</td>\n",
       "      <td>253875.639453</td>\n",
       "      <td>покупка жилья</td>\n",
       "    </tr>\n",
       "    <tr>\n",
       "      <th>1</th>\n",
       "      <td>1</td>\n",
       "      <td>-4024.803754</td>\n",
       "      <td>36</td>\n",
       "      <td>среднее</td>\n",
       "      <td>1</td>\n",
       "      <td>женат / замужем</td>\n",
       "      <td>0</td>\n",
       "      <td>F</td>\n",
       "      <td>сотрудник</td>\n",
       "      <td>0</td>\n",
       "      <td>112080.014102</td>\n",
       "      <td>приобретение автомобиля</td>\n",
       "    </tr>\n",
       "    <tr>\n",
       "      <th>2</th>\n",
       "      <td>0</td>\n",
       "      <td>-5623.422610</td>\n",
       "      <td>33</td>\n",
       "      <td>Среднее</td>\n",
       "      <td>1</td>\n",
       "      <td>женат / замужем</td>\n",
       "      <td>0</td>\n",
       "      <td>M</td>\n",
       "      <td>сотрудник</td>\n",
       "      <td>0</td>\n",
       "      <td>145885.952297</td>\n",
       "      <td>покупка жилья</td>\n",
       "    </tr>\n",
       "    <tr>\n",
       "      <th>3</th>\n",
       "      <td>3</td>\n",
       "      <td>-4124.747207</td>\n",
       "      <td>32</td>\n",
       "      <td>среднее</td>\n",
       "      <td>1</td>\n",
       "      <td>женат / замужем</td>\n",
       "      <td>0</td>\n",
       "      <td>M</td>\n",
       "      <td>сотрудник</td>\n",
       "      <td>0</td>\n",
       "      <td>267628.550329</td>\n",
       "      <td>дополнительное образование</td>\n",
       "    </tr>\n",
       "    <tr>\n",
       "      <th>4</th>\n",
       "      <td>0</td>\n",
       "      <td>340266.072047</td>\n",
       "      <td>53</td>\n",
       "      <td>среднее</td>\n",
       "      <td>1</td>\n",
       "      <td>гражданский брак</td>\n",
       "      <td>1</td>\n",
       "      <td>F</td>\n",
       "      <td>пенсионер</td>\n",
       "      <td>0</td>\n",
       "      <td>158616.077870</td>\n",
       "      <td>сыграть свадьбу</td>\n",
       "    </tr>\n",
       "    <tr>\n",
       "      <th>5</th>\n",
       "      <td>0</td>\n",
       "      <td>-926.185831</td>\n",
       "      <td>27</td>\n",
       "      <td>высшее</td>\n",
       "      <td>0</td>\n",
       "      <td>гражданский брак</td>\n",
       "      <td>1</td>\n",
       "      <td>M</td>\n",
       "      <td>компаньон</td>\n",
       "      <td>0</td>\n",
       "      <td>255763.565419</td>\n",
       "      <td>покупка жилья</td>\n",
       "    </tr>\n",
       "    <tr>\n",
       "      <th>6</th>\n",
       "      <td>0</td>\n",
       "      <td>-2879.202052</td>\n",
       "      <td>43</td>\n",
       "      <td>высшее</td>\n",
       "      <td>0</td>\n",
       "      <td>женат / замужем</td>\n",
       "      <td>0</td>\n",
       "      <td>F</td>\n",
       "      <td>компаньон</td>\n",
       "      <td>0</td>\n",
       "      <td>240525.971920</td>\n",
       "      <td>операции с жильем</td>\n",
       "    </tr>\n",
       "    <tr>\n",
       "      <th>7</th>\n",
       "      <td>0</td>\n",
       "      <td>-152.779569</td>\n",
       "      <td>50</td>\n",
       "      <td>СРЕДНЕЕ</td>\n",
       "      <td>1</td>\n",
       "      <td>женат / замужем</td>\n",
       "      <td>0</td>\n",
       "      <td>M</td>\n",
       "      <td>сотрудник</td>\n",
       "      <td>0</td>\n",
       "      <td>135823.934197</td>\n",
       "      <td>образование</td>\n",
       "    </tr>\n",
       "    <tr>\n",
       "      <th>8</th>\n",
       "      <td>2</td>\n",
       "      <td>-6929.865299</td>\n",
       "      <td>35</td>\n",
       "      <td>ВЫСШЕЕ</td>\n",
       "      <td>0</td>\n",
       "      <td>гражданский брак</td>\n",
       "      <td>1</td>\n",
       "      <td>F</td>\n",
       "      <td>сотрудник</td>\n",
       "      <td>0</td>\n",
       "      <td>95856.832424</td>\n",
       "      <td>на проведение свадьбы</td>\n",
       "    </tr>\n",
       "    <tr>\n",
       "      <th>9</th>\n",
       "      <td>0</td>\n",
       "      <td>-2188.756445</td>\n",
       "      <td>41</td>\n",
       "      <td>среднее</td>\n",
       "      <td>1</td>\n",
       "      <td>женат / замужем</td>\n",
       "      <td>0</td>\n",
       "      <td>M</td>\n",
       "      <td>сотрудник</td>\n",
       "      <td>0</td>\n",
       "      <td>144425.938277</td>\n",
       "      <td>покупка жилья для семьи</td>\n",
       "    </tr>\n",
       "    <tr>\n",
       "      <th>10</th>\n",
       "      <td>2</td>\n",
       "      <td>-4171.483647</td>\n",
       "      <td>36</td>\n",
       "      <td>высшее</td>\n",
       "      <td>0</td>\n",
       "      <td>женат / замужем</td>\n",
       "      <td>0</td>\n",
       "      <td>M</td>\n",
       "      <td>компаньон</td>\n",
       "      <td>0</td>\n",
       "      <td>113943.491460</td>\n",
       "      <td>покупка недвижимости</td>\n",
       "    </tr>\n",
       "    <tr>\n",
       "      <th>11</th>\n",
       "      <td>0</td>\n",
       "      <td>-792.701887</td>\n",
       "      <td>40</td>\n",
       "      <td>среднее</td>\n",
       "      <td>1</td>\n",
       "      <td>женат / замужем</td>\n",
       "      <td>0</td>\n",
       "      <td>F</td>\n",
       "      <td>сотрудник</td>\n",
       "      <td>0</td>\n",
       "      <td>77069.234271</td>\n",
       "      <td>покупка коммерческой недвижимости</td>\n",
       "    </tr>\n",
       "    <tr>\n",
       "      <th>12</th>\n",
       "      <td>0</td>\n",
       "      <td>NaN</td>\n",
       "      <td>65</td>\n",
       "      <td>среднее</td>\n",
       "      <td>1</td>\n",
       "      <td>гражданский брак</td>\n",
       "      <td>1</td>\n",
       "      <td>M</td>\n",
       "      <td>пенсионер</td>\n",
       "      <td>0</td>\n",
       "      <td>NaN</td>\n",
       "      <td>сыграть свадьбу</td>\n",
       "    </tr>\n",
       "    <tr>\n",
       "      <th>13</th>\n",
       "      <td>0</td>\n",
       "      <td>-1846.641941</td>\n",
       "      <td>54</td>\n",
       "      <td>неоконченное высшее</td>\n",
       "      <td>2</td>\n",
       "      <td>женат / замужем</td>\n",
       "      <td>0</td>\n",
       "      <td>F</td>\n",
       "      <td>сотрудник</td>\n",
       "      <td>0</td>\n",
       "      <td>130458.228857</td>\n",
       "      <td>приобретение автомобиля</td>\n",
       "    </tr>\n",
       "    <tr>\n",
       "      <th>14</th>\n",
       "      <td>0</td>\n",
       "      <td>-1844.956182</td>\n",
       "      <td>56</td>\n",
       "      <td>высшее</td>\n",
       "      <td>0</td>\n",
       "      <td>гражданский брак</td>\n",
       "      <td>1</td>\n",
       "      <td>F</td>\n",
       "      <td>компаньон</td>\n",
       "      <td>1</td>\n",
       "      <td>165127.911772</td>\n",
       "      <td>покупка жилой недвижимости</td>\n",
       "    </tr>\n",
       "    <tr>\n",
       "      <th>15</th>\n",
       "      <td>1</td>\n",
       "      <td>-972.364419</td>\n",
       "      <td>26</td>\n",
       "      <td>среднее</td>\n",
       "      <td>1</td>\n",
       "      <td>женат / замужем</td>\n",
       "      <td>0</td>\n",
       "      <td>F</td>\n",
       "      <td>сотрудник</td>\n",
       "      <td>0</td>\n",
       "      <td>116820.904450</td>\n",
       "      <td>строительство собственной недвижимости</td>\n",
       "    </tr>\n",
       "    <tr>\n",
       "      <th>16</th>\n",
       "      <td>0</td>\n",
       "      <td>-1719.934226</td>\n",
       "      <td>35</td>\n",
       "      <td>среднее</td>\n",
       "      <td>1</td>\n",
       "      <td>женат / замужем</td>\n",
       "      <td>0</td>\n",
       "      <td>F</td>\n",
       "      <td>сотрудник</td>\n",
       "      <td>0</td>\n",
       "      <td>289202.704229</td>\n",
       "      <td>недвижимость</td>\n",
       "    </tr>\n",
       "    <tr>\n",
       "      <th>17</th>\n",
       "      <td>0</td>\n",
       "      <td>-2369.999720</td>\n",
       "      <td>33</td>\n",
       "      <td>высшее</td>\n",
       "      <td>0</td>\n",
       "      <td>гражданский брак</td>\n",
       "      <td>1</td>\n",
       "      <td>M</td>\n",
       "      <td>сотрудник</td>\n",
       "      <td>0</td>\n",
       "      <td>90410.586745</td>\n",
       "      <td>строительство недвижимости</td>\n",
       "    </tr>\n",
       "    <tr>\n",
       "      <th>18</th>\n",
       "      <td>0</td>\n",
       "      <td>400281.136913</td>\n",
       "      <td>53</td>\n",
       "      <td>среднее</td>\n",
       "      <td>1</td>\n",
       "      <td>вдовец / вдова</td>\n",
       "      <td>2</td>\n",
       "      <td>F</td>\n",
       "      <td>пенсионер</td>\n",
       "      <td>0</td>\n",
       "      <td>56823.777243</td>\n",
       "      <td>на покупку подержанного автомобиля</td>\n",
       "    </tr>\n",
       "    <tr>\n",
       "      <th>19</th>\n",
       "      <td>0</td>\n",
       "      <td>-10038.818549</td>\n",
       "      <td>48</td>\n",
       "      <td>СРЕДНЕЕ</td>\n",
       "      <td>1</td>\n",
       "      <td>в разводе</td>\n",
       "      <td>3</td>\n",
       "      <td>F</td>\n",
       "      <td>сотрудник</td>\n",
       "      <td>0</td>\n",
       "      <td>242831.107982</td>\n",
       "      <td>на покупку своего автомобиля</td>\n",
       "    </tr>\n",
       "  </tbody>\n",
       "</table>\n",
       "</div>"
      ],
      "text/plain": [
       "    children  days_employed  dob_years            education  education_id  \\\n",
       "0          1   -8437.673028         42               высшее             0   \n",
       "1          1   -4024.803754         36              среднее             1   \n",
       "2          0   -5623.422610         33              Среднее             1   \n",
       "3          3   -4124.747207         32              среднее             1   \n",
       "4          0  340266.072047         53              среднее             1   \n",
       "5          0    -926.185831         27               высшее             0   \n",
       "6          0   -2879.202052         43               высшее             0   \n",
       "7          0    -152.779569         50              СРЕДНЕЕ             1   \n",
       "8          2   -6929.865299         35               ВЫСШЕЕ             0   \n",
       "9          0   -2188.756445         41              среднее             1   \n",
       "10         2   -4171.483647         36               высшее             0   \n",
       "11         0    -792.701887         40              среднее             1   \n",
       "12         0            NaN         65              среднее             1   \n",
       "13         0   -1846.641941         54  неоконченное высшее             2   \n",
       "14         0   -1844.956182         56               высшее             0   \n",
       "15         1    -972.364419         26              среднее             1   \n",
       "16         0   -1719.934226         35              среднее             1   \n",
       "17         0   -2369.999720         33               высшее             0   \n",
       "18         0  400281.136913         53              среднее             1   \n",
       "19         0  -10038.818549         48              СРЕДНЕЕ             1   \n",
       "\n",
       "       family_status  family_status_id gender income_type  debt  \\\n",
       "0    женат / замужем                 0      F   сотрудник     0   \n",
       "1    женат / замужем                 0      F   сотрудник     0   \n",
       "2    женат / замужем                 0      M   сотрудник     0   \n",
       "3    женат / замужем                 0      M   сотрудник     0   \n",
       "4   гражданский брак                 1      F   пенсионер     0   \n",
       "5   гражданский брак                 1      M   компаньон     0   \n",
       "6    женат / замужем                 0      F   компаньон     0   \n",
       "7    женат / замужем                 0      M   сотрудник     0   \n",
       "8   гражданский брак                 1      F   сотрудник     0   \n",
       "9    женат / замужем                 0      M   сотрудник     0   \n",
       "10   женат / замужем                 0      M   компаньон     0   \n",
       "11   женат / замужем                 0      F   сотрудник     0   \n",
       "12  гражданский брак                 1      M   пенсионер     0   \n",
       "13   женат / замужем                 0      F   сотрудник     0   \n",
       "14  гражданский брак                 1      F   компаньон     1   \n",
       "15   женат / замужем                 0      F   сотрудник     0   \n",
       "16   женат / замужем                 0      F   сотрудник     0   \n",
       "17  гражданский брак                 1      M   сотрудник     0   \n",
       "18    вдовец / вдова                 2      F   пенсионер     0   \n",
       "19         в разводе                 3      F   сотрудник     0   \n",
       "\n",
       "     total_income                                 purpose  \n",
       "0   253875.639453                           покупка жилья  \n",
       "1   112080.014102                 приобретение автомобиля  \n",
       "2   145885.952297                           покупка жилья  \n",
       "3   267628.550329              дополнительное образование  \n",
       "4   158616.077870                         сыграть свадьбу  \n",
       "5   255763.565419                           покупка жилья  \n",
       "6   240525.971920                       операции с жильем  \n",
       "7   135823.934197                             образование  \n",
       "8    95856.832424                   на проведение свадьбы  \n",
       "9   144425.938277                 покупка жилья для семьи  \n",
       "10  113943.491460                    покупка недвижимости  \n",
       "11   77069.234271       покупка коммерческой недвижимости  \n",
       "12            NaN                         сыграть свадьбу  \n",
       "13  130458.228857                 приобретение автомобиля  \n",
       "14  165127.911772              покупка жилой недвижимости  \n",
       "15  116820.904450  строительство собственной недвижимости  \n",
       "16  289202.704229                            недвижимость  \n",
       "17   90410.586745              строительство недвижимости  \n",
       "18   56823.777243      на покупку подержанного автомобиля  \n",
       "19  242831.107982            на покупку своего автомобиля  "
      ]
     },
     "execution_count": 2,
     "metadata": {},
     "output_type": "execute_result"
    }
   ],
   "source": [
    "data.head(20)"
   ]
  },
  {
   "cell_type": "markdown",
   "id": "0ed8f27f",
   "metadata": {
    "deletable": false,
    "editable": false,
    "id": "0ed8f27f"
   },
   "source": [
    "**Задание 3. Выведите основную информацию о датафрейме с помощью метода `info()`.**"
   ]
  },
  {
   "cell_type": "code",
   "execution_count": 3,
   "id": "ab3f863b",
   "metadata": {
    "deletable": false,
    "id": "ab3f863b",
    "outputId": "15376089-8dad-46c9-b520-c05248d43158"
   },
   "outputs": [
    {
     "name": "stdout",
     "output_type": "stream",
     "text": [
      "<class 'pandas.core.frame.DataFrame'>\n",
      "RangeIndex: 21525 entries, 0 to 21524\n",
      "Data columns (total 12 columns):\n",
      " #   Column            Non-Null Count  Dtype  \n",
      "---  ------            --------------  -----  \n",
      " 0   children          21525 non-null  int64  \n",
      " 1   days_employed     19351 non-null  float64\n",
      " 2   dob_years         21525 non-null  int64  \n",
      " 3   education         21525 non-null  object \n",
      " 4   education_id      21525 non-null  int64  \n",
      " 5   family_status     21525 non-null  object \n",
      " 6   family_status_id  21525 non-null  int64  \n",
      " 7   gender            21525 non-null  object \n",
      " 8   income_type       21525 non-null  object \n",
      " 9   debt              21525 non-null  int64  \n",
      " 10  total_income      19351 non-null  float64\n",
      " 11  purpose           21525 non-null  object \n",
      "dtypes: float64(2), int64(5), object(5)\n",
      "memory usage: 2.0+ MB\n"
     ]
    }
   ],
   "source": [
    "data.info()"
   ]
  },
  {
   "cell_type": "markdown",
   "id": "60e3e22d",
   "metadata": {
    "deletable": false,
    "editable": false,
    "id": "60e3e22d"
   },
   "source": [
    "## Предобработка данных"
   ]
  },
  {
   "cell_type": "markdown",
   "id": "03dc170c",
   "metadata": {
    "deletable": false,
    "editable": false,
    "id": "03dc170c"
   },
   "source": [
    "### Удаление пропусков"
   ]
  },
  {
   "cell_type": "markdown",
   "id": "a4f54eef",
   "metadata": {
    "deletable": false,
    "editable": false,
    "id": "a4f54eef"
   },
   "source": [
    "**Задание 4. Выведите количество пропущенных значений для каждого столбца. Используйте комбинацию двух методов.**"
   ]
  },
  {
   "cell_type": "code",
   "execution_count": 4,
   "id": "2dc372b2",
   "metadata": {
    "deletable": false,
    "id": "2dc372b2",
    "outputId": "81f4d817-781c-465c-ed15-91ce4446810d"
   },
   "outputs": [
    {
     "data": {
      "text/plain": [
       "children               0\n",
       "days_employed       2174\n",
       "dob_years              0\n",
       "education              0\n",
       "education_id           0\n",
       "family_status          0\n",
       "family_status_id       0\n",
       "gender                 0\n",
       "income_type            0\n",
       "debt                   0\n",
       "total_income        2174\n",
       "purpose                0\n",
       "dtype: int64"
      ]
     },
     "execution_count": 4,
     "metadata": {},
     "output_type": "execute_result"
    }
   ],
   "source": [
    "data.isna().sum()"
   ]
  },
  {
   "cell_type": "markdown",
   "id": "14f011b1",
   "metadata": {
    "deletable": false,
    "editable": false,
    "id": "14f011b1"
   },
   "source": [
    "**Задание 5. В двух столбцах есть пропущенные значения. Один из них — `days_employed`. Пропуски в этом столбце вы обработаете на следующем этапе. Другой столбец с пропущенными значениями — `total_income` — хранит данные о доходах. На сумму дохода сильнее всего влияет тип занятости, поэтому заполнить пропуски в этом столбце нужно медианным значением по каждому типу из столбца `income_type`. Например, у человека с типом занятости `сотрудник` пропуск в столбце `total_income` должен быть заполнен медианным доходом среди всех записей с тем же типом.**"
   ]
  },
  {
   "cell_type": "code",
   "execution_count": 5,
   "id": "bdabfb6e",
   "metadata": {
    "deletable": false,
    "id": "bdabfb6e"
   },
   "outputs": [],
   "source": [
    "for d in data['income_type'].unique():\n",
    "    data.loc[(data['income_type'] == d) & (data['total_income'].isna()), 'total_income'] = \\\n",
    "    data.loc[(data['income_type'] == d), 'total_income'].median()"
   ]
  },
  {
   "cell_type": "markdown",
   "id": "5be34059",
   "metadata": {
    "deletable": false,
    "editable": false,
    "id": "5be34059"
   },
   "source": [
    "### Обработка аномальных значений"
   ]
  },
  {
   "cell_type": "markdown",
   "id": "a87606cb",
   "metadata": {
    "deletable": false,
    "editable": false,
    "id": "a87606cb"
   },
   "source": [
    "**Задание 6. В данных могут встречаться артефакты (аномалии) — значения, которые не отражают действительность и появились по какой-то ошибке. таким артефактом будет отрицательное количество дней трудового стажа в столбце `days_employed`. Для реальных данных это нормально. Обработайте значения в этом столбце: замените все отрицательные значения положительными с помощью метода `abs()`.**"
   ]
  },
  {
   "cell_type": "code",
   "execution_count": 6,
   "id": "020c46cc",
   "metadata": {
    "deletable": false,
    "id": "020c46cc"
   },
   "outputs": [],
   "source": [
    "data['days_employed'] = data['days_employed'].abs()"
   ]
  },
  {
   "cell_type": "markdown",
   "id": "45538a3a",
   "metadata": {
    "deletable": false,
    "editable": false,
    "id": "45538a3a"
   },
   "source": [
    "**Задание 7. Для каждого типа занятости выведите медианное значение трудового стажа `days_employed` в днях.**"
   ]
  },
  {
   "cell_type": "code",
   "execution_count": 7,
   "id": "cd3e6328",
   "metadata": {
    "deletable": false,
    "id": "cd3e6328",
    "outputId": "801ef80e-522b-4668-f34e-565af7432bcf"
   },
   "outputs": [
    {
     "data": {
      "text/plain": [
       "income_type\n",
       "безработный        366413.652744\n",
       "в декрете            3296.759962\n",
       "госслужащий          2689.368353\n",
       "компаньон            1547.382223\n",
       "пенсионер          365213.306266\n",
       "предприниматель       520.848083\n",
       "сотрудник            1574.202821\n",
       "студент               578.751554\n",
       "Name: days_employed, dtype: float64"
      ]
     },
     "execution_count": 7,
     "metadata": {},
     "output_type": "execute_result"
    }
   ],
   "source": [
    "data.groupby('income_type')['days_employed'].agg('median')"
   ]
  },
  {
   "cell_type": "markdown",
   "id": "90c5f058",
   "metadata": {
    "deletable": false,
    "editable": false,
    "id": "90c5f058"
   },
   "source": [
    "У двух типов (безработные и пенсионеры) получатся аномально большие значения. Исправить такие значения сложно, поэтому оставьте их как есть."
   ]
  },
  {
   "cell_type": "markdown",
   "id": "9652e50d",
   "metadata": {
    "deletable": false,
    "editable": false,
    "id": "9652e50d"
   },
   "source": [
    "**Задание 8. Выведите перечень уникальных значений столбца `children`.**"
   ]
  },
  {
   "cell_type": "code",
   "execution_count": 8,
   "id": "dbb37b8e",
   "metadata": {
    "deletable": false,
    "id": "dbb37b8e",
    "outputId": "6975b15c-7f95-4697-d16d-a0c79b657b03"
   },
   "outputs": [
    {
     "data": {
      "text/plain": [
       "array([ 1,  0,  3,  2, -1,  4, 20,  5])"
      ]
     },
     "execution_count": 8,
     "metadata": {},
     "output_type": "execute_result"
    }
   ],
   "source": [
    "data['children'].unique()"
   ]
  },
  {
   "cell_type": "markdown",
   "id": "2b8b0715",
   "metadata": {
    "deletable": false,
    "editable": false,
    "id": "2b8b0715"
   },
   "source": [
    "**Задание 9. В столбце `children` есть два аномальных значения. Удалите строки, в которых встречаются такие аномальные значения из датафрейма `data`.**"
   ]
  },
  {
   "cell_type": "code",
   "execution_count": 9,
   "id": "20009df8",
   "metadata": {
    "deletable": false,
    "id": "20009df8"
   },
   "outputs": [],
   "source": [
    "data = data[(data['children'] != -1) & (data['children'] != 20)]"
   ]
  },
  {
   "cell_type": "markdown",
   "id": "8c6ac9f1",
   "metadata": {
    "deletable": false,
    "editable": false,
    "id": "8c6ac9f1"
   },
   "source": [
    "**Задание 10. Ещё раз выведите перечень уникальных значений столбца `children`, чтобы убедиться, что артефакты удалены.**"
   ]
  },
  {
   "cell_type": "code",
   "execution_count": 10,
   "id": "07337b81",
   "metadata": {
    "deletable": false,
    "id": "07337b81",
    "outputId": "b2097101-d49d-44d9-901b-32a65c9463d1"
   },
   "outputs": [
    {
     "data": {
      "text/plain": [
       "array([1, 0, 3, 2, 4, 5])"
      ]
     },
     "execution_count": 10,
     "metadata": {},
     "output_type": "execute_result"
    }
   ],
   "source": [
    "data['children'].unique()"
   ]
  },
  {
   "cell_type": "markdown",
   "id": "ee3f52d4",
   "metadata": {
    "deletable": false,
    "editable": false,
    "id": "ee3f52d4"
   },
   "source": [
    "### Удаление пропусков (продолжение)"
   ]
  },
  {
   "cell_type": "markdown",
   "id": "a700b0e4",
   "metadata": {
    "deletable": false,
    "editable": false,
    "id": "a700b0e4"
   },
   "source": [
    "**Задание 11. Заполните пропуски в столбце `days_employed` медианными значениями по каждого типа занятости `income_type`.**"
   ]
  },
  {
   "cell_type": "code",
   "execution_count": 11,
   "id": "61946b83",
   "metadata": {
    "deletable": false,
    "id": "61946b83"
   },
   "outputs": [],
   "source": [
    "for d in data['income_type'].unique():\n",
    "    data.loc[(data['income_type'] == d) & (data['days_employed'].isna()), 'days_employed'] = \\\n",
    "    data.loc[(data['income_type'] == d), 'days_employed'].median()"
   ]
  },
  {
   "cell_type": "markdown",
   "id": "550dcd9b",
   "metadata": {
    "deletable": false,
    "editable": false,
    "id": "550dcd9b"
   },
   "source": [
    "**Задание 12. Убедитесь, что все пропуски заполнены. Проверьте себя и ещё раз выведите количество пропущенных значений для каждого столбца с помощью двух методов.**"
   ]
  },
  {
   "cell_type": "code",
   "execution_count": 12,
   "id": "937c7014",
   "metadata": {
    "deletable": false,
    "id": "937c7014",
    "outputId": "8da1e4e1-358e-4e87-98c9-f261bce0a7b2"
   },
   "outputs": [
    {
     "data": {
      "text/plain": [
       "children            0\n",
       "days_employed       0\n",
       "dob_years           0\n",
       "education           0\n",
       "education_id        0\n",
       "family_status       0\n",
       "family_status_id    0\n",
       "gender              0\n",
       "income_type         0\n",
       "debt                0\n",
       "total_income        0\n",
       "purpose             0\n",
       "dtype: int64"
      ]
     },
     "execution_count": 12,
     "metadata": {},
     "output_type": "execute_result"
    }
   ],
   "source": [
    "data.isna().sum()"
   ]
  },
  {
   "cell_type": "markdown",
   "id": "d522e295",
   "metadata": {
    "deletable": false,
    "editable": false,
    "id": "d522e295"
   },
   "source": [
    "### Изменение типов данных"
   ]
  },
  {
   "cell_type": "markdown",
   "id": "c229c581",
   "metadata": {
    "deletable": false,
    "editable": false,
    "id": "c229c581"
   },
   "source": [
    "**Задание 13. Замените вещественный тип данных в столбце `total_income` на целочисленный с помощью метода `astype()`.**"
   ]
  },
  {
   "cell_type": "code",
   "execution_count": 13,
   "id": "31036462",
   "metadata": {
    "deletable": false,
    "id": "31036462"
   },
   "outputs": [],
   "source": [
    "data['total_income'] = data['total_income'].astype(int)"
   ]
  },
  {
   "cell_type": "markdown",
   "id": "b8e3d1d9",
   "metadata": {
    "deletable": false,
    "editable": false,
    "id": "b8e3d1d9"
   },
   "source": [
    "### Обработка дубликатов"
   ]
  },
  {
   "cell_type": "markdown",
   "id": "9be53c49",
   "metadata": {
    "deletable": false,
    "editable": false,
    "id": "9be53c49"
   },
   "source": [
    "**Задание 14. Обработайте неявные дубликаты в столбце `education`. В этом столбце есть одни и те же значения, но записанные по-разному: с использованием заглавных и строчных букв. Приведите их к нижнему регистру.**"
   ]
  },
  {
   "cell_type": "code",
   "execution_count": 14,
   "id": "d89e73e1",
   "metadata": {
    "deletable": false,
    "id": "d89e73e1"
   },
   "outputs": [],
   "source": [
    "data['education'] = data['education'].str.lower()"
   ]
  },
  {
   "cell_type": "markdown",
   "id": "01d4500e",
   "metadata": {
    "deletable": false,
    "editable": false,
    "id": "01d4500e"
   },
   "source": [
    "**Задание 15. Выведите на экран количество строк-дубликатов в данных. Если такие строки присутствуют, удалите их.**"
   ]
  },
  {
   "cell_type": "code",
   "execution_count": 15,
   "id": "e10efb23",
   "metadata": {
    "deletable": false,
    "id": "e10efb23",
    "outputId": "9684deba-1934-42d1-99e1-cda61740f822"
   },
   "outputs": [
    {
     "data": {
      "text/plain": [
       "71"
      ]
     },
     "execution_count": 15,
     "metadata": {},
     "output_type": "execute_result"
    }
   ],
   "source": [
    "data.duplicated().sum()"
   ]
  },
  {
   "cell_type": "code",
   "execution_count": 16,
   "id": "df853f20",
   "metadata": {
    "deletable": false,
    "id": "df853f20"
   },
   "outputs": [],
   "source": [
    "data = data.drop_duplicates()"
   ]
  },
  {
   "cell_type": "markdown",
   "id": "627be38f",
   "metadata": {
    "deletable": false,
    "editable": false,
    "id": "627be38f"
   },
   "source": [
    "### Категоризация данных"
   ]
  },
  {
   "cell_type": "markdown",
   "id": "4684c3e0",
   "metadata": {
    "deletable": false,
    "editable": false,
    "id": "4684c3e0"
   },
   "source": [
    "**Задание 16. На основании диапазонов, указанных ниже, создайте в датафрейме `data` столбец `total_income_category` с категориями:**\n",
    "\n",
    "- 0–30000 — `'E'`;\n",
    "- 30001–50000 — `'D'`;\n",
    "- 50001–200000 — `'C'`;\n",
    "- 200001–1000000 — `'B'`;\n",
    "- 1000001 и выше — `'A'`.\n",
    "\n",
    "\n",
    "**Например, кредитополучателю с доходом 25000 нужно назначить категорию `'E'`, а клиенту, получающему 235000, — `'B'`. Используйте собственную функцию с именем `categorize_income()` и метод `apply()`.**"
   ]
  },
  {
   "cell_type": "code",
   "execution_count": 17,
   "id": "78965238",
   "metadata": {
    "deletable": false,
    "id": "78965238"
   },
   "outputs": [],
   "source": [
    "def categorize_income(income):\n",
    "    if 0 <= income <= 30000:\n",
    "         return 'E'\n",
    "    elif 30001 <= income <= 50000:\n",
    "         return 'D'\n",
    "    elif 50001 <= income <= 200000:\n",
    "        return 'C'\n",
    "    elif 200001 <= income <= 1000000:\n",
    "        return 'B'\n",
    "    elif income >= 1000001:\n",
    "        return 'A'"
   ]
  },
  {
   "cell_type": "code",
   "execution_count": 18,
   "id": "0980ada1",
   "metadata": {
    "deletable": false,
    "id": "0980ada1"
   },
   "outputs": [],
   "source": [
    "data['total_income_category'] = data['total_income'].apply(categorize_income)"
   ]
  },
  {
   "cell_type": "markdown",
   "id": "9917bba0",
   "metadata": {
    "deletable": false,
    "editable": false,
    "id": "9917bba0"
   },
   "source": [
    "**Задание 17. Выведите на экран перечень уникальных целей взятия кредита из столбца `purpose`.**"
   ]
  },
  {
   "cell_type": "code",
   "execution_count": 19,
   "id": "ee07b65e",
   "metadata": {
    "deletable": false,
    "id": "ee07b65e",
    "outputId": "673c12d9-7d7e-4ae0-9812-c622c89dd244"
   },
   "outputs": [
    {
     "data": {
      "text/plain": [
       "array(['покупка жилья', 'приобретение автомобиля',\n",
       "       'дополнительное образование', 'сыграть свадьбу',\n",
       "       'операции с жильем', 'образование', 'на проведение свадьбы',\n",
       "       'покупка жилья для семьи', 'покупка недвижимости',\n",
       "       'покупка коммерческой недвижимости', 'покупка жилой недвижимости',\n",
       "       'строительство собственной недвижимости', 'недвижимость',\n",
       "       'строительство недвижимости', 'на покупку подержанного автомобиля',\n",
       "       'на покупку своего автомобиля',\n",
       "       'операции с коммерческой недвижимостью',\n",
       "       'строительство жилой недвижимости', 'жилье',\n",
       "       'операции со своей недвижимостью', 'автомобили',\n",
       "       'заняться образованием', 'сделка с подержанным автомобилем',\n",
       "       'получение образования', 'автомобиль', 'свадьба',\n",
       "       'получение дополнительного образования', 'покупка своего жилья',\n",
       "       'операции с недвижимостью', 'получение высшего образования',\n",
       "       'свой автомобиль', 'сделка с автомобилем',\n",
       "       'профильное образование', 'высшее образование',\n",
       "       'покупка жилья для сдачи', 'на покупку автомобиля', 'ремонт жилью',\n",
       "       'заняться высшим образованием'], dtype=object)"
      ]
     },
     "execution_count": 19,
     "metadata": {},
     "output_type": "execute_result"
    }
   ],
   "source": [
    "data['purpose'].unique()"
   ]
  },
  {
   "cell_type": "markdown",
   "id": "52b79d56",
   "metadata": {
    "deletable": false,
    "editable": false,
    "id": "52b79d56"
   },
   "source": [
    "**Задание 18. Создайте функцию, которая на основании данных из столбца `purpose` сформирует новый столбец `purpose_category`, в который войдут следующие категории:**\n",
    "\n",
    "- `'операции с автомобилем'`,\n",
    "- `'операции с недвижимостью'`,\n",
    "- `'проведение свадьбы'`,\n",
    "- `'получение образования'`.\n",
    "\n",
    "**Например, если в столбце `purpose` находится подстрока `'на покупку автомобиля'`, то в столбце `purpose_category` должна появиться строка `'операции с автомобилем'`.**\n",
    "\n",
    "**Используйте собственную функцию с именем `categorize_purpose()` и метод `apply()`. Изучите данные в столбце `purpose` и определите, какие подстроки помогут вам правильно определить категорию.**"
   ]
  },
  {
   "cell_type": "code",
   "execution_count": 20,
   "id": "be41da5d",
   "metadata": {
    "deletable": false,
    "id": "be41da5d"
   },
   "outputs": [],
   "source": [
    "def categorize_purpose(row):\n",
    "    if 'автом' in row:\n",
    "        return 'операции с автомобилем'\n",
    "    elif 'жил' in row or 'недвиж' in row:\n",
    "        return 'операции с недвижимостью'\n",
    "    elif 'свад' in row:\n",
    "        return 'проведение свадьбы'\n",
    "    elif 'образов' in row:\n",
    "        return 'получение образования'"
   ]
  },
  {
   "cell_type": "code",
   "execution_count": 21,
   "id": "94c4a19a",
   "metadata": {
    "deletable": false,
    "id": "94c4a19a"
   },
   "outputs": [],
   "source": [
    "data['purpose_category'] = data['purpose'].apply(categorize_purpose)"
   ]
  },
  {
   "cell_type": "markdown",
   "id": "3d596c34",
   "metadata": {
    "deletable": false,
    "editable": false,
    "id": "3d596c34"
   },
   "source": [
    "### Шаг 3. Исследуйте данные и ответьте на вопросы"
   ]
  },
  {
   "cell_type": "markdown",
   "id": "648db036",
   "metadata": {
    "deletable": false,
    "editable": false,
    "id": "648db036"
   },
   "source": [
    "#### 3.1 Есть ли зависимость между количеством детей и возвратом кредита в срок?"
   ]
  },
  {
   "cell_type": "code",
   "execution_count": 22,
   "id": "7fcff25e",
   "metadata": {
    "deletable": false,
    "id": "7fcff25e"
   },
   "outputs": [
    {
     "data": {
      "text/html": [
       "<div>\n",
       "<style scoped>\n",
       "    .dataframe tbody tr th:only-of-type {\n",
       "        vertical-align: middle;\n",
       "    }\n",
       "\n",
       "    .dataframe tbody tr th {\n",
       "        vertical-align: top;\n",
       "    }\n",
       "\n",
       "    .dataframe thead th {\n",
       "        text-align: right;\n",
       "    }\n",
       "</style>\n",
       "<table border=\"1\" class=\"dataframe\">\n",
       "  <thead>\n",
       "    <tr style=\"text-align: right;\">\n",
       "      <th></th>\n",
       "      <th>no_debt</th>\n",
       "      <th>debt</th>\n",
       "      <th>ratio</th>\n",
       "    </tr>\n",
       "    <tr>\n",
       "      <th>children</th>\n",
       "      <th></th>\n",
       "      <th></th>\n",
       "      <th></th>\n",
       "    </tr>\n",
       "  </thead>\n",
       "  <tbody>\n",
       "    <tr>\n",
       "      <th>0</th>\n",
       "      <td>13028.0</td>\n",
       "      <td>1063.0</td>\n",
       "      <td>7.543822</td>\n",
       "    </tr>\n",
       "    <tr>\n",
       "      <th>3</th>\n",
       "      <td>303.0</td>\n",
       "      <td>27.0</td>\n",
       "      <td>8.181818</td>\n",
       "    </tr>\n",
       "    <tr>\n",
       "      <th>1</th>\n",
       "      <td>4364.0</td>\n",
       "      <td>444.0</td>\n",
       "      <td>9.234609</td>\n",
       "    </tr>\n",
       "    <tr>\n",
       "      <th>2</th>\n",
       "      <td>1858.0</td>\n",
       "      <td>194.0</td>\n",
       "      <td>9.454191</td>\n",
       "    </tr>\n",
       "    <tr>\n",
       "      <th>4</th>\n",
       "      <td>37.0</td>\n",
       "      <td>4.0</td>\n",
       "      <td>9.756098</td>\n",
       "    </tr>\n",
       "    <tr>\n",
       "      <th>5</th>\n",
       "      <td>9.0</td>\n",
       "      <td>NaN</td>\n",
       "      <td>NaN</td>\n",
       "    </tr>\n",
       "  </tbody>\n",
       "</table>\n",
       "</div>"
      ],
      "text/plain": [
       "          no_debt    debt     ratio\n",
       "children                           \n",
       "0         13028.0  1063.0  7.543822\n",
       "3           303.0    27.0  8.181818\n",
       "1          4364.0   444.0  9.234609\n",
       "2          1858.0   194.0  9.454191\n",
       "4            37.0     4.0  9.756098\n",
       "5             9.0     NaN       NaN"
      ]
     },
     "execution_count": 22,
     "metadata": {},
     "output_type": "execute_result"
    }
   ],
   "source": [
    "children_pivot = data.pivot_table(index='children', columns='debt', values='gender', aggfunc='count') # создадим сводную таблицу, для отображения количества клиентов, у которых была задолженность, по количеству детей\n",
    "children_pivot.columns = ['no_debt', 'debt'] # переименуем столбцы для лучшего понимания\n",
    "# рассчитаем долю должников от общего количества клиентов\n",
    "children_pivot['ratio'] = children_pivot['debt'] / (children_pivot['debt'] + children_pivot['no_debt']) * 100\n",
    "children_pivot.sort_values(by='ratio', ascending=True) # посмотрим таблицу, отсортированную по возрастанию"
   ]
  },
  {
   "cell_type": "markdown",
   "id": "2eb9088e",
   "metadata": {
    "deletable": false,
    "id": "2eb9088e"
   },
   "source": [
    "**Вывод:** Исходя из сводной таблицы можно сделать выводы: зависимость между количеством детей и возвратом кредита в срок действительно есть.  Чем больше детей, тем больше вероятность задолженности. Возможно это зависит от дополнительных расходов на обеспечение детей. Наименьшая доля клиентов с задолженностью - это клиенты, у которых дети отстутствуют. Мы можем отметить, что с наименьшей вероятностью задолженности - клиенты без детей (их доля составляет 7,54%).Однако доли клиентов, у которых 1 или 2 ребенка, больше (9,3 и 9,45% соответственно).\n",
    "Делать выводы по клиентам, у которых детефй 3-5 неелесообразно, так как их достаточно мало."
   ]
  },
  {
   "cell_type": "markdown",
   "id": "74c9b3a7",
   "metadata": {
    "deletable": false,
    "editable": false,
    "id": "74c9b3a7"
   },
   "source": [
    "#### 3.2 Есть ли зависимость между семейным положением и возвратом кредита в срок?"
   ]
  },
  {
   "cell_type": "code",
   "execution_count": 23,
   "id": "8098ab3b",
   "metadata": {
    "deletable": false,
    "id": "8098ab3b"
   },
   "outputs": [
    {
     "data": {
      "text/html": [
       "<div>\n",
       "<style scoped>\n",
       "    .dataframe tbody tr th:only-of-type {\n",
       "        vertical-align: middle;\n",
       "    }\n",
       "\n",
       "    .dataframe tbody tr th {\n",
       "        vertical-align: top;\n",
       "    }\n",
       "\n",
       "    .dataframe thead th {\n",
       "        text-align: right;\n",
       "    }\n",
       "</style>\n",
       "<table border=\"1\" class=\"dataframe\">\n",
       "  <thead>\n",
       "    <tr style=\"text-align: right;\">\n",
       "      <th></th>\n",
       "      <th>no_debt</th>\n",
       "      <th>debt</th>\n",
       "      <th>ratio</th>\n",
       "    </tr>\n",
       "    <tr>\n",
       "      <th>family_status</th>\n",
       "      <th></th>\n",
       "      <th></th>\n",
       "      <th></th>\n",
       "    </tr>\n",
       "  </thead>\n",
       "  <tbody>\n",
       "    <tr>\n",
       "      <th>вдовец / вдова</th>\n",
       "      <td>888</td>\n",
       "      <td>63</td>\n",
       "      <td>6.624606</td>\n",
       "    </tr>\n",
       "    <tr>\n",
       "      <th>в разводе</th>\n",
       "      <td>1105</td>\n",
       "      <td>84</td>\n",
       "      <td>7.064760</td>\n",
       "    </tr>\n",
       "    <tr>\n",
       "      <th>женат / замужем</th>\n",
       "      <td>11334</td>\n",
       "      <td>927</td>\n",
       "      <td>7.560558</td>\n",
       "    </tr>\n",
       "    <tr>\n",
       "      <th>гражданский брак</th>\n",
       "      <td>3749</td>\n",
       "      <td>385</td>\n",
       "      <td>9.313014</td>\n",
       "    </tr>\n",
       "    <tr>\n",
       "      <th>Не женат / не замужем</th>\n",
       "      <td>2523</td>\n",
       "      <td>273</td>\n",
       "      <td>9.763948</td>\n",
       "    </tr>\n",
       "  </tbody>\n",
       "</table>\n",
       "</div>"
      ],
      "text/plain": [
       "                       no_debt  debt     ratio\n",
       "family_status                                 \n",
       "вдовец / вдова             888    63  6.624606\n",
       "в разводе                 1105    84  7.064760\n",
       "женат / замужем          11334   927  7.560558\n",
       "гражданский брак          3749   385  9.313014\n",
       "Не женат / не замужем     2523   273  9.763948"
      ]
     },
     "execution_count": 23,
     "metadata": {},
     "output_type": "execute_result"
    }
   ],
   "source": [
    "family_pivot = data.pivot_table(index='family_status', columns='debt', values='gender', aggfunc='count') # создадим сводную таблицу, для отображения количества клиентов, у которых была задолженность, по количеству детей\n",
    "family_pivot.columns = ['no_debt', 'debt'] # переименуем столбцы для лучшего понимания\n",
    "family_pivot['ratio'] = family_pivot['debt'] / (family_pivot['debt'] + family_pivot['no_debt']) * 100 # рассчитаем долю должников от общего количества клиентов\n",
    "family_pivot.sort_values(by='ratio', ascending=True) # посмотрим таблицу, отсортированную по возрастанию"
   ]
  },
  {
   "cell_type": "markdown",
   "id": "c389ca63",
   "metadata": {
    "deletable": false,
    "id": "c389ca63"
   },
   "source": [
    "**Вывод:** По данной таблице можно сделать вывод, что наименьшая доля клиентов с задолженностей - это клиенты со статусом вдовец/вдова - 6,6%. Также стоит отметить, что небольшая доля клиентов с задолженностью - это клиенты в разводе или женаты/замужем - 7,1% и 7,56% соответственно. Клиенты со статусами не женат/не замужем составляют самую большую долю (9,76%), примерно столько же составляет доля клиентов со статусов гражданский брак(9,3%)."
   ]
  },
  {
   "cell_type": "markdown",
   "id": "9529de68",
   "metadata": {
    "deletable": false,
    "editable": false,
    "id": "9529de68"
   },
   "source": [
    "#### 3.3 Есть ли зависимость между уровнем дохода и возвратом кредита в срок?"
   ]
  },
  {
   "cell_type": "code",
   "execution_count": 24,
   "id": "8787f44a",
   "metadata": {
    "deletable": false,
    "id": "8787f44a"
   },
   "outputs": [
    {
     "data": {
      "text/html": [
       "<div>\n",
       "<style scoped>\n",
       "    .dataframe tbody tr th:only-of-type {\n",
       "        vertical-align: middle;\n",
       "    }\n",
       "\n",
       "    .dataframe tbody tr th {\n",
       "        vertical-align: top;\n",
       "    }\n",
       "\n",
       "    .dataframe thead th {\n",
       "        text-align: right;\n",
       "    }\n",
       "</style>\n",
       "<table border=\"1\" class=\"dataframe\">\n",
       "  <thead>\n",
       "    <tr style=\"text-align: right;\">\n",
       "      <th></th>\n",
       "      <th>no_debt</th>\n",
       "      <th>debt</th>\n",
       "      <th>ratio</th>\n",
       "    </tr>\n",
       "    <tr>\n",
       "      <th>total_income_category</th>\n",
       "      <th></th>\n",
       "      <th></th>\n",
       "      <th></th>\n",
       "    </tr>\n",
       "  </thead>\n",
       "  <tbody>\n",
       "    <tr>\n",
       "      <th>D</th>\n",
       "      <td>328</td>\n",
       "      <td>21</td>\n",
       "      <td>6.017192</td>\n",
       "    </tr>\n",
       "    <tr>\n",
       "      <th>B</th>\n",
       "      <td>4660</td>\n",
       "      <td>354</td>\n",
       "      <td>7.060231</td>\n",
       "    </tr>\n",
       "    <tr>\n",
       "      <th>A</th>\n",
       "      <td>23</td>\n",
       "      <td>2</td>\n",
       "      <td>8.000000</td>\n",
       "    </tr>\n",
       "    <tr>\n",
       "      <th>C</th>\n",
       "      <td>14568</td>\n",
       "      <td>1353</td>\n",
       "      <td>8.498210</td>\n",
       "    </tr>\n",
       "    <tr>\n",
       "      <th>E</th>\n",
       "      <td>20</td>\n",
       "      <td>2</td>\n",
       "      <td>9.090909</td>\n",
       "    </tr>\n",
       "  </tbody>\n",
       "</table>\n",
       "</div>"
      ],
      "text/plain": [
       "                       no_debt  debt     ratio\n",
       "total_income_category                         \n",
       "D                          328    21  6.017192\n",
       "B                         4660   354  7.060231\n",
       "A                           23     2  8.000000\n",
       "C                        14568  1353  8.498210\n",
       "E                           20     2  9.090909"
      ]
     },
     "execution_count": 24,
     "metadata": {},
     "output_type": "execute_result"
    }
   ],
   "source": [
    "total_income_pivot = data.pivot_table(index='total_income_category', columns='debt', values='gender', aggfunc='count') # создадим сводную таблицу, для отображения количества клиентов, у которых была задолженность, по количеству детей\n",
    "total_income_pivot.columns = ['no_debt', 'debt'] # переименуем столбцы для лучшего понимания\n",
    "total_income_pivot['ratio'] = total_income_pivot['debt'] / (total_income_pivot['debt'] + total_income_pivot['no_debt']) * 100 # рассчитаем долю должников от общего количества клиентов\n",
    "total_income_pivot.sort_values(by='ratio', ascending=True) # посмотрим таблицу, отсортированную по возрастанию"
   ]
  },
  {
   "cell_type": "markdown",
   "id": "6dd14b57",
   "metadata": {
    "deletable": false,
    "id": "6dd14b57"
   },
   "source": [
    "**Вывод:** По данной таблице можно сделать вывод, что наибольшая доля должников - это клиенты с уровнем дохода 0 - 30000. На это влияет низкий уровень дохода. Наименьшая доля клиентов с уровнем дохода 30001–50000.Вероятность стать должником наибольшая у клиентов с категорией Е (уровень дохода 0 - 30000).\n",
    "Большая часть клиентов - это клиенты с доходом 50001–200000. Доля из них клиентов с задолженностью - 8,5%. Они больше всего подвержены риску. Клиенты с уровнем дохода 200001–1000000 и задолженностью составляют 7,06%, что тоже влияет на показатель. Но они не так сильны подвержены риску, как клиенты категории С."
   ]
  },
  {
   "cell_type": "markdown",
   "id": "1dcc9b12",
   "metadata": {
    "deletable": false,
    "editable": false,
    "id": "1dcc9b12"
   },
   "source": [
    "#### 3.4 Как разные цели кредита влияют на его возврат в срок?"
   ]
  },
  {
   "cell_type": "code",
   "execution_count": 25,
   "id": "c602bc8b",
   "metadata": {
    "deletable": false,
    "id": "c602bc8b"
   },
   "outputs": [
    {
     "data": {
      "text/html": [
       "<div>\n",
       "<style scoped>\n",
       "    .dataframe tbody tr th:only-of-type {\n",
       "        vertical-align: middle;\n",
       "    }\n",
       "\n",
       "    .dataframe tbody tr th {\n",
       "        vertical-align: top;\n",
       "    }\n",
       "\n",
       "    .dataframe thead th {\n",
       "        text-align: right;\n",
       "    }\n",
       "</style>\n",
       "<table border=\"1\" class=\"dataframe\">\n",
       "  <thead>\n",
       "    <tr style=\"text-align: right;\">\n",
       "      <th></th>\n",
       "      <th>no_debt</th>\n",
       "      <th>debt</th>\n",
       "      <th>ratio</th>\n",
       "    </tr>\n",
       "    <tr>\n",
       "      <th>purpose_category</th>\n",
       "      <th></th>\n",
       "      <th></th>\n",
       "      <th></th>\n",
       "    </tr>\n",
       "  </thead>\n",
       "  <tbody>\n",
       "    <tr>\n",
       "      <th>операции с недвижимостью</th>\n",
       "      <td>9971</td>\n",
       "      <td>780</td>\n",
       "      <td>7.255139</td>\n",
       "    </tr>\n",
       "    <tr>\n",
       "      <th>проведение свадьбы</th>\n",
       "      <td>2130</td>\n",
       "      <td>183</td>\n",
       "      <td>7.911803</td>\n",
       "    </tr>\n",
       "    <tr>\n",
       "      <th>получение образования</th>\n",
       "      <td>3619</td>\n",
       "      <td>369</td>\n",
       "      <td>9.252758</td>\n",
       "    </tr>\n",
       "    <tr>\n",
       "      <th>операции с автомобилем</th>\n",
       "      <td>3879</td>\n",
       "      <td>400</td>\n",
       "      <td>9.347978</td>\n",
       "    </tr>\n",
       "  </tbody>\n",
       "</table>\n",
       "</div>"
      ],
      "text/plain": [
       "                          no_debt  debt     ratio\n",
       "purpose_category                                 \n",
       "операции с недвижимостью     9971   780  7.255139\n",
       "проведение свадьбы           2130   183  7.911803\n",
       "получение образования        3619   369  9.252758\n",
       "операции с автомобилем       3879   400  9.347978"
      ]
     },
     "execution_count": 25,
     "metadata": {},
     "output_type": "execute_result"
    }
   ],
   "source": [
    "purpose_category_pivot = data.pivot_table(index='purpose_category', columns='debt', values='gender', aggfunc='count') # создадим сводную таблицу, для отображения количества клиентов, у которых была задолженность, по количеству детей\n",
    "purpose_category_pivot.columns = ['no_debt', 'debt'] # переименуем столбцы для лучшего понимания\n",
    "purpose_category_pivot['ratio'] = purpose_category_pivot['debt'] / (purpose_category_pivot['debt'] + purpose_category_pivot['no_debt']) * 100 # рассчитаем долю должников от общего количества клиентов\n",
    "purpose_category_pivot.sort_values(by='ratio', ascending=True) # посмотрим таблицу, отсортированную по возрастанию"
   ]
  },
  {
   "cell_type": "markdown",
   "id": "cf05ed63",
   "metadata": {
    "deletable": false,
    "id": "cf05ed63"
   },
   "source": [
    "**Вывод:** Можно сделать вывод, что наименьшая доля должников это клиенты с целью операции с недвижимостю (7,26%). Наибольшая доля - операции с автомобилем (9,35%). Также доля клиентов должников с целью получения образования достаточно большой (9,25%). Таким образом можно отметить, что клиенты с такой целью больше подвержены риску задолженности."
   ]
  },
  {
   "cell_type": "markdown",
   "id": "46c1f10b",
   "metadata": {
    "deletable": false,
    "editable": false,
    "id": "46c1f10b"
   },
   "source": [
    "#### 3.5 Приведите возможные причины появления пропусков в исходных данных."
   ]
  },
  {
   "cell_type": "markdown",
   "id": "3697d2a9",
   "metadata": {
    "deletable": false,
    "id": "3697d2a9"
   },
   "source": [
    "**Ответ:** Невнимательность (не все данные были выгружены), повреждение файла, искажение информации (неверная информация от клиента (неверно указана з/п, возраст и т.д.)), сокрытие информации (клиент не указал информацию о себе(например почту или номер телефона (та информация, которая нужна для анализа)), технические неполадки (как пример в случае с проектом: отрицательные данные по общему трудовому стажу в днях)."
   ]
  },
  {
   "cell_type": "markdown",
   "id": "3137d257",
   "metadata": {
    "deletable": false,
    "editable": false,
    "id": "3137d257"
   },
   "source": [
    "#### 3.6 Объясните, почему заполнить пропуски медианным значением — лучшее решение для количественных переменных."
   ]
  },
  {
   "cell_type": "markdown",
   "id": "cf40012a",
   "metadata": {
    "deletable": false,
    "id": "cf40012a"
   },
   "source": [
    "**Ответ:** при использовании среднего значения, разница может быть большая из-за аномальных скачков данных, и значение может быть искажено. Поэтому лучше использовать медианное значение. Если данные будут распределены нормально, то среднее значение и медианное будут примерно равны."
   ]
  },
  {
   "cell_type": "markdown",
   "id": "57bc304e",
   "metadata": {
    "deletable": false,
    "editable": false,
    "id": "57bc304e"
   },
   "source": [
    "### Шаг 4: общий вывод."
   ]
  },
  {
   "cell_type": "markdown",
   "id": "1ab75d1c",
   "metadata": {
    "deletable": false,
    "id": "1ab75d1c"
   },
   "source": [
    "Была проведена работа со статистикой о платёжеспособности клиентов.\n",
    "Были удалены пропуски и заменены медианными значениями. Также были встречены аномалии (или так называемые артефакты). Они были обработаны и данные были исправлены. Обработали неявные дубликаты и сгруппировали данные по категориям, чтобы было удобнее анализировать.\n",
    "\n",
    "1.Количество детей влияет на вероятность наличия задолженности. Чем больше детей, тем зачастую больше вероятность.\n",
    "\n",
    "2. Семейное положение влияет на вероятность наличия задолженности. Больше всего повреждены риску клиенты со статусом гражданский брак и не женат/не замужем.\n",
    "\n",
    "3. Количество дохода влияет на вероятность наличия задолженности. Вероятность стать должником наибольшая у клиентов с категорией Е (уровень дохода 0 - 30000), а также с категорией С (50001–200000).Большая часть клиентов - это клиенты с доходом 50001–200000. Доля из них клиентов с задолженностью - 8,5%. Они больше всего повержены риску. Клиенты с уровнем дохода 200001–1000000 и задолженностью составляют 7,06%, что тоже влияет на показатель. Но они не так сильны повержены риску, как клиенты категории С\n",
    "\n",
    "4. Цели кредита влияет на вероятность наличия задолженности. Больше всего повреждены клиенты с целью получения образования и операции с автомобилем.\n",
    "\n",
    "**По данному выводу можно отметить:**\n",
    "Идеальный портер клиента: Нет детей или многодетный, семейное положение - вдовец/вдова или в разводе или женат / замужем, доход составляет 200001–1000000, цель - операции с недвижимостью или проведение свадьбы.\n",
    "Нежелательный клиент: 1-2 детей, семейное положение - гражданский брак или не женат/не замужем, доход составляет 0 - 30000 или 50001–200000, цель - получения образования или операции с автомобилем.\n",
    "\n",
    "**Рекомендации:** при скоринге клиентов нужно обязательно учитывать данные, которые были рассмотрены (а именно: кол-во детей, семейное положение, уровень дохода и цель кредита). Все эти значения сильно влияют на вероятность возможной задолженности в будущем. "
   ]
  }
 ],
 "metadata": {
  "ExecuteTimeLog": [
   {
    "duration": 482,
    "start_time": "2024-04-08T16:30:30.292Z"
   },
   {
    "duration": 22,
    "start_time": "2024-04-08T16:30:46.595Z"
   },
   {
    "duration": 18,
    "start_time": "2024-04-08T16:30:49.786Z"
   },
   {
    "duration": 10,
    "start_time": "2024-04-08T16:30:51.947Z"
   },
   {
    "duration": 51,
    "start_time": "2024-04-08T16:30:54.354Z"
   },
   {
    "duration": 3,
    "start_time": "2024-04-08T16:30:56.490Z"
   },
   {
    "duration": 8,
    "start_time": "2024-04-08T16:30:57.805Z"
   },
   {
    "duration": 5,
    "start_time": "2024-04-08T16:30:59.513Z"
   },
   {
    "duration": 6,
    "start_time": "2024-04-08T16:31:01.410Z"
   },
   {
    "duration": 5,
    "start_time": "2024-04-08T16:31:03.027Z"
   },
   {
    "duration": 38,
    "start_time": "2024-04-08T16:31:04.611Z"
   },
   {
    "duration": 10,
    "start_time": "2024-04-08T16:31:06.228Z"
   },
   {
    "duration": 3,
    "start_time": "2024-04-08T16:31:08.117Z"
   },
   {
    "duration": 13,
    "start_time": "2024-04-08T16:31:09.434Z"
   },
   {
    "duration": 20,
    "start_time": "2024-04-08T16:31:11.834Z"
   },
   {
    "duration": 18,
    "start_time": "2024-04-08T16:31:13.147Z"
   },
   {
    "duration": 4,
    "start_time": "2024-04-08T16:31:15.273Z"
   },
   {
    "duration": 11,
    "start_time": "2024-04-08T16:31:17.594Z"
   },
   {
    "duration": 6,
    "start_time": "2024-04-08T16:31:19.010Z"
   },
   {
    "duration": 4,
    "start_time": "2024-04-08T16:31:23.197Z"
   },
   {
    "duration": 8,
    "start_time": "2024-04-08T16:31:25.642Z"
   },
   {
    "duration": 108,
    "start_time": "2024-04-09T16:07:47.266Z"
   },
   {
    "duration": 46,
    "start_time": "2024-04-09T16:08:01.126Z"
   },
   {
    "duration": 6,
    "start_time": "2024-04-09T16:09:00.739Z"
   },
   {
    "duration": 6,
    "start_time": "2024-04-09T16:09:12.818Z"
   },
   {
    "duration": 691,
    "start_time": "2024-04-09T16:09:33.484Z"
   },
   {
    "duration": 33,
    "start_time": "2024-04-09T16:09:34.177Z"
   },
   {
    "duration": 34,
    "start_time": "2024-04-09T16:09:34.212Z"
   },
   {
    "duration": 11,
    "start_time": "2024-04-09T16:09:34.249Z"
   },
   {
    "duration": 38,
    "start_time": "2024-04-09T16:09:34.272Z"
   },
   {
    "duration": 4,
    "start_time": "2024-04-09T16:09:34.311Z"
   },
   {
    "duration": 27,
    "start_time": "2024-04-09T16:09:34.316Z"
   },
   {
    "duration": 12,
    "start_time": "2024-04-09T16:09:34.345Z"
   },
   {
    "duration": 19,
    "start_time": "2024-04-09T16:09:34.359Z"
   },
   {
    "duration": 16,
    "start_time": "2024-04-09T16:09:34.381Z"
   },
   {
    "duration": 43,
    "start_time": "2024-04-09T16:09:34.399Z"
   },
   {
    "duration": 16,
    "start_time": "2024-04-09T16:09:34.444Z"
   },
   {
    "duration": 19,
    "start_time": "2024-04-09T16:09:34.461Z"
   },
   {
    "duration": 16,
    "start_time": "2024-04-09T16:09:34.481Z"
   },
   {
    "duration": 21,
    "start_time": "2024-04-09T16:09:34.498Z"
   },
   {
    "duration": 18,
    "start_time": "2024-04-09T16:09:34.520Z"
   },
   {
    "duration": 3,
    "start_time": "2024-04-09T16:09:34.540Z"
   },
   {
    "duration": 33,
    "start_time": "2024-04-09T16:09:34.545Z"
   },
   {
    "duration": 6,
    "start_time": "2024-04-09T16:09:34.580Z"
   },
   {
    "duration": 4,
    "start_time": "2024-04-09T16:09:34.588Z"
   },
   {
    "duration": 12,
    "start_time": "2024-04-09T16:09:34.593Z"
   },
   {
    "duration": 96,
    "start_time": "2024-04-09T16:09:34.607Z"
   },
   {
    "duration": 0,
    "start_time": "2024-04-09T16:09:34.705Z"
   },
   {
    "duration": 0,
    "start_time": "2024-04-09T16:09:34.706Z"
   },
   {
    "duration": 0,
    "start_time": "2024-04-09T16:09:34.707Z"
   },
   {
    "duration": 16,
    "start_time": "2024-04-09T16:10:10.785Z"
   },
   {
    "duration": 17,
    "start_time": "2024-04-09T16:14:18.147Z"
   },
   {
    "duration": 16,
    "start_time": "2024-04-09T16:14:49.067Z"
   },
   {
    "duration": 21,
    "start_time": "2024-04-09T16:18:27.995Z"
   },
   {
    "duration": 336,
    "start_time": "2024-04-09T16:18:32.551Z"
   },
   {
    "duration": 16,
    "start_time": "2024-04-09T16:18:44.078Z"
   },
   {
    "duration": 17,
    "start_time": "2024-04-09T16:18:48.125Z"
   },
   {
    "duration": 1281,
    "start_time": "2024-04-09T16:21:33.276Z"
   },
   {
    "duration": 1301,
    "start_time": "2024-04-09T16:21:42.304Z"
   },
   {
    "duration": 1287,
    "start_time": "2024-04-09T16:21:55.584Z"
   },
   {
    "duration": 1280,
    "start_time": "2024-04-09T16:22:21.288Z"
   },
   {
    "duration": 18,
    "start_time": "2024-04-09T16:22:52.383Z"
   },
   {
    "duration": 20,
    "start_time": "2024-04-09T16:22:54.617Z"
   },
   {
    "duration": 547,
    "start_time": "2024-04-09T16:23:01.053Z"
   },
   {
    "duration": 24,
    "start_time": "2024-04-09T16:23:01.602Z"
   },
   {
    "duration": 48,
    "start_time": "2024-04-09T16:23:01.627Z"
   },
   {
    "duration": 109,
    "start_time": "2024-04-09T16:23:01.677Z"
   },
   {
    "duration": 100,
    "start_time": "2024-04-09T16:23:01.788Z"
   },
   {
    "duration": 23,
    "start_time": "2024-04-09T16:23:01.890Z"
   },
   {
    "duration": 69,
    "start_time": "2024-04-09T16:23:01.914Z"
   },
   {
    "duration": 173,
    "start_time": "2024-04-09T16:23:01.985Z"
   },
   {
    "duration": 132,
    "start_time": "2024-04-09T16:23:02.160Z"
   },
   {
    "duration": 49,
    "start_time": "2024-04-09T16:23:02.295Z"
   },
   {
    "duration": 111,
    "start_time": "2024-04-09T16:23:02.346Z"
   },
   {
    "duration": 10,
    "start_time": "2024-04-09T16:23:02.459Z"
   },
   {
    "duration": 35,
    "start_time": "2024-04-09T16:23:02.471Z"
   },
   {
    "duration": 64,
    "start_time": "2024-04-09T16:23:02.508Z"
   },
   {
    "duration": 41,
    "start_time": "2024-04-09T16:23:02.573Z"
   },
   {
    "duration": 44,
    "start_time": "2024-04-09T16:23:02.616Z"
   },
   {
    "duration": 70,
    "start_time": "2024-04-09T16:23:02.661Z"
   },
   {
    "duration": 75,
    "start_time": "2024-04-09T16:23:02.732Z"
   },
   {
    "duration": 31,
    "start_time": "2024-04-09T16:23:02.808Z"
   },
   {
    "duration": 4,
    "start_time": "2024-04-09T16:23:02.841Z"
   },
   {
    "duration": 10,
    "start_time": "2024-04-09T16:23:02.847Z"
   },
   {
    "duration": 80,
    "start_time": "2024-04-09T16:23:02.859Z"
   },
   {
    "duration": 0,
    "start_time": "2024-04-09T16:23:02.940Z"
   },
   {
    "duration": 0,
    "start_time": "2024-04-09T16:23:02.942Z"
   },
   {
    "duration": 0,
    "start_time": "2024-04-09T16:23:02.943Z"
   },
   {
    "duration": 17,
    "start_time": "2024-04-09T16:23:09.752Z"
   },
   {
    "duration": 86,
    "start_time": "2024-04-09T16:23:41.025Z"
   },
   {
    "duration": 18,
    "start_time": "2024-04-09T16:23:45.481Z"
   },
   {
    "duration": 20,
    "start_time": "2024-04-09T16:31:08.852Z"
   },
   {
    "duration": 19,
    "start_time": "2024-04-09T16:31:44.877Z"
   },
   {
    "duration": 21,
    "start_time": "2024-04-09T16:31:48.342Z"
   },
   {
    "duration": 21,
    "start_time": "2024-04-09T16:31:53.829Z"
   },
   {
    "duration": 29,
    "start_time": "2024-04-09T16:36:21.616Z"
   },
   {
    "duration": 99,
    "start_time": "2024-04-09T16:36:29.911Z"
   },
   {
    "duration": 29,
    "start_time": "2024-04-09T16:36:38.135Z"
   },
   {
    "duration": 23,
    "start_time": "2024-04-09T16:37:14.112Z"
   },
   {
    "duration": 22,
    "start_time": "2024-04-09T16:37:35.921Z"
   },
   {
    "duration": 37,
    "start_time": "2024-04-09T16:39:23.994Z"
   },
   {
    "duration": 21,
    "start_time": "2024-04-09T16:39:49.884Z"
   },
   {
    "duration": 351,
    "start_time": "2024-04-09T16:45:52.094Z"
   },
   {
    "duration": 24,
    "start_time": "2024-04-09T16:46:00.494Z"
   },
   {
    "duration": 22,
    "start_time": "2024-04-09T16:46:26.483Z"
   },
   {
    "duration": 469,
    "start_time": "2024-04-09T17:02:32.829Z"
   },
   {
    "duration": 24,
    "start_time": "2024-04-09T17:02:33.300Z"
   },
   {
    "duration": 16,
    "start_time": "2024-04-09T17:02:33.325Z"
   },
   {
    "duration": 14,
    "start_time": "2024-04-09T17:02:33.343Z"
   },
   {
    "duration": 41,
    "start_time": "2024-04-09T17:02:33.375Z"
   },
   {
    "duration": 5,
    "start_time": "2024-04-09T17:02:33.418Z"
   },
   {
    "duration": 11,
    "start_time": "2024-04-09T17:02:33.424Z"
   },
   {
    "duration": 4,
    "start_time": "2024-04-09T17:02:33.437Z"
   },
   {
    "duration": 30,
    "start_time": "2024-04-09T17:02:33.443Z"
   },
   {
    "duration": 9,
    "start_time": "2024-04-09T17:02:33.475Z"
   },
   {
    "duration": 41,
    "start_time": "2024-04-09T17:02:33.486Z"
   },
   {
    "duration": 11,
    "start_time": "2024-04-09T17:02:33.528Z"
   },
   {
    "duration": 8,
    "start_time": "2024-04-09T17:02:33.540Z"
   },
   {
    "duration": 34,
    "start_time": "2024-04-09T17:02:33.550Z"
   },
   {
    "duration": 23,
    "start_time": "2024-04-09T17:02:33.585Z"
   },
   {
    "duration": 16,
    "start_time": "2024-04-09T17:02:33.610Z"
   },
   {
    "duration": 3,
    "start_time": "2024-04-09T17:02:33.628Z"
   },
   {
    "duration": 12,
    "start_time": "2024-04-09T17:02:33.633Z"
   },
   {
    "duration": 30,
    "start_time": "2024-04-09T17:02:33.647Z"
   },
   {
    "duration": 3,
    "start_time": "2024-04-09T17:02:33.679Z"
   },
   {
    "duration": 16,
    "start_time": "2024-04-09T17:02:33.684Z"
   },
   {
    "duration": 24,
    "start_time": "2024-04-09T17:02:33.702Z"
   },
   {
    "duration": 20,
    "start_time": "2024-04-09T17:02:33.728Z"
   },
   {
    "duration": 42,
    "start_time": "2024-04-09T17:02:33.749Z"
   },
   {
    "duration": 21,
    "start_time": "2024-04-09T17:02:33.793Z"
   },
   {
    "duration": 486,
    "start_time": "2024-04-09T18:01:09.634Z"
   },
   {
    "duration": 26,
    "start_time": "2024-04-09T18:01:10.122Z"
   },
   {
    "duration": 17,
    "start_time": "2024-04-09T18:01:10.149Z"
   },
   {
    "duration": 16,
    "start_time": "2024-04-09T18:01:10.176Z"
   },
   {
    "duration": 64,
    "start_time": "2024-04-09T18:01:10.194Z"
   },
   {
    "duration": 3,
    "start_time": "2024-04-09T18:01:10.260Z"
   },
   {
    "duration": 101,
    "start_time": "2024-04-09T18:01:10.265Z"
   },
   {
    "duration": 33,
    "start_time": "2024-04-09T18:01:10.368Z"
   },
   {
    "duration": 31,
    "start_time": "2024-04-09T18:01:10.403Z"
   },
   {
    "duration": 7,
    "start_time": "2024-04-09T18:01:10.437Z"
   },
   {
    "duration": 75,
    "start_time": "2024-04-09T18:01:10.446Z"
   },
   {
    "duration": 12,
    "start_time": "2024-04-09T18:01:10.523Z"
   },
   {
    "duration": 5,
    "start_time": "2024-04-09T18:01:10.537Z"
   },
   {
    "duration": 36,
    "start_time": "2024-04-09T18:01:10.544Z"
   },
   {
    "duration": 32,
    "start_time": "2024-04-09T18:01:10.582Z"
   },
   {
    "duration": 26,
    "start_time": "2024-04-09T18:01:10.616Z"
   },
   {
    "duration": 4,
    "start_time": "2024-04-09T18:01:10.643Z"
   },
   {
    "duration": 35,
    "start_time": "2024-04-09T18:01:10.648Z"
   },
   {
    "duration": 6,
    "start_time": "2024-04-09T18:01:10.685Z"
   },
   {
    "duration": 3,
    "start_time": "2024-04-09T18:01:10.693Z"
   },
   {
    "duration": 12,
    "start_time": "2024-04-09T18:01:10.697Z"
   },
   {
    "duration": 25,
    "start_time": "2024-04-09T18:01:10.711Z"
   },
   {
    "duration": 48,
    "start_time": "2024-04-09T18:01:10.737Z"
   },
   {
    "duration": 20,
    "start_time": "2024-04-09T18:01:10.787Z"
   },
   {
    "duration": 20,
    "start_time": "2024-04-09T18:01:10.809Z"
   },
   {
    "duration": 53,
    "start_time": "2024-04-09T18:15:03.525Z"
   },
   {
    "duration": 711,
    "start_time": "2024-04-09T18:15:21.643Z"
   },
   {
    "duration": 22,
    "start_time": "2024-04-09T18:15:22.356Z"
   },
   {
    "duration": 23,
    "start_time": "2024-04-09T18:15:22.380Z"
   },
   {
    "duration": 21,
    "start_time": "2024-04-09T18:15:22.405Z"
   },
   {
    "duration": 62,
    "start_time": "2024-04-09T18:15:22.427Z"
   },
   {
    "duration": 3,
    "start_time": "2024-04-09T18:15:22.491Z"
   },
   {
    "duration": 26,
    "start_time": "2024-04-09T18:15:22.495Z"
   },
   {
    "duration": 5,
    "start_time": "2024-04-09T18:15:22.523Z"
   },
   {
    "duration": 11,
    "start_time": "2024-04-09T18:15:22.530Z"
   },
   {
    "duration": 5,
    "start_time": "2024-04-09T18:15:22.544Z"
   },
   {
    "duration": 48,
    "start_time": "2024-04-09T18:15:22.551Z"
   },
   {
    "duration": 11,
    "start_time": "2024-04-09T18:15:22.601Z"
   },
   {
    "duration": 16,
    "start_time": "2024-04-09T18:15:22.613Z"
   },
   {
    "duration": 39,
    "start_time": "2024-04-09T18:15:22.630Z"
   },
   {
    "duration": 29,
    "start_time": "2024-04-09T18:15:22.670Z"
   },
   {
    "duration": 18,
    "start_time": "2024-04-09T18:15:22.700Z"
   },
   {
    "duration": 4,
    "start_time": "2024-04-09T18:15:22.719Z"
   },
   {
    "duration": 14,
    "start_time": "2024-04-09T18:15:22.724Z"
   },
   {
    "duration": 5,
    "start_time": "2024-04-09T18:15:22.740Z"
   },
   {
    "duration": 6,
    "start_time": "2024-04-09T18:15:22.747Z"
   },
   {
    "duration": 22,
    "start_time": "2024-04-09T18:15:22.754Z"
   },
   {
    "duration": 99,
    "start_time": "2024-04-09T18:15:22.778Z"
   },
   {
    "duration": 0,
    "start_time": "2024-04-09T18:15:22.879Z"
   },
   {
    "duration": 0,
    "start_time": "2024-04-09T18:15:22.880Z"
   },
   {
    "duration": 0,
    "start_time": "2024-04-09T18:15:22.881Z"
   },
   {
    "duration": 28,
    "start_time": "2024-04-09T18:16:32.062Z"
   },
   {
    "duration": 23,
    "start_time": "2024-04-09T18:16:38.334Z"
   },
   {
    "duration": 14,
    "start_time": "2024-04-09T18:17:27.290Z"
   },
   {
    "duration": 19,
    "start_time": "2024-04-09T18:17:34.910Z"
   },
   {
    "duration": 21,
    "start_time": "2024-04-09T18:17:45.183Z"
   },
   {
    "duration": 32,
    "start_time": "2024-04-09T18:19:35.807Z"
   },
   {
    "duration": 16,
    "start_time": "2024-04-09T18:19:56.358Z"
   },
   {
    "duration": 33,
    "start_time": "2024-04-09T18:20:01.423Z"
   },
   {
    "duration": 315,
    "start_time": "2024-04-09T18:20:13.207Z"
   },
   {
    "duration": 19,
    "start_time": "2024-04-09T18:21:13.799Z"
   },
   {
    "duration": 21,
    "start_time": "2024-04-09T18:21:24.647Z"
   },
   {
    "duration": 24,
    "start_time": "2024-04-09T18:23:54.887Z"
   },
   {
    "duration": 15,
    "start_time": "2024-04-09T18:24:16.160Z"
   },
   {
    "duration": 20,
    "start_time": "2024-04-09T18:24:21.089Z"
   },
   {
    "duration": 21,
    "start_time": "2024-04-09T18:27:36.234Z"
   },
   {
    "duration": 22,
    "start_time": "2024-04-09T18:27:41.433Z"
   },
   {
    "duration": 14,
    "start_time": "2024-04-09T18:27:47.522Z"
   },
   {
    "duration": 31,
    "start_time": "2024-04-09T18:27:51.073Z"
   },
   {
    "duration": 20,
    "start_time": "2024-04-09T18:29:58.506Z"
   },
   {
    "duration": 19,
    "start_time": "2024-04-09T18:30:09.570Z"
   },
   {
    "duration": 4,
    "start_time": "2024-04-09T18:30:44.266Z"
   },
   {
    "duration": 968,
    "start_time": "2024-04-09T18:30:50.858Z"
   },
   {
    "duration": 22,
    "start_time": "2024-04-09T18:31:08.026Z"
   },
   {
    "duration": 91,
    "start_time": "2024-04-09T18:32:36.915Z"
   },
   {
    "duration": 25,
    "start_time": "2024-04-09T18:34:03.763Z"
   },
   {
    "duration": 25,
    "start_time": "2024-04-09T18:34:06.228Z"
   },
   {
    "duration": 27,
    "start_time": "2024-04-09T18:34:18.154Z"
   },
   {
    "duration": 524,
    "start_time": "2024-04-09T18:34:26.245Z"
   },
   {
    "duration": 30,
    "start_time": "2024-04-09T18:34:26.771Z"
   },
   {
    "duration": 22,
    "start_time": "2024-04-09T18:34:26.803Z"
   },
   {
    "duration": 11,
    "start_time": "2024-04-09T18:34:26.827Z"
   },
   {
    "duration": 66,
    "start_time": "2024-04-09T18:34:26.840Z"
   },
   {
    "duration": 4,
    "start_time": "2024-04-09T18:34:26.908Z"
   },
   {
    "duration": 12,
    "start_time": "2024-04-09T18:34:26.913Z"
   },
   {
    "duration": 7,
    "start_time": "2024-04-09T18:34:26.926Z"
   },
   {
    "duration": 6,
    "start_time": "2024-04-09T18:34:26.934Z"
   },
   {
    "duration": 31,
    "start_time": "2024-04-09T18:34:26.942Z"
   },
   {
    "duration": 58,
    "start_time": "2024-04-09T18:34:26.975Z"
   },
   {
    "duration": 17,
    "start_time": "2024-04-09T18:34:27.035Z"
   },
   {
    "duration": 15,
    "start_time": "2024-04-09T18:34:27.054Z"
   },
   {
    "duration": 25,
    "start_time": "2024-04-09T18:34:27.072Z"
   },
   {
    "duration": 41,
    "start_time": "2024-04-09T18:34:27.099Z"
   },
   {
    "duration": 18,
    "start_time": "2024-04-09T18:34:27.142Z"
   },
   {
    "duration": 3,
    "start_time": "2024-04-09T18:34:27.162Z"
   },
   {
    "duration": 28,
    "start_time": "2024-04-09T18:34:27.167Z"
   },
   {
    "duration": 8,
    "start_time": "2024-04-09T18:34:27.197Z"
   },
   {
    "duration": 4,
    "start_time": "2024-04-09T18:34:27.207Z"
   },
   {
    "duration": 11,
    "start_time": "2024-04-09T18:34:27.213Z"
   },
   {
    "duration": 51,
    "start_time": "2024-04-09T18:34:27.226Z"
   },
   {
    "duration": 22,
    "start_time": "2024-04-09T18:34:27.279Z"
   },
   {
    "duration": 22,
    "start_time": "2024-04-09T18:34:27.303Z"
   },
   {
    "duration": 47,
    "start_time": "2024-04-09T18:34:27.327Z"
   },
   {
    "duration": 30,
    "start_time": "2024-04-09T18:34:58.515Z"
   },
   {
    "duration": 31,
    "start_time": "2024-04-09T18:35:04.764Z"
   },
   {
    "duration": 22,
    "start_time": "2024-04-09T18:35:20.796Z"
   },
   {
    "duration": 22,
    "start_time": "2024-04-09T18:35:59.660Z"
   },
   {
    "duration": 22,
    "start_time": "2024-04-09T18:36:14.836Z"
   },
   {
    "duration": 85,
    "start_time": "2024-04-09T18:36:27.732Z"
   },
   {
    "duration": 22,
    "start_time": "2024-04-09T18:36:34.179Z"
   },
   {
    "duration": 20,
    "start_time": "2024-04-09T18:36:40.588Z"
   },
   {
    "duration": 15,
    "start_time": "2024-04-09T18:43:38.183Z"
   },
   {
    "duration": 19,
    "start_time": "2024-04-09T18:43:49.463Z"
   },
   {
    "duration": 1301,
    "start_time": "2024-04-09T18:43:52.735Z"
   },
   {
    "duration": 7,
    "start_time": "2024-04-09T18:44:29.743Z"
   },
   {
    "duration": 88,
    "start_time": "2024-04-09T18:44:59.151Z"
   },
   {
    "duration": 13,
    "start_time": "2024-04-09T18:45:31.744Z"
   },
   {
    "duration": 14,
    "start_time": "2024-04-09T18:45:34.280Z"
   },
   {
    "duration": 13,
    "start_time": "2024-04-09T18:45:39.497Z"
   },
   {
    "duration": 1271,
    "start_time": "2024-04-09T18:45:56.807Z"
   },
   {
    "duration": 18,
    "start_time": "2024-04-09T18:46:35.489Z"
   },
   {
    "duration": 521,
    "start_time": "2024-04-09T18:46:53.870Z"
   },
   {
    "duration": 23,
    "start_time": "2024-04-09T18:46:54.392Z"
   },
   {
    "duration": 16,
    "start_time": "2024-04-09T18:46:54.417Z"
   },
   {
    "duration": 11,
    "start_time": "2024-04-09T18:46:54.434Z"
   },
   {
    "duration": 59,
    "start_time": "2024-04-09T18:46:54.447Z"
   },
   {
    "duration": 4,
    "start_time": "2024-04-09T18:46:54.507Z"
   },
   {
    "duration": 9,
    "start_time": "2024-04-09T18:46:54.512Z"
   },
   {
    "duration": 5,
    "start_time": "2024-04-09T18:46:54.522Z"
   },
   {
    "duration": 12,
    "start_time": "2024-04-09T18:46:54.528Z"
   },
   {
    "duration": 4,
    "start_time": "2024-04-09T18:46:54.542Z"
   },
   {
    "duration": 62,
    "start_time": "2024-04-09T18:46:54.547Z"
   },
   {
    "duration": 11,
    "start_time": "2024-04-09T18:46:54.611Z"
   },
   {
    "duration": 14,
    "start_time": "2024-04-09T18:46:54.624Z"
   },
   {
    "duration": 17,
    "start_time": "2024-04-09T18:46:54.640Z"
   },
   {
    "duration": 33,
    "start_time": "2024-04-09T18:46:54.659Z"
   },
   {
    "duration": 18,
    "start_time": "2024-04-09T18:46:54.693Z"
   },
   {
    "duration": 3,
    "start_time": "2024-04-09T18:46:54.713Z"
   },
   {
    "duration": 14,
    "start_time": "2024-04-09T18:46:54.718Z"
   },
   {
    "duration": 9,
    "start_time": "2024-04-09T18:46:54.734Z"
   },
   {
    "duration": 28,
    "start_time": "2024-04-09T18:46:54.745Z"
   },
   {
    "duration": 10,
    "start_time": "2024-04-09T18:46:54.775Z"
   },
   {
    "duration": 26,
    "start_time": "2024-04-09T18:46:54.786Z"
   },
   {
    "duration": 20,
    "start_time": "2024-04-09T18:46:54.814Z"
   },
   {
    "duration": 45,
    "start_time": "2024-04-09T18:46:54.837Z"
   },
   {
    "duration": 21,
    "start_time": "2024-04-09T18:46:54.883Z"
   },
   {
    "duration": 94,
    "start_time": "2024-04-09T18:46:54.905Z"
   },
   {
    "duration": 0,
    "start_time": "2024-04-09T18:46:55.000Z"
   },
   {
    "duration": 21,
    "start_time": "2024-04-09T18:47:25.521Z"
   },
   {
    "duration": 27,
    "start_time": "2024-04-09T18:47:34.833Z"
   },
   {
    "duration": 504,
    "start_time": "2024-04-09T18:47:44.603Z"
   },
   {
    "duration": 24,
    "start_time": "2024-04-09T18:47:45.109Z"
   },
   {
    "duration": 87,
    "start_time": "2024-04-09T18:47:45.135Z"
   },
   {
    "duration": 61,
    "start_time": "2024-04-09T18:47:45.224Z"
   },
   {
    "duration": 92,
    "start_time": "2024-04-09T18:47:45.287Z"
   },
   {
    "duration": 4,
    "start_time": "2024-04-09T18:47:45.380Z"
   },
   {
    "duration": 51,
    "start_time": "2024-04-09T18:47:45.385Z"
   },
   {
    "duration": 9,
    "start_time": "2024-04-09T18:47:45.437Z"
   },
   {
    "duration": 41,
    "start_time": "2024-04-09T18:47:45.448Z"
   },
   {
    "duration": 19,
    "start_time": "2024-04-09T18:47:45.492Z"
   },
   {
    "duration": 54,
    "start_time": "2024-04-09T18:47:45.513Z"
   },
   {
    "duration": 11,
    "start_time": "2024-04-09T18:47:45.569Z"
   },
   {
    "duration": 4,
    "start_time": "2024-04-09T18:47:45.581Z"
   },
   {
    "duration": 37,
    "start_time": "2024-04-09T18:47:45.587Z"
   },
   {
    "duration": 34,
    "start_time": "2024-04-09T18:47:45.625Z"
   },
   {
    "duration": 18,
    "start_time": "2024-04-09T18:47:45.661Z"
   },
   {
    "duration": 3,
    "start_time": "2024-04-09T18:47:45.681Z"
   },
   {
    "duration": 13,
    "start_time": "2024-04-09T18:47:45.686Z"
   },
   {
    "duration": 11,
    "start_time": "2024-04-09T18:47:45.701Z"
   },
   {
    "duration": 4,
    "start_time": "2024-04-09T18:47:45.713Z"
   },
   {
    "duration": 11,
    "start_time": "2024-04-09T18:47:45.718Z"
   },
   {
    "duration": 45,
    "start_time": "2024-04-09T18:47:45.730Z"
   },
   {
    "duration": 21,
    "start_time": "2024-04-09T18:47:45.776Z"
   },
   {
    "duration": 20,
    "start_time": "2024-04-09T18:47:45.799Z"
   },
   {
    "duration": 20,
    "start_time": "2024-04-09T18:47:45.821Z"
   },
   {
    "duration": 130,
    "start_time": "2024-04-09T18:47:45.843Z"
   },
   {
    "duration": 0,
    "start_time": "2024-04-09T18:47:45.974Z"
   },
   {
    "duration": 1319,
    "start_time": "2024-04-09T18:48:01.929Z"
   },
   {
    "duration": 7,
    "start_time": "2024-04-09T18:48:15.418Z"
   },
   {
    "duration": 13,
    "start_time": "2024-04-09T18:48:32.896Z"
   },
   {
    "duration": 1304,
    "start_time": "2024-04-09T18:48:38.129Z"
   },
   {
    "duration": 1361,
    "start_time": "2024-04-09T18:48:40.138Z"
   },
   {
    "duration": 12,
    "start_time": "2024-04-09T18:48:54.777Z"
   },
   {
    "duration": 9,
    "start_time": "2024-04-09T18:49:31.202Z"
   },
   {
    "duration": 8,
    "start_time": "2024-04-09T18:49:41.018Z"
   },
   {
    "duration": 13,
    "start_time": "2024-04-09T18:49:49.849Z"
   },
   {
    "duration": 458,
    "start_time": "2024-04-09T18:50:00.323Z"
   },
   {
    "duration": 24,
    "start_time": "2024-04-09T18:50:00.783Z"
   },
   {
    "duration": 53,
    "start_time": "2024-04-09T18:50:00.808Z"
   },
   {
    "duration": 85,
    "start_time": "2024-04-09T18:50:00.863Z"
   },
   {
    "duration": 92,
    "start_time": "2024-04-09T18:50:00.949Z"
   },
   {
    "duration": 97,
    "start_time": "2024-04-09T18:50:01.042Z"
   },
   {
    "duration": 61,
    "start_time": "2024-04-09T18:50:01.141Z"
   },
   {
    "duration": 49,
    "start_time": "2024-04-09T18:50:01.204Z"
   },
   {
    "duration": 77,
    "start_time": "2024-04-09T18:50:01.255Z"
   },
   {
    "duration": 67,
    "start_time": "2024-04-09T18:50:01.334Z"
   },
   {
    "duration": 98,
    "start_time": "2024-04-09T18:50:01.403Z"
   },
   {
    "duration": 47,
    "start_time": "2024-04-09T18:50:01.503Z"
   },
   {
    "duration": 103,
    "start_time": "2024-04-09T18:50:01.552Z"
   },
   {
    "duration": 80,
    "start_time": "2024-04-09T18:50:01.657Z"
   },
   {
    "duration": 51,
    "start_time": "2024-04-09T18:50:01.739Z"
   },
   {
    "duration": 79,
    "start_time": "2024-04-09T18:50:01.792Z"
   },
   {
    "duration": 171,
    "start_time": "2024-04-09T18:50:01.873Z"
   },
   {
    "duration": 89,
    "start_time": "2024-04-09T18:50:02.046Z"
   },
   {
    "duration": 43,
    "start_time": "2024-04-09T18:50:02.137Z"
   },
   {
    "duration": 46,
    "start_time": "2024-04-09T18:50:02.181Z"
   },
   {
    "duration": 38,
    "start_time": "2024-04-09T18:50:02.228Z"
   },
   {
    "duration": 67,
    "start_time": "2024-04-09T18:50:02.267Z"
   },
   {
    "duration": 45,
    "start_time": "2024-04-09T18:50:02.335Z"
   },
   {
    "duration": 63,
    "start_time": "2024-04-09T18:50:02.381Z"
   },
   {
    "duration": 20,
    "start_time": "2024-04-09T18:50:02.445Z"
   },
   {
    "duration": 96,
    "start_time": "2024-04-09T18:50:02.467Z"
   },
   {
    "duration": 0,
    "start_time": "2024-04-09T18:50:02.565Z"
   },
   {
    "duration": 8,
    "start_time": "2024-04-09T18:50:51.834Z"
   },
   {
    "duration": 8,
    "start_time": "2024-04-09T18:50:58.242Z"
   },
   {
    "duration": 9,
    "start_time": "2024-04-09T18:51:26.442Z"
   },
   {
    "duration": 8,
    "start_time": "2024-04-09T18:51:58.586Z"
   },
   {
    "duration": 527,
    "start_time": "2024-04-09T18:52:12.250Z"
   },
   {
    "duration": 24,
    "start_time": "2024-04-09T18:52:12.779Z"
   },
   {
    "duration": 16,
    "start_time": "2024-04-09T18:52:12.805Z"
   },
   {
    "duration": 22,
    "start_time": "2024-04-09T18:52:12.823Z"
   },
   {
    "duration": 50,
    "start_time": "2024-04-09T18:52:12.847Z"
   },
   {
    "duration": 4,
    "start_time": "2024-04-09T18:52:12.899Z"
   },
   {
    "duration": 15,
    "start_time": "2024-04-09T18:52:12.904Z"
   },
   {
    "duration": 13,
    "start_time": "2024-04-09T18:52:12.921Z"
   },
   {
    "duration": 19,
    "start_time": "2024-04-09T18:52:12.935Z"
   },
   {
    "duration": 8,
    "start_time": "2024-04-09T18:52:12.957Z"
   },
   {
    "duration": 57,
    "start_time": "2024-04-09T18:52:12.966Z"
   },
   {
    "duration": 11,
    "start_time": "2024-04-09T18:52:13.024Z"
   },
   {
    "duration": 26,
    "start_time": "2024-04-09T18:52:13.036Z"
   },
   {
    "duration": 31,
    "start_time": "2024-04-09T18:52:13.065Z"
   },
   {
    "duration": 30,
    "start_time": "2024-04-09T18:52:13.098Z"
   },
   {
    "duration": 29,
    "start_time": "2024-04-09T18:52:13.130Z"
   },
   {
    "duration": 4,
    "start_time": "2024-04-09T18:52:13.161Z"
   },
   {
    "duration": 25,
    "start_time": "2024-04-09T18:52:13.166Z"
   },
   {
    "duration": 25,
    "start_time": "2024-04-09T18:52:13.193Z"
   },
   {
    "duration": 15,
    "start_time": "2024-04-09T18:52:13.220Z"
   },
   {
    "duration": 29,
    "start_time": "2024-04-09T18:52:13.236Z"
   },
   {
    "duration": 31,
    "start_time": "2024-04-09T18:52:13.266Z"
   },
   {
    "duration": 8,
    "start_time": "2024-04-09T18:52:13.298Z"
   },
   {
    "duration": 33,
    "start_time": "2024-04-09T18:52:13.308Z"
   },
   {
    "duration": 26,
    "start_time": "2024-04-09T18:52:13.342Z"
   },
   {
    "duration": 10,
    "start_time": "2024-04-09T18:52:13.373Z"
   },
   {
    "duration": 26,
    "start_time": "2024-04-09T18:52:13.385Z"
   },
   {
    "duration": 74,
    "start_time": "2024-04-09T18:52:19.099Z"
   },
   {
    "duration": 21,
    "start_time": "2024-04-09T18:52:34.418Z"
   },
   {
    "duration": 23,
    "start_time": "2024-04-09T18:52:38.284Z"
   },
   {
    "duration": 13,
    "start_time": "2024-04-09T18:52:40.762Z"
   },
   {
    "duration": 533,
    "start_time": "2024-04-09T18:52:55.057Z"
   },
   {
    "duration": 22,
    "start_time": "2024-04-09T18:52:55.592Z"
   },
   {
    "duration": 16,
    "start_time": "2024-04-09T18:52:55.616Z"
   },
   {
    "duration": 11,
    "start_time": "2024-04-09T18:52:55.634Z"
   },
   {
    "duration": 59,
    "start_time": "2024-04-09T18:52:55.646Z"
   },
   {
    "duration": 3,
    "start_time": "2024-04-09T18:52:55.706Z"
   },
   {
    "duration": 10,
    "start_time": "2024-04-09T18:52:55.711Z"
   },
   {
    "duration": 4,
    "start_time": "2024-04-09T18:52:55.723Z"
   },
   {
    "duration": 8,
    "start_time": "2024-04-09T18:52:55.728Z"
   },
   {
    "duration": 5,
    "start_time": "2024-04-09T18:52:55.738Z"
   },
   {
    "duration": 38,
    "start_time": "2024-04-09T18:52:55.773Z"
   },
   {
    "duration": 11,
    "start_time": "2024-04-09T18:52:55.813Z"
   },
   {
    "duration": 4,
    "start_time": "2024-04-09T18:52:55.825Z"
   },
   {
    "duration": 17,
    "start_time": "2024-04-09T18:52:55.830Z"
   },
   {
    "duration": 40,
    "start_time": "2024-04-09T18:52:55.848Z"
   },
   {
    "duration": 19,
    "start_time": "2024-04-09T18:52:55.889Z"
   },
   {
    "duration": 4,
    "start_time": "2024-04-09T18:52:55.910Z"
   },
   {
    "duration": 17,
    "start_time": "2024-04-09T18:52:55.915Z"
   },
   {
    "duration": 6,
    "start_time": "2024-04-09T18:52:55.934Z"
   },
   {
    "duration": 5,
    "start_time": "2024-04-09T18:52:55.941Z"
   },
   {
    "duration": 10,
    "start_time": "2024-04-09T18:52:55.973Z"
   },
   {
    "duration": 26,
    "start_time": "2024-04-09T18:52:55.984Z"
   },
   {
    "duration": 8,
    "start_time": "2024-04-09T18:52:56.011Z"
   },
   {
    "duration": 38,
    "start_time": "2024-04-09T18:52:56.020Z"
   },
   {
    "duration": 30,
    "start_time": "2024-04-09T18:52:56.060Z"
   },
   {
    "duration": 92,
    "start_time": "2024-04-09T18:52:56.092Z"
   },
   {
    "duration": 0,
    "start_time": "2024-04-09T18:52:56.186Z"
   },
   {
    "duration": 14,
    "start_time": "2024-04-09T18:53:06.491Z"
   },
   {
    "duration": 27,
    "start_time": "2024-04-09T18:53:49.139Z"
   },
   {
    "duration": 23,
    "start_time": "2024-04-09T18:54:06.091Z"
   },
   {
    "duration": 21,
    "start_time": "2024-04-09T18:55:54.580Z"
   },
   {
    "duration": 1273,
    "start_time": "2024-04-09T18:56:05.124Z"
   },
   {
    "duration": 21,
    "start_time": "2024-04-09T18:57:38.116Z"
   },
   {
    "duration": 6,
    "start_time": "2024-04-09T18:59:38.717Z"
   },
   {
    "duration": 1291,
    "start_time": "2024-04-09T18:59:53.494Z"
   },
   {
    "duration": 1317,
    "start_time": "2024-04-09T19:00:04.765Z"
   },
   {
    "duration": 90,
    "start_time": "2024-04-09T19:02:41.480Z"
   },
   {
    "duration": 7,
    "start_time": "2024-04-09T19:02:49.935Z"
   },
   {
    "duration": 8,
    "start_time": "2024-04-09T19:03:22.375Z"
   },
   {
    "duration": 89,
    "start_time": "2024-04-09T19:03:38.296Z"
   },
   {
    "duration": 86,
    "start_time": "2024-04-09T19:03:42.454Z"
   },
   {
    "duration": 8,
    "start_time": "2024-04-09T19:03:55.464Z"
   },
   {
    "duration": 7,
    "start_time": "2024-04-09T19:03:59.591Z"
   },
   {
    "duration": 7,
    "start_time": "2024-04-09T19:04:05.599Z"
   },
   {
    "duration": 7,
    "start_time": "2024-04-09T19:04:13.567Z"
   },
   {
    "duration": 480,
    "start_time": "2024-04-09T19:04:27.611Z"
   },
   {
    "duration": 23,
    "start_time": "2024-04-09T19:04:28.094Z"
   },
   {
    "duration": 25,
    "start_time": "2024-04-09T19:04:28.118Z"
   },
   {
    "duration": 11,
    "start_time": "2024-04-09T19:04:28.146Z"
   },
   {
    "duration": 64,
    "start_time": "2024-04-09T19:04:28.158Z"
   },
   {
    "duration": 3,
    "start_time": "2024-04-09T19:04:28.224Z"
   },
   {
    "duration": 24,
    "start_time": "2024-04-09T19:04:28.229Z"
   },
   {
    "duration": 4,
    "start_time": "2024-04-09T19:04:28.254Z"
   },
   {
    "duration": 11,
    "start_time": "2024-04-09T19:04:28.260Z"
   },
   {
    "duration": 4,
    "start_time": "2024-04-09T19:04:28.274Z"
   },
   {
    "duration": 40,
    "start_time": "2024-04-09T19:04:28.280Z"
   },
   {
    "duration": 11,
    "start_time": "2024-04-09T19:04:28.322Z"
   },
   {
    "duration": 7,
    "start_time": "2024-04-09T19:04:28.335Z"
   },
   {
    "duration": 31,
    "start_time": "2024-04-09T19:04:28.344Z"
   },
   {
    "duration": 20,
    "start_time": "2024-04-09T19:04:28.377Z"
   },
   {
    "duration": 22,
    "start_time": "2024-04-09T19:04:28.399Z"
   },
   {
    "duration": 4,
    "start_time": "2024-04-09T19:04:28.423Z"
   },
   {
    "duration": 27,
    "start_time": "2024-04-09T19:04:28.428Z"
   },
   {
    "duration": 6,
    "start_time": "2024-04-09T19:04:28.456Z"
   },
   {
    "duration": 3,
    "start_time": "2024-04-09T19:04:28.473Z"
   },
   {
    "duration": 12,
    "start_time": "2024-04-09T19:04:28.477Z"
   },
   {
    "duration": 26,
    "start_time": "2024-04-09T19:04:28.490Z"
   },
   {
    "duration": 8,
    "start_time": "2024-04-09T19:04:28.517Z"
   },
   {
    "duration": 47,
    "start_time": "2024-04-09T19:04:28.527Z"
   },
   {
    "duration": 22,
    "start_time": "2024-04-09T19:04:28.575Z"
   },
   {
    "duration": 77,
    "start_time": "2024-04-09T19:04:28.598Z"
   },
   {
    "duration": 0,
    "start_time": "2024-04-09T19:04:28.677Z"
   },
   {
    "duration": 17,
    "start_time": "2024-04-09T19:04:54.047Z"
   },
   {
    "duration": 92,
    "start_time": "2024-04-09T19:05:38.566Z"
   },
   {
    "duration": 6,
    "start_time": "2024-04-09T19:05:41.822Z"
   },
   {
    "duration": 7,
    "start_time": "2024-04-09T19:05:55.295Z"
   },
   {
    "duration": 7,
    "start_time": "2024-04-09T19:06:06.534Z"
   },
   {
    "duration": 15,
    "start_time": "2024-04-09T19:07:02.119Z"
   },
   {
    "duration": 11,
    "start_time": "2024-04-09T19:07:08.888Z"
   },
   {
    "duration": 478,
    "start_time": "2024-04-09T19:11:21.399Z"
   },
   {
    "duration": 24,
    "start_time": "2024-04-09T19:11:21.879Z"
   },
   {
    "duration": 17,
    "start_time": "2024-04-09T19:11:21.904Z"
   },
   {
    "duration": 11,
    "start_time": "2024-04-09T19:11:21.923Z"
   },
   {
    "duration": 61,
    "start_time": "2024-04-09T19:11:21.936Z"
   },
   {
    "duration": 3,
    "start_time": "2024-04-09T19:11:21.999Z"
   },
   {
    "duration": 32,
    "start_time": "2024-04-09T19:11:22.004Z"
   },
   {
    "duration": 5,
    "start_time": "2024-04-09T19:11:22.038Z"
   },
   {
    "duration": 9,
    "start_time": "2024-04-09T19:11:22.044Z"
   },
   {
    "duration": 4,
    "start_time": "2024-04-09T19:11:22.056Z"
   },
   {
    "duration": 44,
    "start_time": "2024-04-09T19:11:22.061Z"
   },
   {
    "duration": 11,
    "start_time": "2024-04-09T19:11:22.106Z"
   },
   {
    "duration": 15,
    "start_time": "2024-04-09T19:11:22.119Z"
   },
   {
    "duration": 12,
    "start_time": "2024-04-09T19:11:22.136Z"
   },
   {
    "duration": 23,
    "start_time": "2024-04-09T19:11:22.150Z"
   },
   {
    "duration": 16,
    "start_time": "2024-04-09T19:11:22.175Z"
   },
   {
    "duration": 4,
    "start_time": "2024-04-09T19:11:22.192Z"
   },
   {
    "duration": 19,
    "start_time": "2024-04-09T19:11:22.198Z"
   },
   {
    "duration": 8,
    "start_time": "2024-04-09T19:11:22.218Z"
   },
   {
    "duration": 11,
    "start_time": "2024-04-09T19:11:22.228Z"
   },
   {
    "duration": 11,
    "start_time": "2024-04-09T19:11:22.240Z"
   },
   {
    "duration": 26,
    "start_time": "2024-04-09T19:11:22.273Z"
   },
   {
    "duration": 16,
    "start_time": "2024-04-09T19:11:22.301Z"
   },
   {
    "duration": 31,
    "start_time": "2024-04-09T19:11:22.319Z"
   },
   {
    "duration": 36,
    "start_time": "2024-04-09T19:11:22.352Z"
   },
   {
    "duration": 8,
    "start_time": "2024-04-09T19:11:22.390Z"
   },
   {
    "duration": 32,
    "start_time": "2024-04-09T19:11:22.400Z"
   },
   {
    "duration": 70,
    "start_time": "2024-04-09T19:41:08.582Z"
   },
   {
    "duration": 7,
    "start_time": "2024-04-09T19:42:41.343Z"
   },
   {
    "duration": 7,
    "start_time": "2024-04-09T19:42:47.183Z"
   },
   {
    "duration": 1360,
    "start_time": "2024-04-09T19:45:54.435Z"
   },
   {
    "duration": 253,
    "start_time": "2024-04-09T19:46:12.698Z"
   },
   {
    "duration": 267,
    "start_time": "2024-04-09T19:46:18.018Z"
   },
   {
    "duration": 309,
    "start_time": "2024-04-09T19:46:24.754Z"
   },
   {
    "duration": 294,
    "start_time": "2024-04-09T19:46:28.954Z"
   },
   {
    "duration": 1376,
    "start_time": "2024-04-09T19:46:49.451Z"
   },
   {
    "duration": 8,
    "start_time": "2024-04-09T19:47:00.875Z"
   },
   {
    "duration": 3,
    "start_time": "2024-04-09T19:47:08.332Z"
   },
   {
    "duration": 276,
    "start_time": "2024-04-09T19:47:14.788Z"
   },
   {
    "duration": 378,
    "start_time": "2024-04-09T19:49:47.060Z"
   },
   {
    "duration": 304,
    "start_time": "2024-04-09T19:50:28.470Z"
   },
   {
    "duration": 241,
    "start_time": "2024-04-09T19:52:00.871Z"
   },
   {
    "duration": 249,
    "start_time": "2024-04-09T19:52:20.047Z"
   },
   {
    "duration": 501,
    "start_time": "2024-04-09T19:52:25.369Z"
   },
   {
    "duration": 23,
    "start_time": "2024-04-09T19:52:25.872Z"
   },
   {
    "duration": 15,
    "start_time": "2024-04-09T19:52:25.897Z"
   },
   {
    "duration": 12,
    "start_time": "2024-04-09T19:52:25.914Z"
   },
   {
    "duration": 55,
    "start_time": "2024-04-09T19:52:25.927Z"
   },
   {
    "duration": 3,
    "start_time": "2024-04-09T19:52:25.983Z"
   },
   {
    "duration": 11,
    "start_time": "2024-04-09T19:52:25.988Z"
   },
   {
    "duration": 3,
    "start_time": "2024-04-09T19:52:26.001Z"
   },
   {
    "duration": 7,
    "start_time": "2024-04-09T19:52:26.006Z"
   },
   {
    "duration": 5,
    "start_time": "2024-04-09T19:52:26.016Z"
   },
   {
    "duration": 73,
    "start_time": "2024-04-09T19:52:26.023Z"
   },
   {
    "duration": 12,
    "start_time": "2024-04-09T19:52:26.097Z"
   },
   {
    "duration": 6,
    "start_time": "2024-04-09T19:52:26.111Z"
   },
   {
    "duration": 13,
    "start_time": "2024-04-09T19:52:26.118Z"
   },
   {
    "duration": 41,
    "start_time": "2024-04-09T19:52:26.133Z"
   },
   {
    "duration": 19,
    "start_time": "2024-04-09T19:52:26.175Z"
   },
   {
    "duration": 4,
    "start_time": "2024-04-09T19:52:26.195Z"
   },
   {
    "duration": 12,
    "start_time": "2024-04-09T19:52:26.200Z"
   },
   {
    "duration": 6,
    "start_time": "2024-04-09T19:52:26.213Z"
   },
   {
    "duration": 6,
    "start_time": "2024-04-09T19:52:26.220Z"
   },
   {
    "duration": 9,
    "start_time": "2024-04-09T19:52:26.228Z"
   },
   {
    "duration": 53,
    "start_time": "2024-04-09T19:52:26.239Z"
   },
   {
    "duration": 8,
    "start_time": "2024-04-09T19:52:26.294Z"
   },
   {
    "duration": 345,
    "start_time": "2024-04-09T19:52:26.304Z"
   },
   {
    "duration": 0,
    "start_time": "2024-04-09T19:52:26.651Z"
   },
   {
    "duration": 0,
    "start_time": "2024-04-09T19:52:26.652Z"
   },
   {
    "duration": 0,
    "start_time": "2024-04-09T19:52:26.653Z"
   },
   {
    "duration": 0,
    "start_time": "2024-04-09T19:52:26.654Z"
   },
   {
    "duration": 0,
    "start_time": "2024-04-09T19:52:26.655Z"
   },
   {
    "duration": 8,
    "start_time": "2024-04-09T19:52:55.002Z"
   },
   {
    "duration": 931,
    "start_time": "2024-04-09T19:53:01.522Z"
   },
   {
    "duration": 39,
    "start_time": "2024-04-09T19:53:12.322Z"
   },
   {
    "duration": 8,
    "start_time": "2024-04-09T19:53:18.898Z"
   },
   {
    "duration": 99,
    "start_time": "2024-04-09T19:53:35.137Z"
   },
   {
    "duration": 9,
    "start_time": "2024-04-09T19:53:41.057Z"
   },
   {
    "duration": 9,
    "start_time": "2024-04-09T19:53:49.057Z"
   },
   {
    "duration": 530,
    "start_time": "2024-04-09T19:54:12.660Z"
   },
   {
    "duration": 28,
    "start_time": "2024-04-09T19:54:13.192Z"
   },
   {
    "duration": 16,
    "start_time": "2024-04-09T19:54:13.222Z"
   },
   {
    "duration": 11,
    "start_time": "2024-04-09T19:54:13.240Z"
   },
   {
    "duration": 56,
    "start_time": "2024-04-09T19:54:13.252Z"
   },
   {
    "duration": 4,
    "start_time": "2024-04-09T19:54:13.309Z"
   },
   {
    "duration": 10,
    "start_time": "2024-04-09T19:54:13.314Z"
   },
   {
    "duration": 4,
    "start_time": "2024-04-09T19:54:13.326Z"
   },
   {
    "duration": 6,
    "start_time": "2024-04-09T19:54:13.331Z"
   },
   {
    "duration": 32,
    "start_time": "2024-04-09T19:54:13.341Z"
   },
   {
    "duration": 38,
    "start_time": "2024-04-09T19:54:13.375Z"
   },
   {
    "duration": 11,
    "start_time": "2024-04-09T19:54:13.415Z"
   },
   {
    "duration": 27,
    "start_time": "2024-04-09T19:54:13.427Z"
   },
   {
    "duration": 18,
    "start_time": "2024-04-09T19:54:13.455Z"
   },
   {
    "duration": 21,
    "start_time": "2024-04-09T19:54:13.475Z"
   },
   {
    "duration": 20,
    "start_time": "2024-04-09T19:54:13.498Z"
   },
   {
    "duration": 3,
    "start_time": "2024-04-09T19:54:13.520Z"
   },
   {
    "duration": 19,
    "start_time": "2024-04-09T19:54:13.525Z"
   },
   {
    "duration": 7,
    "start_time": "2024-04-09T19:54:13.546Z"
   },
   {
    "duration": 4,
    "start_time": "2024-04-09T19:54:13.573Z"
   },
   {
    "duration": 19,
    "start_time": "2024-04-09T19:54:13.578Z"
   },
   {
    "duration": 25,
    "start_time": "2024-04-09T19:54:13.599Z"
   },
   {
    "duration": 8,
    "start_time": "2024-04-09T19:54:13.625Z"
   },
   {
    "duration": 1193,
    "start_time": "2024-04-09T19:54:13.634Z"
   },
   {
    "duration": 23,
    "start_time": "2024-04-09T19:54:14.829Z"
   },
   {
    "duration": 34,
    "start_time": "2024-04-09T19:54:14.854Z"
   },
   {
    "duration": 7,
    "start_time": "2024-04-09T19:54:14.890Z"
   },
   {
    "duration": 30,
    "start_time": "2024-04-09T19:54:14.899Z"
   },
   {
    "duration": 456,
    "start_time": "2024-04-09T19:54:36.336Z"
   },
   {
    "duration": 206,
    "start_time": "2024-04-09T19:55:29.570Z"
   },
   {
    "duration": 272,
    "start_time": "2024-04-09T19:55:58.580Z"
   },
   {
    "duration": 475,
    "start_time": "2024-04-09T19:56:32.890Z"
   },
   {
    "duration": 23,
    "start_time": "2024-04-09T19:56:33.367Z"
   },
   {
    "duration": 17,
    "start_time": "2024-04-09T19:56:33.391Z"
   },
   {
    "duration": 12,
    "start_time": "2024-04-09T19:56:33.409Z"
   },
   {
    "duration": 70,
    "start_time": "2024-04-09T19:56:33.424Z"
   },
   {
    "duration": 4,
    "start_time": "2024-04-09T19:56:33.496Z"
   },
   {
    "duration": 12,
    "start_time": "2024-04-09T19:56:33.502Z"
   },
   {
    "duration": 7,
    "start_time": "2024-04-09T19:56:33.515Z"
   },
   {
    "duration": 7,
    "start_time": "2024-04-09T19:56:33.523Z"
   },
   {
    "duration": 6,
    "start_time": "2024-04-09T19:56:33.531Z"
   },
   {
    "duration": 66,
    "start_time": "2024-04-09T19:56:33.538Z"
   },
   {
    "duration": 16,
    "start_time": "2024-04-09T19:56:33.606Z"
   },
   {
    "duration": 4,
    "start_time": "2024-04-09T19:56:33.624Z"
   },
   {
    "duration": 12,
    "start_time": "2024-04-09T19:56:33.632Z"
   },
   {
    "duration": 43,
    "start_time": "2024-04-09T19:56:33.646Z"
   },
   {
    "duration": 17,
    "start_time": "2024-04-09T19:56:33.691Z"
   },
   {
    "duration": 3,
    "start_time": "2024-04-09T19:56:33.710Z"
   },
   {
    "duration": 12,
    "start_time": "2024-04-09T19:56:33.715Z"
   },
   {
    "duration": 6,
    "start_time": "2024-04-09T19:56:33.729Z"
   },
   {
    "duration": 5,
    "start_time": "2024-04-09T19:56:33.736Z"
   },
   {
    "duration": 46,
    "start_time": "2024-04-09T19:56:33.743Z"
   },
   {
    "duration": 38,
    "start_time": "2024-04-09T19:56:33.791Z"
   },
   {
    "duration": 8,
    "start_time": "2024-04-09T19:56:33.831Z"
   },
   {
    "duration": 1108,
    "start_time": "2024-04-09T19:56:33.841Z"
   },
   {
    "duration": 28,
    "start_time": "2024-04-09T19:56:34.951Z"
   },
   {
    "duration": 21,
    "start_time": "2024-04-09T19:56:34.980Z"
   },
   {
    "duration": 28,
    "start_time": "2024-04-09T19:56:35.003Z"
   },
   {
    "duration": 443,
    "start_time": "2024-04-09T19:56:35.032Z"
   },
   {
    "duration": 23,
    "start_time": "2024-04-09T19:56:35.476Z"
   },
   {
    "duration": 273,
    "start_time": "2024-04-09T19:56:35.500Z"
   },
   {
    "duration": 458,
    "start_time": "2024-04-09T22:29:51.716Z"
   },
   {
    "duration": 23,
    "start_time": "2024-04-09T22:29:52.176Z"
   },
   {
    "duration": 25,
    "start_time": "2024-04-09T22:29:52.201Z"
   },
   {
    "duration": 40,
    "start_time": "2024-04-09T22:29:52.228Z"
   },
   {
    "duration": 38,
    "start_time": "2024-04-09T22:29:52.271Z"
   },
   {
    "duration": 4,
    "start_time": "2024-04-09T22:29:52.311Z"
   },
   {
    "duration": 23,
    "start_time": "2024-04-09T22:29:52.316Z"
   },
   {
    "duration": 17,
    "start_time": "2024-04-09T22:29:52.341Z"
   },
   {
    "duration": 37,
    "start_time": "2024-04-09T22:29:52.360Z"
   },
   {
    "duration": 16,
    "start_time": "2024-04-09T22:29:52.399Z"
   },
   {
    "duration": 52,
    "start_time": "2024-04-09T22:29:52.417Z"
   },
   {
    "duration": 10,
    "start_time": "2024-04-09T22:29:52.471Z"
   },
   {
    "duration": 26,
    "start_time": "2024-04-09T22:29:52.482Z"
   },
   {
    "duration": 35,
    "start_time": "2024-04-09T22:29:52.511Z"
   },
   {
    "duration": 37,
    "start_time": "2024-04-09T22:29:52.548Z"
   },
   {
    "duration": 17,
    "start_time": "2024-04-09T22:29:52.586Z"
   },
   {
    "duration": 27,
    "start_time": "2024-04-09T22:29:52.604Z"
   },
   {
    "duration": 17,
    "start_time": "2024-04-09T22:29:52.633Z"
   },
   {
    "duration": 16,
    "start_time": "2024-04-09T22:29:52.652Z"
   },
   {
    "duration": 15,
    "start_time": "2024-04-09T22:29:52.670Z"
   },
   {
    "duration": 13,
    "start_time": "2024-04-09T22:29:52.687Z"
   },
   {
    "duration": 33,
    "start_time": "2024-04-09T22:29:52.702Z"
   },
   {
    "duration": 7,
    "start_time": "2024-04-09T22:29:52.737Z"
   },
   {
    "duration": 1457,
    "start_time": "2024-04-09T22:29:52.746Z"
   },
   {
    "duration": 141,
    "start_time": "2024-04-09T22:29:54.204Z"
   },
   {
    "duration": 27,
    "start_time": "2024-04-09T22:29:54.346Z"
   },
   {
    "duration": 24,
    "start_time": "2024-04-09T22:29:54.375Z"
   },
   {
    "duration": 16,
    "start_time": "2024-04-09T22:29:54.401Z"
   },
   {
    "duration": 441,
    "start_time": "2024-04-09T22:29:54.419Z"
   },
   {
    "duration": 21,
    "start_time": "2024-04-09T22:29:54.862Z"
   },
   {
    "duration": 377,
    "start_time": "2024-04-09T22:29:54.884Z"
   },
   {
    "duration": 47,
    "start_time": "2024-08-28T12:39:21.174Z"
   },
   {
    "duration": 70,
    "start_time": "2024-08-28T12:39:25.000Z"
   },
   {
    "duration": 0,
    "start_time": "2024-08-28T12:39:25.072Z"
   },
   {
    "duration": 0,
    "start_time": "2024-08-28T12:39:25.075Z"
   },
   {
    "duration": 0,
    "start_time": "2024-08-28T12:39:25.076Z"
   },
   {
    "duration": 0,
    "start_time": "2024-08-28T12:39:25.077Z"
   },
   {
    "duration": 0,
    "start_time": "2024-08-28T12:39:25.079Z"
   },
   {
    "duration": 0,
    "start_time": "2024-08-28T12:39:25.080Z"
   },
   {
    "duration": 0,
    "start_time": "2024-08-28T12:39:25.081Z"
   },
   {
    "duration": 0,
    "start_time": "2024-08-28T12:39:25.082Z"
   },
   {
    "duration": 0,
    "start_time": "2024-08-28T12:39:25.083Z"
   },
   {
    "duration": 0,
    "start_time": "2024-08-28T12:39:25.084Z"
   },
   {
    "duration": 0,
    "start_time": "2024-08-28T12:39:25.085Z"
   },
   {
    "duration": 0,
    "start_time": "2024-08-28T12:39:25.086Z"
   },
   {
    "duration": 0,
    "start_time": "2024-08-28T12:39:25.087Z"
   },
   {
    "duration": 0,
    "start_time": "2024-08-28T12:39:25.088Z"
   },
   {
    "duration": 0,
    "start_time": "2024-08-28T12:39:25.089Z"
   },
   {
    "duration": 0,
    "start_time": "2024-08-28T12:39:25.090Z"
   },
   {
    "duration": 0,
    "start_time": "2024-08-28T12:39:25.091Z"
   },
   {
    "duration": 0,
    "start_time": "2024-08-28T12:39:25.091Z"
   },
   {
    "duration": 0,
    "start_time": "2024-08-28T12:39:25.093Z"
   },
   {
    "duration": 0,
    "start_time": "2024-08-28T12:39:25.093Z"
   },
   {
    "duration": 0,
    "start_time": "2024-08-28T12:39:25.094Z"
   },
   {
    "duration": 0,
    "start_time": "2024-08-28T12:39:25.095Z"
   },
   {
    "duration": 0,
    "start_time": "2024-08-28T12:39:25.096Z"
   },
   {
    "duration": 0,
    "start_time": "2024-08-28T12:39:25.097Z"
   },
   {
    "duration": 0,
    "start_time": "2024-08-28T12:39:25.098Z"
   },
   {
    "duration": 0,
    "start_time": "2024-08-28T12:39:25.099Z"
   },
   {
    "duration": 0,
    "start_time": "2024-08-28T12:39:25.100Z"
   },
   {
    "duration": 0,
    "start_time": "2024-08-28T12:39:25.101Z"
   },
   {
    "duration": 0,
    "start_time": "2024-08-28T12:39:25.102Z"
   },
   {
    "duration": 0,
    "start_time": "2024-08-28T12:39:25.103Z"
   },
   {
    "duration": 420,
    "start_time": "2024-08-28T12:39:46.547Z"
   },
   {
    "duration": 20,
    "start_time": "2024-08-28T12:39:46.969Z"
   },
   {
    "duration": 13,
    "start_time": "2024-08-28T12:39:46.990Z"
   },
   {
    "duration": 9,
    "start_time": "2024-08-28T12:39:47.004Z"
   },
   {
    "duration": 34,
    "start_time": "2024-08-28T12:39:47.015Z"
   },
   {
    "duration": 3,
    "start_time": "2024-08-28T12:39:47.050Z"
   },
   {
    "duration": 9,
    "start_time": "2024-08-28T12:39:47.054Z"
   },
   {
    "duration": 26,
    "start_time": "2024-08-28T12:39:47.064Z"
   },
   {
    "duration": 7,
    "start_time": "2024-08-28T12:39:47.091Z"
   },
   {
    "duration": 3,
    "start_time": "2024-08-28T12:39:47.100Z"
   },
   {
    "duration": 34,
    "start_time": "2024-08-28T12:39:47.104Z"
   },
   {
    "duration": 10,
    "start_time": "2024-08-28T12:39:47.139Z"
   },
   {
    "duration": 8,
    "start_time": "2024-08-28T12:39:47.150Z"
   },
   {
    "duration": 35,
    "start_time": "2024-08-28T12:39:47.161Z"
   },
   {
    "duration": 25,
    "start_time": "2024-08-28T12:39:47.198Z"
   },
   {
    "duration": 16,
    "start_time": "2024-08-28T12:39:47.224Z"
   },
   {
    "duration": 4,
    "start_time": "2024-08-28T12:39:47.241Z"
   },
   {
    "duration": 17,
    "start_time": "2024-08-28T12:39:47.246Z"
   },
   {
    "duration": 9,
    "start_time": "2024-08-28T12:39:47.264Z"
   },
   {
    "duration": 16,
    "start_time": "2024-08-28T12:39:47.275Z"
   },
   {
    "duration": 13,
    "start_time": "2024-08-28T12:39:47.292Z"
   },
   {
    "duration": 25,
    "start_time": "2024-08-28T12:39:47.306Z"
   },
   {
    "duration": 8,
    "start_time": "2024-08-28T12:39:47.333Z"
   },
   {
    "duration": 1138,
    "start_time": "2024-08-28T12:39:47.342Z"
   },
   {
    "duration": 123,
    "start_time": "2024-08-28T12:39:48.481Z"
   },
   {
    "duration": 21,
    "start_time": "2024-08-28T12:39:48.605Z"
   },
   {
    "duration": 21,
    "start_time": "2024-08-28T12:39:48.627Z"
   },
   {
    "duration": 7,
    "start_time": "2024-08-28T12:39:48.650Z"
   },
   {
    "duration": 411,
    "start_time": "2024-08-28T12:39:48.658Z"
   },
   {
    "duration": 29,
    "start_time": "2024-08-28T12:39:49.070Z"
   },
   {
    "duration": 304,
    "start_time": "2024-08-28T12:39:49.100Z"
   },
   {
    "duration": 21,
    "start_time": "2024-08-28T12:40:08.853Z"
   },
   {
    "duration": 62,
    "start_time": "2024-08-30T08:23:23.095Z"
   },
   {
    "duration": 758,
    "start_time": "2024-08-30T08:23:27.795Z"
   },
   {
    "duration": 23,
    "start_time": "2024-08-30T08:23:28.555Z"
   },
   {
    "duration": 18,
    "start_time": "2024-08-30T08:23:28.580Z"
   },
   {
    "duration": 11,
    "start_time": "2024-08-30T08:23:28.601Z"
   },
   {
    "duration": 44,
    "start_time": "2024-08-30T08:23:28.614Z"
   },
   {
    "duration": 3,
    "start_time": "2024-08-30T08:23:28.660Z"
   },
   {
    "duration": 43,
    "start_time": "2024-08-30T08:23:28.665Z"
   },
   {
    "duration": 9,
    "start_time": "2024-08-30T08:23:28.710Z"
   },
   {
    "duration": 6,
    "start_time": "2024-08-30T08:23:28.721Z"
   },
   {
    "duration": 7,
    "start_time": "2024-08-30T08:23:28.729Z"
   },
   {
    "duration": 39,
    "start_time": "2024-08-30T08:23:28.738Z"
   },
   {
    "duration": 11,
    "start_time": "2024-08-30T08:23:28.778Z"
   },
   {
    "duration": 8,
    "start_time": "2024-08-30T08:23:28.790Z"
   },
   {
    "duration": 32,
    "start_time": "2024-08-30T08:23:28.799Z"
   },
   {
    "duration": 39,
    "start_time": "2024-08-30T08:23:28.833Z"
   },
   {
    "duration": 27,
    "start_time": "2024-08-30T08:23:28.874Z"
   },
   {
    "duration": 4,
    "start_time": "2024-08-30T08:23:28.903Z"
   },
   {
    "duration": 31,
    "start_time": "2024-08-30T08:23:28.909Z"
   },
   {
    "duration": 8,
    "start_time": "2024-08-30T08:23:28.942Z"
   },
   {
    "duration": 6,
    "start_time": "2024-08-30T08:23:28.952Z"
   },
   {
    "duration": 17,
    "start_time": "2024-08-30T08:23:28.959Z"
   },
   {
    "duration": 24,
    "start_time": "2024-08-30T08:23:28.978Z"
   },
   {
    "duration": 18,
    "start_time": "2024-08-30T08:23:38.861Z"
   },
   {
    "duration": 948,
    "start_time": "2024-08-30T08:25:31.795Z"
   },
   {
    "duration": 936,
    "start_time": "2024-08-30T08:25:33.819Z"
   },
   {
    "duration": 851,
    "start_time": "2024-08-30T08:25:46.627Z"
   },
   {
    "duration": 850,
    "start_time": "2024-08-30T08:27:32.613Z"
   },
   {
    "duration": 18,
    "start_time": "2024-08-30T08:27:42.083Z"
   },
   {
    "duration": 25,
    "start_time": "2024-08-30T08:27:53.146Z"
   },
   {
    "duration": 13,
    "start_time": "2024-08-30T08:28:24.429Z"
   },
   {
    "duration": 18,
    "start_time": "2024-08-30T08:28:29.383Z"
   },
   {
    "duration": 13,
    "start_time": "2024-08-30T08:28:46.191Z"
   },
   {
    "duration": 21,
    "start_time": "2024-08-30T08:28:51.111Z"
   },
   {
    "duration": 22,
    "start_time": "2024-08-30T08:28:56.326Z"
   },
   {
    "duration": 20,
    "start_time": "2024-08-30T08:29:16.887Z"
   },
   {
    "duration": 27,
    "start_time": "2024-08-30T08:29:19.607Z"
   },
   {
    "duration": 21,
    "start_time": "2024-08-30T08:29:52.313Z"
   },
   {
    "duration": 1076,
    "start_time": "2024-08-30T08:30:46.183Z"
   },
   {
    "duration": 1141,
    "start_time": "2024-08-30T08:30:49.870Z"
   },
   {
    "duration": 1058,
    "start_time": "2024-08-30T08:31:01.534Z"
   },
   {
    "duration": 22,
    "start_time": "2024-08-30T08:31:20.613Z"
   },
   {
    "duration": 14,
    "start_time": "2024-08-30T08:34:03.858Z"
   },
   {
    "duration": 15,
    "start_time": "2024-08-30T08:34:09.122Z"
   },
   {
    "duration": 15,
    "start_time": "2024-08-30T08:34:14.980Z"
   },
   {
    "duration": 18,
    "start_time": "2024-08-30T08:34:18.962Z"
   },
   {
    "duration": 25,
    "start_time": "2024-08-30T08:35:10.201Z"
   },
   {
    "duration": 21,
    "start_time": "2024-08-30T08:35:34.897Z"
   },
   {
    "duration": 22,
    "start_time": "2024-08-30T08:35:38.153Z"
   },
   {
    "duration": 22,
    "start_time": "2024-08-30T08:35:42.697Z"
   },
   {
    "duration": 468,
    "start_time": "2024-08-30T08:35:50.149Z"
   },
   {
    "duration": 27,
    "start_time": "2024-08-30T08:35:50.619Z"
   },
   {
    "duration": 22,
    "start_time": "2024-08-30T08:35:50.648Z"
   },
   {
    "duration": 10,
    "start_time": "2024-08-30T08:35:50.671Z"
   },
   {
    "duration": 77,
    "start_time": "2024-08-30T08:35:50.684Z"
   },
   {
    "duration": 4,
    "start_time": "2024-08-30T08:35:50.762Z"
   },
   {
    "duration": 32,
    "start_time": "2024-08-30T08:35:50.768Z"
   },
   {
    "duration": 5,
    "start_time": "2024-08-30T08:35:50.802Z"
   },
   {
    "duration": 11,
    "start_time": "2024-08-30T08:35:50.809Z"
   },
   {
    "duration": 5,
    "start_time": "2024-08-30T08:35:50.822Z"
   },
   {
    "duration": 55,
    "start_time": "2024-08-30T08:35:50.829Z"
   },
   {
    "duration": 9,
    "start_time": "2024-08-30T08:35:50.886Z"
   },
   {
    "duration": 3,
    "start_time": "2024-08-30T08:35:50.897Z"
   },
   {
    "duration": 28,
    "start_time": "2024-08-30T08:35:50.902Z"
   },
   {
    "duration": 23,
    "start_time": "2024-08-30T08:35:50.931Z"
   },
   {
    "duration": 17,
    "start_time": "2024-08-30T08:35:50.955Z"
   },
   {
    "duration": 4,
    "start_time": "2024-08-30T08:35:50.974Z"
   },
   {
    "duration": 49,
    "start_time": "2024-08-30T08:35:50.980Z"
   },
   {
    "duration": 8,
    "start_time": "2024-08-30T08:35:51.031Z"
   },
   {
    "duration": 7,
    "start_time": "2024-08-30T08:35:51.040Z"
   },
   {
    "duration": 14,
    "start_time": "2024-08-30T08:35:51.048Z"
   },
   {
    "duration": 39,
    "start_time": "2024-08-30T08:35:51.063Z"
   },
   {
    "duration": 29,
    "start_time": "2024-08-30T08:35:51.104Z"
   },
   {
    "duration": 20,
    "start_time": "2024-08-30T08:36:17.947Z"
   },
   {
    "duration": 21,
    "start_time": "2024-08-30T08:39:40.154Z"
   },
   {
    "duration": 20,
    "start_time": "2024-08-30T08:39:42.784Z"
   },
   {
    "duration": 20,
    "start_time": "2024-08-30T08:39:46.824Z"
   },
   {
    "duration": 21,
    "start_time": "2024-08-30T08:39:57.425Z"
   },
   {
    "duration": 83,
    "start_time": "2024-08-30T08:41:21.109Z"
   },
   {
    "duration": 27,
    "start_time": "2024-08-30T08:41:34.089Z"
   },
   {
    "duration": 453,
    "start_time": "2024-08-30T08:41:44.563Z"
   },
   {
    "duration": 21,
    "start_time": "2024-08-30T08:41:45.018Z"
   },
   {
    "duration": 21,
    "start_time": "2024-08-30T08:41:45.040Z"
   },
   {
    "duration": 10,
    "start_time": "2024-08-30T08:41:45.063Z"
   },
   {
    "duration": 41,
    "start_time": "2024-08-30T08:41:45.074Z"
   },
   {
    "duration": 9,
    "start_time": "2024-08-30T08:41:45.117Z"
   },
   {
    "duration": 30,
    "start_time": "2024-08-30T08:41:45.129Z"
   },
   {
    "duration": 6,
    "start_time": "2024-08-30T08:41:45.161Z"
   },
   {
    "duration": 16,
    "start_time": "2024-08-30T08:41:45.169Z"
   },
   {
    "duration": 6,
    "start_time": "2024-08-30T08:41:45.188Z"
   },
   {
    "duration": 64,
    "start_time": "2024-08-30T08:41:45.195Z"
   },
   {
    "duration": 13,
    "start_time": "2024-08-30T08:41:45.261Z"
   },
   {
    "duration": 5,
    "start_time": "2024-08-30T08:41:45.276Z"
   },
   {
    "duration": 14,
    "start_time": "2024-08-30T08:41:45.282Z"
   },
   {
    "duration": 44,
    "start_time": "2024-08-30T08:41:45.298Z"
   },
   {
    "duration": 17,
    "start_time": "2024-08-30T08:41:45.344Z"
   },
   {
    "duration": 4,
    "start_time": "2024-08-30T08:41:45.363Z"
   },
   {
    "duration": 12,
    "start_time": "2024-08-30T08:41:45.369Z"
   },
   {
    "duration": 9,
    "start_time": "2024-08-30T08:41:45.382Z"
   },
   {
    "duration": 34,
    "start_time": "2024-08-30T08:41:45.392Z"
   },
   {
    "duration": 12,
    "start_time": "2024-08-30T08:41:45.427Z"
   },
   {
    "duration": 24,
    "start_time": "2024-08-30T08:41:45.440Z"
   },
   {
    "duration": 21,
    "start_time": "2024-08-30T08:41:45.465Z"
   },
   {
    "duration": 112,
    "start_time": "2024-08-30T08:41:45.488Z"
   },
   {
    "duration": 23,
    "start_time": "2024-08-30T08:42:16.890Z"
   },
   {
    "duration": 29,
    "start_time": "2024-08-30T08:42:25.034Z"
   },
   {
    "duration": 17,
    "start_time": "2024-08-30T08:43:03.379Z"
   },
   {
    "duration": 19,
    "start_time": "2024-08-30T08:43:22.283Z"
   },
   {
    "duration": 17,
    "start_time": "2024-08-30T08:43:37.082Z"
   },
   {
    "duration": 19,
    "start_time": "2024-08-30T08:43:54.753Z"
   },
   {
    "duration": 50,
    "start_time": "2024-09-04T11:22:44.373Z"
   },
   {
    "duration": 582,
    "start_time": "2024-09-04T11:22:49.655Z"
   },
   {
    "duration": 23,
    "start_time": "2024-09-04T11:22:50.239Z"
   },
   {
    "duration": 15,
    "start_time": "2024-09-04T11:22:50.263Z"
   },
   {
    "duration": 10,
    "start_time": "2024-09-04T11:22:50.280Z"
   },
   {
    "duration": 36,
    "start_time": "2024-09-04T11:22:50.292Z"
   },
   {
    "duration": 4,
    "start_time": "2024-09-04T11:22:50.329Z"
   },
   {
    "duration": 42,
    "start_time": "2024-09-04T11:22:50.334Z"
   },
   {
    "duration": 4,
    "start_time": "2024-09-04T11:22:50.378Z"
   },
   {
    "duration": 15,
    "start_time": "2024-09-04T11:22:50.384Z"
   },
   {
    "duration": 12,
    "start_time": "2024-09-04T11:22:50.401Z"
   },
   {
    "duration": 38,
    "start_time": "2024-09-04T11:22:50.414Z"
   },
   {
    "duration": 10,
    "start_time": "2024-09-04T11:22:50.460Z"
   },
   {
    "duration": 4,
    "start_time": "2024-09-04T11:22:50.471Z"
   },
   {
    "duration": 26,
    "start_time": "2024-09-04T11:22:50.477Z"
   },
   {
    "duration": 21,
    "start_time": "2024-09-04T11:22:50.504Z"
   },
   {
    "duration": 18,
    "start_time": "2024-09-04T11:22:50.526Z"
   },
   {
    "duration": 3,
    "start_time": "2024-09-04T11:22:50.560Z"
   },
   {
    "duration": 41,
    "start_time": "2024-09-04T11:22:50.565Z"
   },
   {
    "duration": 34,
    "start_time": "2024-09-04T11:22:50.608Z"
   },
   {
    "duration": 9,
    "start_time": "2024-09-04T11:22:50.644Z"
   },
   {
    "duration": 26,
    "start_time": "2024-09-04T11:22:50.655Z"
   },
   {
    "duration": 46,
    "start_time": "2024-09-04T11:22:50.683Z"
   },
   {
    "duration": 22,
    "start_time": "2024-09-04T11:22:50.730Z"
   },
   {
    "duration": 22,
    "start_time": "2024-09-04T11:22:50.754Z"
   },
   {
    "duration": 91,
    "start_time": "2024-09-04T11:22:50.778Z"
   },
   {
    "duration": 23,
    "start_time": "2024-09-04T11:23:03.025Z"
   },
   {
    "duration": 555,
    "start_time": "2024-09-04T11:24:29.339Z"
   },
   {
    "duration": 26,
    "start_time": "2024-09-04T11:24:29.896Z"
   },
   {
    "duration": 18,
    "start_time": "2024-09-04T11:24:29.924Z"
   },
   {
    "duration": 12,
    "start_time": "2024-09-04T11:24:29.960Z"
   },
   {
    "duration": 40,
    "start_time": "2024-09-04T11:24:29.973Z"
   },
   {
    "duration": 4,
    "start_time": "2024-09-04T11:24:30.015Z"
   },
   {
    "duration": 62,
    "start_time": "2024-09-04T11:24:30.020Z"
   },
   {
    "duration": 25,
    "start_time": "2024-09-04T11:24:30.084Z"
   },
   {
    "duration": 14,
    "start_time": "2024-09-04T11:24:30.110Z"
   },
   {
    "duration": 28,
    "start_time": "2024-09-04T11:24:30.128Z"
   },
   {
    "duration": 51,
    "start_time": "2024-09-04T11:24:30.157Z"
   },
   {
    "duration": 10,
    "start_time": "2024-09-04T11:24:30.210Z"
   },
   {
    "duration": 44,
    "start_time": "2024-09-04T11:24:30.222Z"
   },
   {
    "duration": 36,
    "start_time": "2024-09-04T11:24:30.268Z"
   },
   {
    "duration": 118,
    "start_time": "2024-09-04T11:24:30.306Z"
   },
   {
    "duration": 23,
    "start_time": "2024-09-04T11:24:30.425Z"
   },
   {
    "duration": 4,
    "start_time": "2024-09-04T11:24:30.450Z"
   },
   {
    "duration": 25,
    "start_time": "2024-09-04T11:24:30.455Z"
   },
   {
    "duration": 25,
    "start_time": "2024-09-04T11:24:30.481Z"
   },
   {
    "duration": 16,
    "start_time": "2024-09-04T11:24:30.508Z"
   },
   {
    "duration": 33,
    "start_time": "2024-09-04T11:24:30.526Z"
   },
   {
    "duration": 33,
    "start_time": "2024-09-04T11:24:30.561Z"
   },
   {
    "duration": 21,
    "start_time": "2024-09-04T11:24:30.596Z"
   },
   {
    "duration": 20,
    "start_time": "2024-09-04T11:24:30.618Z"
   },
   {
    "duration": 40,
    "start_time": "2024-09-04T11:24:30.639Z"
   }
  ],
  "colab": {
   "provenance": []
  },
  "kernelspec": {
   "display_name": "Python 3 (ipykernel)",
   "language": "python",
   "name": "python3"
  },
  "language_info": {
   "codemirror_mode": {
    "name": "ipython",
    "version": 3
   },
   "file_extension": ".py",
   "mimetype": "text/x-python",
   "name": "python",
   "nbconvert_exporter": "python",
   "pygments_lexer": "ipython3",
   "version": "3.9.5"
  },
  "toc": {
   "base_numbering": 1,
   "nav_menu": {},
   "number_sections": true,
   "sideBar": true,
   "skip_h1_title": true,
   "title_cell": "Table of Contents",
   "title_sidebar": "Contents",
   "toc_cell": false,
   "toc_position": {},
   "toc_section_display": true,
   "toc_window_display": false
  }
 },
 "nbformat": 4,
 "nbformat_minor": 5
}
