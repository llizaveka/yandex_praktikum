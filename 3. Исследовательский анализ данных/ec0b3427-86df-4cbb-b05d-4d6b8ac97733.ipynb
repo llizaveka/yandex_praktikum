{
 "cells": [
  {
   "cell_type": "markdown",
   "metadata": {},
   "source": [
    "# Исследование объявлений о продаже квартир"
   ]
  },
  {
   "cell_type": "markdown",
   "metadata": {},
   "source": [
    "# Описание проекта"
   ]
  },
  {
   "cell_type": "markdown",
   "metadata": {},
   "source": [
    "Данные сервиса Яндекс Недвижимость — архив объявлений о продаже квартир в Санкт-Петербурге и соседних населённых пунктах за несколько лет. Требуется определить рыночную стоимость объектов недвижимости. Для этого провести исследовательский анализ данных и установить параметры, влияющие на цену объектов. Это позволит построить автоматизированную систему: она отследит аномалии и мошенническую деятельность. \n",
    "\n",
    "По каждой квартире на продажу доступны два вида данных. Первые вписаны пользователем, вторые — получены автоматически на основе картографических данных. Например, расстояние до центра, аэропорта и других объектов — эти данные автоматически получены из геосервисов. Количество парков и водоёмов также заполняется без участия пользователя.\n"
   ]
  },
  {
   "cell_type": "markdown",
   "metadata": {},
   "source": [
    "# Описание данных"
   ]
  },
  {
   "cell_type": "markdown",
   "metadata": {},
   "source": [
    "1. airports_nearest — расстояние до ближайшего аэропорта в метрах (м)\n",
    "2. balcony — число балконов\n",
    "3. ceiling_height — высота потолков (м)\n",
    "4. cityCenters_nearest — расстояние до центра города (м)\n",
    "5. days_exposition — сколько дней было размещено объявление (от публикации до снятия)\n",
    "6. first_day_exposition — дата публикации\n",
    "7. floor — этаж\n",
    "8. floors_total — всего этажей в доме\n",
    "9. is_apartment — апартаменты (булев тип)\n",
    "10. kitchen_area — площадь кухни в квадратных метрах (м²)\n",
    "11. last_price — цена на момент снятия с публикации\n",
    "12. living_area — жилая площадь в квадратных метрах (м²)\n",
    "13. locality_name — название населённого пункта\n",
    "14. open_plan — свободная планировка (булев тип)\n",
    "15. parks_around3000 — число парков в радиусе 3 км\n",
    "16. parks_nearest — расстояние до ближайшего парка (м)\n",
    "17. ponds_around3000 — число водоёмов в радиусе 3 км\n",
    "18. ponds_nearest — расстояние до ближайшего водоёма (м)\n",
    "19. rooms — число комнат\n",
    "20. studio — квартира-студия (булев тип)\n",
    "21. total_area — общая площадь квартиры в квадратных метрах (м²)\n",
    "22. total_images — число фотографий квартиры в объявлении\n"
   ]
  },
  {
   "cell_type": "markdown",
   "metadata": {},
   "source": [
    "## Откройте файл с данными и изучите общую информацию"
   ]
  },
  {
   "cell_type": "markdown",
   "metadata": {},
   "source": [
    "### Загрузите данные из csv-файла в датафрейм c помощью библиотеки pandas"
   ]
  },
  {
   "cell_type": "code",
   "execution_count": 1,
   "metadata": {},
   "outputs": [],
   "source": [
    "import pandas as pd\n",
    "from matplotlib import pyplot as plt\n",
    "data = pd.read_csv('/datasets/real_estate_data.csv', sep='\\t')"
   ]
  },
  {
   "cell_type": "markdown",
   "metadata": {},
   "source": [
    "### Изучите общую информацию о полученном датафрейме"
   ]
  },
  {
   "cell_type": "code",
   "execution_count": 2,
   "metadata": {},
   "outputs": [
    {
     "name": "stdout",
     "output_type": "stream",
     "text": [
      "<class 'pandas.core.frame.DataFrame'>\n",
      "RangeIndex: 23699 entries, 0 to 23698\n",
      "Data columns (total 22 columns):\n",
      " #   Column                Non-Null Count  Dtype  \n",
      "---  ------                --------------  -----  \n",
      " 0   total_images          23699 non-null  int64  \n",
      " 1   last_price            23699 non-null  float64\n",
      " 2   total_area            23699 non-null  float64\n",
      " 3   first_day_exposition  23699 non-null  object \n",
      " 4   rooms                 23699 non-null  int64  \n",
      " 5   ceiling_height        14504 non-null  float64\n",
      " 6   floors_total          23613 non-null  float64\n",
      " 7   living_area           21796 non-null  float64\n",
      " 8   floor                 23699 non-null  int64  \n",
      " 9   is_apartment          2775 non-null   object \n",
      " 10  studio                23699 non-null  bool   \n",
      " 11  open_plan             23699 non-null  bool   \n",
      " 12  kitchen_area          21421 non-null  float64\n",
      " 13  balcony               12180 non-null  float64\n",
      " 14  locality_name         23650 non-null  object \n",
      " 15  airports_nearest      18157 non-null  float64\n",
      " 16  cityCenters_nearest   18180 non-null  float64\n",
      " 17  parks_around3000      18181 non-null  float64\n",
      " 18  parks_nearest         8079 non-null   float64\n",
      " 19  ponds_around3000      18181 non-null  float64\n",
      " 20  ponds_nearest         9110 non-null   float64\n",
      " 21  days_exposition       20518 non-null  float64\n",
      "dtypes: bool(2), float64(14), int64(3), object(3)\n",
      "memory usage: 3.7+ MB\n"
     ]
    }
   ],
   "source": [
    "data.info()"
   ]
  },
  {
   "cell_type": "code",
   "execution_count": 3,
   "metadata": {},
   "outputs": [
    {
     "data": {
      "text/html": [
       "<div>\n",
       "<style scoped>\n",
       "    .dataframe tbody tr th:only-of-type {\n",
       "        vertical-align: middle;\n",
       "    }\n",
       "\n",
       "    .dataframe tbody tr th {\n",
       "        vertical-align: top;\n",
       "    }\n",
       "\n",
       "    .dataframe thead th {\n",
       "        text-align: right;\n",
       "    }\n",
       "</style>\n",
       "<table border=\"1\" class=\"dataframe\">\n",
       "  <thead>\n",
       "    <tr style=\"text-align: right;\">\n",
       "      <th></th>\n",
       "      <th>total_images</th>\n",
       "      <th>last_price</th>\n",
       "      <th>total_area</th>\n",
       "      <th>first_day_exposition</th>\n",
       "      <th>rooms</th>\n",
       "      <th>ceiling_height</th>\n",
       "      <th>floors_total</th>\n",
       "      <th>living_area</th>\n",
       "      <th>floor</th>\n",
       "      <th>is_apartment</th>\n",
       "      <th>...</th>\n",
       "      <th>kitchen_area</th>\n",
       "      <th>balcony</th>\n",
       "      <th>locality_name</th>\n",
       "      <th>airports_nearest</th>\n",
       "      <th>cityCenters_nearest</th>\n",
       "      <th>parks_around3000</th>\n",
       "      <th>parks_nearest</th>\n",
       "      <th>ponds_around3000</th>\n",
       "      <th>ponds_nearest</th>\n",
       "      <th>days_exposition</th>\n",
       "    </tr>\n",
       "  </thead>\n",
       "  <tbody>\n",
       "    <tr>\n",
       "      <th>0</th>\n",
       "      <td>20</td>\n",
       "      <td>13000000.0</td>\n",
       "      <td>108.00</td>\n",
       "      <td>2019-03-07T00:00:00</td>\n",
       "      <td>3</td>\n",
       "      <td>2.70</td>\n",
       "      <td>16.0</td>\n",
       "      <td>51.00</td>\n",
       "      <td>8</td>\n",
       "      <td>NaN</td>\n",
       "      <td>...</td>\n",
       "      <td>25.00</td>\n",
       "      <td>NaN</td>\n",
       "      <td>Санкт-Петербург</td>\n",
       "      <td>18863.0</td>\n",
       "      <td>16028.0</td>\n",
       "      <td>1.0</td>\n",
       "      <td>482.0</td>\n",
       "      <td>2.0</td>\n",
       "      <td>755.0</td>\n",
       "      <td>NaN</td>\n",
       "    </tr>\n",
       "    <tr>\n",
       "      <th>1</th>\n",
       "      <td>7</td>\n",
       "      <td>3350000.0</td>\n",
       "      <td>40.40</td>\n",
       "      <td>2018-12-04T00:00:00</td>\n",
       "      <td>1</td>\n",
       "      <td>NaN</td>\n",
       "      <td>11.0</td>\n",
       "      <td>18.60</td>\n",
       "      <td>1</td>\n",
       "      <td>NaN</td>\n",
       "      <td>...</td>\n",
       "      <td>11.00</td>\n",
       "      <td>2.0</td>\n",
       "      <td>посёлок Шушары</td>\n",
       "      <td>12817.0</td>\n",
       "      <td>18603.0</td>\n",
       "      <td>0.0</td>\n",
       "      <td>NaN</td>\n",
       "      <td>0.0</td>\n",
       "      <td>NaN</td>\n",
       "      <td>81.0</td>\n",
       "    </tr>\n",
       "    <tr>\n",
       "      <th>2</th>\n",
       "      <td>10</td>\n",
       "      <td>5196000.0</td>\n",
       "      <td>56.00</td>\n",
       "      <td>2015-08-20T00:00:00</td>\n",
       "      <td>2</td>\n",
       "      <td>NaN</td>\n",
       "      <td>5.0</td>\n",
       "      <td>34.30</td>\n",
       "      <td>4</td>\n",
       "      <td>NaN</td>\n",
       "      <td>...</td>\n",
       "      <td>8.30</td>\n",
       "      <td>0.0</td>\n",
       "      <td>Санкт-Петербург</td>\n",
       "      <td>21741.0</td>\n",
       "      <td>13933.0</td>\n",
       "      <td>1.0</td>\n",
       "      <td>90.0</td>\n",
       "      <td>2.0</td>\n",
       "      <td>574.0</td>\n",
       "      <td>558.0</td>\n",
       "    </tr>\n",
       "    <tr>\n",
       "      <th>3</th>\n",
       "      <td>0</td>\n",
       "      <td>64900000.0</td>\n",
       "      <td>159.00</td>\n",
       "      <td>2015-07-24T00:00:00</td>\n",
       "      <td>3</td>\n",
       "      <td>NaN</td>\n",
       "      <td>14.0</td>\n",
       "      <td>NaN</td>\n",
       "      <td>9</td>\n",
       "      <td>NaN</td>\n",
       "      <td>...</td>\n",
       "      <td>NaN</td>\n",
       "      <td>0.0</td>\n",
       "      <td>Санкт-Петербург</td>\n",
       "      <td>28098.0</td>\n",
       "      <td>6800.0</td>\n",
       "      <td>2.0</td>\n",
       "      <td>84.0</td>\n",
       "      <td>3.0</td>\n",
       "      <td>234.0</td>\n",
       "      <td>424.0</td>\n",
       "    </tr>\n",
       "    <tr>\n",
       "      <th>4</th>\n",
       "      <td>2</td>\n",
       "      <td>10000000.0</td>\n",
       "      <td>100.00</td>\n",
       "      <td>2018-06-19T00:00:00</td>\n",
       "      <td>2</td>\n",
       "      <td>3.03</td>\n",
       "      <td>14.0</td>\n",
       "      <td>32.00</td>\n",
       "      <td>13</td>\n",
       "      <td>NaN</td>\n",
       "      <td>...</td>\n",
       "      <td>41.00</td>\n",
       "      <td>NaN</td>\n",
       "      <td>Санкт-Петербург</td>\n",
       "      <td>31856.0</td>\n",
       "      <td>8098.0</td>\n",
       "      <td>2.0</td>\n",
       "      <td>112.0</td>\n",
       "      <td>1.0</td>\n",
       "      <td>48.0</td>\n",
       "      <td>121.0</td>\n",
       "    </tr>\n",
       "    <tr>\n",
       "      <th>5</th>\n",
       "      <td>10</td>\n",
       "      <td>2890000.0</td>\n",
       "      <td>30.40</td>\n",
       "      <td>2018-09-10T00:00:00</td>\n",
       "      <td>1</td>\n",
       "      <td>NaN</td>\n",
       "      <td>12.0</td>\n",
       "      <td>14.40</td>\n",
       "      <td>5</td>\n",
       "      <td>NaN</td>\n",
       "      <td>...</td>\n",
       "      <td>9.10</td>\n",
       "      <td>NaN</td>\n",
       "      <td>городской посёлок Янино-1</td>\n",
       "      <td>NaN</td>\n",
       "      <td>NaN</td>\n",
       "      <td>NaN</td>\n",
       "      <td>NaN</td>\n",
       "      <td>NaN</td>\n",
       "      <td>NaN</td>\n",
       "      <td>55.0</td>\n",
       "    </tr>\n",
       "    <tr>\n",
       "      <th>6</th>\n",
       "      <td>6</td>\n",
       "      <td>3700000.0</td>\n",
       "      <td>37.30</td>\n",
       "      <td>2017-11-02T00:00:00</td>\n",
       "      <td>1</td>\n",
       "      <td>NaN</td>\n",
       "      <td>26.0</td>\n",
       "      <td>10.60</td>\n",
       "      <td>6</td>\n",
       "      <td>NaN</td>\n",
       "      <td>...</td>\n",
       "      <td>14.40</td>\n",
       "      <td>1.0</td>\n",
       "      <td>посёлок Парголово</td>\n",
       "      <td>52996.0</td>\n",
       "      <td>19143.0</td>\n",
       "      <td>0.0</td>\n",
       "      <td>NaN</td>\n",
       "      <td>0.0</td>\n",
       "      <td>NaN</td>\n",
       "      <td>155.0</td>\n",
       "    </tr>\n",
       "    <tr>\n",
       "      <th>7</th>\n",
       "      <td>5</td>\n",
       "      <td>7915000.0</td>\n",
       "      <td>71.60</td>\n",
       "      <td>2019-04-18T00:00:00</td>\n",
       "      <td>2</td>\n",
       "      <td>NaN</td>\n",
       "      <td>24.0</td>\n",
       "      <td>NaN</td>\n",
       "      <td>22</td>\n",
       "      <td>NaN</td>\n",
       "      <td>...</td>\n",
       "      <td>18.90</td>\n",
       "      <td>2.0</td>\n",
       "      <td>Санкт-Петербург</td>\n",
       "      <td>23982.0</td>\n",
       "      <td>11634.0</td>\n",
       "      <td>0.0</td>\n",
       "      <td>NaN</td>\n",
       "      <td>0.0</td>\n",
       "      <td>NaN</td>\n",
       "      <td>NaN</td>\n",
       "    </tr>\n",
       "    <tr>\n",
       "      <th>8</th>\n",
       "      <td>20</td>\n",
       "      <td>2900000.0</td>\n",
       "      <td>33.16</td>\n",
       "      <td>2018-05-23T00:00:00</td>\n",
       "      <td>1</td>\n",
       "      <td>NaN</td>\n",
       "      <td>27.0</td>\n",
       "      <td>15.43</td>\n",
       "      <td>26</td>\n",
       "      <td>NaN</td>\n",
       "      <td>...</td>\n",
       "      <td>8.81</td>\n",
       "      <td>NaN</td>\n",
       "      <td>посёлок Мурино</td>\n",
       "      <td>NaN</td>\n",
       "      <td>NaN</td>\n",
       "      <td>NaN</td>\n",
       "      <td>NaN</td>\n",
       "      <td>NaN</td>\n",
       "      <td>NaN</td>\n",
       "      <td>189.0</td>\n",
       "    </tr>\n",
       "    <tr>\n",
       "      <th>9</th>\n",
       "      <td>18</td>\n",
       "      <td>5400000.0</td>\n",
       "      <td>61.00</td>\n",
       "      <td>2017-02-26T00:00:00</td>\n",
       "      <td>3</td>\n",
       "      <td>2.50</td>\n",
       "      <td>9.0</td>\n",
       "      <td>43.60</td>\n",
       "      <td>7</td>\n",
       "      <td>NaN</td>\n",
       "      <td>...</td>\n",
       "      <td>6.50</td>\n",
       "      <td>2.0</td>\n",
       "      <td>Санкт-Петербург</td>\n",
       "      <td>50898.0</td>\n",
       "      <td>15008.0</td>\n",
       "      <td>0.0</td>\n",
       "      <td>NaN</td>\n",
       "      <td>0.0</td>\n",
       "      <td>NaN</td>\n",
       "      <td>289.0</td>\n",
       "    </tr>\n",
       "  </tbody>\n",
       "</table>\n",
       "<p>10 rows × 22 columns</p>\n",
       "</div>"
      ],
      "text/plain": [
       "   total_images  last_price  total_area first_day_exposition  rooms  \\\n",
       "0            20  13000000.0      108.00  2019-03-07T00:00:00      3   \n",
       "1             7   3350000.0       40.40  2018-12-04T00:00:00      1   \n",
       "2            10   5196000.0       56.00  2015-08-20T00:00:00      2   \n",
       "3             0  64900000.0      159.00  2015-07-24T00:00:00      3   \n",
       "4             2  10000000.0      100.00  2018-06-19T00:00:00      2   \n",
       "5            10   2890000.0       30.40  2018-09-10T00:00:00      1   \n",
       "6             6   3700000.0       37.30  2017-11-02T00:00:00      1   \n",
       "7             5   7915000.0       71.60  2019-04-18T00:00:00      2   \n",
       "8            20   2900000.0       33.16  2018-05-23T00:00:00      1   \n",
       "9            18   5400000.0       61.00  2017-02-26T00:00:00      3   \n",
       "\n",
       "   ceiling_height  floors_total  living_area  floor is_apartment  ...  \\\n",
       "0            2.70          16.0        51.00      8          NaN  ...   \n",
       "1             NaN          11.0        18.60      1          NaN  ...   \n",
       "2             NaN           5.0        34.30      4          NaN  ...   \n",
       "3             NaN          14.0          NaN      9          NaN  ...   \n",
       "4            3.03          14.0        32.00     13          NaN  ...   \n",
       "5             NaN          12.0        14.40      5          NaN  ...   \n",
       "6             NaN          26.0        10.60      6          NaN  ...   \n",
       "7             NaN          24.0          NaN     22          NaN  ...   \n",
       "8             NaN          27.0        15.43     26          NaN  ...   \n",
       "9            2.50           9.0        43.60      7          NaN  ...   \n",
       "\n",
       "   kitchen_area  balcony              locality_name  airports_nearest  \\\n",
       "0         25.00      NaN            Санкт-Петербург           18863.0   \n",
       "1         11.00      2.0             посёлок Шушары           12817.0   \n",
       "2          8.30      0.0            Санкт-Петербург           21741.0   \n",
       "3           NaN      0.0            Санкт-Петербург           28098.0   \n",
       "4         41.00      NaN            Санкт-Петербург           31856.0   \n",
       "5          9.10      NaN  городской посёлок Янино-1               NaN   \n",
       "6         14.40      1.0          посёлок Парголово           52996.0   \n",
       "7         18.90      2.0            Санкт-Петербург           23982.0   \n",
       "8          8.81      NaN             посёлок Мурино               NaN   \n",
       "9          6.50      2.0            Санкт-Петербург           50898.0   \n",
       "\n",
       "  cityCenters_nearest  parks_around3000  parks_nearest  ponds_around3000  \\\n",
       "0             16028.0               1.0          482.0               2.0   \n",
       "1             18603.0               0.0            NaN               0.0   \n",
       "2             13933.0               1.0           90.0               2.0   \n",
       "3              6800.0               2.0           84.0               3.0   \n",
       "4              8098.0               2.0          112.0               1.0   \n",
       "5                 NaN               NaN            NaN               NaN   \n",
       "6             19143.0               0.0            NaN               0.0   \n",
       "7             11634.0               0.0            NaN               0.0   \n",
       "8                 NaN               NaN            NaN               NaN   \n",
       "9             15008.0               0.0            NaN               0.0   \n",
       "\n",
       "   ponds_nearest  days_exposition  \n",
       "0          755.0              NaN  \n",
       "1            NaN             81.0  \n",
       "2          574.0            558.0  \n",
       "3          234.0            424.0  \n",
       "4           48.0            121.0  \n",
       "5            NaN             55.0  \n",
       "6            NaN            155.0  \n",
       "7            NaN              NaN  \n",
       "8            NaN            189.0  \n",
       "9            NaN            289.0  \n",
       "\n",
       "[10 rows x 22 columns]"
      ]
     },
     "execution_count": 3,
     "metadata": {},
     "output_type": "execute_result"
    }
   ],
   "source": [
    "data.head(10)"
   ]
  },
  {
   "cell_type": "markdown",
   "metadata": {},
   "source": [
    "**Вывод:** 23699 строк, 22 столбца, можно сразу увидеть, что присутствуют пропуски в данных. Названия некоторых колонн требуется изменить. Также в некоторых столбцах требуется изменить тип данных."
   ]
  },
  {
   "cell_type": "markdown",
   "metadata": {},
   "source": [
    "### Постройте гистограмму для всех числовых столбцов таблицы на одном графике"
   ]
  },
  {
   "cell_type": "code",
   "execution_count": 4,
   "metadata": {},
   "outputs": [
    {
     "data": {
      "text/plain": [
       "array([[<AxesSubplot:title={'center':'total_images'}>,\n",
       "        <AxesSubplot:title={'center':'last_price'}>,\n",
       "        <AxesSubplot:title={'center':'total_area'}>,\n",
       "        <AxesSubplot:title={'center':'rooms'}>],\n",
       "       [<AxesSubplot:title={'center':'ceiling_height'}>,\n",
       "        <AxesSubplot:title={'center':'floors_total'}>,\n",
       "        <AxesSubplot:title={'center':'living_area'}>,\n",
       "        <AxesSubplot:title={'center':'floor'}>],\n",
       "       [<AxesSubplot:title={'center':'kitchen_area'}>,\n",
       "        <AxesSubplot:title={'center':'balcony'}>,\n",
       "        <AxesSubplot:title={'center':'airports_nearest'}>,\n",
       "        <AxesSubplot:title={'center':'cityCenters_nearest'}>],\n",
       "       [<AxesSubplot:title={'center':'parks_around3000'}>,\n",
       "        <AxesSubplot:title={'center':'parks_nearest'}>,\n",
       "        <AxesSubplot:title={'center':'ponds_around3000'}>,\n",
       "        <AxesSubplot:title={'center':'ponds_nearest'}>],\n",
       "       [<AxesSubplot:title={'center':'days_exposition'}>, <AxesSubplot:>,\n",
       "        <AxesSubplot:>, <AxesSubplot:>]], dtype=object)"
      ]
     },
     "execution_count": 4,
     "metadata": {},
     "output_type": "execute_result"
    },
    {
     "data": {
      "image/png": "[encoded data removed]",
      "text/plain": [
       "<Figure size 1080x1080 with 20 Axes>"
      ]
     },
     "metadata": {
      "needs_background": "light"
     },
     "output_type": "display_data"
    }
   ],
   "source": [
    "data.hist(figsize=(15, 15))"
   ]
  },
  {
   "cell_type": "markdown",
   "metadata": {},
   "source": [
    "**Вывод:** Рассмотрев гистограммы можно отметить некоторую очевидную информацию. Количество комнат в больше степени от 0 до 4, количество этажей в большей степени не больше 20, жил. площадь не более 50 кв. м."
   ]
  },
  {
   "cell_type": "markdown",
   "metadata": {},
   "source": [
    "## Выполните предобработку данных"
   ]
  },
  {
   "cell_type": "markdown",
   "metadata": {},
   "source": [
    "### Найдите и изучите пропущенные значения в столбцах"
   ]
  },
  {
   "cell_type": "markdown",
   "metadata": {},
   "source": [
    "#### Определите, в каких столбцах есть пропуски"
   ]
  },
  {
   "cell_type": "code",
   "execution_count": 5,
   "metadata": {},
   "outputs": [
    {
     "data": {
      "text/plain": [
       "total_images                0\n",
       "last_price                  0\n",
       "total_area                  0\n",
       "first_day_exposition        0\n",
       "rooms                       0\n",
       "ceiling_height           9195\n",
       "floors_total               86\n",
       "living_area              1903\n",
       "floor                       0\n",
       "is_apartment            20924\n",
       "studio                      0\n",
       "open_plan                   0\n",
       "kitchen_area             2278\n",
       "balcony                 11519\n",
       "locality_name              49\n",
       "airports_nearest         5542\n",
       "cityCenters_nearest      5519\n",
       "parks_around3000         5518\n",
       "parks_nearest           15620\n",
       "ponds_around3000         5518\n",
       "ponds_nearest           14589\n",
       "days_exposition          3181\n",
       "dtype: int64"
      ]
     },
     "execution_count": 5,
     "metadata": {},
     "output_type": "execute_result"
    }
   ],
   "source": [
    "data.isna().sum() # выведем количество пропусков"
   ]
  },
  {
   "cell_type": "markdown",
   "metadata": {},
   "source": [
    "#### Заполните пропущенные значения там, где это возможно"
   ]
  },
  {
   "cell_type": "markdown",
   "metadata": {},
   "source": [
    "**Вывод:** Пропусков достаточно много.\n",
    "1. Высота потолков (ceiling_height) - 9195. Можно заменить на медианное значение.\n",
    "2. Всего этажей в доме (floors_total) - 86. Можно заменить на медианное значение.\n",
    "3. Жилая площадь в квадратных метрах (м²) (living_area) - 1903. Оставим без изменений. На анализ не повлияет.\n",
    "4. Апартаменты (булев тип) is_apartment - 20924. Скорее всего означает False. Заменим на False.\n",
    "5. Площадь кухни в квадратных метрах (м²) (kitchen_area) - 2278. Скорее всего кухни нет, заменим на 0.\n",
    "6. Число балконов (balcony) - 11519. Балконов скорее всего нет, заменим на 0.\n",
    "7. Название населённого пункта (locality_name) - 49. Рассмотрим подробнее. Пока оставим без изменений.\n",
    "8. Расстояние до ближайшего аэропорта в метрах (м) (airports_nearest) - 5542. Скорее всего, что рядом нет, заменим на 0.\n",
    "9. Расстояние до центра города (м) (cityCenters_nearest) - 5519. Оставим без изменений.\n",
    "10. Число парков в радиусе 3 км (parks_around3000) - 5518. Скорее всего, что рядом нет, заменим на 0.\n",
    "11. Расстояние до ближайшего парка (м) (parks_nearest) - 15620. Скорее всего, что рядом нет. Оставим без изменений.\n",
    "12. Число водоёмов в радиусе 3 км (ponds_around3000) - 5518. Скорее всего, что рядом нет, заменим на 0.\n",
    "13. Расстояние до ближайшего водоёма (м) (ponds_nearest) - 14589. Скорее всего, что рядом нет. Оставим без изменений.\n",
    "14. Сколько дней было размещено объявление (от публикации до снятия) (days_exposition) - 3181. Оставим без изменений."
   ]
  },
  {
   "cell_type": "markdown",
   "metadata": {},
   "source": [
    "Заменим названия столбцов для удобства:"
   ]
  },
  {
   "cell_type": "code",
   "execution_count": 6,
   "metadata": {},
   "outputs": [],
   "source": [
    "data = data.rename(columns={'cityCenters_nearest': 'city_centers_nearest', 'parks_around3000': 'parks_around_3000', 'ponds_around3000': 'ponds_around_3000'})"
   ]
  },
  {
   "cell_type": "code",
   "execution_count": 7,
   "metadata": {},
   "outputs": [],
   "source": [
    "data['ceiling_height'] = data['ceiling_height'].fillna(data['ceiling_height'].median())\n",
    "data['floors_total'] = data['floors_total'].fillna(data['floors_total'].median())\n",
    "data['is_apartment'] = data['is_apartment'].fillna(False)\n",
    "data['kitchen_area'] = data['kitchen_area'].fillna(0)\n",
    "data['balcony'] = data['balcony'].fillna(0)\n",
    "data['airports_nearest'] = data['airports_nearest'].fillna(0)\n",
    "data['parks_around_3000'] = data['parks_around_3000'].fillna(0)\n",
    "data['ponds_around_3000'] = data['ponds_around_3000'].fillna(0)\n"
   ]
  },
  {
   "cell_type": "code",
   "execution_count": 8,
   "metadata": {},
   "outputs": [
    {
     "data": {
      "text/plain": [
       "total_images                0\n",
       "last_price                  0\n",
       "total_area                  0\n",
       "first_day_exposition        0\n",
       "rooms                       0\n",
       "ceiling_height              0\n",
       "floors_total                0\n",
       "living_area              1903\n",
       "floor                       0\n",
       "is_apartment                0\n",
       "studio                      0\n",
       "open_plan                   0\n",
       "kitchen_area                0\n",
       "balcony                     0\n",
       "locality_name              49\n",
       "airports_nearest            0\n",
       "city_centers_nearest     5519\n",
       "parks_around_3000           0\n",
       "parks_nearest           15620\n",
       "ponds_around_3000           0\n",
       "ponds_nearest           14589\n",
       "days_exposition          3181\n",
       "dtype: int64"
      ]
     },
     "execution_count": 8,
     "metadata": {},
     "output_type": "execute_result"
    }
   ],
   "source": [
    "data.isna().sum()"
   ]
  },
  {
   "cell_type": "markdown",
   "metadata": {},
   "source": [
    "### Рассмотрите типы данных в каждом столбце"
   ]
  },
  {
   "cell_type": "markdown",
   "metadata": {},
   "source": [
    "#### Найдите столбцы, в которых нужно изменить тип данных"
   ]
  },
  {
   "cell_type": "code",
   "execution_count": 9,
   "metadata": {},
   "outputs": [
    {
     "name": "stdout",
     "output_type": "stream",
     "text": [
      "<class 'pandas.core.frame.DataFrame'>\n",
      "RangeIndex: 23699 entries, 0 to 23698\n",
      "Data columns (total 22 columns):\n",
      " #   Column                Non-Null Count  Dtype  \n",
      "---  ------                --------------  -----  \n",
      " 0   total_images          23699 non-null  int64  \n",
      " 1   last_price            23699 non-null  float64\n",
      " 2   total_area            23699 non-null  float64\n",
      " 3   first_day_exposition  23699 non-null  object \n",
      " 4   rooms                 23699 non-null  int64  \n",
      " 5   ceiling_height        23699 non-null  float64\n",
      " 6   floors_total          23699 non-null  float64\n",
      " 7   living_area           21796 non-null  float64\n",
      " 8   floor                 23699 non-null  int64  \n",
      " 9   is_apartment          23699 non-null  bool   \n",
      " 10  studio                23699 non-null  bool   \n",
      " 11  open_plan             23699 non-null  bool   \n",
      " 12  kitchen_area          23699 non-null  float64\n",
      " 13  balcony               23699 non-null  float64\n",
      " 14  locality_name         23650 non-null  object \n",
      " 15  airports_nearest      23699 non-null  float64\n",
      " 16  city_centers_nearest  18180 non-null  float64\n",
      " 17  parks_around_3000     23699 non-null  float64\n",
      " 18  parks_nearest         8079 non-null   float64\n",
      " 19  ponds_around_3000     23699 non-null  float64\n",
      " 20  ponds_nearest         9110 non-null   float64\n",
      " 21  days_exposition       20518 non-null  float64\n",
      "dtypes: bool(3), float64(14), int64(3), object(2)\n",
      "memory usage: 3.5+ MB\n"
     ]
    }
   ],
   "source": [
    "data.info() # рассмотрим еще раз типы данных"
   ]
  },
  {
   "cell_type": "markdown",
   "metadata": {},
   "source": [
    "floors_total поменять на int, first_day_exposition на временной тип, last_price на int."
   ]
  },
  {
   "cell_type": "markdown",
   "metadata": {},
   "source": [
    "#### Преобразуйте тип данных в выбранных столбцах"
   ]
  },
  {
   "cell_type": "code",
   "execution_count": 10,
   "metadata": {},
   "outputs": [],
   "source": [
    "data['floors_total'] = data['floors_total'].astype(int)\n",
    "data['last_price'] = data['last_price'].astype(int)\n",
    "data['first_day_exposition'] = pd.to_datetime(data['first_day_exposition'], format='%Y-%m-%dT%H:%M:%S')"
   ]
  },
  {
   "cell_type": "code",
   "execution_count": 11,
   "metadata": {},
   "outputs": [
    {
     "name": "stdout",
     "output_type": "stream",
     "text": [
      "<class 'pandas.core.frame.DataFrame'>\n",
      "RangeIndex: 23699 entries, 0 to 23698\n",
      "Data columns (total 22 columns):\n",
      " #   Column                Non-Null Count  Dtype         \n",
      "---  ------                --------------  -----         \n",
      " 0   total_images          23699 non-null  int64         \n",
      " 1   last_price            23699 non-null  int64         \n",
      " 2   total_area            23699 non-null  float64       \n",
      " 3   first_day_exposition  23699 non-null  datetime64[ns]\n",
      " 4   rooms                 23699 non-null  int64         \n",
      " 5   ceiling_height        23699 non-null  float64       \n",
      " 6   floors_total          23699 non-null  int64         \n",
      " 7   living_area           21796 non-null  float64       \n",
      " 8   floor                 23699 non-null  int64         \n",
      " 9   is_apartment          23699 non-null  bool          \n",
      " 10  studio                23699 non-null  bool          \n",
      " 11  open_plan             23699 non-null  bool          \n",
      " 12  kitchen_area          23699 non-null  float64       \n",
      " 13  balcony               23699 non-null  float64       \n",
      " 14  locality_name         23650 non-null  object        \n",
      " 15  airports_nearest      23699 non-null  float64       \n",
      " 16  city_centers_nearest  18180 non-null  float64       \n",
      " 17  parks_around_3000     23699 non-null  float64       \n",
      " 18  parks_nearest         8079 non-null   float64       \n",
      " 19  ponds_around_3000     23699 non-null  float64       \n",
      " 20  ponds_nearest         9110 non-null   float64       \n",
      " 21  days_exposition       20518 non-null  float64       \n",
      "dtypes: bool(3), datetime64[ns](1), float64(12), int64(5), object(1)\n",
      "memory usage: 3.5+ MB\n"
     ]
    }
   ],
   "source": [
    "data.info() # проверяем"
   ]
  },
  {
   "cell_type": "markdown",
   "metadata": {},
   "source": [
    "### Изучите уникальные значения в столбце с названиями и устраните неявные дубликаты"
   ]
  },
  {
   "cell_type": "code",
   "execution_count": 12,
   "metadata": {},
   "outputs": [],
   "source": [
    "data['locality_name'] = data['locality_name'].str.lower()"
   ]
  },
  {
   "cell_type": "code",
   "execution_count": 13,
   "metadata": {},
   "outputs": [
    {
     "data": {
      "text/plain": [
       "0"
      ]
     },
     "execution_count": 13,
     "metadata": {},
     "output_type": "execute_result"
    }
   ],
   "source": [
    "data.duplicated().sum() # проверим наличие явных дубликатов"
   ]
  },
  {
   "cell_type": "code",
   "execution_count": 14,
   "metadata": {
    "scrolled": false
   },
   "outputs": [
    {
     "data": {
      "text/plain": [
       "array(['санкт-петербург', 'посёлок шушары', 'городской посёлок янино-1',\n",
       "       'посёлок парголово', 'посёлок мурино', 'ломоносов', 'сертолово',\n",
       "       'петергоф', 'пушкин', 'деревня кудрово', 'коммунар', 'колпино',\n",
       "       'поселок городского типа красный бор', 'гатчина', 'поселок мурино',\n",
       "       'деревня фёдоровское', 'выборг', 'кронштадт', 'кировск',\n",
       "       'деревня новое девяткино', 'посёлок металлострой',\n",
       "       'посёлок городского типа лебяжье',\n",
       "       'посёлок городского типа сиверский', 'поселок молодцово',\n",
       "       'поселок городского типа кузьмоловский',\n",
       "       'садовое товарищество новая ропша', 'павловск',\n",
       "       'деревня пикколово', 'всеволожск', 'волхов', 'кингисепп',\n",
       "       'приозерск', 'сестрорецк', 'деревня куттузи', 'посёлок аннино',\n",
       "       'поселок городского типа ефимовский', 'посёлок плодовое',\n",
       "       'деревня заклинье', 'поселок торковичи', 'поселок первомайское',\n",
       "       'красное село', 'посёлок понтонный', 'сясьстрой', 'деревня старая',\n",
       "       'деревня лесколово', 'посёлок новый свет', 'сланцы',\n",
       "       'село путилово', 'ивангород', 'мурино', 'шлиссельбург',\n",
       "       'никольское', 'зеленогорск', 'сосновый бор', 'поселок новый свет',\n",
       "       'деревня оржицы', 'деревня кальтино', 'кудрово',\n",
       "       'поселок романовка', 'посёлок бугры', 'поселок бугры',\n",
       "       'поселок городского типа рощино', 'кириши', 'луга', 'волосово',\n",
       "       'отрадное', 'село павлово', 'поселок оредеж', 'село копорье',\n",
       "       'посёлок городского типа красный бор', 'посёлок молодёжное',\n",
       "       'тихвин', 'посёлок победа', 'деревня нурма',\n",
       "       'поселок городского типа синявино', 'тосно',\n",
       "       'посёлок городского типа кузьмоловский', 'посёлок стрельна',\n",
       "       'бокситогорск', 'посёлок александровская', 'деревня лопухинка',\n",
       "       'пикалёво', 'поселок терволово',\n",
       "       'поселок городского типа советский', 'подпорожье',\n",
       "       'посёлок петровское', 'посёлок городского типа токсово',\n",
       "       'поселок сельцо', 'посёлок городского типа вырица',\n",
       "       'деревня кипень', 'деревня келози', 'деревня вартемяги',\n",
       "       'посёлок тельмана', 'поселок севастьяново',\n",
       "       'городской поселок большая ижора', nan,\n",
       "       'городской посёлок павлово', 'деревня агалатово',\n",
       "       'посёлок новогорелово', 'городской посёлок лесогорский',\n",
       "       'деревня лаголово', 'поселок цвелодубово',\n",
       "       'поселок городского типа рахья', 'поселок городского типа вырица',\n",
       "       'деревня белогорка', 'поселок заводской',\n",
       "       'городской посёлок новоселье', 'деревня большие колпаны',\n",
       "       'деревня горбунки', 'деревня батово', 'деревня заневка',\n",
       "       'деревня иссад', 'приморск', 'городской посёлок фёдоровское',\n",
       "       'деревня мистолово', 'новая ладога', 'поселок зимитицы',\n",
       "       'поселок барышево', 'деревня разметелево',\n",
       "       'поселок городского типа имени свердлова', 'деревня пеники',\n",
       "       'поселок рябово', 'деревня пудомяги', 'поселок станции корнево',\n",
       "       'деревня низино', 'деревня бегуницы', 'посёлок поляны',\n",
       "       'городской посёлок мга', 'поселок елизаветино',\n",
       "       'посёлок городского типа кузнечное', 'деревня колтуши',\n",
       "       'поселок запорожское', 'посёлок городского типа рощино',\n",
       "       'деревня гостилицы', 'деревня малое карлино',\n",
       "       'посёлок мичуринское', 'посёлок городского типа имени морозова',\n",
       "       'посёлок песочный', 'посёлок сосново', 'деревня аро',\n",
       "       'поселок ильичёво', 'посёлок городского типа тайцы',\n",
       "       'деревня малое верево', 'деревня извара', 'поселок станции вещево',\n",
       "       'село паша', 'деревня калитино',\n",
       "       'посёлок городского типа ульяновка', 'деревня чудской бор',\n",
       "       'поселок городского типа дубровка', 'деревня мины',\n",
       "       'поселок войсковицы', 'посёлок городского типа имени свердлова',\n",
       "       'деревня коркино', 'посёлок ропша',\n",
       "       'поселок городского типа приладожский', 'посёлок щеглово',\n",
       "       'посёлок гаврилово', 'лодейное поле', 'деревня рабитицы',\n",
       "       'поселок городского типа никольский', 'деревня кузьмолово',\n",
       "       'деревня малые колпаны', 'поселок тельмана',\n",
       "       'посёлок петро-славянка', 'городской посёлок назия',\n",
       "       'посёлок репино', 'посёлок ильичёво', 'поселок углово',\n",
       "       'поселок старая малукса', 'садовое товарищество рахья',\n",
       "       'поселок аннино', 'поселок победа', 'деревня меньково',\n",
       "       'деревня старые бегуницы', 'посёлок сапёрный', 'поселок семрино',\n",
       "       'поселок гаврилово', 'поселок глажево', 'поселок кобринское',\n",
       "       'деревня гарболово', 'деревня юкки',\n",
       "       'поселок станции приветнинское', 'деревня мануйлово',\n",
       "       'деревня пчева', 'поселок поляны', 'поселок цвылёво',\n",
       "       'поселок мельниково', 'посёлок пудость', 'посёлок усть-луга',\n",
       "       'светогорск', 'любань', 'поселок селезнёво',\n",
       "       'поселок городского типа рябово', 'каменногорск', 'деревня кривко',\n",
       "       'поселок глебычево', 'деревня парицы', 'поселок жилпосёлок',\n",
       "       'посёлок городского типа мга', 'городской поселок янино-1',\n",
       "       'посёлок войскорово', 'село никольское', 'посёлок терволово',\n",
       "       'поселок стеклянный', 'посёлок городского типа важины',\n",
       "       'посёлок мыза-ивановка', 'село русско-высоцкое',\n",
       "       'поселок городского типа лебяжье',\n",
       "       'поселок городского типа форносово', 'село старая ладога',\n",
       "       'поселок житково', 'городской посёлок виллози', 'деревня лампово',\n",
       "       'деревня шпаньково', 'деревня лаврики', 'посёлок сумино',\n",
       "       'посёлок возрождение', 'деревня старосиверская',\n",
       "       'посёлок кикерино', 'поселок возрождение',\n",
       "       'деревня старое хинколово', 'посёлок пригородный',\n",
       "       'посёлок торфяное', 'городской посёлок будогощь',\n",
       "       'поселок суходолье', 'поселок красная долина', 'деревня хапо-ое',\n",
       "       'поселок городского типа дружная горка', 'поселок лисий нос',\n",
       "       'деревня яльгелево', 'посёлок стеклянный', 'село рождествено',\n",
       "       'деревня старополье', 'посёлок левашово', 'деревня сяськелево',\n",
       "       'деревня камышовка',\n",
       "       'садоводческое некоммерческое товарищество лесная поляна',\n",
       "       'деревня хязельки', 'поселок жилгородок',\n",
       "       'посёлок городского типа павлово', 'деревня ялгино',\n",
       "       'поселок новый учхоз', 'городской посёлок рощино',\n",
       "       'поселок гончарово', 'поселок почап', 'посёлок сапёрное',\n",
       "       'посёлок платформа 69-й километр', 'поселок каложицы',\n",
       "       'деревня фалилеево', 'деревня пельгора',\n",
       "       'поселок городского типа лесогорский', 'деревня торошковичи',\n",
       "       'посёлок белоостров', 'посёлок алексеевка', 'поселок серебрянский',\n",
       "       'поселок лукаши', 'поселок петровское', 'деревня щеглово',\n",
       "       'поселок мичуринское', 'деревня тарасово', 'поселок кингисеппский',\n",
       "       'посёлок при железнодорожной станции вещево', 'поселок ушаки',\n",
       "       'деревня котлы', 'деревня сижно', 'деревня торосово',\n",
       "       'посёлок форт красная горка', 'поселок городского типа токсово',\n",
       "       'деревня новолисино', 'посёлок станции громово', 'деревня глинка',\n",
       "       'посёлок мельниково', 'поселок городского типа назия',\n",
       "       'деревня старая пустошь', 'поселок коммунары', 'поселок починок',\n",
       "       'посёлок городского типа вознесенье', 'деревня разбегаево',\n",
       "       'посёлок городского типа рябово', 'поселок гладкое',\n",
       "       'посёлок при железнодорожной станции приветнинское',\n",
       "       'поселок тёсово-4', 'посёлок жилгородок', 'деревня бор',\n",
       "       'посёлок коробицыно', 'деревня большая вруда', 'деревня курковицы',\n",
       "       'посёлок лисий нос', 'городской посёлок советский',\n",
       "       'посёлок кобралово', 'деревня суоранда', 'поселок кобралово',\n",
       "       'поселок городского типа кондратьево',\n",
       "       'коттеджный поселок счастье', 'поселок любань', 'деревня реброво',\n",
       "       'деревня зимитицы', 'деревня тойворово', 'поселок семиозерье',\n",
       "       'поселок лесное', 'поселок совхозный', 'поселок усть-луга',\n",
       "       'посёлок ленинское', 'посёлок суйда',\n",
       "       'посёлок городского типа форносово', 'деревня нижние осельки',\n",
       "       'посёлок станции свирь', 'поселок перово', 'высоцк',\n",
       "       'поселок гарболово', 'село шум', 'поселок котельский',\n",
       "       'поселок станции лужайка', 'деревня большая пустомержа',\n",
       "       'поселок красносельское', 'деревня вахнова кара', 'деревня пижма',\n",
       "       'коттеджный поселок кивеннапа север', 'поселок коробицыно',\n",
       "       'поселок ромашки', 'посёлок перово', 'деревня каськово',\n",
       "       'деревня куровицы', 'посёлок плоское', 'поселок сумино',\n",
       "       'поселок городского типа большая ижора', 'поселок кирпичное',\n",
       "       'деревня ям-тесово', 'деревня раздолье', 'деревня терпилицы',\n",
       "       'посёлок шугозеро', 'деревня ваганово', 'поселок пушное',\n",
       "       'садовое товарищество садко', 'посёлок усть-ижора',\n",
       "       'деревня выскатка', 'городской посёлок свирьстрой',\n",
       "       'поселок громово', 'деревня кисельня', 'посёлок старая малукса',\n",
       "       'деревня трубников бор', 'поселок калитино',\n",
       "       'посёлок высокоключевой', 'садовое товарищество приладожский',\n",
       "       'посёлок пансионат зелёный бор', 'деревня ненимяки',\n",
       "       'поселок пансионат зелёный бор', 'деревня снегирёвка',\n",
       "       'деревня рапполово', 'деревня пустынка', 'поселок рабитицы',\n",
       "       'деревня большой сабск', 'деревня русско', 'деревня лупполово',\n",
       "       'деревня большое рейзино', 'деревня малая романовка',\n",
       "       'поселок дружноселье', 'поселок пчевжа', 'поселок володарское',\n",
       "       'деревня нижняя', 'коттеджный посёлок лесное', 'деревня тихковицы',\n",
       "       'деревня борисова грива', 'посёлок дзержинского'], dtype=object)"
      ]
     },
     "execution_count": 14,
     "metadata": {},
     "output_type": "execute_result"
    }
   ],
   "source": [
    "data['locality_name'].unique()"
   ]
  },
  {
   "cell_type": "code",
   "execution_count": 15,
   "metadata": {},
   "outputs": [],
   "source": [
    "data['locality_name'] = data['locality_name'].replace('городской поселок янино-1', 'посёлок янино-1')\n",
    "data['locality_name'] = data['locality_name'].replace('мурино', 'посёлок мурино')\n",
    "data['locality_name'] = data['locality_name'].replace('поселок мурино', 'посёлок мурино')\n",
    "data['locality_name'] = data['locality_name'].replace('деревня кудрово', 'кудрово')\n",
    "data['locality_name'] = data['locality_name'].replace('посёлок городского типа красный бор', 'посёлок красный бор')\n",
    "data['locality_name'] = data['locality_name'].replace('городской посёлок фёдоровское', 'посёлок фёдоровское')\n",
    "data['locality_name'] = data['locality_name'].replace('деревня фёдоровское', 'посёлок фёдоровское')\n",
    "data['locality_name'] = data['locality_name'].replace('посёлок городского типа лебяжье', 'посёлок лебяжье')\n",
    "data['locality_name'] = data['locality_name'].replace('поселок городского типа лебяжье', 'посёлок лебяжье')\n",
    "data['locality_name'] = data['locality_name'].replace('поселок городского типа кузьмоловский', 'посёлок кузьмоловский')\n",
    "data['locality_name'] = data['locality_name'].replace('посёлок городского типа кузьмоловский', 'посёлок кузьмоловский')\n",
    "data['locality_name'] = data['locality_name'].replace('поселок аннино', 'посёлок аннино')\n",
    "data['locality_name'] = data['locality_name'].replace('поселок новый свет', 'посёлок новый свет')\n",
    "data['locality_name'] = data['locality_name'].replace('поселок бугры', 'посёлок бугры')\n",
    "data['locality_name'] = data['locality_name'].replace('поселок городского типа рощино', 'посёлок рощино')\n",
    "data['locality_name'] = data['locality_name'].replace('посёлок городского типа рощино', 'посёлок рощино')\n",
    "data['locality_name'] = data['locality_name'].replace('городской посёлок рощино', 'посёлок рощино')\n",
    "data['locality_name'] = data['locality_name'].replace('городской посёлок павлово', 'посёлок павлово')\n",
    "data['locality_name'] = data['locality_name'].replace('посёлок городского типа павлово', 'посёлок павлово')\n",
    "data['locality_name'] = data['locality_name'].replace('поселок победа', 'посёлок победа')\n",
    "data['locality_name'] = data['locality_name'].replace('поселок терволово', 'посёлок терволово')\n",
    "data['locality_name'] = data['locality_name'].replace('поселок городского типа советский', 'посёлок советский')\n",
    "data['locality_name'] = data['locality_name'].replace('городской посёлок советский', 'посёлок советский')\n",
    "data['locality_name'] = data['locality_name'].replace('поселок петровское', 'посёлок петровское')\n",
    "data['locality_name'] = data['locality_name'].replace('посёлок городского типа токсово', 'посёлок токсово')\n",
    "data['locality_name'] = data['locality_name'].replace('поселок городского типа токсово', 'посёлок токсово')\n",
    "data['locality_name'] = data['locality_name'].replace('поселок городского типа вырица', 'посёлок городского типа вырица')\n",
    "data['locality_name'] = data['locality_name'].replace('поселок тельмана', 'посёлок тельмана')\n",
    "data['locality_name'] = data['locality_name'].replace('городской поселок большая ижора', 'поселок городского типа большая ижора')\n",
    "data['locality_name'] = data['locality_name'].replace('поселок городского типа лесогорский', 'городской посёлок лесогорский')\n",
    "data['locality_name'] = data['locality_name'].replace('поселок городского типа имени свердлова', 'посёлок городского типа имени свердлова')\n",
    "data['locality_name'] = data['locality_name'].replace('поселок рябово', 'посёлок рябово')\n",
    "data['locality_name'] = data['locality_name'].replace('поселок городского типа рябово', 'посёлок рябово')\n",
    "data['locality_name'] = data['locality_name'].replace('посёлок городского типа рябово', 'посёлок рябово')\n",
    "data['locality_name'] = data['locality_name'].replace('поселок поляны', 'посёлок поляны')\n",
    "data['locality_name'] = data['locality_name'].replace('посёлок городского типа мга', 'городской посёлок мга')\n",
    "data['locality_name'] = data['locality_name'].replace('поселок мичуринское', 'посёлок мичуринское')\n",
    "data['locality_name'] = data['locality_name'].replace('поселок ильичёво', 'посёлок ильичёво')\n",
    "data['locality_name'] = data['locality_name'].replace('поселок станции вещево', 'посёлок при железнодорожной станции вещево')\n",
    "data['locality_name'] = data['locality_name'].replace('поселок калитино', 'деревня калитино')\n",
    "data['locality_name'] = data['locality_name'].replace('поселок гаврилово', 'посёлок гаврилово')\n",
    "data['locality_name'] = data['locality_name'].replace('поселок городского типа назия', 'городской посёлок назия')\n",
    "data['locality_name'] = data['locality_name'].replace('поселок старая малукса', 'посёлок старая малукса')\n",
    "data['locality_name'] = data['locality_name'].replace('деревня гарболово', 'поселок гарболово')\n",
    "data['locality_name'] = data['locality_name'].replace('поселок станции приветнинское', 'посёлок при железнодорожной станции приветнинское')\n",
    "data['locality_name'] = data['locality_name'].replace('поселок мельниково', 'посёлок мельниково')\n",
    "data['locality_name'] = data['locality_name'].replace('поселок усть-луга', 'посёлок усть-луга')\n",
    "data['locality_name'] = data['locality_name'].replace('поселок любань', 'любань')\n",
    "data['locality_name'] = data['locality_name'].replace('поселок стеклянный', 'посёлок стеклянный')\n",
    "data['locality_name'] = data['locality_name'].replace('поселок городского типа форносово', 'посёлок городского типа форносово')\n",
    "data['locality_name'] = data['locality_name'].replace('поселок сумино', 'посёлок сумино')\n",
    "data['locality_name'] = data['locality_name'].replace('поселок возрождение', 'посёлок возрождение')\n",
    "data['locality_name'] = data['locality_name'].replace('поселок лисий нос', 'посёлок лисий нос')\n",
    "data['locality_name'] = data['locality_name'].replace('поселок жилгородок', 'посёлок жилгородок')\n",
    "data['locality_name'] = data['locality_name'].replace('поселок громово', 'посёлок станции громово')\n",
    "data['locality_name'] = data['locality_name'].replace('поселок коробицыно', 'посёлок коробицыно')\n",
    "data['locality_name'] = data['locality_name'].replace('поселок кобралово', 'посёлок кобралово')\n",
    "data['locality_name'] = data['locality_name'].replace('поселок лесное', 'коттеджный посёлок лесное')\n",
    "data['locality_name'] = data['locality_name'].replace('поселок перово', 'посёлок перово')\n",
    "data['locality_name'] = data['locality_name'].replace('поселок пансионат зелёный бор', 'посёлок пансионат зелёный бор')"
   ]
  },
  {
   "cell_type": "markdown",
   "metadata": {},
   "source": [
    "**Вывод:** Избавились от пропусков, некоторые оставили. Избавились от неявных дубликатов. Проверили наличие явных. Данные готовы к анализу."
   ]
  },
  {
   "cell_type": "markdown",
   "metadata": {},
   "source": [
    "## Добавьте в таблицу новые столбцы"
   ]
  },
  {
   "cell_type": "markdown",
   "metadata": {},
   "source": [
    "### цена одного квадратного метра (нужно поделить стоимость объекта на его общую площадь, а затем округлить до двух знаков после запятой);"
   ]
  },
  {
   "cell_type": "code",
   "execution_count": 16,
   "metadata": {},
   "outputs": [],
   "source": [
    "data['price_of_one_square'] = (data['last_price'] / data['total_area']).round(2)"
   ]
  },
  {
   "cell_type": "markdown",
   "metadata": {},
   "source": [
    "### день недели публикации объявления (0 — понедельник, 1 — вторник и так далее);"
   ]
  },
  {
   "cell_type": "code",
   "execution_count": 17,
   "metadata": {},
   "outputs": [],
   "source": [
    "data['day_of_week'] = data['first_day_exposition'].dt.weekday"
   ]
  },
  {
   "cell_type": "markdown",
   "metadata": {},
   "source": [
    "### месяц публикации объявления"
   ]
  },
  {
   "cell_type": "code",
   "execution_count": 18,
   "metadata": {},
   "outputs": [],
   "source": [
    "data['month'] = data['first_day_exposition'].dt.month"
   ]
  },
  {
   "cell_type": "markdown",
   "metadata": {},
   "source": [
    "### год публикации объявления"
   ]
  },
  {
   "cell_type": "code",
   "execution_count": 19,
   "metadata": {},
   "outputs": [],
   "source": [
    "data['year'] = data['first_day_exposition'].dt.year"
   ]
  },
  {
   "cell_type": "markdown",
   "metadata": {},
   "source": [
    "### тип этажа квартиры (значения — «‎первый», «последний», «другой»)"
   ]
  },
  {
   "cell_type": "code",
   "execution_count": 20,
   "metadata": {},
   "outputs": [],
   "source": [
    "def categorize_floor(row):\n",
    "    if row['floor'] == 1:\n",
    "        return 'первый'\n",
    "    if row['floor'] == row['floors_total']:\n",
    "        return 'последний'\n",
    "    else:\n",
    "        return 'другой'"
   ]
  },
  {
   "cell_type": "code",
   "execution_count": 21,
   "metadata": {},
   "outputs": [],
   "source": [
    "data['type_floor'] = data.apply(categorize_floor, axis=1) "
   ]
  },
  {
   "cell_type": "markdown",
   "metadata": {},
   "source": [
    "### расстояние до центра города в километрах"
   ]
  },
  {
   "cell_type": "code",
   "execution_count": 22,
   "metadata": {},
   "outputs": [],
   "source": [
    "data['distance_city_center_km'] = data['city_centers_nearest'] / 1000"
   ]
  },
  {
   "cell_type": "code",
   "execution_count": 23,
   "metadata": {},
   "outputs": [
    {
     "data": {
      "text/html": [
       "<div>\n",
       "<style scoped>\n",
       "    .dataframe tbody tr th:only-of-type {\n",
       "        vertical-align: middle;\n",
       "    }\n",
       "\n",
       "    .dataframe tbody tr th {\n",
       "        vertical-align: top;\n",
       "    }\n",
       "\n",
       "    .dataframe thead th {\n",
       "        text-align: right;\n",
       "    }\n",
       "</style>\n",
       "<table border=\"1\" class=\"dataframe\">\n",
       "  <thead>\n",
       "    <tr style=\"text-align: right;\">\n",
       "      <th></th>\n",
       "      <th>total_images</th>\n",
       "      <th>last_price</th>\n",
       "      <th>total_area</th>\n",
       "      <th>first_day_exposition</th>\n",
       "      <th>rooms</th>\n",
       "      <th>ceiling_height</th>\n",
       "      <th>floors_total</th>\n",
       "      <th>living_area</th>\n",
       "      <th>floor</th>\n",
       "      <th>is_apartment</th>\n",
       "      <th>...</th>\n",
       "      <th>parks_nearest</th>\n",
       "      <th>ponds_around_3000</th>\n",
       "      <th>ponds_nearest</th>\n",
       "      <th>days_exposition</th>\n",
       "      <th>price_of_one_square</th>\n",
       "      <th>day_of_week</th>\n",
       "      <th>month</th>\n",
       "      <th>year</th>\n",
       "      <th>type_floor</th>\n",
       "      <th>distance_city_center_km</th>\n",
       "    </tr>\n",
       "  </thead>\n",
       "  <tbody>\n",
       "    <tr>\n",
       "      <th>0</th>\n",
       "      <td>20</td>\n",
       "      <td>13000000</td>\n",
       "      <td>108.0</td>\n",
       "      <td>2019-03-07</td>\n",
       "      <td>3</td>\n",
       "      <td>2.70</td>\n",
       "      <td>16</td>\n",
       "      <td>51.0</td>\n",
       "      <td>8</td>\n",
       "      <td>False</td>\n",
       "      <td>...</td>\n",
       "      <td>482.0</td>\n",
       "      <td>2.0</td>\n",
       "      <td>755.0</td>\n",
       "      <td>NaN</td>\n",
       "      <td>120370.37</td>\n",
       "      <td>3</td>\n",
       "      <td>3</td>\n",
       "      <td>2019</td>\n",
       "      <td>другой</td>\n",
       "      <td>16.028</td>\n",
       "    </tr>\n",
       "    <tr>\n",
       "      <th>1</th>\n",
       "      <td>7</td>\n",
       "      <td>3350000</td>\n",
       "      <td>40.4</td>\n",
       "      <td>2018-12-04</td>\n",
       "      <td>1</td>\n",
       "      <td>2.65</td>\n",
       "      <td>11</td>\n",
       "      <td>18.6</td>\n",
       "      <td>1</td>\n",
       "      <td>False</td>\n",
       "      <td>...</td>\n",
       "      <td>NaN</td>\n",
       "      <td>0.0</td>\n",
       "      <td>NaN</td>\n",
       "      <td>81.0</td>\n",
       "      <td>82920.79</td>\n",
       "      <td>1</td>\n",
       "      <td>12</td>\n",
       "      <td>2018</td>\n",
       "      <td>первый</td>\n",
       "      <td>18.603</td>\n",
       "    </tr>\n",
       "    <tr>\n",
       "      <th>2</th>\n",
       "      <td>10</td>\n",
       "      <td>5196000</td>\n",
       "      <td>56.0</td>\n",
       "      <td>2015-08-20</td>\n",
       "      <td>2</td>\n",
       "      <td>2.65</td>\n",
       "      <td>5</td>\n",
       "      <td>34.3</td>\n",
       "      <td>4</td>\n",
       "      <td>False</td>\n",
       "      <td>...</td>\n",
       "      <td>90.0</td>\n",
       "      <td>2.0</td>\n",
       "      <td>574.0</td>\n",
       "      <td>558.0</td>\n",
       "      <td>92785.71</td>\n",
       "      <td>3</td>\n",
       "      <td>8</td>\n",
       "      <td>2015</td>\n",
       "      <td>другой</td>\n",
       "      <td>13.933</td>\n",
       "    </tr>\n",
       "    <tr>\n",
       "      <th>3</th>\n",
       "      <td>0</td>\n",
       "      <td>64900000</td>\n",
       "      <td>159.0</td>\n",
       "      <td>2015-07-24</td>\n",
       "      <td>3</td>\n",
       "      <td>2.65</td>\n",
       "      <td>14</td>\n",
       "      <td>NaN</td>\n",
       "      <td>9</td>\n",
       "      <td>False</td>\n",
       "      <td>...</td>\n",
       "      <td>84.0</td>\n",
       "      <td>3.0</td>\n",
       "      <td>234.0</td>\n",
       "      <td>424.0</td>\n",
       "      <td>408176.10</td>\n",
       "      <td>4</td>\n",
       "      <td>7</td>\n",
       "      <td>2015</td>\n",
       "      <td>другой</td>\n",
       "      <td>6.800</td>\n",
       "    </tr>\n",
       "    <tr>\n",
       "      <th>4</th>\n",
       "      <td>2</td>\n",
       "      <td>10000000</td>\n",
       "      <td>100.0</td>\n",
       "      <td>2018-06-19</td>\n",
       "      <td>2</td>\n",
       "      <td>3.03</td>\n",
       "      <td>14</td>\n",
       "      <td>32.0</td>\n",
       "      <td>13</td>\n",
       "      <td>False</td>\n",
       "      <td>...</td>\n",
       "      <td>112.0</td>\n",
       "      <td>1.0</td>\n",
       "      <td>48.0</td>\n",
       "      <td>121.0</td>\n",
       "      <td>100000.00</td>\n",
       "      <td>1</td>\n",
       "      <td>6</td>\n",
       "      <td>2018</td>\n",
       "      <td>другой</td>\n",
       "      <td>8.098</td>\n",
       "    </tr>\n",
       "  </tbody>\n",
       "</table>\n",
       "<p>5 rows × 28 columns</p>\n",
       "</div>"
      ],
      "text/plain": [
       "   total_images  last_price  total_area first_day_exposition  rooms  \\\n",
       "0            20    13000000       108.0           2019-03-07      3   \n",
       "1             7     3350000        40.4           2018-12-04      1   \n",
       "2            10     5196000        56.0           2015-08-20      2   \n",
       "3             0    64900000       159.0           2015-07-24      3   \n",
       "4             2    10000000       100.0           2018-06-19      2   \n",
       "\n",
       "   ceiling_height  floors_total  living_area  floor  is_apartment  ...  \\\n",
       "0            2.70            16         51.0      8         False  ...   \n",
       "1            2.65            11         18.6      1         False  ...   \n",
       "2            2.65             5         34.3      4         False  ...   \n",
       "3            2.65            14          NaN      9         False  ...   \n",
       "4            3.03            14         32.0     13         False  ...   \n",
       "\n",
       "   parks_nearest  ponds_around_3000  ponds_nearest  days_exposition  \\\n",
       "0          482.0                2.0          755.0              NaN   \n",
       "1            NaN                0.0            NaN             81.0   \n",
       "2           90.0                2.0          574.0            558.0   \n",
       "3           84.0                3.0          234.0            424.0   \n",
       "4          112.0                1.0           48.0            121.0   \n",
       "\n",
       "  price_of_one_square  day_of_week  month  year  type_floor  \\\n",
       "0           120370.37            3      3  2019      другой   \n",
       "1            82920.79            1     12  2018      первый   \n",
       "2            92785.71            3      8  2015      другой   \n",
       "3           408176.10            4      7  2015      другой   \n",
       "4           100000.00            1      6  2018      другой   \n",
       "\n",
       "   distance_city_center_km  \n",
       "0                   16.028  \n",
       "1                   18.603  \n",
       "2                   13.933  \n",
       "3                    6.800  \n",
       "4                    8.098  \n",
       "\n",
       "[5 rows x 28 columns]"
      ]
     },
     "execution_count": 23,
     "metadata": {},
     "output_type": "execute_result"
    }
   ],
   "source": [
    "data.head()"
   ]
  },
  {
   "cell_type": "markdown",
   "metadata": {},
   "source": [
    "**Вывод:** Добавили нужные столбцы, сверили. Данные готовы для последующего анализа."
   ]
  },
  {
   "cell_type": "markdown",
   "metadata": {},
   "source": [
    "## Проведите исследовательский анализ данных"
   ]
  },
  {
   "cell_type": "markdown",
   "metadata": {},
   "source": [
    "### Изучите перечисленные параметры объектов и постройте отдельные гистограммы для каждого из этих параметров. \n",
    "1. Список параметров:\n",
    "2. общая площадь;\n",
    "3. жилая площадь;\n",
    "4. площадь кухни;\n",
    "5. цена объекта;\n",
    "6. количество комнат;\n",
    "7. высота потолков;\n",
    "8. тип этажа квартиры («первый», «последний», «другой»);\n",
    "9. общее количество этажей в доме;\n",
    "10. расстояние до центра города в метрах;\n",
    "11. расстояние до ближайшего парка\n"
   ]
  },
  {
   "cell_type": "code",
   "execution_count": 24,
   "metadata": {},
   "outputs": [
    {
     "data": {
      "text/plain": [
       "count    23699.000000\n",
       "mean        60.348651\n",
       "std         35.654083\n",
       "min         12.000000\n",
       "25%         40.000000\n",
       "50%         52.000000\n",
       "75%         69.900000\n",
       "max        900.000000\n",
       "Name: total_area, dtype: float64"
      ]
     },
     "execution_count": 24,
     "metadata": {},
     "output_type": "execute_result"
    }
   ],
   "source": [
    "data['total_area'].describe()"
   ]
  },
  {
   "cell_type": "code",
   "execution_count": 25,
   "metadata": {},
   "outputs": [
    {
     "data": {
      "image/png": "[encoded data removed]",
      "text/plain": [
       "<Figure size 432x288 with 1 Axes>"
      ]
     },
     "metadata": {
      "needs_background": "light"
     },
     "output_type": "display_data"
    }
   ],
   "source": [
    "plt.hist(data['total_area'], bins=100, range=(0, 100))\n",
    "plt.xlabel('Квадратные метры')\n",
    "plt.ylabel('Количество квартир')\n",
    "plt.show() "
   ]
  },
  {
   "cell_type": "markdown",
   "metadata": {},
   "source": [
    "**Вывод:** В среднем общая площадь составляет 40-60 кв.м. При общей площади от 140 кв.м. количество минимальное, данные в графике отбросили.\n",
    "\n",
    "Средняя площадь - 60 кв.м. Медиана - 52 кв.м. Максимальное значение - 900, похоже на выброс."
   ]
  },
  {
   "cell_type": "code",
   "execution_count": 26,
   "metadata": {},
   "outputs": [
    {
     "data": {
      "text/plain": [
       "count    21796.000000\n",
       "mean        34.457852\n",
       "std         22.030445\n",
       "min          2.000000\n",
       "25%         18.600000\n",
       "50%         30.000000\n",
       "75%         42.300000\n",
       "max        409.700000\n",
       "Name: living_area, dtype: float64"
      ]
     },
     "execution_count": 26,
     "metadata": {},
     "output_type": "execute_result"
    }
   ],
   "source": [
    "data['living_area'].describe()"
   ]
  },
  {
   "cell_type": "code",
   "execution_count": 27,
   "metadata": {},
   "outputs": [
    {
     "data": {
      "image/png": "[encoded data removed]",
      "text/plain": [
       "<Figure size 432x288 with 1 Axes>"
      ]
     },
     "metadata": {
      "needs_background": "light"
     },
     "output_type": "display_data"
    }
   ],
   "source": [
    "plt.hist(data['living_area'], bins=100, range=(0, 60))\n",
    "plt.xlabel('Квадратные метры')\n",
    "plt.ylabel('Количество квартир')\n",
    "plt.show() "
   ]
  },
  {
   "cell_type": "markdown",
   "metadata": {},
   "source": [
    "**Вывод:** В среднем жилая площадь составляет до 60 кв.м. Далее значения минимальны. Можно отметить выброс при жилой площади около 25 кв.м.\n",
    "\n",
    "Среднее значение 34,4 кв.м., медиана - 30 кв.м. Значения приближены."
   ]
  },
  {
   "cell_type": "code",
   "execution_count": 28,
   "metadata": {},
   "outputs": [
    {
     "data": {
      "text/plain": [
       "count    23699.000000\n",
       "mean         9.553814\n",
       "std          6.420973\n",
       "min          0.000000\n",
       "25%          6.300000\n",
       "50%          9.000000\n",
       "75%         11.440000\n",
       "max        112.000000\n",
       "Name: kitchen_area, dtype: float64"
      ]
     },
     "execution_count": 28,
     "metadata": {},
     "output_type": "execute_result"
    }
   ],
   "source": [
    "data['kitchen_area'].describe()"
   ]
  },
  {
   "cell_type": "code",
   "execution_count": 29,
   "metadata": {},
   "outputs": [
    {
     "data": {
      "image/png": "[encoded data removed]",
      "text/plain": [
       "<Figure size 432x288 with 1 Axes>"
      ]
     },
     "metadata": {
      "needs_background": "light"
     },
     "output_type": "display_data"
    }
   ],
   "source": [
    "plt.hist(data['kitchen_area'], bins=100, range=(0, 20))\n",
    "plt.xlabel('Квадратные метры')\n",
    "plt.ylabel('Количество квартир')\n",
    "plt.show() "
   ]
  },
  {
   "cell_type": "markdown",
   "metadata": {},
   "source": [
    "**Вывод:** В среднем площадь кухни составляет 5-15 кв.м. Можно отметить выброс в значении 0. О нем писали ранее - скорее всего кухня отсутсвует (студия). Больше 20 кв.м значений практически нет. Скачки на точных значениях, такие как 6, 7, 8, 10 и т.д.\n",
    "\n",
    "Среднее значение 9.5, медиана - 9. Практически равны."
   ]
  },
  {
   "cell_type": "code",
   "execution_count": 30,
   "metadata": {},
   "outputs": [
    {
     "data": {
      "text/plain": [
       "count    2.369900e+04\n",
       "mean     6.541549e+06\n",
       "std      1.088701e+07\n",
       "min      1.219000e+04\n",
       "25%      3.400000e+06\n",
       "50%      4.650000e+06\n",
       "75%      6.800000e+06\n",
       "max      7.630000e+08\n",
       "Name: last_price, dtype: float64"
      ]
     },
     "execution_count": 30,
     "metadata": {},
     "output_type": "execute_result"
    }
   ],
   "source": [
    "data['last_price'].describe()"
   ]
  },
  {
   "cell_type": "code",
   "execution_count": 31,
   "metadata": {},
   "outputs": [
    {
     "data": {
      "image/png": "[encoded data removed]",
      "text/plain": [
       "<Figure size 432x288 with 1 Axes>"
      ]
     },
     "metadata": {
      "needs_background": "light"
     },
     "output_type": "display_data"
    }
   ],
   "source": [
    "plt.hist(data['last_price'], bins=100, range=(1.219000e+04,9.00000e+06))\n",
    "plt.title('Цена объекта')\n",
    "plt.xlabel('Цена в млн. руб.')\n",
    "plt.ylabel('Количество квартир')\n",
    "plt.show()"
   ]
  },
  {
   "cell_type": "markdown",
   "metadata": {},
   "source": [
    "**Вывод:** Среднее значение стоимости объекта около 6,5 млн. Медиана - 4,65. Возможно есть необасновано завышенные цены за квартиры, либо же наоборот."
   ]
  },
  {
   "cell_type": "code",
   "execution_count": 32,
   "metadata": {},
   "outputs": [
    {
     "data": {
      "text/plain": [
       "count    23699.000000\n",
       "mean         2.070636\n",
       "std          1.078405\n",
       "min          0.000000\n",
       "25%          1.000000\n",
       "50%          2.000000\n",
       "75%          3.000000\n",
       "max         19.000000\n",
       "Name: rooms, dtype: float64"
      ]
     },
     "execution_count": 32,
     "metadata": {},
     "output_type": "execute_result"
    }
   ],
   "source": [
    "data['rooms'].describe()"
   ]
  },
  {
   "cell_type": "code",
   "execution_count": 53,
   "metadata": {},
   "outputs": [
    {
     "data": {
      "image/png": "[encoded data removed]",
      "text/plain": [
       "<Figure size 432x288 with 1 Axes>"
      ]
     },
     "metadata": {
      "needs_background": "light"
     },
     "output_type": "display_data"
    }
   ],
   "source": [
    "plt.hist(data['rooms'], bins=100, range=(0, 8))\n",
    "plt.title('Количество комнат')\n",
    "plt.xlabel('Количество комнат')\n",
    "plt.ylabel('Количество квартир')\n",
    "plt.show() "
   ]
  },
  {
   "cell_type": "markdown",
   "metadata": {},
   "source": [
    "**Вывод:** Среднее значение количества комнат - 2. Медиана также 2. Большая часть продаваемых квартир - 1,2 или 3-х комнатные."
   ]
  },
  {
   "cell_type": "code",
   "execution_count": 34,
   "metadata": {},
   "outputs": [
    {
     "data": {
      "text/plain": [
       "count    23699.000000\n",
       "mean         2.724358\n",
       "std          0.988298\n",
       "min          1.000000\n",
       "25%          2.600000\n",
       "50%          2.650000\n",
       "75%          2.700000\n",
       "max        100.000000\n",
       "Name: ceiling_height, dtype: float64"
      ]
     },
     "execution_count": 34,
     "metadata": {},
     "output_type": "execute_result"
    }
   ],
   "source": [
    "data['ceiling_height'].describe()"
   ]
  },
  {
   "cell_type": "code",
   "execution_count": 54,
   "metadata": {},
   "outputs": [
    {
     "data": {
      "image/png": "[encoded data removed]",
      "text/plain": [
       "<Figure size 432x288 with 1 Axes>"
      ]
     },
     "metadata": {
      "needs_background": "light"
     },
     "output_type": "display_data"
    }
   ],
   "source": [
    "plt.hist(data['ceiling_height'], bins=100, range=(2, 3.5))\n",
    "plt.title('Высота потолков')\n",
    "plt.xlabel('Высота потолков')\n",
    "plt.ylabel('Количество квартир')\n",
    "plt.show() "
   ]
  },
  {
   "cell_type": "markdown",
   "metadata": {},
   "source": [
    "**Вывод:** Среднее значение высоты потолков - 2.7. Медиана - 2.65. Присутствуют выбросы, но небольшие."
   ]
  },
  {
   "cell_type": "code",
   "execution_count": 55,
   "metadata": {},
   "outputs": [
    {
     "data": {
      "image/png": "[encoded data removed]",
      "text/plain": [
       "<Figure size 576x576 with 1 Axes>"
      ]
     },
     "metadata": {},
     "output_type": "display_data"
    }
   ],
   "source": [
    "data_type_floor = (\n",
    "    data\n",
    "    .pivot_table(index='type_floor', values='last_price', aggfunc='count')\n",
    ")\n",
    "data_type_floor.plot(kind='pie', figsize=(8, 8), y='last_price')\n",
    "plt.title('Этаж')\n",
    "plt.xlabel('Этаж')\n",
    "plt.ylabel('Количество квартир')\n",
    "plt.show() "
   ]
  },
  {
   "cell_type": "code",
   "execution_count": null,
   "metadata": {},
   "outputs": [],
   "source": []
  },
  {
   "cell_type": "markdown",
   "metadata": {},
   "source": [
    "**Вывод:** Большая часть квартир не относится к первому или последнему этажу. "
   ]
  },
  {
   "cell_type": "code",
   "execution_count": 61,
   "metadata": {},
   "outputs": [
    {
     "data": {
      "text/plain": [
       "count    23699.000000\n",
       "mean        10.667750\n",
       "std          6.585961\n",
       "min          1.000000\n",
       "25%          5.000000\n",
       "50%          9.000000\n",
       "75%         16.000000\n",
       "max         60.000000\n",
       "Name: floors_total, dtype: float64"
      ]
     },
     "execution_count": 61,
     "metadata": {},
     "output_type": "execute_result"
    }
   ],
   "source": [
    "data['floors_total'].describe()"
   ]
  },
  {
   "cell_type": "code",
   "execution_count": 62,
   "metadata": {},
   "outputs": [
    {
     "data": {
      "image/png": "[encoded data removed]",
      "text/plain": [
       "<Figure size 432x288 with 1 Axes>"
      ]
     },
     "metadata": {
      "needs_background": "light"
     },
     "output_type": "display_data"
    }
   ],
   "source": [
    "plt.hist(data['floors_total'], bins=50, range=(0, 30))\n",
    "plt.title('Высота потолков')\n",
    "plt.xlabel('Высота потолков')\n",
    "plt.ylabel('Количество квартир')\n",
    "plt.show() "
   ]
  },
  {
   "cell_type": "markdown",
   "metadata": {},
   "source": [
    "**Вывод:** Среднее значение всего этажей составляет 10.6, медиана - 9. Большая часть домой с 5 этажами в данных."
   ]
  },
  {
   "cell_type": "code",
   "execution_count": 64,
   "metadata": {},
   "outputs": [
    {
     "data": {
      "text/plain": [
       "count    18180.000000\n",
       "mean     14191.277833\n",
       "std       8608.386210\n",
       "min        181.000000\n",
       "25%       9238.000000\n",
       "50%      13098.500000\n",
       "75%      16293.000000\n",
       "max      65968.000000\n",
       "Name: city_centers_nearest, dtype: float64"
      ]
     },
     "execution_count": 64,
     "metadata": {},
     "output_type": "execute_result"
    }
   ],
   "source": [
    "data['city_centers_nearest'].describe()"
   ]
  },
  {
   "cell_type": "code",
   "execution_count": 67,
   "metadata": {},
   "outputs": [
    {
     "data": {
      "image/png": "[encoded data removed]",
      "text/plain": [
       "<Figure size 432x288 with 1 Axes>"
      ]
     },
     "metadata": {
      "needs_background": "light"
     },
     "output_type": "display_data"
    }
   ],
   "source": [
    "plt.hist(data['city_centers_nearest'], bins=100)\n",
    "plt.title('Расстояние до центра города в метрах')\n",
    "plt.xlabel('Расстояние до центра города в метрах')\n",
    "plt.ylabel('Количество квартир')\n",
    "plt.show() "
   ]
  },
  {
   "cell_type": "markdown",
   "metadata": {},
   "source": [
    "**Вывод:** Среднее значение - 14191 метров, медиана - 13098. Большая часть недвижимости находится в примерно 15000 метрах от центра. Небольшое количество находится достаточно далеко от 20000 метров до центра города."
   ]
  },
  {
   "cell_type": "code",
   "execution_count": 69,
   "metadata": {},
   "outputs": [
    {
     "data": {
      "text/plain": [
       "count    8079.000000\n",
       "mean      490.804555\n",
       "std       342.317995\n",
       "min         1.000000\n",
       "25%       288.000000\n",
       "50%       455.000000\n",
       "75%       612.000000\n",
       "max      3190.000000\n",
       "Name: parks_nearest, dtype: float64"
      ]
     },
     "execution_count": 69,
     "metadata": {},
     "output_type": "execute_result"
    }
   ],
   "source": [
    "data['parks_nearest'].describe()"
   ]
  },
  {
   "cell_type": "code",
   "execution_count": 71,
   "metadata": {},
   "outputs": [
    {
     "data": {
      "image/png": "[encoded data removed]",
      "text/plain": [
       "<Figure size 432x288 with 1 Axes>"
      ]
     },
     "metadata": {
      "needs_background": "light"
     },
     "output_type": "display_data"
    }
   ],
   "source": [
    "plt.hist(data['parks_nearest'], bins=100, range=(0, 1500))\n",
    "plt.title('Расстояние до ближайшего парка')\n",
    "plt.xlabel('Расстояние до ближайшего парка')\n",
    "plt.ylabel('Количество квартир')\n",
    "plt.show() "
   ]
  },
  {
   "cell_type": "markdown",
   "metadata": {},
   "source": [
    "**Вывод:** Можно отметить, что практически от каждой недвижимости ближайший парк находится достаточно рядом. Среднее значение - 490 метров, медиана - 455 метров. Значения очень близки. "
   ]
  },
  {
   "cell_type": "markdown",
   "metadata": {},
   "source": [
    "### Изучите, как быстро продавались квартиры"
   ]
  },
  {
   "cell_type": "code",
   "execution_count": 72,
   "metadata": {},
   "outputs": [
    {
     "data": {
      "text/plain": [
       "count    20518.000000\n",
       "mean       180.888634\n",
       "std        219.727988\n",
       "min          1.000000\n",
       "25%         45.000000\n",
       "50%         95.000000\n",
       "75%        232.000000\n",
       "max       1580.000000\n",
       "Name: days_exposition, dtype: float64"
      ]
     },
     "execution_count": 72,
     "metadata": {},
     "output_type": "execute_result"
    }
   ],
   "source": [
    "data['days_exposition'].describe()"
   ]
  },
  {
   "cell_type": "code",
   "execution_count": 74,
   "metadata": {},
   "outputs": [
    {
     "data": {
      "image/png": "[encoded data removed]",
      "text/plain": [
       "<Figure size 432x288 with 1 Axes>"
      ]
     },
     "metadata": {
      "needs_background": "light"
     },
     "output_type": "display_data"
    }
   ],
   "source": [
    "plt.hist(data['days_exposition'], bins=100, range=(0, 1500))\n",
    "plt.title('Как быстро продавались квартиры')\n",
    "plt.xlabel('Дни')\n",
    "plt.ylabel('Количество квартир')\n",
    "plt.show() "
   ]
  },
  {
   "cell_type": "markdown",
   "metadata": {},
   "source": [
    "**Вывод:** Среднее значение 180 дней. Медиана - 95 дней. Разница большая. Можно отметить по графику, что большая часть квартир продается до примернео 150 дней. Остальные - достаточно долго продаются. Есть объявления, которым больше года (возможно уже просто неактуальные). Третий квартиль 232 дня. Остальные можно считать выбросами."
   ]
  },
  {
   "cell_type": "markdown",
   "metadata": {},
   "source": [
    "### Определите факторы, которые больше всего влияют на общую (полную) стоимость объекта"
   ]
  },
  {
   "cell_type": "code",
   "execution_count": 99,
   "metadata": {},
   "outputs": [
    {
     "data": {
      "image/png": "[encoded data removed]",
      "text/plain": [
       "<Figure size 432x288 with 1 Axes>"
      ]
     },
     "metadata": {
      "needs_background": "light"
     },
     "output_type": "display_data"
    }
   ],
   "source": [
    "data.plot(x='total_area', y='last_price', kind='scatter', alpha=0.3) \n",
    "plt.title('Зависимость цены от общей площади')\n",
    "plt.xlabel('Площадь')\n",
    "plt.ylabel('Цена')\n",
    "plt.show() "
   ]
  },
  {
   "cell_type": "code",
   "execution_count": 97,
   "metadata": {},
   "outputs": [
    {
     "data": {
      "text/plain": [
       "0.6536750579657242"
      ]
     },
     "execution_count": 97,
     "metadata": {},
     "output_type": "execute_result"
    }
   ],
   "source": [
    "data['total_area'].corr(data['last_price'])"
   ]
  },
  {
   "cell_type": "markdown",
   "metadata": {},
   "source": [
    "**Вывод:** Корреляция составляет 0.65. Можно согласиться, что некоторая зависимость есть. Чем больше общая площадь, тем выше стоимость объекта."
   ]
  },
  {
   "cell_type": "code",
   "execution_count": 135,
   "metadata": {},
   "outputs": [
    {
     "data": {
      "image/png": "[encoded data removed]",
      "text/plain": [
       "<Figure size 432x288 with 1 Axes>"
      ]
     },
     "metadata": {
      "needs_background": "light"
     },
     "output_type": "display_data"
    }
   ],
   "source": [
    "data.plot(x='living_area', y='last_price', kind='scatter', alpha=0.3) \n",
    "plt.title('Зависимость цены от жилой площади')\n",
    "plt.xlabel('Площадь')\n",
    "plt.ylabel('Цена')\n",
    "plt.xlim(0, 250)\n",
    "plt.show() "
   ]
  },
  {
   "cell_type": "code",
   "execution_count": 103,
   "metadata": {},
   "outputs": [
    {
     "data": {
      "text/plain": [
       "0.5664915336952651"
      ]
     },
     "execution_count": 103,
     "metadata": {},
     "output_type": "execute_result"
    }
   ],
   "source": [
    "data['living_area'].corr(data['last_price'])"
   ]
  },
  {
   "cell_type": "markdown",
   "metadata": {},
   "source": [
    "**Вывод:** Корреляция составляет 0.57. Можно согласиться, что некоторая зависимость есть. Чем больше жилая площадь, тем выше стоимость объекта."
   ]
  },
  {
   "cell_type": "code",
   "execution_count": 136,
   "metadata": {},
   "outputs": [
    {
     "data": {
      "image/png": "[encoded data removed]",
      "text/plain": [
       "<Figure size 720x288 with 1 Axes>"
      ]
     },
     "metadata": {
      "needs_background": "light"
     },
     "output_type": "display_data"
    }
   ],
   "source": [
    "data.plot(x='kitchen_area', y='last_price', kind='scatter', alpha=0.3, figsize=(10, 4)) \n",
    "plt.title('Зависимость цены от площади кухни')\n",
    "plt.xlabel('Площадь')\n",
    "plt.ylabel('Цена')\n",
    "plt.xlim(0, 60)\n",
    "plt.show() "
   ]
  },
  {
   "cell_type": "code",
   "execution_count": 111,
   "metadata": {},
   "outputs": [
    {
     "data": {
      "text/plain": [
       "0.3864437841938422"
      ]
     },
     "execution_count": 111,
     "metadata": {},
     "output_type": "execute_result"
    }
   ],
   "source": [
    "data['kitchen_area'].corr(data['last_price'])"
   ]
  },
  {
   "cell_type": "markdown",
   "metadata": {},
   "source": [
    "**Вывод:** Корреляция составляет 0.38. Близка к нулю. Зависимости практически нет между стоимостью объекта и площадью кухни."
   ]
  },
  {
   "cell_type": "code",
   "execution_count": 177,
   "metadata": {},
   "outputs": [
    {
     "data": {
      "image/png": "[encoded data removed]",
      "text/plain": [
       "<Figure size 576x576 with 1 Axes>"
      ]
     },
     "metadata": {
      "needs_background": "light"
     },
     "output_type": "display_data"
    }
   ],
   "source": [
    "data_rooms = (\n",
    "    data\n",
    "    .pivot_table(index='rooms', values='last_price')\n",
    ")\n",
    "data_rooms.plot(figsize=(8, 8), y='last_price', style='o-')\n",
    "plt.title('Зависимость цены от количества комнат')\n",
    "plt.xlabel('Количество комнат')\n",
    "plt.ylabel('Цена')\n",
    "plt.xlim(0, 7)\n",
    "plt.show() "
   ]
  },
  {
   "cell_type": "code",
   "execution_count": 178,
   "metadata": {},
   "outputs": [
    {
     "data": {
      "text/plain": [
       "0.3633428499648948"
      ]
     },
     "execution_count": 178,
     "metadata": {},
     "output_type": "execute_result"
    }
   ],
   "source": [
    "data['rooms'].corr(data['last_price'])"
   ]
  },
  {
   "cell_type": "markdown",
   "metadata": {},
   "source": [
    "**Вывод:** Корреляция составляет 0,36. Некоторая зависимость присутствует."
   ]
  },
  {
   "cell_type": "code",
   "execution_count": 179,
   "metadata": {},
   "outputs": [
    {
     "data": {
      "image/png": "[encoded data removed]",
      "text/plain": [
       "<Figure size 576x576 with 1 Axes>"
      ]
     },
     "metadata": {
      "needs_background": "light"
     },
     "output_type": "display_data"
    }
   ],
   "source": [
    "data_type_floor = (\n",
    "    data\n",
    "    .pivot_table(index='type_floor', values='last_price')\n",
    ")\n",
    "data_type_floor.plot(figsize=(8, 8), y='last_price', style='o-')\n",
    "plt.title('Зависимость цены от этажа')\n",
    "plt.xlabel('Этаж')\n",
    "plt.ylabel('Цена')\n",
    "plt.xlim(0, 3)\n",
    "plt.show() "
   ]
  },
  {
   "cell_type": "code",
   "execution_count": 180,
   "metadata": {},
   "outputs": [
    {
     "data": {
      "text/plain": [
       "0.026575643284470797"
      ]
     },
     "execution_count": 180,
     "metadata": {},
     "output_type": "execute_result"
    }
   ],
   "source": [
    "data['floor'].corr(data['last_price'])"
   ]
  },
  {
   "cell_type": "markdown",
   "metadata": {},
   "source": [
    "**Вывод:** Закономерность присутствует. У квартир на первом этаже наблюдается наименьшая стоимость. Корреляция же практитчески равна 0 (при рассмотрении этажа) - 0,026."
   ]
  },
  {
   "cell_type": "code",
   "execution_count": 181,
   "metadata": {},
   "outputs": [
    {
     "data": {
      "image/png": "[encoded data removed]",
      "text/plain": [
       "<Figure size 576x576 with 1 Axes>"
      ]
     },
     "metadata": {
      "needs_background": "light"
     },
     "output_type": "display_data"
    }
   ],
   "source": [
    "data_day_of_week = (\n",
    "    data\n",
    "    .pivot_table(index='day_of_week', values='last_price')\n",
    ")\n",
    "data_day_of_week.plot(figsize=(8, 8), y='last_price', style='o-')\n",
    "plt.title('Зависимость цены от дня публикации')\n",
    "plt.xlabel('День')\n",
    "plt.ylabel('Цена')\n",
    "plt.xlim(0, 7)\n",
    "plt.show() "
   ]
  },
  {
   "cell_type": "code",
   "execution_count": 158,
   "metadata": {},
   "outputs": [
    {
     "data": {
      "text/plain": [
       "0.0015501452176215405"
      ]
     },
     "execution_count": 158,
     "metadata": {},
     "output_type": "execute_result"
    }
   ],
   "source": [
    "data['day_of_week'].corr(data['last_price'])"
   ]
  },
  {
   "cell_type": "markdown",
   "metadata": {},
   "source": [
    "**Вывод:** Зависимости практически не. Корреляция составляет 0.001. Можно лишь отметить по графику, что в пятницу выставляли наиболее дорогие объявления."
   ]
  },
  {
   "cell_type": "code",
   "execution_count": 191,
   "metadata": {},
   "outputs": [
    {
     "data": {
      "image/png": "[encoded data removed]",
      "text/plain": [
       "<Figure size 576x576 with 1 Axes>"
      ]
     },
     "metadata": {
      "needs_background": "light"
     },
     "output_type": "display_data"
    }
   ],
   "source": [
    "data_month = (\n",
    "    data\n",
    "    .pivot_table(index='month', values='last_price')\n",
    ")\n",
    "data_month.plot(figsize=(8, 8), y='last_price', style='o-')\n",
    "plt.title('Зависимость цены от месяца публикации')\n",
    "plt.xlabel('Месяц')\n",
    "plt.ylabel('Цена')\n",
    "plt.xlim(0, 12)\n",
    "plt.show() "
   ]
  },
  {
   "cell_type": "code",
   "execution_count": 187,
   "metadata": {},
   "outputs": [
    {
     "data": {
      "text/plain": [
       "0.0027791287507397166"
      ]
     },
     "execution_count": 187,
     "metadata": {},
     "output_type": "execute_result"
    }
   ],
   "source": [
    "data['month'].corr(data['last_price'])"
   ]
  },
  {
   "cell_type": "markdown",
   "metadata": {},
   "source": [
    "**Вывод:** Корреляция зависимости цены от месяца объявления составляет 0.002. Практически равна нулю. ПО графику можно отметить, что дорогие объявления были в конце года. Прямой зависимости нет."
   ]
  },
  {
   "cell_type": "code",
   "execution_count": 193,
   "metadata": {},
   "outputs": [
    {
     "data": {
      "image/png": "[encoded data removed]",
      "text/plain": [
       "<Figure size 576x576 with 1 Axes>"
      ]
     },
     "metadata": {
      "needs_background": "light"
     },
     "output_type": "display_data"
    }
   ],
   "source": [
    "data_year = (\n",
    "    data\n",
    "    .pivot_table(index='year', values='last_price')\n",
    ")\n",
    "data_year.plot(figsize=(8, 8), y='last_price', style='o-')\n",
    "plt.title('Зависимость цены от года публикации')\n",
    "plt.xlabel('Год')\n",
    "plt.ylabel('Цена')\n",
    "plt.show() "
   ]
  },
  {
   "cell_type": "code",
   "execution_count": 189,
   "metadata": {},
   "outputs": [
    {
     "data": {
      "text/plain": [
       "-0.043089036199508615"
      ]
     },
     "execution_count": 189,
     "metadata": {},
     "output_type": "execute_result"
    }
   ],
   "source": [
    "data['year'].corr(data['last_price'])"
   ]
  },
  {
   "cell_type": "markdown",
   "metadata": {},
   "source": [
    "**Вывод:** Корреляция зависимости года выставления объявления и стоимости составляет -0.04. Можно сказать, что чем новее объявление тем возможно ниже стоимость. Может быть связано с каким-либо экономическим явлением."
   ]
  },
  {
   "cell_type": "markdown",
   "metadata": {},
   "source": [
    "### Посчитайте среднюю цену одного квадратного метра в 10 населённых пунктах с наибольшим числом объявлений — постройте сводную таблицу с количеством объявлений и средней ценой квадратного метра для этих населенных пунктов. Выделите населённые пункты с самой высокой и низкой стоимостью квадратного метра."
   ]
  },
  {
   "cell_type": "code",
   "execution_count": 235,
   "metadata": {},
   "outputs": [
    {
     "data": {
      "text/html": [
       "<div>\n",
       "<style scoped>\n",
       "    .dataframe tbody tr th:only-of-type {\n",
       "        vertical-align: middle;\n",
       "    }\n",
       "\n",
       "    .dataframe tbody tr th {\n",
       "        vertical-align: top;\n",
       "    }\n",
       "\n",
       "    .dataframe thead th {\n",
       "        text-align: right;\n",
       "    }\n",
       "</style>\n",
       "<table border=\"1\" class=\"dataframe\">\n",
       "  <thead>\n",
       "    <tr style=\"text-align: right;\">\n",
       "      <th></th>\n",
       "      <th>last_price</th>\n",
       "    </tr>\n",
       "    <tr>\n",
       "      <th>locality_name</th>\n",
       "      <th></th>\n",
       "    </tr>\n",
       "  </thead>\n",
       "  <tbody>\n",
       "    <tr>\n",
       "      <th>санкт-петербург</th>\n",
       "      <td>15721</td>\n",
       "    </tr>\n",
       "    <tr>\n",
       "      <th>посёлок мурино</th>\n",
       "      <td>590</td>\n",
       "    </tr>\n",
       "    <tr>\n",
       "      <th>кудрово</th>\n",
       "      <td>472</td>\n",
       "    </tr>\n",
       "    <tr>\n",
       "      <th>посёлок шушары</th>\n",
       "      <td>440</td>\n",
       "    </tr>\n",
       "    <tr>\n",
       "      <th>всеволожск</th>\n",
       "      <td>398</td>\n",
       "    </tr>\n",
       "    <tr>\n",
       "      <th>пушкин</th>\n",
       "      <td>369</td>\n",
       "    </tr>\n",
       "    <tr>\n",
       "      <th>колпино</th>\n",
       "      <td>338</td>\n",
       "    </tr>\n",
       "    <tr>\n",
       "      <th>посёлок парголово</th>\n",
       "      <td>327</td>\n",
       "    </tr>\n",
       "    <tr>\n",
       "      <th>гатчина</th>\n",
       "      <td>307</td>\n",
       "    </tr>\n",
       "    <tr>\n",
       "      <th>выборг</th>\n",
       "      <td>237</td>\n",
       "    </tr>\n",
       "  </tbody>\n",
       "</table>\n",
       "</div>"
      ],
      "text/plain": [
       "                   last_price\n",
       "locality_name                \n",
       "санкт-петербург         15721\n",
       "посёлок мурино            590\n",
       "кудрово                   472\n",
       "посёлок шушары            440\n",
       "всеволожск                398\n",
       "пушкин                    369\n",
       "колпино                   338\n",
       "посёлок парголово         327\n",
       "гатчина                   307\n",
       "выборг                    237"
      ]
     },
     "execution_count": 235,
     "metadata": {},
     "output_type": "execute_result"
    }
   ],
   "source": [
    "data_top = data.pivot_table(index='locality_name', values='last_price', aggfunc='count')\n",
    "data_top = data_top.sort_values('last_price', ascending=False).head(10)\n",
    "data_top"
   ]
  },
  {
   "cell_type": "code",
   "execution_count": 239,
   "metadata": {},
   "outputs": [
    {
     "data": {
      "text/html": [
       "<div>\n",
       "<style scoped>\n",
       "    .dataframe tbody tr th:only-of-type {\n",
       "        vertical-align: middle;\n",
       "    }\n",
       "\n",
       "    .dataframe tbody tr th {\n",
       "        vertical-align: top;\n",
       "    }\n",
       "\n",
       "    .dataframe thead th {\n",
       "        text-align: right;\n",
       "    }\n",
       "</style>\n",
       "<table border=\"1\" class=\"dataframe\">\n",
       "  <thead>\n",
       "    <tr style=\"text-align: right;\">\n",
       "      <th></th>\n",
       "      <th>last_price</th>\n",
       "      <th>price_of_one_square</th>\n",
       "    </tr>\n",
       "    <tr>\n",
       "      <th>locality_name</th>\n",
       "      <th></th>\n",
       "      <th></th>\n",
       "    </tr>\n",
       "  </thead>\n",
       "  <tbody>\n",
       "    <tr>\n",
       "      <th>санкт-петербург</th>\n",
       "      <td>15721</td>\n",
       "      <td>114849.008793</td>\n",
       "    </tr>\n",
       "    <tr>\n",
       "      <th>пушкин</th>\n",
       "      <td>369</td>\n",
       "      <td>103125.819377</td>\n",
       "    </tr>\n",
       "    <tr>\n",
       "      <th>кудрово</th>\n",
       "      <td>472</td>\n",
       "      <td>95324.930508</td>\n",
       "    </tr>\n",
       "    <tr>\n",
       "      <th>посёлок парголово</th>\n",
       "      <td>327</td>\n",
       "      <td>90175.913089</td>\n",
       "    </tr>\n",
       "    <tr>\n",
       "      <th>посёлок мурино</th>\n",
       "      <td>590</td>\n",
       "      <td>86087.512017</td>\n",
       "    </tr>\n",
       "    <tr>\n",
       "      <th>посёлок шушары</th>\n",
       "      <td>440</td>\n",
       "      <td>78677.364318</td>\n",
       "    </tr>\n",
       "    <tr>\n",
       "      <th>колпино</th>\n",
       "      <td>338</td>\n",
       "      <td>75424.579112</td>\n",
       "    </tr>\n",
       "    <tr>\n",
       "      <th>гатчина</th>\n",
       "      <td>307</td>\n",
       "      <td>68746.146515</td>\n",
       "    </tr>\n",
       "    <tr>\n",
       "      <th>всеволожск</th>\n",
       "      <td>398</td>\n",
       "      <td>68654.473970</td>\n",
       "    </tr>\n",
       "    <tr>\n",
       "      <th>выборг</th>\n",
       "      <td>237</td>\n",
       "      <td>58141.909325</td>\n",
       "    </tr>\n",
       "  </tbody>\n",
       "</table>\n",
       "</div>"
      ],
      "text/plain": [
       "                   last_price  price_of_one_square\n",
       "locality_name                                     \n",
       "санкт-петербург         15721        114849.008793\n",
       "пушкин                    369        103125.819377\n",
       "кудрово                   472         95324.930508\n",
       "посёлок парголово         327         90175.913089\n",
       "посёлок мурино            590         86087.512017\n",
       "посёлок шушары            440         78677.364318\n",
       "колпино                   338         75424.579112\n",
       "гатчина                   307         68746.146515\n",
       "всеволожск                398         68654.473970\n",
       "выборг                    237         58141.909325"
      ]
     },
     "execution_count": 239,
     "metadata": {},
     "output_type": "execute_result"
    }
   ],
   "source": [
    "data_top['price_of_one_square'] =  data.pivot_table(index='locality_name', values='price_of_one_square', aggfunc='mean')\n",
    "data_top = data_top.sort_values('price_of_one_square', ascending=False)\n",
    "data_top"
   ]
  },
  {
   "cell_type": "markdown",
   "metadata": {},
   "source": [
    "**Вывод:** Топ списка по количеству объявлений и стоимости 1 квадратного метра занимает Санкт-Петербург. Далее идет Пушкин и Кудрово. Наименьшая стоимость квадратного метра в Выборг - 58141."
   ]
  },
  {
   "cell_type": "markdown",
   "metadata": {},
   "source": [
    "### Выделите квартиры в Санкт-Петербурге и вычислите их среднюю стоимость на разном удалении от центра"
   ]
  },
  {
   "cell_type": "code",
   "execution_count": 267,
   "metadata": {},
   "outputs": [
    {
     "data": {
      "image/png": "[encoded data removed]",
      "text/plain": [
       "<Figure size 720x720 with 1 Axes>"
      ]
     },
     "metadata": {
      "needs_background": "light"
     },
     "output_type": "display_data"
    }
   ],
   "source": [
    "(\n",
    "    data\n",
    "    .query('locality_name == \"санкт-петербург\"')\n",
    "    .pivot_table(index='distance_city_center_km', values='last_price')\n",
    "    .plot(style='-', figsize=(10, 10))\n",
    ")\n",
    "plt.title('Зависимость цены от расстояния до Санкт_Петербурга')\n",
    "plt.ylabel('Цена')\n",
    "plt.xlabel('Расстояние в км')\n",
    "plt.show()"
   ]
  },
  {
   "cell_type": "markdown",
   "metadata": {},
   "source": [
    "**Вывод:** Можно отметить, что чем ближе квартира к центру, тем выше стоимость. И наоборот соответственно."
   ]
  },
  {
   "cell_type": "markdown",
   "metadata": {},
   "source": [
    "## Общий вывод"
   ]
  },
  {
   "cell_type": "markdown",
   "metadata": {},
   "source": [
    "1.\tЗагрузили  данные из csv-файла в датафрейм c помощью библиотеки pandas\n",
    "2.\tИзучили общую информацию о полученном датафрейме\n",
    "3.\tПостроили гистограмму для всех числовых столбцов таблицы на одном графике\n",
    "4.\tНашли и изучили пропущенные значения в столбцах\n",
    "5. Рассмотрели типы данных в каждом столбце и преобразовали, где необходимо\n",
    "6. Изучили уникальные значения в столбце с названиями и устранили неявные дубликаты\n",
    "7. Добавили в таблицу новые столбцы:цена одного квадратного метра; день недели публикации объявления; месяц публикации объявления; год публикации объявления; тип этажа квартиры; расстояние до центра города в километрах\n",
    "8. Провели исследовательский анализ данных\n",
    "9. Изучили перечисленные параметры объектов и построили отдельные гистограммы для каждого из этих параметров.\n",
    "- Список параметров:\n",
    "- общая площадь;\n",
    "- жилая площадь;\n",
    "- площадь кухни;\n",
    "- цена объекта;\n",
    "- количество комнат;\n",
    "- высота потолков;\n",
    "- тип этажа квартиры («первый», «последний», «другой»);\n",
    "- общее количество этажей в доме;\n",
    "- расстояние до центра города в метрах;\n",
    "- расстояние до ближайшего парка\n",
    "\n",
    "**Данные по квартирам:**\n",
    "\n",
    "В среднем общая площадь составляет 40-60 кв.м. При общей площади от 140 кв.м. количество минимальное, данные в графике отбросили.\n",
    "\n",
    "Средняя площадь - 60 кв.м. Медиана - 52 кв.м. Максимальное значение - 900, похоже на выброс.\n",
    "\n",
    "В среднем жилая площадь составляет до 60 кв.м. Далее значения минимальны. Можно отметить выброс при жилой площади около 25 кв.м.\n",
    "\n",
    "Среднее значение 34,4 кв.м., медиана - 30 кв.м. Значения приближены.\n",
    "\n",
    "В среднем площадь кухни составляет 5-15 кв.м. Можно отметить выброс в значении 0. О нем писали ранее - скорее всего кухня отсутсвует (студия). Больше 20 кв.м значений практически нет. Скачки на точных значениях, такие как 6, 7, 8, 10 и т.д.\n",
    "Среднее значение 9.5, медиана - 9. Практически равны.\n",
    "\n",
    "Среднее значение стоимости объекта около 6,5 млн. Медиана - 4,65. Возможно есть необасновано завышенные цены за квартиры, либо же наоборот.\n",
    "\n",
    "Среднее значение количества комнат - 2. Медиана также 2. Большая часть продаваемых квартир - 1,2 или 3-х комнатные. Среднее значение высоты потолков - 2.7. Медиана - 2.65. Присутствуют выбросы, но небольшие. \n",
    "\n",
    "Большая часть квартир не относится к первому или последнему этажу. \n",
    "\n",
    "Среднее значение всего этажей составляет 10.6, медиана - 9. Большая часть домов с 5 этажами в данных. \n",
    "\n",
    "Большая часть недвижимости находится в примерно 15000 метрах от центра. Небольшое количество находится достаточно далеко от 20000 метров до центра города. \n",
    "\n",
    "Можно отметить, что практически от каждой недвижимости ближайший парк находится достаточно рядом. Среднее значение - 490 метров, медиана - 455 метров. Значения очень близки.\n",
    "\n",
    "\n",
    "10. Изучили, как быстро продавались квартиры\n",
    "\n",
    "Среднее значение 180 дней. Медиана - 95 дней. Разница большая. Можно отметить по графику, что большая часть квартир продается до примернео 150 дней. Остальные - достаточно долго продаются. Есть объявления, которым больше года (возможно уже просто неактуальные). Третий квартиль 232 дня. Остальные можно считать выбросами.\n",
    "\n",
    "11. Посчитали среднюю цену одного квадратного метра в 10 населённых пунктах с наибольшим числом объявлений — построили сводную таблицу с количеством объявлений и средней ценой квадратного метра для этих населенных пунктов. Выделили населённые пункты с самой высокой и низкой стоимостью квадратного метра.\n",
    " \n",
    "Топ списка по количеству объявлений и стоимости 1 квадратного метра занимает Санкт-Петербург. Далее идет Пушкин и Кудрово. Наименьшая стоимость квадратного метра в Выборг - 58141.\n",
    "\n",
    "12. Выделили квартиры в Санкт-Петербурге и вычислили их среднюю стоимость на разном удалении от центра\n",
    "\n",
    "Можно отметить, что чем ближе квартира к центру, тем выше стоимость. И наоборот соответственно.\n"
   ]
  }
 ],
 "metadata": {
  "ExecuteTimeLog": [
   {
    "duration": 827,
    "start_time": "2024-04-21T10:34:53.102Z"
   },
   {
    "duration": 297,
    "start_time": "2024-04-21T10:34:54.621Z"
   },
   {
    "duration": 1796,
    "start_time": "2024-04-21T10:36:39.910Z"
   },
   {
    "duration": 1838,
    "start_time": "2024-04-21T10:36:52.294Z"
   },
   {
    "duration": 1791,
    "start_time": "2024-04-21T10:38:45.911Z"
   },
   {
    "duration": 787,
    "start_time": "2024-04-21T14:29:54.692Z"
   },
   {
    "duration": 235,
    "start_time": "2024-04-21T14:29:55.481Z"
   },
   {
    "duration": 30,
    "start_time": "2024-04-21T14:29:55.717Z"
   },
   {
    "duration": 1839,
    "start_time": "2024-04-21T14:29:55.749Z"
   },
   {
    "duration": 37,
    "start_time": "2024-04-21T14:32:50.423Z"
   },
   {
    "duration": 10,
    "start_time": "2024-04-21T14:32:59.839Z"
   },
   {
    "duration": 632,
    "start_time": "2024-04-21T14:34:23.284Z"
   },
   {
    "duration": 102,
    "start_time": "2024-04-21T14:34:23.918Z"
   },
   {
    "duration": 4,
    "start_time": "2024-04-21T14:34:24.021Z"
   },
   {
    "duration": 39,
    "start_time": "2024-04-21T14:34:24.027Z"
   },
   {
    "duration": 1961,
    "start_time": "2024-04-21T14:34:24.067Z"
   },
   {
    "duration": 15,
    "start_time": "2024-04-21T14:34:26.030Z"
   },
   {
    "duration": 663,
    "start_time": "2024-04-21T16:21:33.747Z"
   },
   {
    "duration": 111,
    "start_time": "2024-04-21T16:21:34.412Z"
   },
   {
    "duration": 7,
    "start_time": "2024-04-21T16:21:34.525Z"
   },
   {
    "duration": 43,
    "start_time": "2024-04-21T16:21:34.533Z"
   },
   {
    "duration": 1874,
    "start_time": "2024-04-21T16:21:34.578Z"
   },
   {
    "duration": 10,
    "start_time": "2024-04-21T16:21:36.453Z"
   },
   {
    "duration": 796,
    "start_time": "2024-04-21T16:21:36.465Z"
   },
   {
    "duration": 591,
    "start_time": "2024-04-21T16:31:23.820Z"
   },
   {
    "duration": 110,
    "start_time": "2024-04-21T16:31:24.413Z"
   },
   {
    "duration": 4,
    "start_time": "2024-04-21T16:31:24.525Z"
   },
   {
    "duration": 39,
    "start_time": "2024-04-21T16:31:24.531Z"
   },
   {
    "duration": 1865,
    "start_time": "2024-04-21T16:31:24.571Z"
   },
   {
    "duration": 10,
    "start_time": "2024-04-21T16:31:26.437Z"
   },
   {
    "duration": 844,
    "start_time": "2024-04-21T16:31:26.448Z"
   },
   {
    "duration": 661,
    "start_time": "2024-04-21T16:31:46.143Z"
   },
   {
    "duration": 108,
    "start_time": "2024-04-21T16:31:46.805Z"
   },
   {
    "duration": 3,
    "start_time": "2024-04-21T16:31:46.914Z"
   },
   {
    "duration": 49,
    "start_time": "2024-04-21T16:31:46.919Z"
   },
   {
    "duration": 1842,
    "start_time": "2024-04-21T16:31:46.970Z"
   },
   {
    "duration": 9,
    "start_time": "2024-04-21T16:31:48.813Z"
   },
   {
    "duration": 11,
    "start_time": "2024-04-21T16:31:48.823Z"
   },
   {
    "duration": 5,
    "start_time": "2024-04-21T16:46:56.343Z"
   },
   {
    "duration": 11,
    "start_time": "2024-04-21T16:47:04.434Z"
   },
   {
    "duration": 13,
    "start_time": "2024-04-21T16:48:09.858Z"
   },
   {
    "duration": 15,
    "start_time": "2024-04-21T16:48:34.884Z"
   },
   {
    "duration": 35,
    "start_time": "2024-04-21T16:49:39.292Z"
   },
   {
    "duration": 25,
    "start_time": "2024-04-21T16:50:10.144Z"
   },
   {
    "duration": 82,
    "start_time": "2024-04-21T16:50:20.901Z"
   },
   {
    "duration": 21,
    "start_time": "2024-04-21T16:50:27.780Z"
   },
   {
    "duration": 20,
    "start_time": "2024-04-21T16:52:40.525Z"
   },
   {
    "duration": 20,
    "start_time": "2024-04-21T16:53:16.670Z"
   },
   {
    "duration": 26,
    "start_time": "2024-04-21T16:54:00.734Z"
   },
   {
    "duration": 12,
    "start_time": "2024-04-21T16:54:50.911Z"
   },
   {
    "duration": 21,
    "start_time": "2024-04-21T16:56:00.230Z"
   },
   {
    "duration": 644,
    "start_time": "2024-04-21T16:56:18.246Z"
   },
   {
    "duration": 127,
    "start_time": "2024-04-21T16:56:18.892Z"
   },
   {
    "duration": 3,
    "start_time": "2024-04-21T16:56:19.021Z"
   },
   {
    "duration": 30,
    "start_time": "2024-04-21T16:56:19.026Z"
   },
   {
    "duration": 1864,
    "start_time": "2024-04-21T16:56:19.064Z"
   },
   {
    "duration": 10,
    "start_time": "2024-04-21T16:56:20.929Z"
   },
   {
    "duration": 12,
    "start_time": "2024-04-21T16:56:20.940Z"
   },
   {
    "duration": 29,
    "start_time": "2024-04-21T16:56:20.953Z"
   },
   {
    "duration": 15,
    "start_time": "2024-04-21T16:56:20.983Z"
   },
   {
    "duration": 13,
    "start_time": "2024-04-21T16:57:12.279Z"
   },
   {
    "duration": 630,
    "start_time": "2024-04-21T16:57:19.374Z"
   },
   {
    "duration": 109,
    "start_time": "2024-04-21T16:57:20.006Z"
   },
   {
    "duration": 3,
    "start_time": "2024-04-21T16:57:20.117Z"
   },
   {
    "duration": 47,
    "start_time": "2024-04-21T16:57:20.122Z"
   },
   {
    "duration": 1813,
    "start_time": "2024-04-21T16:57:20.171Z"
   },
   {
    "duration": 10,
    "start_time": "2024-04-21T16:57:21.985Z"
   },
   {
    "duration": 23,
    "start_time": "2024-04-21T16:57:21.996Z"
   },
   {
    "duration": 28,
    "start_time": "2024-04-21T16:57:22.020Z"
   },
   {
    "duration": 13,
    "start_time": "2024-04-21T16:57:22.050Z"
   },
   {
    "duration": 7,
    "start_time": "2024-04-21T16:58:05.855Z"
   },
   {
    "duration": 581,
    "start_time": "2024-04-21T16:58:23.114Z"
   },
   {
    "duration": 114,
    "start_time": "2024-04-21T16:58:23.697Z"
   },
   {
    "duration": 4,
    "start_time": "2024-04-21T16:58:23.813Z"
   },
   {
    "duration": 32,
    "start_time": "2024-04-21T16:58:23.819Z"
   },
   {
    "duration": 1863,
    "start_time": "2024-04-21T16:58:23.853Z"
   },
   {
    "duration": 9,
    "start_time": "2024-04-21T16:58:25.717Z"
   },
   {
    "duration": 12,
    "start_time": "2024-04-21T16:58:25.727Z"
   },
   {
    "duration": 32,
    "start_time": "2024-04-21T16:58:25.741Z"
   },
   {
    "duration": 8,
    "start_time": "2024-04-21T16:58:25.775Z"
   },
   {
    "duration": 6,
    "start_time": "2024-04-21T16:58:39.463Z"
   },
   {
    "duration": 695,
    "start_time": "2024-04-21T17:15:02.331Z"
   },
   {
    "duration": 111,
    "start_time": "2024-04-21T17:15:03.028Z"
   },
   {
    "duration": 3,
    "start_time": "2024-04-21T17:15:03.140Z"
   },
   {
    "duration": 37,
    "start_time": "2024-04-21T17:15:03.145Z"
   },
   {
    "duration": 1841,
    "start_time": "2024-04-21T17:15:03.183Z"
   },
   {
    "duration": 10,
    "start_time": "2024-04-21T17:15:05.025Z"
   },
   {
    "duration": 26,
    "start_time": "2024-04-21T17:15:05.036Z"
   },
   {
    "duration": 40,
    "start_time": "2024-04-21T17:15:05.064Z"
   },
   {
    "duration": 5,
    "start_time": "2024-04-21T17:15:05.106Z"
   },
   {
    "duration": 13,
    "start_time": "2024-04-21T17:15:32.342Z"
   },
   {
    "duration": 6,
    "start_time": "2024-04-21T17:16:00.526Z"
   },
   {
    "duration": 13,
    "start_time": "2024-04-21T17:16:02.046Z"
   },
   {
    "duration": 8,
    "start_time": "2024-04-21T17:16:33.591Z"
   },
   {
    "duration": 14,
    "start_time": "2024-04-21T17:16:34.863Z"
   },
   {
    "duration": 60,
    "start_time": "2024-04-21T17:19:53.720Z"
   },
   {
    "duration": 13,
    "start_time": "2024-04-21T17:19:55.232Z"
   },
   {
    "duration": 82,
    "start_time": "2024-04-21T17:31:31.709Z"
   },
   {
    "duration": 522,
    "start_time": "2024-04-21T17:31:48.269Z"
   },
   {
    "duration": 724,
    "start_time": "2024-04-21T17:32:26.471Z"
   },
   {
    "duration": 490,
    "start_time": "2024-04-21T17:32:30.422Z"
   },
   {
    "duration": 997,
    "start_time": "2024-04-21T17:32:58.487Z"
   },
   {
    "duration": 9,
    "start_time": "2024-04-21T17:33:01.622Z"
   },
   {
    "duration": 14,
    "start_time": "2024-04-21T17:33:03.278Z"
   },
   {
    "duration": 629,
    "start_time": "2024-04-21T17:33:07.780Z"
   },
   {
    "duration": 107,
    "start_time": "2024-04-21T17:33:08.412Z"
   },
   {
    "duration": 3,
    "start_time": "2024-04-21T17:33:08.521Z"
   },
   {
    "duration": 40,
    "start_time": "2024-04-21T17:33:08.526Z"
   },
   {
    "duration": 1924,
    "start_time": "2024-04-21T17:33:08.568Z"
   },
   {
    "duration": 10,
    "start_time": "2024-04-21T17:33:10.494Z"
   },
   {
    "duration": 19,
    "start_time": "2024-04-21T17:33:10.505Z"
   },
   {
    "duration": 29,
    "start_time": "2024-04-21T17:33:10.526Z"
   },
   {
    "duration": 14,
    "start_time": "2024-04-21T17:33:10.556Z"
   },
   {
    "duration": 26,
    "start_time": "2024-04-21T17:33:10.571Z"
   },
   {
    "duration": 22,
    "start_time": "2024-04-21T17:38:28.242Z"
   },
   {
    "duration": 6,
    "start_time": "2024-04-21T17:41:43.276Z"
   },
   {
    "duration": 7,
    "start_time": "2024-04-21T17:44:01.110Z"
   },
   {
    "duration": 20,
    "start_time": "2024-04-21T17:44:15.302Z"
   },
   {
    "duration": 7,
    "start_time": "2024-04-21T17:44:19.630Z"
   },
   {
    "duration": 20,
    "start_time": "2024-04-21T17:44:26.589Z"
   },
   {
    "duration": 5,
    "start_time": "2024-04-21T17:44:36.166Z"
   },
   {
    "duration": 5,
    "start_time": "2024-04-21T17:44:48.006Z"
   },
   {
    "duration": 614,
    "start_time": "2024-04-21T17:44:56.707Z"
   },
   {
    "duration": 107,
    "start_time": "2024-04-21T17:44:57.323Z"
   },
   {
    "duration": 3,
    "start_time": "2024-04-21T17:44:57.432Z"
   },
   {
    "duration": 34,
    "start_time": "2024-04-21T17:44:57.437Z"
   },
   {
    "duration": 1915,
    "start_time": "2024-04-21T17:44:57.473Z"
   },
   {
    "duration": 11,
    "start_time": "2024-04-21T17:44:59.391Z"
   },
   {
    "duration": 19,
    "start_time": "2024-04-21T17:44:59.403Z"
   },
   {
    "duration": 31,
    "start_time": "2024-04-21T17:44:59.424Z"
   },
   {
    "duration": 20,
    "start_time": "2024-04-21T17:44:59.457Z"
   },
   {
    "duration": 13,
    "start_time": "2024-04-21T17:44:59.479Z"
   },
   {
    "duration": 21,
    "start_time": "2024-04-21T17:44:59.494Z"
   },
   {
    "duration": 7,
    "start_time": "2024-04-21T17:44:59.517Z"
   },
   {
    "duration": 43,
    "start_time": "2024-04-21T17:44:59.525Z"
   },
   {
    "duration": 5,
    "start_time": "2024-04-21T17:44:59.570Z"
   },
   {
    "duration": 84,
    "start_time": "2024-04-21T17:47:08.249Z"
   },
   {
    "duration": 26,
    "start_time": "2024-04-21T17:47:22.936Z"
   },
   {
    "duration": 614,
    "start_time": "2024-04-21T17:47:33.389Z"
   },
   {
    "duration": 109,
    "start_time": "2024-04-21T17:47:34.004Z"
   },
   {
    "duration": 3,
    "start_time": "2024-04-21T17:47:34.114Z"
   },
   {
    "duration": 30,
    "start_time": "2024-04-21T17:47:34.119Z"
   },
   {
    "duration": 1877,
    "start_time": "2024-04-21T17:47:34.151Z"
   },
   {
    "duration": 9,
    "start_time": "2024-04-21T17:47:36.029Z"
   },
   {
    "duration": 18,
    "start_time": "2024-04-21T17:47:36.040Z"
   },
   {
    "duration": 28,
    "start_time": "2024-04-21T17:47:36.060Z"
   },
   {
    "duration": 13,
    "start_time": "2024-04-21T17:47:36.089Z"
   },
   {
    "duration": 16,
    "start_time": "2024-04-21T17:47:36.103Z"
   },
   {
    "duration": 19,
    "start_time": "2024-04-21T17:47:36.120Z"
   },
   {
    "duration": 40,
    "start_time": "2024-04-21T17:47:36.140Z"
   },
   {
    "duration": 6,
    "start_time": "2024-04-21T17:47:36.181Z"
   },
   {
    "duration": 30,
    "start_time": "2024-04-21T17:47:36.189Z"
   },
   {
    "duration": 4,
    "start_time": "2024-04-21T17:47:56.543Z"
   },
   {
    "duration": 18,
    "start_time": "2024-04-21T17:47:58.223Z"
   },
   {
    "duration": 663,
    "start_time": "2024-04-21T17:48:05.045Z"
   },
   {
    "duration": 112,
    "start_time": "2024-04-21T17:48:05.710Z"
   },
   {
    "duration": 3,
    "start_time": "2024-04-21T17:48:05.824Z"
   },
   {
    "duration": 43,
    "start_time": "2024-04-21T17:48:05.830Z"
   },
   {
    "duration": 1805,
    "start_time": "2024-04-21T17:48:05.875Z"
   },
   {
    "duration": 9,
    "start_time": "2024-04-21T17:48:07.682Z"
   },
   {
    "duration": 46,
    "start_time": "2024-04-21T17:48:07.692Z"
   },
   {
    "duration": 41,
    "start_time": "2024-04-21T17:48:07.740Z"
   },
   {
    "duration": 27,
    "start_time": "2024-04-21T17:48:07.782Z"
   },
   {
    "duration": 12,
    "start_time": "2024-04-21T17:48:07.811Z"
   },
   {
    "duration": 32,
    "start_time": "2024-04-21T17:48:07.824Z"
   },
   {
    "duration": 22,
    "start_time": "2024-04-21T17:48:07.858Z"
   },
   {
    "duration": 24,
    "start_time": "2024-04-21T17:48:07.881Z"
   },
   {
    "duration": 54,
    "start_time": "2024-04-21T17:48:07.907Z"
   },
   {
    "duration": 17,
    "start_time": "2024-04-21T17:48:33.224Z"
   },
   {
    "duration": 19,
    "start_time": "2024-04-21T17:48:34.497Z"
   },
   {
    "duration": 9,
    "start_time": "2024-04-21T17:54:06.203Z"
   },
   {
    "duration": 17,
    "start_time": "2024-04-21T17:54:21.059Z"
   },
   {
    "duration": 93,
    "start_time": "2024-04-21T17:55:41.478Z"
   },
   {
    "duration": 12,
    "start_time": "2024-04-21T17:55:53.959Z"
   },
   {
    "duration": 19,
    "start_time": "2024-04-21T17:55:55.148Z"
   },
   {
    "duration": 11,
    "start_time": "2024-04-21T17:56:06.538Z"
   },
   {
    "duration": 10,
    "start_time": "2024-04-21T17:56:06.772Z"
   },
   {
    "duration": 13,
    "start_time": "2024-04-21T17:57:22.694Z"
   },
   {
    "duration": 20,
    "start_time": "2024-04-21T17:57:23.677Z"
   },
   {
    "duration": 15,
    "start_time": "2024-04-21T17:59:13.695Z"
   },
   {
    "duration": 18,
    "start_time": "2024-04-21T17:59:14.749Z"
   },
   {
    "duration": 647,
    "start_time": "2024-04-21T18:00:14.801Z"
   },
   {
    "duration": 107,
    "start_time": "2024-04-21T18:00:15.450Z"
   },
   {
    "duration": 3,
    "start_time": "2024-04-21T18:00:15.558Z"
   },
   {
    "duration": 54,
    "start_time": "2024-04-21T18:00:15.563Z"
   },
   {
    "duration": 1976,
    "start_time": "2024-04-21T18:00:15.620Z"
   },
   {
    "duration": 10,
    "start_time": "2024-04-21T18:00:17.598Z"
   },
   {
    "duration": 12,
    "start_time": "2024-04-21T18:00:17.609Z"
   },
   {
    "duration": 32,
    "start_time": "2024-04-21T18:00:17.623Z"
   },
   {
    "duration": 13,
    "start_time": "2024-04-21T18:00:17.656Z"
   },
   {
    "duration": 13,
    "start_time": "2024-04-21T18:00:17.671Z"
   },
   {
    "duration": 19,
    "start_time": "2024-04-21T18:00:17.686Z"
   },
   {
    "duration": 27,
    "start_time": "2024-04-21T18:00:17.706Z"
   },
   {
    "duration": 52,
    "start_time": "2024-04-21T18:00:17.735Z"
   },
   {
    "duration": 25,
    "start_time": "2024-04-21T18:00:17.790Z"
   },
   {
    "duration": 45,
    "start_time": "2024-04-21T18:00:17.817Z"
   },
   {
    "duration": 23,
    "start_time": "2024-04-21T18:00:17.864Z"
   },
   {
    "duration": 11,
    "start_time": "2024-04-21T18:02:07.014Z"
   },
   {
    "duration": 6,
    "start_time": "2024-04-21T18:09:22.227Z"
   },
   {
    "duration": 5,
    "start_time": "2024-04-21T18:09:30.299Z"
   },
   {
    "duration": 657,
    "start_time": "2024-04-21T18:09:44.592Z"
   },
   {
    "duration": 108,
    "start_time": "2024-04-21T18:09:45.251Z"
   },
   {
    "duration": 5,
    "start_time": "2024-04-21T18:09:45.360Z"
   },
   {
    "duration": 52,
    "start_time": "2024-04-21T18:09:45.367Z"
   },
   {
    "duration": 2023,
    "start_time": "2024-04-21T18:09:45.421Z"
   },
   {
    "duration": 10,
    "start_time": "2024-04-21T18:09:47.446Z"
   },
   {
    "duration": 13,
    "start_time": "2024-04-21T18:09:47.457Z"
   },
   {
    "duration": 28,
    "start_time": "2024-04-21T18:09:47.472Z"
   },
   {
    "duration": 12,
    "start_time": "2024-04-21T18:09:47.502Z"
   },
   {
    "duration": 13,
    "start_time": "2024-04-21T18:09:47.515Z"
   },
   {
    "duration": 43,
    "start_time": "2024-04-21T18:09:47.530Z"
   },
   {
    "duration": 19,
    "start_time": "2024-04-21T18:09:47.575Z"
   },
   {
    "duration": 21,
    "start_time": "2024-04-21T18:09:47.596Z"
   },
   {
    "duration": 20,
    "start_time": "2024-04-21T18:09:47.620Z"
   },
   {
    "duration": 20,
    "start_time": "2024-04-21T18:09:47.664Z"
   },
   {
    "duration": 30,
    "start_time": "2024-04-21T18:09:47.686Z"
   },
   {
    "duration": 15,
    "start_time": "2024-04-21T18:09:47.719Z"
   },
   {
    "duration": 792,
    "start_time": "2024-04-24T14:59:13.289Z"
   },
   {
    "duration": 235,
    "start_time": "2024-04-24T14:59:14.083Z"
   },
   {
    "duration": 4,
    "start_time": "2024-04-24T14:59:14.319Z"
   },
   {
    "duration": 26,
    "start_time": "2024-04-24T14:59:14.324Z"
   },
   {
    "duration": 1855,
    "start_time": "2024-04-24T14:59:14.352Z"
   },
   {
    "duration": 10,
    "start_time": "2024-04-24T14:59:16.209Z"
   },
   {
    "duration": 19,
    "start_time": "2024-04-24T14:59:16.220Z"
   },
   {
    "duration": 35,
    "start_time": "2024-04-24T14:59:16.240Z"
   },
   {
    "duration": 13,
    "start_time": "2024-04-24T14:59:16.277Z"
   },
   {
    "duration": 31,
    "start_time": "2024-04-24T14:59:16.291Z"
   },
   {
    "duration": 19,
    "start_time": "2024-04-24T14:59:16.323Z"
   },
   {
    "duration": 19,
    "start_time": "2024-04-24T14:59:16.344Z"
   },
   {
    "duration": 16,
    "start_time": "2024-04-24T14:59:16.364Z"
   },
   {
    "duration": 46,
    "start_time": "2024-04-24T14:59:16.384Z"
   },
   {
    "duration": 17,
    "start_time": "2024-04-24T14:59:16.432Z"
   },
   {
    "duration": 18,
    "start_time": "2024-04-24T14:59:16.451Z"
   },
   {
    "duration": 11,
    "start_time": "2024-04-24T14:59:16.470Z"
   },
   {
    "duration": 11,
    "start_time": "2024-04-24T14:59:16.482Z"
   },
   {
    "duration": 50,
    "start_time": "2024-04-24T14:59:16.494Z"
   },
   {
    "duration": 30,
    "start_time": "2024-04-24T15:01:00.307Z"
   },
   {
    "duration": 31,
    "start_time": "2024-04-24T15:02:02.408Z"
   },
   {
    "duration": 333,
    "start_time": "2024-04-24T15:12:08.753Z"
   },
   {
    "duration": 328,
    "start_time": "2024-04-24T15:12:18.082Z"
   },
   {
    "duration": 22,
    "start_time": "2024-04-24T15:16:01.516Z"
   },
   {
    "duration": 121,
    "start_time": "2024-04-24T16:48:50.404Z"
   },
   {
    "duration": 9,
    "start_time": "2024-04-24T16:51:15.348Z"
   },
   {
    "duration": 307,
    "start_time": "2024-04-24T16:57:30.074Z"
   },
   {
    "duration": 213,
    "start_time": "2024-04-24T16:57:47.282Z"
   },
   {
    "duration": 208,
    "start_time": "2024-04-24T16:58:06.285Z"
   },
   {
    "duration": 207,
    "start_time": "2024-04-24T16:58:46.877Z"
   },
   {
    "duration": 208,
    "start_time": "2024-04-24T16:58:50.614Z"
   },
   {
    "duration": 283,
    "start_time": "2024-04-24T17:00:11.286Z"
   },
   {
    "duration": 203,
    "start_time": "2024-04-24T17:00:20.903Z"
   },
   {
    "duration": 215,
    "start_time": "2024-04-24T17:01:06.182Z"
   },
   {
    "duration": 9,
    "start_time": "2024-04-24T17:05:29.469Z"
   },
   {
    "duration": 231,
    "start_time": "2024-04-24T17:08:33.004Z"
   },
   {
    "duration": 77,
    "start_time": "2024-04-24T17:09:23.544Z"
   },
   {
    "duration": 211,
    "start_time": "2024-04-24T17:09:29.667Z"
   },
   {
    "duration": 229,
    "start_time": "2024-04-24T17:11:54.717Z"
   },
   {
    "duration": 642,
    "start_time": "2024-04-24T17:13:59.103Z"
   },
   {
    "duration": 110,
    "start_time": "2024-04-24T17:13:59.747Z"
   },
   {
    "duration": 3,
    "start_time": "2024-04-24T17:13:59.858Z"
   },
   {
    "duration": 34,
    "start_time": "2024-04-24T17:13:59.863Z"
   },
   {
    "duration": 1832,
    "start_time": "2024-04-24T17:13:59.899Z"
   },
   {
    "duration": 9,
    "start_time": "2024-04-24T17:14:01.733Z"
   },
   {
    "duration": 45,
    "start_time": "2024-04-24T17:14:01.744Z"
   },
   {
    "duration": 60,
    "start_time": "2024-04-24T17:14:01.790Z"
   },
   {
    "duration": 27,
    "start_time": "2024-04-24T17:14:01.852Z"
   },
   {
    "duration": 17,
    "start_time": "2024-04-24T17:14:01.881Z"
   },
   {
    "duration": 56,
    "start_time": "2024-04-24T17:14:01.900Z"
   },
   {
    "duration": 18,
    "start_time": "2024-04-24T17:14:01.958Z"
   },
   {
    "duration": 16,
    "start_time": "2024-04-24T17:14:01.978Z"
   },
   {
    "duration": 18,
    "start_time": "2024-04-24T17:14:01.997Z"
   },
   {
    "duration": 25,
    "start_time": "2024-04-24T17:14:02.017Z"
   },
   {
    "duration": 19,
    "start_time": "2024-04-24T17:14:02.044Z"
   },
   {
    "duration": 11,
    "start_time": "2024-04-24T17:14:02.065Z"
   },
   {
    "duration": 4,
    "start_time": "2024-04-24T17:14:02.078Z"
   },
   {
    "duration": 51,
    "start_time": "2024-04-24T17:14:02.084Z"
   },
   {
    "duration": 373,
    "start_time": "2024-04-24T17:14:02.137Z"
   },
   {
    "duration": 42,
    "start_time": "2024-04-24T17:14:02.512Z"
   },
   {
    "duration": 8,
    "start_time": "2024-04-24T17:14:02.555Z"
   },
   {
    "duration": 215,
    "start_time": "2024-04-24T17:14:02.564Z"
   },
   {
    "duration": 311,
    "start_time": "2024-04-24T17:14:02.780Z"
   },
   {
    "duration": 8,
    "start_time": "2024-04-24T17:14:03.092Z"
   },
   {
    "duration": 222,
    "start_time": "2024-04-24T17:14:03.101Z"
   },
   {
    "duration": 234,
    "start_time": "2024-04-24T17:14:03.325Z"
   },
   {
    "duration": 237,
    "start_time": "2024-04-24T17:15:58.044Z"
   },
   {
    "duration": 217,
    "start_time": "2024-04-24T17:16:24.256Z"
   },
   {
    "duration": 228,
    "start_time": "2024-04-24T17:16:33.336Z"
   },
   {
    "duration": 9,
    "start_time": "2024-04-24T17:22:31.398Z"
   },
   {
    "duration": 296,
    "start_time": "2024-04-24T17:23:06.702Z"
   },
   {
    "duration": 218,
    "start_time": "2024-04-24T17:23:31.261Z"
   },
   {
    "duration": 219,
    "start_time": "2024-04-24T17:23:38.835Z"
   },
   {
    "duration": 8,
    "start_time": "2024-04-24T17:27:56.902Z"
   },
   {
    "duration": 239,
    "start_time": "2024-04-24T17:28:26.064Z"
   },
   {
    "duration": 235,
    "start_time": "2024-04-24T17:28:59.951Z"
   },
   {
    "duration": 8,
    "start_time": "2024-04-24T17:31:13.657Z"
   },
   {
    "duration": 305,
    "start_time": "2024-04-24T17:31:15.041Z"
   },
   {
    "duration": 235,
    "start_time": "2024-04-24T17:31:31.208Z"
   },
   {
    "duration": 231,
    "start_time": "2024-04-24T17:31:45.497Z"
   },
   {
    "duration": 146,
    "start_time": "2024-04-24T17:31:56.201Z"
   },
   {
    "duration": 112,
    "start_time": "2024-04-24T17:32:04.203Z"
   },
   {
    "duration": 13,
    "start_time": "2024-04-24T18:21:48.735Z"
   },
   {
    "duration": 7,
    "start_time": "2024-04-24T18:22:48.858Z"
   },
   {
    "duration": 113,
    "start_time": "2024-04-24T18:22:50.667Z"
   },
   {
    "duration": 157,
    "start_time": "2024-04-24T18:22:54.667Z"
   },
   {
    "duration": 147,
    "start_time": "2024-04-24T18:23:23.500Z"
   },
   {
    "duration": 180,
    "start_time": "2024-04-24T18:24:03.843Z"
   },
   {
    "duration": 329,
    "start_time": "2024-04-24T18:24:09.644Z"
   },
   {
    "duration": 137,
    "start_time": "2024-04-24T18:24:15.204Z"
   },
   {
    "duration": 150,
    "start_time": "2024-04-24T18:24:19.579Z"
   },
   {
    "duration": 10,
    "start_time": "2024-04-24T18:26:47.076Z"
   },
   {
    "duration": 104,
    "start_time": "2024-04-24T18:26:49.373Z"
   },
   {
    "duration": 200,
    "start_time": "2024-04-24T18:26:57.365Z"
   },
   {
    "duration": 195,
    "start_time": "2024-04-24T18:27:00.092Z"
   },
   {
    "duration": 99,
    "start_time": "2024-04-24T18:27:13.740Z"
   },
   {
    "duration": 779,
    "start_time": "2024-04-24T18:29:51.823Z"
   },
   {
    "duration": 148,
    "start_time": "2024-04-24T18:30:40.864Z"
   },
   {
    "duration": 185,
    "start_time": "2024-04-24T18:35:08.362Z"
   },
   {
    "duration": 125,
    "start_time": "2024-04-24T18:37:03.340Z"
   },
   {
    "duration": 247,
    "start_time": "2024-04-24T18:38:07.467Z"
   },
   {
    "duration": 741,
    "start_time": "2024-04-24T18:38:20.132Z"
   },
   {
    "duration": 119,
    "start_time": "2024-04-24T18:38:27.739Z"
   },
   {
    "duration": 53,
    "start_time": "2024-04-24T18:38:52.484Z"
   },
   {
    "duration": 120,
    "start_time": "2024-04-24T18:39:01.155Z"
   },
   {
    "duration": 101,
    "start_time": "2024-04-24T18:39:15.302Z"
   },
   {
    "duration": 111,
    "start_time": "2024-04-24T18:39:21.546Z"
   },
   {
    "duration": 10,
    "start_time": "2024-04-24T18:45:08.223Z"
   },
   {
    "duration": 225,
    "start_time": "2024-04-24T18:45:21.383Z"
   },
   {
    "duration": 355,
    "start_time": "2024-04-24T18:45:38.951Z"
   },
   {
    "duration": 230,
    "start_time": "2024-04-24T18:45:44.432Z"
   },
   {
    "duration": 239,
    "start_time": "2024-04-24T18:47:47.720Z"
   },
   {
    "duration": 9,
    "start_time": "2024-04-24T18:47:49.480Z"
   },
   {
    "duration": 220,
    "start_time": "2024-04-24T18:48:08.961Z"
   },
   {
    "duration": 220,
    "start_time": "2024-04-24T18:48:30.976Z"
   },
   {
    "duration": 145,
    "start_time": "2024-04-24T18:48:38.513Z"
   },
   {
    "duration": 42,
    "start_time": "2024-04-24T18:49:54.074Z"
   },
   {
    "duration": 8,
    "start_time": "2024-04-24T18:49:58.146Z"
   },
   {
    "duration": 139,
    "start_time": "2024-04-24T18:49:59.466Z"
   },
   {
    "duration": 288,
    "start_time": "2024-04-24T18:50:05.690Z"
   },
   {
    "duration": 212,
    "start_time": "2024-04-24T18:50:26.362Z"
   },
   {
    "duration": 226,
    "start_time": "2024-04-24T18:50:32.482Z"
   },
   {
    "duration": 225,
    "start_time": "2024-04-24T18:50:47.379Z"
   },
   {
    "duration": 227,
    "start_time": "2024-04-24T18:50:57.908Z"
   },
   {
    "duration": 269,
    "start_time": "2024-04-24T18:51:05.043Z"
   },
   {
    "duration": 116,
    "start_time": "2024-04-24T18:51:09.156Z"
   },
   {
    "duration": 131,
    "start_time": "2024-04-24T18:51:15.163Z"
   },
   {
    "duration": 51,
    "start_time": "2024-04-24T18:59:28.554Z"
   },
   {
    "duration": 8,
    "start_time": "2024-04-24T18:59:50.425Z"
   },
   {
    "duration": 140,
    "start_time": "2024-04-24T19:00:01.417Z"
   },
   {
    "duration": 137,
    "start_time": "2024-04-24T19:00:06.770Z"
   },
   {
    "duration": 153,
    "start_time": "2024-04-24T19:00:12.282Z"
   },
   {
    "duration": 154,
    "start_time": "2024-04-24T19:01:43.709Z"
   },
   {
    "duration": 150,
    "start_time": "2024-04-24T19:02:00.579Z"
   },
   {
    "duration": 603,
    "start_time": "2024-04-24T19:05:12.045Z"
   },
   {
    "duration": 107,
    "start_time": "2024-04-24T19:05:12.650Z"
   },
   {
    "duration": 3,
    "start_time": "2024-04-24T19:05:12.759Z"
   },
   {
    "duration": 35,
    "start_time": "2024-04-24T19:05:12.763Z"
   },
   {
    "duration": 1871,
    "start_time": "2024-04-24T19:05:12.800Z"
   },
   {
    "duration": 9,
    "start_time": "2024-04-24T19:05:14.672Z"
   },
   {
    "duration": 14,
    "start_time": "2024-04-24T19:05:14.682Z"
   },
   {
    "duration": 30,
    "start_time": "2024-04-24T19:05:14.697Z"
   },
   {
    "duration": 12,
    "start_time": "2024-04-24T19:05:14.728Z"
   },
   {
    "duration": 11,
    "start_time": "2024-04-24T19:05:14.741Z"
   },
   {
    "duration": 18,
    "start_time": "2024-04-24T19:05:14.754Z"
   },
   {
    "duration": 17,
    "start_time": "2024-04-24T19:05:14.774Z"
   },
   {
    "duration": 36,
    "start_time": "2024-04-24T19:05:14.793Z"
   },
   {
    "duration": 18,
    "start_time": "2024-04-24T19:05:14.832Z"
   },
   {
    "duration": 17,
    "start_time": "2024-04-24T19:05:14.851Z"
   },
   {
    "duration": 18,
    "start_time": "2024-04-24T19:05:14.869Z"
   },
   {
    "duration": 38,
    "start_time": "2024-04-24T19:05:14.889Z"
   },
   {
    "duration": 5,
    "start_time": "2024-04-24T19:05:14.928Z"
   },
   {
    "duration": 33,
    "start_time": "2024-04-24T19:05:14.935Z"
   },
   {
    "duration": 365,
    "start_time": "2024-04-24T19:05:14.969Z"
   },
   {
    "duration": 33,
    "start_time": "2024-04-24T19:05:15.336Z"
   },
   {
    "duration": 10,
    "start_time": "2024-04-24T19:05:15.371Z"
   },
   {
    "duration": 251,
    "start_time": "2024-04-24T19:05:15.382Z"
   },
   {
    "duration": 319,
    "start_time": "2024-04-24T19:05:15.634Z"
   },
   {
    "duration": 9,
    "start_time": "2024-04-24T19:05:15.955Z"
   },
   {
    "duration": 257,
    "start_time": "2024-04-24T19:05:15.965Z"
   },
   {
    "duration": 245,
    "start_time": "2024-04-24T19:05:16.224Z"
   },
   {
    "duration": 9,
    "start_time": "2024-04-24T19:05:16.471Z"
   },
   {
    "duration": 290,
    "start_time": "2024-04-24T19:05:16.482Z"
   },
   {
    "duration": 210,
    "start_time": "2024-04-24T19:05:16.774Z"
   },
   {
    "duration": 9,
    "start_time": "2024-04-24T19:05:16.985Z"
   },
   {
    "duration": 239,
    "start_time": "2024-04-24T19:05:16.995Z"
   },
   {
    "duration": 318,
    "start_time": "2024-04-24T19:05:17.236Z"
   },
   {
    "duration": 7,
    "start_time": "2024-04-24T19:05:17.555Z"
   },
   {
    "duration": 121,
    "start_time": "2024-04-24T19:05:17.564Z"
   },
   {
    "duration": 165,
    "start_time": "2024-04-24T19:05:17.687Z"
   },
   {
    "duration": 8,
    "start_time": "2024-04-24T19:05:17.854Z"
   },
   {
    "duration": 4,
    "start_time": "2024-04-24T19:05:17.864Z"
   },
   {
    "duration": 148,
    "start_time": "2024-04-24T19:05:17.869Z"
   },
   {
    "duration": 9,
    "start_time": "2024-04-24T19:05:18.021Z"
   },
   {
    "duration": 132,
    "start_time": "2024-04-24T19:05:18.034Z"
   },
   {
    "duration": 9,
    "start_time": "2024-04-24T19:05:18.168Z"
   },
   {
    "duration": 244,
    "start_time": "2024-04-24T19:05:18.179Z"
   },
   {
    "duration": 10,
    "start_time": "2024-04-24T19:05:18.426Z"
   },
   {
    "duration": 154,
    "start_time": "2024-04-24T19:05:18.437Z"
   },
   {
    "duration": 9,
    "start_time": "2024-04-24T19:05:18.593Z"
   },
   {
    "duration": 164,
    "start_time": "2024-04-24T19:05:18.603Z"
   },
   {
    "duration": 58,
    "start_time": "2024-04-24T19:11:45.911Z"
   },
   {
    "duration": 9,
    "start_time": "2024-04-24T19:18:42.950Z"
   },
   {
    "duration": 93,
    "start_time": "2024-04-24T19:18:45.532Z"
   },
   {
    "duration": 130,
    "start_time": "2024-04-24T19:18:56.133Z"
   },
   {
    "duration": 208,
    "start_time": "2024-04-24T19:19:08.085Z"
   },
   {
    "duration": 170,
    "start_time": "2024-04-24T19:19:15.725Z"
   },
   {
    "duration": 144,
    "start_time": "2024-04-24T19:19:21.037Z"
   },
   {
    "duration": 8,
    "start_time": "2024-04-24T19:23:08.084Z"
   },
   {
    "duration": 131,
    "start_time": "2024-04-24T19:23:30.399Z"
   },
   {
    "duration": 116,
    "start_time": "2024-04-24T19:23:38.934Z"
   },
   {
    "duration": 8,
    "start_time": "2024-04-24T19:25:09.287Z"
   },
   {
    "duration": 51,
    "start_time": "2024-04-24T19:25:11.745Z"
   },
   {
    "duration": 117,
    "start_time": "2024-04-24T19:25:19.030Z"
   },
   {
    "duration": 126,
    "start_time": "2024-04-24T19:25:29.091Z"
   },
   {
    "duration": 109,
    "start_time": "2024-04-24T19:25:36.294Z"
   },
   {
    "duration": 113,
    "start_time": "2024-04-24T19:25:40.759Z"
   },
   {
    "duration": 602,
    "start_time": "2024-04-24T19:28:09.642Z"
   },
   {
    "duration": 107,
    "start_time": "2024-04-24T19:28:10.246Z"
   },
   {
    "duration": 3,
    "start_time": "2024-04-24T19:28:10.355Z"
   },
   {
    "duration": 27,
    "start_time": "2024-04-24T19:28:10.360Z"
   },
   {
    "duration": 1902,
    "start_time": "2024-04-24T19:28:10.389Z"
   },
   {
    "duration": 10,
    "start_time": "2024-04-24T19:28:12.292Z"
   },
   {
    "duration": 11,
    "start_time": "2024-04-24T19:28:12.303Z"
   },
   {
    "duration": 28,
    "start_time": "2024-04-24T19:28:12.316Z"
   },
   {
    "duration": 12,
    "start_time": "2024-04-24T19:28:12.345Z"
   },
   {
    "duration": 12,
    "start_time": "2024-04-24T19:28:12.358Z"
   },
   {
    "duration": 18,
    "start_time": "2024-04-24T19:28:12.371Z"
   },
   {
    "duration": 40,
    "start_time": "2024-04-24T19:28:12.391Z"
   },
   {
    "duration": 15,
    "start_time": "2024-04-24T19:28:12.432Z"
   },
   {
    "duration": 18,
    "start_time": "2024-04-24T19:28:12.450Z"
   },
   {
    "duration": 17,
    "start_time": "2024-04-24T19:28:12.470Z"
   },
   {
    "duration": 39,
    "start_time": "2024-04-24T19:28:12.488Z"
   },
   {
    "duration": 10,
    "start_time": "2024-04-24T19:28:12.529Z"
   },
   {
    "duration": 3,
    "start_time": "2024-04-24T19:28:12.541Z"
   },
   {
    "duration": 30,
    "start_time": "2024-04-24T19:28:12.545Z"
   },
   {
    "duration": 358,
    "start_time": "2024-04-24T19:28:12.576Z"
   },
   {
    "duration": 23,
    "start_time": "2024-04-24T19:28:12.935Z"
   },
   {
    "duration": 8,
    "start_time": "2024-04-24T19:28:12.959Z"
   },
   {
    "duration": 229,
    "start_time": "2024-04-24T19:28:12.968Z"
   },
   {
    "duration": 304,
    "start_time": "2024-04-24T19:28:13.199Z"
   },
   {
    "duration": 19,
    "start_time": "2024-04-24T19:28:13.505Z"
   },
   {
    "duration": 255,
    "start_time": "2024-04-24T19:28:13.526Z"
   },
   {
    "duration": 220,
    "start_time": "2024-04-24T19:28:13.783Z"
   },
   {
    "duration": 8,
    "start_time": "2024-04-24T19:28:14.004Z"
   },
   {
    "duration": 224,
    "start_time": "2024-04-24T19:28:14.021Z"
   },
   {
    "duration": 215,
    "start_time": "2024-04-24T19:28:14.247Z"
   },
   {
    "duration": 8,
    "start_time": "2024-04-24T19:28:14.464Z"
   },
   {
    "duration": 250,
    "start_time": "2024-04-24T19:28:14.473Z"
   },
   {
    "duration": 296,
    "start_time": "2024-04-24T19:28:14.725Z"
   },
   {
    "duration": 9,
    "start_time": "2024-04-24T19:28:15.023Z"
   },
   {
    "duration": 166,
    "start_time": "2024-04-24T19:28:15.033Z"
   },
   {
    "duration": 133,
    "start_time": "2024-04-24T19:28:15.200Z"
   },
   {
    "duration": 8,
    "start_time": "2024-04-24T19:28:15.334Z"
   },
   {
    "duration": 4,
    "start_time": "2024-04-24T19:28:15.344Z"
   },
   {
    "duration": 143,
    "start_time": "2024-04-24T19:28:15.349Z"
   },
   {
    "duration": 9,
    "start_time": "2024-04-24T19:28:15.494Z"
   },
   {
    "duration": 121,
    "start_time": "2024-04-24T19:28:15.520Z"
   },
   {
    "duration": 10,
    "start_time": "2024-04-24T19:28:15.643Z"
   },
   {
    "duration": 263,
    "start_time": "2024-04-24T19:28:15.655Z"
   },
   {
    "duration": 7,
    "start_time": "2024-04-24T19:28:15.920Z"
   },
   {
    "duration": 145,
    "start_time": "2024-04-24T19:28:15.929Z"
   },
   {
    "duration": 8,
    "start_time": "2024-04-24T19:28:16.075Z"
   },
   {
    "duration": 148,
    "start_time": "2024-04-24T19:28:16.084Z"
   },
   {
    "duration": 7,
    "start_time": "2024-04-24T19:28:16.234Z"
   },
   {
    "duration": 140,
    "start_time": "2024-04-24T19:28:16.243Z"
   },
   {
    "duration": 7,
    "start_time": "2024-04-24T19:28:16.384Z"
   },
   {
    "duration": 186,
    "start_time": "2024-04-24T19:28:16.393Z"
   },
   {
    "duration": 7,
    "start_time": "2024-04-24T19:28:16.580Z"
   },
   {
    "duration": 126,
    "start_time": "2024-04-24T19:28:16.589Z"
   },
   {
    "duration": 51,
    "start_time": "2024-04-25T11:52:11.426Z"
   },
   {
    "duration": 842,
    "start_time": "2024-04-25T12:00:39.802Z"
   },
   {
    "duration": 298,
    "start_time": "2024-04-25T12:00:40.647Z"
   },
   {
    "duration": 4,
    "start_time": "2024-04-25T12:00:40.947Z"
   },
   {
    "duration": 46,
    "start_time": "2024-04-25T12:00:40.952Z"
   },
   {
    "duration": 2077,
    "start_time": "2024-04-25T12:00:41.000Z"
   },
   {
    "duration": 11,
    "start_time": "2024-04-25T12:00:43.079Z"
   },
   {
    "duration": 15,
    "start_time": "2024-04-25T12:00:43.091Z"
   },
   {
    "duration": 32,
    "start_time": "2024-04-25T12:00:43.107Z"
   },
   {
    "duration": 13,
    "start_time": "2024-04-25T12:00:43.141Z"
   },
   {
    "duration": 15,
    "start_time": "2024-04-25T12:00:43.181Z"
   },
   {
    "duration": 22,
    "start_time": "2024-04-25T12:00:43.197Z"
   },
   {
    "duration": 19,
    "start_time": "2024-04-25T12:00:43.221Z"
   },
   {
    "duration": 46,
    "start_time": "2024-04-25T12:00:43.242Z"
   },
   {
    "duration": 31,
    "start_time": "2024-04-25T12:00:43.291Z"
   },
   {
    "duration": 27,
    "start_time": "2024-04-25T12:00:43.323Z"
   },
   {
    "duration": 27,
    "start_time": "2024-04-25T12:00:43.351Z"
   },
   {
    "duration": 12,
    "start_time": "2024-04-25T12:00:43.380Z"
   },
   {
    "duration": 4,
    "start_time": "2024-04-25T12:00:43.394Z"
   },
   {
    "duration": 40,
    "start_time": "2024-04-25T12:00:43.400Z"
   },
   {
    "duration": 423,
    "start_time": "2024-04-25T12:00:43.441Z"
   },
   {
    "duration": 33,
    "start_time": "2024-04-25T12:00:43.865Z"
   },
   {
    "duration": 9,
    "start_time": "2024-04-25T12:00:43.900Z"
   },
   {
    "duration": 258,
    "start_time": "2024-04-25T12:00:43.911Z"
   },
   {
    "duration": 330,
    "start_time": "2024-04-25T12:00:44.171Z"
   },
   {
    "duration": 9,
    "start_time": "2024-04-25T12:00:44.502Z"
   },
   {
    "duration": 267,
    "start_time": "2024-04-25T12:00:44.513Z"
   },
   {
    "duration": 266,
    "start_time": "2024-04-25T12:00:44.781Z"
   },
   {
    "duration": 9,
    "start_time": "2024-04-25T12:00:45.049Z"
   },
   {
    "duration": 334,
    "start_time": "2024-04-25T12:00:45.059Z"
   },
   {
    "duration": 355,
    "start_time": "2024-04-25T12:00:45.395Z"
   },
   {
    "duration": 9,
    "start_time": "2024-04-25T12:00:45.752Z"
   },
   {
    "duration": 270,
    "start_time": "2024-04-25T12:00:45.763Z"
   },
   {
    "duration": 330,
    "start_time": "2024-04-25T12:00:46.034Z"
   },
   {
    "duration": 16,
    "start_time": "2024-04-25T12:00:46.365Z"
   },
   {
    "duration": 115,
    "start_time": "2024-04-25T12:00:46.382Z"
   },
   {
    "duration": 139,
    "start_time": "2024-04-25T12:00:46.498Z"
   },
   {
    "duration": 9,
    "start_time": "2024-04-25T12:00:46.638Z"
   },
   {
    "duration": 33,
    "start_time": "2024-04-25T12:00:46.648Z"
   },
   {
    "duration": 147,
    "start_time": "2024-04-25T12:00:46.683Z"
   },
   {
    "duration": 10,
    "start_time": "2024-04-25T12:00:46.831Z"
   },
   {
    "duration": 133,
    "start_time": "2024-04-25T12:00:46.844Z"
   },
   {
    "duration": 8,
    "start_time": "2024-04-25T12:00:46.979Z"
   },
   {
    "duration": 274,
    "start_time": "2024-04-25T12:00:46.989Z"
   },
   {
    "duration": 18,
    "start_time": "2024-04-25T12:00:47.265Z"
   },
   {
    "duration": 175,
    "start_time": "2024-04-25T12:00:47.285Z"
   },
   {
    "duration": 9,
    "start_time": "2024-04-25T12:00:47.461Z"
   },
   {
    "duration": 155,
    "start_time": "2024-04-25T12:00:47.480Z"
   },
   {
    "duration": 9,
    "start_time": "2024-04-25T12:00:47.636Z"
   },
   {
    "duration": 160,
    "start_time": "2024-04-25T12:00:47.646Z"
   },
   {
    "duration": 8,
    "start_time": "2024-04-25T12:00:47.807Z"
   },
   {
    "duration": 257,
    "start_time": "2024-04-25T12:00:47.817Z"
   },
   {
    "duration": 10,
    "start_time": "2024-04-25T12:00:48.075Z"
   },
   {
    "duration": 137,
    "start_time": "2024-04-25T12:00:48.087Z"
   },
   {
    "duration": 9,
    "start_time": "2024-04-25T12:00:48.226Z"
   },
   {
    "duration": 166,
    "start_time": "2024-04-25T12:02:00.545Z"
   },
   {
    "duration": 269,
    "start_time": "2024-04-25T12:06:32.935Z"
   },
   {
    "duration": 266,
    "start_time": "2024-04-25T12:06:42.504Z"
   },
   {
    "duration": 91,
    "start_time": "2024-04-25T12:10:13.074Z"
   },
   {
    "duration": 33,
    "start_time": "2024-04-25T12:16:20.161Z"
   },
   {
    "duration": 83,
    "start_time": "2024-04-25T12:16:59.859Z"
   },
   {
    "duration": 16,
    "start_time": "2024-04-25T12:17:08.111Z"
   },
   {
    "duration": 147,
    "start_time": "2024-04-25T12:20:48.125Z"
   },
   {
    "duration": 174,
    "start_time": "2024-04-25T12:21:00.877Z"
   },
   {
    "duration": 142,
    "start_time": "2024-04-25T12:21:06.085Z"
   },
   {
    "duration": 151,
    "start_time": "2024-04-25T12:26:29.760Z"
   },
   {
    "duration": 84,
    "start_time": "2024-04-25T12:28:32.364Z"
   },
   {
    "duration": 19,
    "start_time": "2024-04-25T12:28:42.200Z"
   },
   {
    "duration": 634,
    "start_time": "2024-04-25T12:28:47.832Z"
   },
   {
    "duration": 149,
    "start_time": "2024-04-25T12:28:48.468Z"
   },
   {
    "duration": 5,
    "start_time": "2024-04-25T12:28:48.619Z"
   },
   {
    "duration": 62,
    "start_time": "2024-04-25T12:28:48.626Z"
   },
   {
    "duration": 2175,
    "start_time": "2024-04-25T12:28:48.691Z"
   },
   {
    "duration": 11,
    "start_time": "2024-04-25T12:28:50.867Z"
   },
   {
    "duration": 14,
    "start_time": "2024-04-25T12:28:50.879Z"
   },
   {
    "duration": 33,
    "start_time": "2024-04-25T12:28:50.894Z"
   },
   {
    "duration": 14,
    "start_time": "2024-04-25T12:28:50.928Z"
   },
   {
    "duration": 37,
    "start_time": "2024-04-25T12:28:50.944Z"
   },
   {
    "duration": 22,
    "start_time": "2024-04-25T12:28:50.983Z"
   },
   {
    "duration": 22,
    "start_time": "2024-04-25T12:28:51.006Z"
   },
   {
    "duration": 17,
    "start_time": "2024-04-25T12:28:51.030Z"
   },
   {
    "duration": 49,
    "start_time": "2024-04-25T12:28:51.050Z"
   },
   {
    "duration": 20,
    "start_time": "2024-04-25T12:28:51.101Z"
   },
   {
    "duration": 21,
    "start_time": "2024-04-25T12:28:51.123Z"
   },
   {
    "duration": 36,
    "start_time": "2024-04-25T12:28:51.146Z"
   },
   {
    "duration": 5,
    "start_time": "2024-04-25T12:28:51.183Z"
   },
   {
    "duration": 43,
    "start_time": "2024-04-25T12:28:51.189Z"
   },
   {
    "duration": 391,
    "start_time": "2024-04-25T12:28:51.233Z"
   },
   {
    "duration": 25,
    "start_time": "2024-04-25T12:28:51.626Z"
   },
   {
    "duration": 8,
    "start_time": "2024-04-25T12:28:51.653Z"
   },
   {
    "duration": 279,
    "start_time": "2024-04-25T12:28:51.681Z"
   },
   {
    "duration": 380,
    "start_time": "2024-04-25T12:28:51.962Z"
   },
   {
    "duration": 9,
    "start_time": "2024-04-25T12:28:52.343Z"
   },
   {
    "duration": 294,
    "start_time": "2024-04-25T12:28:52.354Z"
   },
   {
    "duration": 254,
    "start_time": "2024-04-25T12:28:52.650Z"
   },
   {
    "duration": 9,
    "start_time": "2024-04-25T12:28:52.906Z"
   },
   {
    "duration": 252,
    "start_time": "2024-04-25T12:28:52.916Z"
   },
   {
    "duration": 243,
    "start_time": "2024-04-25T12:28:53.170Z"
   },
   {
    "duration": 10,
    "start_time": "2024-04-25T12:28:53.415Z"
   },
   {
    "duration": 298,
    "start_time": "2024-04-25T12:28:53.427Z"
   },
   {
    "duration": 354,
    "start_time": "2024-04-25T12:28:53.726Z"
   },
   {
    "duration": 8,
    "start_time": "2024-04-25T12:28:54.082Z"
   },
   {
    "duration": 139,
    "start_time": "2024-04-25T12:28:54.092Z"
   },
   {
    "duration": 155,
    "start_time": "2024-04-25T12:28:54.233Z"
   },
   {
    "duration": 10,
    "start_time": "2024-04-25T12:28:54.389Z"
   },
   {
    "duration": 8,
    "start_time": "2024-04-25T12:28:54.400Z"
   },
   {
    "duration": 176,
    "start_time": "2024-04-25T12:28:54.410Z"
   },
   {
    "duration": 11,
    "start_time": "2024-04-25T12:28:54.588Z"
   },
   {
    "duration": 150,
    "start_time": "2024-04-25T12:28:54.603Z"
   },
   {
    "duration": 10,
    "start_time": "2024-04-25T12:28:54.755Z"
   },
   {
    "duration": 264,
    "start_time": "2024-04-25T12:28:54.767Z"
   },
   {
    "duration": 9,
    "start_time": "2024-04-25T12:28:55.033Z"
   },
   {
    "duration": 203,
    "start_time": "2024-04-25T12:28:55.044Z"
   },
   {
    "duration": 10,
    "start_time": "2024-04-25T12:28:55.249Z"
   },
   {
    "duration": 171,
    "start_time": "2024-04-25T12:28:55.261Z"
   },
   {
    "duration": 10,
    "start_time": "2024-04-25T12:28:55.433Z"
   },
   {
    "duration": 171,
    "start_time": "2024-04-25T12:28:55.445Z"
   },
   {
    "duration": 9,
    "start_time": "2024-04-25T12:28:55.618Z"
   },
   {
    "duration": 227,
    "start_time": "2024-04-25T12:28:55.628Z"
   },
   {
    "duration": 11,
    "start_time": "2024-04-25T12:28:55.857Z"
   },
   {
    "duration": 145,
    "start_time": "2024-04-25T12:28:55.881Z"
   },
   {
    "duration": 9,
    "start_time": "2024-04-25T12:28:56.027Z"
   },
   {
    "duration": 273,
    "start_time": "2024-04-25T12:28:56.038Z"
   },
   {
    "duration": 23,
    "start_time": "2024-04-25T12:28:56.314Z"
   },
   {
    "duration": 170,
    "start_time": "2024-04-25T12:28:56.339Z"
   },
   {
    "duration": 9,
    "start_time": "2024-04-25T12:28:56.510Z"
   },
   {
    "duration": 38,
    "start_time": "2024-04-25T12:28:56.521Z"
   },
   {
    "duration": 153,
    "start_time": "2024-04-25T12:28:56.560Z"
   },
   {
    "duration": 21,
    "start_time": "2024-04-25T12:29:10.916Z"
   },
   {
    "duration": 142,
    "start_time": "2024-04-25T12:30:41.324Z"
   },
   {
    "duration": 86,
    "start_time": "2024-04-25T12:31:06.148Z"
   },
   {
    "duration": 10,
    "start_time": "2024-04-25T12:31:11.996Z"
   },
   {
    "duration": 9,
    "start_time": "2024-04-25T12:31:20.061Z"
   },
   {
    "duration": 7,
    "start_time": "2024-04-25T12:31:45.142Z"
   },
   {
    "duration": 26,
    "start_time": "2024-04-25T12:31:47.337Z"
   },
   {
    "duration": 162,
    "start_time": "2024-04-25T12:31:49.150Z"
   },
   {
    "duration": 173,
    "start_time": "2024-04-25T12:32:02.076Z"
   },
   {
    "duration": 162,
    "start_time": "2024-04-25T12:33:25.750Z"
   },
   {
    "duration": 21,
    "start_time": "2024-04-25T12:44:26.821Z"
   },
   {
    "duration": 95,
    "start_time": "2024-04-25T12:44:37.761Z"
   },
   {
    "duration": 164,
    "start_time": "2024-04-25T12:45:09.417Z"
   },
   {
    "duration": 256,
    "start_time": "2024-04-25T12:45:17.114Z"
   },
   {
    "duration": 8,
    "start_time": "2024-04-25T12:46:33.508Z"
   },
   {
    "duration": 9,
    "start_time": "2024-04-25T12:47:13.924Z"
   },
   {
    "duration": 497,
    "start_time": "2024-04-25T12:47:18.412Z"
   },
   {
    "duration": 10,
    "start_time": "2024-04-25T12:47:29.635Z"
   },
   {
    "duration": 1186,
    "start_time": "2024-04-25T12:47:45.996Z"
   },
   {
    "duration": 467,
    "start_time": "2024-04-25T12:48:00.661Z"
   },
   {
    "duration": 147,
    "start_time": "2024-04-25T12:48:29.238Z"
   },
   {
    "duration": 158,
    "start_time": "2024-04-25T12:48:50.245Z"
   },
   {
    "duration": 140,
    "start_time": "2024-04-25T12:49:15.622Z"
   },
   {
    "duration": 146,
    "start_time": "2024-04-25T12:50:40.712Z"
   },
   {
    "duration": 17,
    "start_time": "2024-04-25T12:51:46.425Z"
   },
   {
    "duration": 141,
    "start_time": "2024-04-25T12:51:58.008Z"
   },
   {
    "duration": 152,
    "start_time": "2024-04-25T12:52:03.985Z"
   },
   {
    "duration": 155,
    "start_time": "2024-04-25T12:52:14.665Z"
   },
   {
    "duration": 185,
    "start_time": "2024-04-25T12:52:44.322Z"
   },
   {
    "duration": 167,
    "start_time": "2024-04-25T12:52:54.313Z"
   },
   {
    "duration": 178,
    "start_time": "2024-04-25T12:53:04.841Z"
   },
   {
    "duration": 12,
    "start_time": "2024-04-25T12:59:51.304Z"
   },
   {
    "duration": 18,
    "start_time": "2024-04-25T12:59:58.815Z"
   },
   {
    "duration": 21,
    "start_time": "2024-04-25T13:00:20.157Z"
   },
   {
    "duration": 17,
    "start_time": "2024-04-25T13:00:53.128Z"
   },
   {
    "duration": 13,
    "start_time": "2024-04-25T13:00:58.056Z"
   },
   {
    "duration": 14,
    "start_time": "2024-04-25T13:01:01.527Z"
   },
   {
    "duration": 16,
    "start_time": "2024-04-25T13:01:09.721Z"
   },
   {
    "duration": 13,
    "start_time": "2024-04-25T13:02:22.007Z"
   },
   {
    "duration": 109,
    "start_time": "2024-04-25T13:02:52.658Z"
   },
   {
    "duration": 9,
    "start_time": "2024-04-25T13:03:50.818Z"
   },
   {
    "duration": 32,
    "start_time": "2024-04-25T13:05:09.228Z"
   },
   {
    "duration": 19,
    "start_time": "2024-04-25T13:05:18.717Z"
   },
   {
    "duration": 24,
    "start_time": "2024-04-25T13:05:56.164Z"
   },
   {
    "duration": 25,
    "start_time": "2024-04-25T13:06:02.445Z"
   },
   {
    "duration": 23,
    "start_time": "2024-04-25T13:06:08.716Z"
   },
   {
    "duration": 27,
    "start_time": "2024-04-25T13:06:17.821Z"
   },
   {
    "duration": 9,
    "start_time": "2024-04-25T13:13:03.634Z"
   },
   {
    "duration": 29,
    "start_time": "2024-04-25T13:13:12.434Z"
   },
   {
    "duration": 12,
    "start_time": "2024-04-25T13:15:16.346Z"
   },
   {
    "duration": 161,
    "start_time": "2024-04-25T13:15:22.147Z"
   },
   {
    "duration": 188,
    "start_time": "2024-04-25T13:16:01.459Z"
   },
   {
    "duration": 670,
    "start_time": "2024-04-25T13:23:13.043Z"
   },
   {
    "duration": 133,
    "start_time": "2024-04-25T13:23:13.715Z"
   },
   {
    "duration": 4,
    "start_time": "2024-04-25T13:23:13.850Z"
   },
   {
    "duration": 51,
    "start_time": "2024-04-25T13:23:13.856Z"
   },
   {
    "duration": 2125,
    "start_time": "2024-04-25T13:23:13.909Z"
   },
   {
    "duration": 11,
    "start_time": "2024-04-25T13:23:16.035Z"
   },
   {
    "duration": 34,
    "start_time": "2024-04-25T13:23:16.047Z"
   },
   {
    "duration": 40,
    "start_time": "2024-04-25T13:23:16.083Z"
   },
   {
    "duration": 13,
    "start_time": "2024-04-25T13:23:16.125Z"
   },
   {
    "duration": 13,
    "start_time": "2024-04-25T13:23:16.141Z"
   },
   {
    "duration": 38,
    "start_time": "2024-04-25T13:23:16.156Z"
   },
   {
    "duration": 22,
    "start_time": "2024-04-25T13:23:16.195Z"
   },
   {
    "duration": 18,
    "start_time": "2024-04-25T13:23:16.219Z"
   },
   {
    "duration": 44,
    "start_time": "2024-04-25T13:23:16.239Z"
   },
   {
    "duration": 20,
    "start_time": "2024-04-25T13:23:16.284Z"
   },
   {
    "duration": 21,
    "start_time": "2024-04-25T13:23:16.306Z"
   },
   {
    "duration": 14,
    "start_time": "2024-04-25T13:23:16.328Z"
   },
   {
    "duration": 4,
    "start_time": "2024-04-25T13:23:16.344Z"
   },
   {
    "duration": 63,
    "start_time": "2024-04-25T13:23:16.350Z"
   },
   {
    "duration": 405,
    "start_time": "2024-04-25T13:23:16.415Z"
   },
   {
    "duration": 25,
    "start_time": "2024-04-25T13:23:16.822Z"
   },
   {
    "duration": 22,
    "start_time": "2024-04-25T13:23:16.848Z"
   },
   {
    "duration": 260,
    "start_time": "2024-04-25T13:23:16.872Z"
   },
   {
    "duration": 369,
    "start_time": "2024-04-25T13:23:17.134Z"
   },
   {
    "duration": 11,
    "start_time": "2024-04-25T13:23:17.505Z"
   },
   {
    "duration": 285,
    "start_time": "2024-04-25T13:23:17.518Z"
   },
   {
    "duration": 253,
    "start_time": "2024-04-25T13:23:17.804Z"
   },
   {
    "duration": 9,
    "start_time": "2024-04-25T13:23:18.061Z"
   },
   {
    "duration": 263,
    "start_time": "2024-04-25T13:23:18.081Z"
   },
   {
    "duration": 250,
    "start_time": "2024-04-25T13:23:18.345Z"
   },
   {
    "duration": 9,
    "start_time": "2024-04-25T13:23:18.597Z"
   },
   {
    "duration": 321,
    "start_time": "2024-04-25T13:23:18.607Z"
   },
   {
    "duration": 363,
    "start_time": "2024-04-25T13:23:18.930Z"
   },
   {
    "duration": 9,
    "start_time": "2024-04-25T13:23:19.294Z"
   },
   {
    "duration": 178,
    "start_time": "2024-04-25T13:23:19.304Z"
   },
   {
    "duration": 159,
    "start_time": "2024-04-25T13:23:19.484Z"
   },
   {
    "duration": 9,
    "start_time": "2024-04-25T13:23:19.645Z"
   },
   {
    "duration": 17,
    "start_time": "2024-04-25T13:23:19.656Z"
   },
   {
    "duration": 154,
    "start_time": "2024-04-25T13:23:19.674Z"
   },
   {
    "duration": 10,
    "start_time": "2024-04-25T13:23:19.830Z"
   },
   {
    "duration": 227,
    "start_time": "2024-04-25T13:23:19.842Z"
   },
   {
    "duration": 17,
    "start_time": "2024-04-25T13:23:20.070Z"
   },
   {
    "duration": 427,
    "start_time": "2024-04-25T13:23:20.088Z"
   },
   {
    "duration": 9,
    "start_time": "2024-04-25T13:23:20.517Z"
   },
   {
    "duration": 181,
    "start_time": "2024-04-25T13:23:20.528Z"
   },
   {
    "duration": 8,
    "start_time": "2024-04-25T13:23:20.711Z"
   },
   {
    "duration": 187,
    "start_time": "2024-04-25T13:23:20.721Z"
   },
   {
    "duration": 9,
    "start_time": "2024-04-25T13:23:20.910Z"
   },
   {
    "duration": 169,
    "start_time": "2024-04-25T13:23:20.920Z"
   },
   {
    "duration": 8,
    "start_time": "2024-04-25T13:23:21.091Z"
   },
   {
    "duration": 238,
    "start_time": "2024-04-25T13:23:21.100Z"
   },
   {
    "duration": 9,
    "start_time": "2024-04-25T13:23:21.340Z"
   },
   {
    "duration": 141,
    "start_time": "2024-04-25T13:23:21.350Z"
   },
   {
    "duration": 10,
    "start_time": "2024-04-25T13:23:21.493Z"
   },
   {
    "duration": 278,
    "start_time": "2024-04-25T13:23:21.505Z"
   },
   {
    "duration": 22,
    "start_time": "2024-04-25T13:23:21.785Z"
   },
   {
    "duration": 250,
    "start_time": "2024-04-25T13:23:21.808Z"
   },
   {
    "duration": 180,
    "start_time": "2024-04-25T13:23:22.060Z"
   },
   {
    "duration": 150,
    "start_time": "2024-04-25T13:23:22.242Z"
   },
   {
    "duration": 200,
    "start_time": "2024-04-25T13:23:22.393Z"
   },
   {
    "duration": 165,
    "start_time": "2024-04-25T13:23:22.595Z"
   },
   {
    "duration": 175,
    "start_time": "2024-04-25T13:23:22.762Z"
   },
   {
    "duration": 176,
    "start_time": "2024-04-25T13:23:22.939Z"
   },
   {
    "duration": 235,
    "start_time": "2024-04-25T13:23:23.116Z"
   },
   {
    "duration": 9,
    "start_time": "2024-04-25T13:23:23.353Z"
   },
   {
    "duration": 46,
    "start_time": "2024-04-25T13:23:23.363Z"
   },
   {
    "duration": 32,
    "start_time": "2024-04-25T13:23:23.411Z"
   },
   {
    "duration": 188,
    "start_time": "2024-04-25T13:23:23.444Z"
   },
   {
    "duration": 620,
    "start_time": "2024-04-25T18:39:01.605Z"
   },
   {
    "duration": 116,
    "start_time": "2024-04-25T18:39:02.227Z"
   },
   {
    "duration": 4,
    "start_time": "2024-04-25T18:39:02.344Z"
   },
   {
    "duration": 28,
    "start_time": "2024-04-25T18:39:02.360Z"
   },
   {
    "duration": 1993,
    "start_time": "2024-04-25T18:39:02.389Z"
   },
   {
    "duration": 9,
    "start_time": "2024-04-25T18:39:04.384Z"
   },
   {
    "duration": 12,
    "start_time": "2024-04-25T18:39:04.395Z"
   },
   {
    "duration": 30,
    "start_time": "2024-04-25T18:39:04.408Z"
   },
   {
    "duration": 25,
    "start_time": "2024-04-25T18:39:04.440Z"
   },
   {
    "duration": 14,
    "start_time": "2024-04-25T18:39:04.468Z"
   },
   {
    "duration": 22,
    "start_time": "2024-04-25T18:39:04.483Z"
   },
   {
    "duration": 25,
    "start_time": "2024-04-25T18:39:04.507Z"
   },
   {
    "duration": 22,
    "start_time": "2024-04-25T18:39:04.561Z"
   },
   {
    "duration": 29,
    "start_time": "2024-04-25T18:39:04.585Z"
   },
   {
    "duration": 52,
    "start_time": "2024-04-25T18:39:04.617Z"
   },
   {
    "duration": 26,
    "start_time": "2024-04-25T18:39:04.671Z"
   },
   {
    "duration": 12,
    "start_time": "2024-04-25T18:39:04.698Z"
   },
   {
    "duration": 4,
    "start_time": "2024-04-25T18:39:04.711Z"
   },
   {
    "duration": 58,
    "start_time": "2024-04-25T18:39:04.717Z"
   },
   {
    "duration": 362,
    "start_time": "2024-04-25T18:39:04.776Z"
   },
   {
    "duration": 30,
    "start_time": "2024-04-25T18:39:05.140Z"
   },
   {
    "duration": 14,
    "start_time": "2024-04-25T18:39:05.171Z"
   },
   {
    "duration": 211,
    "start_time": "2024-04-25T18:39:05.186Z"
   },
   {
    "duration": 301,
    "start_time": "2024-04-25T18:39:05.399Z"
   },
   {
    "duration": 9,
    "start_time": "2024-04-25T18:39:05.701Z"
   },
   {
    "duration": 255,
    "start_time": "2024-04-25T18:39:05.712Z"
   },
   {
    "duration": 265,
    "start_time": "2024-04-25T18:39:05.969Z"
   },
   {
    "duration": 10,
    "start_time": "2024-04-25T18:39:06.238Z"
   },
   {
    "duration": 225,
    "start_time": "2024-04-25T18:39:06.261Z"
   },
   {
    "duration": 229,
    "start_time": "2024-04-25T18:39:06.488Z"
   },
   {
    "duration": 9,
    "start_time": "2024-04-25T18:39:06.718Z"
   },
   {
    "duration": 256,
    "start_time": "2024-04-25T18:39:06.728Z"
   },
   {
    "duration": 347,
    "start_time": "2024-04-25T18:39:06.986Z"
   },
   {
    "duration": 7,
    "start_time": "2024-04-25T18:39:07.336Z"
   },
   {
    "duration": 148,
    "start_time": "2024-04-25T18:39:07.345Z"
   },
   {
    "duration": 147,
    "start_time": "2024-04-25T18:39:07.494Z"
   },
   {
    "duration": 20,
    "start_time": "2024-04-25T18:39:07.643Z"
   },
   {
    "duration": 5,
    "start_time": "2024-04-25T18:39:07.665Z"
   },
   {
    "duration": 151,
    "start_time": "2024-04-25T18:39:07.672Z"
   },
   {
    "duration": 13,
    "start_time": "2024-04-25T18:39:07.825Z"
   },
   {
    "duration": 134,
    "start_time": "2024-04-25T18:39:07.840Z"
   },
   {
    "duration": 9,
    "start_time": "2024-04-25T18:39:07.975Z"
   },
   {
    "duration": 245,
    "start_time": "2024-04-25T18:39:07.985Z"
   },
   {
    "duration": 8,
    "start_time": "2024-04-25T18:39:08.231Z"
   },
   {
    "duration": 147,
    "start_time": "2024-04-25T18:39:08.241Z"
   },
   {
    "duration": 8,
    "start_time": "2024-04-25T18:39:08.390Z"
   },
   {
    "duration": 147,
    "start_time": "2024-04-25T18:39:08.399Z"
   },
   {
    "duration": 16,
    "start_time": "2024-04-25T18:39:08.548Z"
   },
   {
    "duration": 153,
    "start_time": "2024-04-25T18:39:08.565Z"
   },
   {
    "duration": 9,
    "start_time": "2024-04-25T18:39:08.720Z"
   },
   {
    "duration": 212,
    "start_time": "2024-04-25T18:39:08.730Z"
   },
   {
    "duration": 17,
    "start_time": "2024-04-25T18:39:08.944Z"
   },
   {
    "duration": 119,
    "start_time": "2024-04-25T18:39:08.963Z"
   },
   {
    "duration": 8,
    "start_time": "2024-04-25T18:39:09.084Z"
   },
   {
    "duration": 272,
    "start_time": "2024-04-25T18:39:09.094Z"
   },
   {
    "duration": 23,
    "start_time": "2024-04-25T18:39:09.368Z"
   },
   {
    "duration": 146,
    "start_time": "2024-04-25T18:39:09.393Z"
   },
   {
    "duration": 153,
    "start_time": "2024-04-25T18:39:09.541Z"
   },
   {
    "duration": 131,
    "start_time": "2024-04-25T18:39:09.695Z"
   },
   {
    "duration": 145,
    "start_time": "2024-04-25T18:39:09.828Z"
   },
   {
    "duration": 141,
    "start_time": "2024-04-25T18:39:09.975Z"
   },
   {
    "duration": 153,
    "start_time": "2024-04-25T18:39:10.118Z"
   },
   {
    "duration": 159,
    "start_time": "2024-04-25T18:39:10.273Z"
   },
   {
    "duration": 232,
    "start_time": "2024-04-25T18:39:10.434Z"
   },
   {
    "duration": 9,
    "start_time": "2024-04-25T18:39:10.668Z"
   },
   {
    "duration": 21,
    "start_time": "2024-04-25T18:39:10.678Z"
   },
   {
    "duration": 26,
    "start_time": "2024-04-25T18:39:10.701Z"
   },
   {
    "duration": 207,
    "start_time": "2024-04-25T18:39:10.729Z"
   },
   {
    "duration": 875,
    "start_time": "2024-04-25T19:39:59.061Z"
   },
   {
    "duration": 319,
    "start_time": "2024-04-25T19:39:59.939Z"
   },
   {
    "duration": 4,
    "start_time": "2024-04-25T19:40:00.260Z"
   },
   {
    "duration": 196,
    "start_time": "2024-04-25T19:40:00.267Z"
   },
   {
    "duration": 2257,
    "start_time": "2024-04-25T19:40:00.465Z"
   },
   {
    "duration": 10,
    "start_time": "2024-04-25T19:40:02.724Z"
   },
   {
    "duration": 32,
    "start_time": "2024-04-25T19:40:02.736Z"
   },
   {
    "duration": 35,
    "start_time": "2024-04-25T19:40:02.769Z"
   },
   {
    "duration": 14,
    "start_time": "2024-04-25T19:40:02.806Z"
   },
   {
    "duration": 23,
    "start_time": "2024-04-25T19:40:02.823Z"
   },
   {
    "duration": 24,
    "start_time": "2024-04-25T19:40:02.848Z"
   },
   {
    "duration": 22,
    "start_time": "2024-04-25T19:40:02.874Z"
   },
   {
    "duration": 19,
    "start_time": "2024-04-25T19:40:02.898Z"
   },
   {
    "duration": 28,
    "start_time": "2024-04-25T19:40:02.918Z"
   },
   {
    "duration": 39,
    "start_time": "2024-04-25T19:40:02.947Z"
   },
   {
    "duration": 23,
    "start_time": "2024-04-25T19:40:02.988Z"
   },
   {
    "duration": 25,
    "start_time": "2024-04-25T19:40:03.013Z"
   },
   {
    "duration": 20,
    "start_time": "2024-04-25T19:40:03.039Z"
   },
   {
    "duration": 50,
    "start_time": "2024-04-25T19:40:03.061Z"
   },
   {
    "duration": 416,
    "start_time": "2024-04-25T19:40:03.114Z"
   },
   {
    "duration": 41,
    "start_time": "2024-04-25T19:40:03.532Z"
   },
   {
    "duration": 10,
    "start_time": "2024-04-25T19:40:03.575Z"
   },
   {
    "duration": 254,
    "start_time": "2024-04-25T19:40:03.586Z"
   },
   {
    "duration": 403,
    "start_time": "2024-04-25T19:40:03.841Z"
   },
   {
    "duration": 10,
    "start_time": "2024-04-25T19:40:04.245Z"
   },
   {
    "duration": 287,
    "start_time": "2024-04-25T19:40:04.256Z"
   },
   {
    "duration": 276,
    "start_time": "2024-04-25T19:40:04.545Z"
   },
   {
    "duration": 16,
    "start_time": "2024-04-25T19:40:04.825Z"
   },
   {
    "duration": 268,
    "start_time": "2024-04-25T19:40:04.842Z"
   },
   {
    "duration": 250,
    "start_time": "2024-04-25T19:40:05.111Z"
   },
   {
    "duration": 15,
    "start_time": "2024-04-25T19:40:05.363Z"
   },
   {
    "duration": 290,
    "start_time": "2024-04-25T19:40:05.380Z"
   },
   {
    "duration": 354,
    "start_time": "2024-04-25T19:40:05.672Z"
   },
   {
    "duration": 9,
    "start_time": "2024-04-25T19:40:06.028Z"
   },
   {
    "duration": 155,
    "start_time": "2024-04-25T19:40:06.038Z"
   },
   {
    "duration": 178,
    "start_time": "2024-04-25T19:40:06.195Z"
   },
   {
    "duration": 10,
    "start_time": "2024-04-25T19:40:06.374Z"
   },
   {
    "duration": 59,
    "start_time": "2024-04-25T19:40:06.385Z"
   },
   {
    "duration": 156,
    "start_time": "2024-04-25T19:40:06.446Z"
   },
   {
    "duration": 10,
    "start_time": "2024-04-25T19:40:06.604Z"
   },
   {
    "duration": 153,
    "start_time": "2024-04-25T19:40:06.616Z"
   },
   {
    "duration": 9,
    "start_time": "2024-04-25T19:40:06.771Z"
   },
   {
    "duration": 294,
    "start_time": "2024-04-25T19:40:06.782Z"
   },
   {
    "duration": 11,
    "start_time": "2024-04-25T19:40:07.078Z"
   },
   {
    "duration": 184,
    "start_time": "2024-04-25T19:40:07.090Z"
   },
   {
    "duration": 10,
    "start_time": "2024-04-25T19:40:07.276Z"
   },
   {
    "duration": 178,
    "start_time": "2024-04-25T19:40:07.287Z"
   },
   {
    "duration": 14,
    "start_time": "2024-04-25T19:40:07.467Z"
   },
   {
    "duration": 177,
    "start_time": "2024-04-25T19:40:07.483Z"
   },
   {
    "duration": 13,
    "start_time": "2024-04-25T19:40:07.661Z"
   },
   {
    "duration": 237,
    "start_time": "2024-04-25T19:40:07.676Z"
   },
   {
    "duration": 11,
    "start_time": "2024-04-25T19:40:07.915Z"
   },
   {
    "duration": 175,
    "start_time": "2024-04-25T19:40:07.928Z"
   },
   {
    "duration": 22,
    "start_time": "2024-04-25T19:40:08.104Z"
   },
   {
    "duration": 289,
    "start_time": "2024-04-25T19:40:08.128Z"
   },
   {
    "duration": 25,
    "start_time": "2024-04-25T19:40:08.419Z"
   },
   {
    "duration": 160,
    "start_time": "2024-04-25T19:40:08.446Z"
   },
   {
    "duration": 171,
    "start_time": "2024-04-25T19:40:08.607Z"
   },
   {
    "duration": 156,
    "start_time": "2024-04-25T19:40:08.780Z"
   },
   {
    "duration": 164,
    "start_time": "2024-04-25T19:40:08.938Z"
   },
   {
    "duration": 152,
    "start_time": "2024-04-25T19:40:09.104Z"
   },
   {
    "duration": 167,
    "start_time": "2024-04-25T19:40:09.257Z"
   },
   {
    "duration": 198,
    "start_time": "2024-04-25T19:40:09.425Z"
   },
   {
    "duration": 233,
    "start_time": "2024-04-25T19:40:09.625Z"
   },
   {
    "duration": 18,
    "start_time": "2024-04-25T19:40:09.860Z"
   },
   {
    "duration": 27,
    "start_time": "2024-04-25T19:40:09.880Z"
   },
   {
    "duration": 37,
    "start_time": "2024-04-25T19:40:09.909Z"
   },
   {
    "duration": 195,
    "start_time": "2024-04-25T19:40:09.948Z"
   },
   {
    "duration": 55,
    "start_time": "2024-04-25T19:41:46.228Z"
   },
   {
    "duration": 14,
    "start_time": "2024-04-25T19:42:15.973Z"
   },
   {
    "duration": 20,
    "start_time": "2024-04-25T19:42:53.912Z"
   },
   {
    "duration": 669,
    "start_time": "2024-04-25T19:48:54.339Z"
   },
   {
    "duration": 117,
    "start_time": "2024-04-25T19:48:55.011Z"
   },
   {
    "duration": 4,
    "start_time": "2024-04-25T19:48:55.130Z"
   },
   {
    "duration": 32,
    "start_time": "2024-04-25T19:48:55.136Z"
   },
   {
    "duration": 2067,
    "start_time": "2024-04-25T19:48:55.174Z"
   },
   {
    "duration": 10,
    "start_time": "2024-04-25T19:48:57.243Z"
   },
   {
    "duration": 13,
    "start_time": "2024-04-25T19:48:57.255Z"
   },
   {
    "duration": 25,
    "start_time": "2024-04-25T19:48:57.273Z"
   },
   {
    "duration": 21,
    "start_time": "2024-04-25T19:48:57.299Z"
   },
   {
    "duration": 12,
    "start_time": "2024-04-25T19:48:57.321Z"
   },
   {
    "duration": 13,
    "start_time": "2024-04-25T19:48:57.335Z"
   },
   {
    "duration": 35,
    "start_time": "2024-04-25T19:48:57.350Z"
   },
   {
    "duration": 21,
    "start_time": "2024-04-25T19:48:57.387Z"
   },
   {
    "duration": 38,
    "start_time": "2024-04-25T19:48:57.411Z"
   },
   {
    "duration": 22,
    "start_time": "2024-04-25T19:48:57.451Z"
   },
   {
    "duration": 32,
    "start_time": "2024-04-25T19:48:57.474Z"
   },
   {
    "duration": 47,
    "start_time": "2024-04-25T19:48:57.507Z"
   },
   {
    "duration": 13,
    "start_time": "2024-04-25T19:48:57.556Z"
   },
   {
    "duration": 14,
    "start_time": "2024-04-25T19:48:57.571Z"
   },
   {
    "duration": 87,
    "start_time": "2024-04-25T19:48:57.587Z"
   },
   {
    "duration": 476,
    "start_time": "2024-04-25T19:48:57.675Z"
   },
   {
    "duration": 48,
    "start_time": "2024-04-25T19:48:58.152Z"
   },
   {
    "duration": 8,
    "start_time": "2024-04-25T19:48:58.202Z"
   },
   {
    "duration": 239,
    "start_time": "2024-04-25T19:48:58.212Z"
   },
   {
    "duration": 337,
    "start_time": "2024-04-25T19:48:58.453Z"
   },
   {
    "duration": 9,
    "start_time": "2024-04-25T19:48:58.791Z"
   },
   {
    "duration": 264,
    "start_time": "2024-04-25T19:48:58.801Z"
   },
   {
    "duration": 269,
    "start_time": "2024-04-25T19:48:59.066Z"
   },
   {
    "duration": 10,
    "start_time": "2024-04-25T19:48:59.337Z"
   },
   {
    "duration": 259,
    "start_time": "2024-04-25T19:48:59.348Z"
   },
   {
    "duration": 239,
    "start_time": "2024-04-25T19:48:59.609Z"
   },
   {
    "duration": 25,
    "start_time": "2024-04-25T19:48:59.850Z"
   },
   {
    "duration": 279,
    "start_time": "2024-04-25T19:48:59.876Z"
   },
   {
    "duration": 500,
    "start_time": "2024-04-25T19:49:00.156Z"
   },
   {
    "duration": 17,
    "start_time": "2024-04-25T19:49:00.658Z"
   },
   {
    "duration": 195,
    "start_time": "2024-04-25T19:49:00.676Z"
   },
   {
    "duration": 147,
    "start_time": "2024-04-25T19:49:00.873Z"
   },
   {
    "duration": 9,
    "start_time": "2024-04-25T19:49:01.021Z"
   },
   {
    "duration": 105,
    "start_time": "2024-04-25T19:49:01.031Z"
   },
   {
    "duration": 55,
    "start_time": "2024-04-26T06:44:53.825Z"
   },
   {
    "duration": 875,
    "start_time": "2024-04-26T06:45:08.082Z"
   },
   {
    "duration": 308,
    "start_time": "2024-04-26T06:45:08.959Z"
   },
   {
    "duration": 4,
    "start_time": "2024-04-26T06:45:09.268Z"
   },
   {
    "duration": 33,
    "start_time": "2024-04-26T06:45:09.273Z"
   },
   {
    "duration": 2138,
    "start_time": "2024-04-26T06:45:09.308Z"
   },
   {
    "duration": 11,
    "start_time": "2024-04-26T06:45:11.448Z"
   },
   {
    "duration": 19,
    "start_time": "2024-04-26T06:45:11.461Z"
   },
   {
    "duration": 20,
    "start_time": "2024-04-26T06:45:11.482Z"
   },
   {
    "duration": 21,
    "start_time": "2024-04-26T06:45:11.504Z"
   },
   {
    "duration": 110,
    "start_time": "2024-04-26T06:45:11.526Z"
   },
   {
    "duration": 0,
    "start_time": "2024-04-26T06:45:11.639Z"
   },
   {
    "duration": 0,
    "start_time": "2024-04-26T06:45:11.641Z"
   },
   {
    "duration": 0,
    "start_time": "2024-04-26T06:45:11.642Z"
   },
   {
    "duration": 0,
    "start_time": "2024-04-26T06:45:11.643Z"
   },
   {
    "duration": 0,
    "start_time": "2024-04-26T06:45:11.645Z"
   },
   {
    "duration": 0,
    "start_time": "2024-04-26T06:45:11.646Z"
   },
   {
    "duration": 0,
    "start_time": "2024-04-26T06:45:11.648Z"
   },
   {
    "duration": 0,
    "start_time": "2024-04-26T06:45:11.649Z"
   },
   {
    "duration": 0,
    "start_time": "2024-04-26T06:45:11.650Z"
   },
   {
    "duration": 0,
    "start_time": "2024-04-26T06:45:11.651Z"
   },
   {
    "duration": 0,
    "start_time": "2024-04-26T06:45:11.652Z"
   },
   {
    "duration": 0,
    "start_time": "2024-04-26T06:45:11.673Z"
   },
   {
    "duration": 0,
    "start_time": "2024-04-26T06:45:11.674Z"
   },
   {
    "duration": 0,
    "start_time": "2024-04-26T06:45:11.675Z"
   },
   {
    "duration": 0,
    "start_time": "2024-04-26T06:45:11.676Z"
   },
   {
    "duration": 0,
    "start_time": "2024-04-26T06:45:11.677Z"
   },
   {
    "duration": 0,
    "start_time": "2024-04-26T06:45:11.678Z"
   },
   {
    "duration": 0,
    "start_time": "2024-04-26T06:45:11.679Z"
   },
   {
    "duration": 0,
    "start_time": "2024-04-26T06:45:11.680Z"
   },
   {
    "duration": 0,
    "start_time": "2024-04-26T06:45:11.681Z"
   },
   {
    "duration": 0,
    "start_time": "2024-04-26T06:45:11.682Z"
   },
   {
    "duration": 0,
    "start_time": "2024-04-26T06:45:11.683Z"
   },
   {
    "duration": 0,
    "start_time": "2024-04-26T06:45:11.684Z"
   },
   {
    "duration": 0,
    "start_time": "2024-04-26T06:45:11.685Z"
   },
   {
    "duration": 0,
    "start_time": "2024-04-26T06:45:11.686Z"
   },
   {
    "duration": 0,
    "start_time": "2024-04-26T06:45:11.687Z"
   },
   {
    "duration": 0,
    "start_time": "2024-04-26T06:45:11.688Z"
   },
   {
    "duration": 0,
    "start_time": "2024-04-26T06:45:11.689Z"
   },
   {
    "duration": 0,
    "start_time": "2024-04-26T06:45:11.690Z"
   },
   {
    "duration": 0,
    "start_time": "2024-04-26T06:45:11.691Z"
   },
   {
    "duration": 0,
    "start_time": "2024-04-26T06:45:11.692Z"
   },
   {
    "duration": 0,
    "start_time": "2024-04-26T06:45:11.693Z"
   },
   {
    "duration": 0,
    "start_time": "2024-04-26T06:45:11.694Z"
   },
   {
    "duration": 0,
    "start_time": "2024-04-26T06:45:11.695Z"
   },
   {
    "duration": 0,
    "start_time": "2024-04-26T06:45:11.696Z"
   },
   {
    "duration": 0,
    "start_time": "2024-04-26T06:45:11.697Z"
   },
   {
    "duration": 0,
    "start_time": "2024-04-26T06:45:11.698Z"
   },
   {
    "duration": 0,
    "start_time": "2024-04-26T06:45:11.699Z"
   },
   {
    "duration": 0,
    "start_time": "2024-04-26T06:45:11.700Z"
   },
   {
    "duration": 0,
    "start_time": "2024-04-26T06:45:11.701Z"
   },
   {
    "duration": 0,
    "start_time": "2024-04-26T06:45:11.702Z"
   },
   {
    "duration": 0,
    "start_time": "2024-04-26T06:45:11.703Z"
   },
   {
    "duration": 0,
    "start_time": "2024-04-26T06:45:11.704Z"
   },
   {
    "duration": 0,
    "start_time": "2024-04-26T06:45:11.705Z"
   },
   {
    "duration": 0,
    "start_time": "2024-04-26T06:45:11.706Z"
   },
   {
    "duration": 0,
    "start_time": "2024-04-26T06:45:11.707Z"
   },
   {
    "duration": 0,
    "start_time": "2024-04-26T06:45:11.708Z"
   },
   {
    "duration": 0,
    "start_time": "2024-04-26T06:45:11.709Z"
   },
   {
    "duration": 0,
    "start_time": "2024-04-26T06:45:11.710Z"
   },
   {
    "duration": 0,
    "start_time": "2024-04-26T06:45:11.773Z"
   },
   {
    "duration": 0,
    "start_time": "2024-04-26T06:45:11.774Z"
   },
   {
    "duration": 0,
    "start_time": "2024-04-26T06:45:11.775Z"
   },
   {
    "duration": 0,
    "start_time": "2024-04-26T06:45:11.777Z"
   },
   {
    "duration": 0,
    "start_time": "2024-04-26T06:45:11.777Z"
   },
   {
    "duration": 1,
    "start_time": "2024-04-26T06:45:11.778Z"
   },
   {
    "duration": 0,
    "start_time": "2024-04-26T06:45:11.779Z"
   },
   {
    "duration": 0,
    "start_time": "2024-04-26T06:45:11.781Z"
   },
   {
    "duration": 0,
    "start_time": "2024-04-26T06:45:11.782Z"
   },
   {
    "duration": 0,
    "start_time": "2024-04-26T06:45:11.783Z"
   },
   {
    "duration": 0,
    "start_time": "2024-04-26T06:45:11.784Z"
   },
   {
    "duration": 191,
    "start_time": "2024-04-26T06:45:38.054Z"
   },
   {
    "duration": 217,
    "start_time": "2024-04-26T06:48:03.758Z"
   },
   {
    "duration": 327,
    "start_time": "2024-04-26T06:48:19.231Z"
   },
   {
    "duration": 16,
    "start_time": "2024-04-26T07:16:01.755Z"
   },
   {
    "duration": 7,
    "start_time": "2024-04-26T07:16:25.593Z"
   },
   {
    "duration": 13,
    "start_time": "2024-04-26T07:16:34.857Z"
   },
   {
    "duration": 11,
    "start_time": "2024-04-26T07:16:45.026Z"
   },
   {
    "duration": 18,
    "start_time": "2024-04-26T07:20:18.258Z"
   },
   {
    "duration": 630,
    "start_time": "2024-04-26T07:20:25.630Z"
   },
   {
    "duration": 119,
    "start_time": "2024-04-26T07:20:26.262Z"
   },
   {
    "duration": 4,
    "start_time": "2024-04-26T07:20:26.382Z"
   },
   {
    "duration": 41,
    "start_time": "2024-04-26T07:20:26.388Z"
   },
   {
    "duration": 2159,
    "start_time": "2024-04-26T07:20:26.431Z"
   },
   {
    "duration": 10,
    "start_time": "2024-04-26T07:20:28.591Z"
   },
   {
    "duration": 39,
    "start_time": "2024-04-26T07:20:28.603Z"
   },
   {
    "duration": 19,
    "start_time": "2024-04-26T07:20:28.644Z"
   },
   {
    "duration": 20,
    "start_time": "2024-04-26T07:20:28.664Z"
   },
   {
    "duration": 94,
    "start_time": "2024-04-26T07:20:28.685Z"
   },
   {
    "duration": 0,
    "start_time": "2024-04-26T07:20:28.782Z"
   },
   {
    "duration": 0,
    "start_time": "2024-04-26T07:20:28.783Z"
   },
   {
    "duration": 0,
    "start_time": "2024-04-26T07:20:28.784Z"
   },
   {
    "duration": 0,
    "start_time": "2024-04-26T07:20:28.785Z"
   },
   {
    "duration": 0,
    "start_time": "2024-04-26T07:20:28.786Z"
   },
   {
    "duration": 0,
    "start_time": "2024-04-26T07:20:28.787Z"
   },
   {
    "duration": 0,
    "start_time": "2024-04-26T07:20:28.788Z"
   },
   {
    "duration": 0,
    "start_time": "2024-04-26T07:20:28.789Z"
   },
   {
    "duration": 0,
    "start_time": "2024-04-26T07:20:28.790Z"
   },
   {
    "duration": 0,
    "start_time": "2024-04-26T07:20:28.791Z"
   },
   {
    "duration": 0,
    "start_time": "2024-04-26T07:20:28.792Z"
   },
   {
    "duration": 0,
    "start_time": "2024-04-26T07:20:28.793Z"
   },
   {
    "duration": 0,
    "start_time": "2024-04-26T07:20:28.794Z"
   },
   {
    "duration": 0,
    "start_time": "2024-04-26T07:20:28.795Z"
   },
   {
    "duration": 0,
    "start_time": "2024-04-26T07:20:28.796Z"
   },
   {
    "duration": 0,
    "start_time": "2024-04-26T07:20:28.797Z"
   },
   {
    "duration": 0,
    "start_time": "2024-04-26T07:20:28.798Z"
   },
   {
    "duration": 0,
    "start_time": "2024-04-26T07:20:28.799Z"
   },
   {
    "duration": 0,
    "start_time": "2024-04-26T07:20:28.800Z"
   },
   {
    "duration": 0,
    "start_time": "2024-04-26T07:20:28.801Z"
   },
   {
    "duration": 0,
    "start_time": "2024-04-26T07:20:28.802Z"
   },
   {
    "duration": 0,
    "start_time": "2024-04-26T07:20:28.803Z"
   },
   {
    "duration": 0,
    "start_time": "2024-04-26T07:20:28.804Z"
   },
   {
    "duration": 0,
    "start_time": "2024-04-26T07:20:28.805Z"
   },
   {
    "duration": 0,
    "start_time": "2024-04-26T07:20:28.806Z"
   },
   {
    "duration": 0,
    "start_time": "2024-04-26T07:20:28.807Z"
   },
   {
    "duration": 0,
    "start_time": "2024-04-26T07:20:28.808Z"
   },
   {
    "duration": 0,
    "start_time": "2024-04-26T07:20:28.809Z"
   },
   {
    "duration": 0,
    "start_time": "2024-04-26T07:20:28.810Z"
   },
   {
    "duration": 0,
    "start_time": "2024-04-26T07:20:28.811Z"
   },
   {
    "duration": 0,
    "start_time": "2024-04-26T07:20:28.812Z"
   },
   {
    "duration": 0,
    "start_time": "2024-04-26T07:20:28.813Z"
   },
   {
    "duration": 0,
    "start_time": "2024-04-26T07:20:28.814Z"
   },
   {
    "duration": 0,
    "start_time": "2024-04-26T07:20:28.815Z"
   },
   {
    "duration": 0,
    "start_time": "2024-04-26T07:20:28.815Z"
   },
   {
    "duration": 0,
    "start_time": "2024-04-26T07:20:28.816Z"
   },
   {
    "duration": 0,
    "start_time": "2024-04-26T07:20:28.817Z"
   },
   {
    "duration": 0,
    "start_time": "2024-04-26T07:20:28.818Z"
   },
   {
    "duration": 0,
    "start_time": "2024-04-26T07:20:28.818Z"
   },
   {
    "duration": 0,
    "start_time": "2024-04-26T07:20:28.819Z"
   },
   {
    "duration": 0,
    "start_time": "2024-04-26T07:20:28.819Z"
   },
   {
    "duration": 0,
    "start_time": "2024-04-26T07:20:28.873Z"
   },
   {
    "duration": 0,
    "start_time": "2024-04-26T07:20:28.875Z"
   },
   {
    "duration": 0,
    "start_time": "2024-04-26T07:20:28.876Z"
   },
   {
    "duration": 0,
    "start_time": "2024-04-26T07:20:28.877Z"
   },
   {
    "duration": 0,
    "start_time": "2024-04-26T07:20:28.878Z"
   },
   {
    "duration": 0,
    "start_time": "2024-04-26T07:20:28.879Z"
   },
   {
    "duration": 0,
    "start_time": "2024-04-26T07:20:28.880Z"
   },
   {
    "duration": 0,
    "start_time": "2024-04-26T07:20:28.882Z"
   },
   {
    "duration": 0,
    "start_time": "2024-04-26T07:20:28.882Z"
   },
   {
    "duration": 0,
    "start_time": "2024-04-26T07:20:28.884Z"
   },
   {
    "duration": 0,
    "start_time": "2024-04-26T07:20:28.885Z"
   },
   {
    "duration": 0,
    "start_time": "2024-04-26T07:20:28.886Z"
   },
   {
    "duration": 0,
    "start_time": "2024-04-26T07:20:28.887Z"
   },
   {
    "duration": 0,
    "start_time": "2024-04-26T07:20:28.888Z"
   },
   {
    "duration": 0,
    "start_time": "2024-04-26T07:20:28.889Z"
   },
   {
    "duration": 0,
    "start_time": "2024-04-26T07:20:28.890Z"
   },
   {
    "duration": 0,
    "start_time": "2024-04-26T07:20:28.891Z"
   },
   {
    "duration": 0,
    "start_time": "2024-04-26T07:20:28.892Z"
   },
   {
    "duration": 0,
    "start_time": "2024-04-26T07:20:28.893Z"
   },
   {
    "duration": 0,
    "start_time": "2024-04-26T07:20:28.894Z"
   },
   {
    "duration": 25,
    "start_time": "2024-04-26T07:23:46.598Z"
   },
   {
    "duration": 41,
    "start_time": "2024-04-26T07:23:50.423Z"
   },
   {
    "duration": 8,
    "start_time": "2024-04-26T07:24:12.537Z"
   },
   {
    "duration": 600,
    "start_time": "2024-04-26T07:24:26.758Z"
   },
   {
    "duration": 21,
    "start_time": "2024-04-26T07:24:47.822Z"
   },
   {
    "duration": 23,
    "start_time": "2024-04-26T07:25:14.255Z"
   },
   {
    "duration": 724,
    "start_time": "2024-04-26T07:25:31.443Z"
   },
   {
    "duration": 135,
    "start_time": "2024-04-26T07:25:32.169Z"
   },
   {
    "duration": 3,
    "start_time": "2024-04-26T07:25:32.306Z"
   },
   {
    "duration": 70,
    "start_time": "2024-04-26T07:25:32.311Z"
   },
   {
    "duration": 2303,
    "start_time": "2024-04-26T07:25:32.383Z"
   },
   {
    "duration": 16,
    "start_time": "2024-04-26T07:25:34.688Z"
   },
   {
    "duration": 37,
    "start_time": "2024-04-26T07:25:34.706Z"
   },
   {
    "duration": 28,
    "start_time": "2024-04-26T07:25:34.745Z"
   },
   {
    "duration": 31,
    "start_time": "2024-04-26T07:25:34.775Z"
   },
   {
    "duration": 10,
    "start_time": "2024-04-26T07:25:34.809Z"
   },
   {
    "duration": 18,
    "start_time": "2024-04-26T07:25:34.821Z"
   },
   {
    "duration": 48,
    "start_time": "2024-04-26T07:25:34.841Z"
   },
   {
    "duration": 34,
    "start_time": "2024-04-26T07:25:34.891Z"
   },
   {
    "duration": 21,
    "start_time": "2024-04-26T07:25:34.929Z"
   },
   {
    "duration": 36,
    "start_time": "2024-04-26T07:25:34.952Z"
   },
   {
    "duration": 42,
    "start_time": "2024-04-26T07:25:34.990Z"
   },
   {
    "duration": 39,
    "start_time": "2024-04-26T07:25:35.034Z"
   },
   {
    "duration": 32,
    "start_time": "2024-04-26T07:25:35.075Z"
   },
   {
    "duration": 14,
    "start_time": "2024-04-26T07:25:35.109Z"
   },
   {
    "duration": 5,
    "start_time": "2024-04-26T07:25:35.125Z"
   },
   {
    "duration": 66,
    "start_time": "2024-04-26T07:25:35.132Z"
   },
   {
    "duration": 409,
    "start_time": "2024-04-26T07:25:35.200Z"
   },
   {
    "duration": 38,
    "start_time": "2024-04-26T07:25:35.611Z"
   },
   {
    "duration": 28,
    "start_time": "2024-04-26T07:25:35.651Z"
   },
   {
    "duration": 259,
    "start_time": "2024-04-26T07:25:35.681Z"
   },
   {
    "duration": 367,
    "start_time": "2024-04-26T07:25:35.942Z"
   },
   {
    "duration": 11,
    "start_time": "2024-04-26T07:25:36.311Z"
   },
   {
    "duration": 285,
    "start_time": "2024-04-26T07:25:36.325Z"
   },
   {
    "duration": 271,
    "start_time": "2024-04-26T07:25:36.612Z"
   },
   {
    "duration": 9,
    "start_time": "2024-04-26T07:25:36.885Z"
   },
   {
    "duration": 293,
    "start_time": "2024-04-26T07:25:36.896Z"
   },
   {
    "duration": 256,
    "start_time": "2024-04-26T07:25:37.191Z"
   },
   {
    "duration": 9,
    "start_time": "2024-04-26T07:25:37.448Z"
   },
   {
    "duration": 300,
    "start_time": "2024-04-26T07:25:37.459Z"
   },
   {
    "duration": 356,
    "start_time": "2024-04-26T07:25:37.761Z"
   },
   {
    "duration": 9,
    "start_time": "2024-04-26T07:25:38.119Z"
   },
   {
    "duration": 185,
    "start_time": "2024-04-26T07:25:38.130Z"
   },
   {
    "duration": 161,
    "start_time": "2024-04-26T07:25:38.317Z"
   },
   {
    "duration": 10,
    "start_time": "2024-04-26T07:25:38.479Z"
   },
   {
    "duration": 27,
    "start_time": "2024-04-26T07:25:38.490Z"
   },
   {
    "duration": 162,
    "start_time": "2024-04-26T07:25:38.524Z"
   },
   {
    "duration": 11,
    "start_time": "2024-04-26T07:25:38.688Z"
   },
   {
    "duration": 148,
    "start_time": "2024-04-26T07:25:38.700Z"
   },
   {
    "duration": 10,
    "start_time": "2024-04-26T07:25:38.850Z"
   },
   {
    "duration": 254,
    "start_time": "2024-04-26T07:25:38.873Z"
   },
   {
    "duration": 10,
    "start_time": "2024-04-26T07:25:39.130Z"
   },
   {
    "duration": 183,
    "start_time": "2024-04-26T07:25:39.142Z"
   },
   {
    "duration": 10,
    "start_time": "2024-04-26T07:25:39.327Z"
   },
   {
    "duration": 178,
    "start_time": "2024-04-26T07:25:39.339Z"
   },
   {
    "duration": 11,
    "start_time": "2024-04-26T07:25:39.518Z"
   },
   {
    "duration": 167,
    "start_time": "2024-04-26T07:25:39.530Z"
   },
   {
    "duration": 9,
    "start_time": "2024-04-26T07:25:39.699Z"
   },
   {
    "duration": 235,
    "start_time": "2024-04-26T07:25:39.709Z"
   },
   {
    "duration": 8,
    "start_time": "2024-04-26T07:25:39.946Z"
   },
   {
    "duration": 173,
    "start_time": "2024-04-26T07:25:39.956Z"
   },
   {
    "duration": 12,
    "start_time": "2024-04-26T07:25:40.131Z"
   },
   {
    "duration": 274,
    "start_time": "2024-04-26T07:25:40.145Z"
   },
   {
    "duration": 23,
    "start_time": "2024-04-26T07:25:40.421Z"
   },
   {
    "duration": 169,
    "start_time": "2024-04-26T07:25:40.445Z"
   },
   {
    "duration": 219,
    "start_time": "2024-04-26T07:25:40.616Z"
   },
   {
    "duration": 193,
    "start_time": "2024-04-26T07:25:40.838Z"
   },
   {
    "duration": 157,
    "start_time": "2024-04-26T07:25:41.033Z"
   },
   {
    "duration": 159,
    "start_time": "2024-04-26T07:25:41.191Z"
   },
   {
    "duration": 175,
    "start_time": "2024-04-26T07:25:41.351Z"
   },
   {
    "duration": 177,
    "start_time": "2024-04-26T07:25:41.528Z"
   },
   {
    "duration": 243,
    "start_time": "2024-04-26T07:25:41.707Z"
   },
   {
    "duration": 10,
    "start_time": "2024-04-26T07:25:41.951Z"
   },
   {
    "duration": 40,
    "start_time": "2024-04-26T07:25:41.977Z"
   },
   {
    "duration": 32,
    "start_time": "2024-04-26T07:25:42.019Z"
   },
   {
    "duration": 254,
    "start_time": "2024-04-26T07:25:42.053Z"
   },
   {
    "duration": 248,
    "start_time": "2024-04-26T07:26:02.869Z"
   },
   {
    "duration": 259,
    "start_time": "2024-04-26T07:26:12.021Z"
   },
   {
    "duration": 255,
    "start_time": "2024-04-26T07:26:15.798Z"
   },
   {
    "duration": 12433,
    "start_time": "2024-04-26T07:26:29.893Z"
   },
   {
    "duration": 2879,
    "start_time": "2024-04-26T07:27:06.646Z"
   },
   {
    "duration": 2743,
    "start_time": "2024-04-26T07:27:27.213Z"
   },
   {
    "duration": 12215,
    "start_time": "2024-04-26T07:34:34.426Z"
   },
   {
    "duration": 28600,
    "start_time": "2024-04-26T07:48:25.881Z"
   },
   {
    "duration": 173,
    "start_time": "2024-04-26T07:51:52.706Z"
   },
   {
    "duration": 84,
    "start_time": "2024-04-26T07:52:16.891Z"
   },
   {
    "duration": 20,
    "start_time": "2024-04-26T07:52:20.435Z"
   },
   {
    "duration": 25,
    "start_time": "2024-04-26T07:52:30.139Z"
   },
   {
    "duration": 9,
    "start_time": "2024-04-26T07:54:08.589Z"
   },
   {
    "duration": 25,
    "start_time": "2024-04-26T07:54:48.261Z"
   },
   {
    "duration": 20,
    "start_time": "2024-04-26T07:55:04.238Z"
   },
   {
    "duration": 164,
    "start_time": "2024-04-26T07:55:34.847Z"
   },
   {
    "duration": 158,
    "start_time": "2024-04-26T08:00:31.193Z"
   },
   {
    "duration": 46,
    "start_time": "2024-04-26T08:00:41.683Z"
   },
   {
    "duration": 71,
    "start_time": "2024-04-26T08:07:46.480Z"
   },
   {
    "duration": 727,
    "start_time": "2024-04-26T08:08:07.352Z"
   },
   {
    "duration": 120,
    "start_time": "2024-04-26T08:08:08.081Z"
   },
   {
    "duration": 4,
    "start_time": "2024-04-26T08:08:08.203Z"
   },
   {
    "duration": 66,
    "start_time": "2024-04-26T08:08:08.209Z"
   },
   {
    "duration": 2213,
    "start_time": "2024-04-26T08:08:08.276Z"
   },
   {
    "duration": 15,
    "start_time": "2024-04-26T08:08:10.492Z"
   },
   {
    "duration": 17,
    "start_time": "2024-04-26T08:08:10.509Z"
   },
   {
    "duration": 32,
    "start_time": "2024-04-26T08:08:10.527Z"
   },
   {
    "duration": 31,
    "start_time": "2024-04-26T08:08:10.561Z"
   },
   {
    "duration": 23,
    "start_time": "2024-04-26T08:08:10.595Z"
   },
   {
    "duration": 30,
    "start_time": "2024-04-26T08:08:10.620Z"
   },
   {
    "duration": 49,
    "start_time": "2024-04-26T08:08:10.652Z"
   },
   {
    "duration": 23,
    "start_time": "2024-04-26T08:08:10.703Z"
   },
   {
    "duration": 30,
    "start_time": "2024-04-26T08:08:10.728Z"
   },
   {
    "duration": 57,
    "start_time": "2024-04-26T08:08:10.759Z"
   },
   {
    "duration": 38,
    "start_time": "2024-04-26T08:08:10.819Z"
   },
   {
    "duration": 26,
    "start_time": "2024-04-26T08:08:10.859Z"
   },
   {
    "duration": 15,
    "start_time": "2024-04-26T08:08:10.888Z"
   },
   {
    "duration": 16,
    "start_time": "2024-04-26T08:08:10.905Z"
   },
   {
    "duration": 47,
    "start_time": "2024-04-26T08:08:10.922Z"
   },
   {
    "duration": 435,
    "start_time": "2024-04-26T08:08:10.971Z"
   },
   {
    "duration": 29,
    "start_time": "2024-04-26T08:08:11.408Z"
   },
   {
    "duration": 68,
    "start_time": "2024-04-26T08:08:11.439Z"
   },
   {
    "duration": 184,
    "start_time": "2024-04-26T08:08:11.509Z"
   },
   {
    "duration": 10,
    "start_time": "2024-04-26T08:08:11.695Z"
   },
   {
    "duration": 280,
    "start_time": "2024-04-26T08:08:11.707Z"
   },
   {
    "duration": 399,
    "start_time": "2024-04-26T08:08:11.990Z"
   },
   {
    "duration": 10,
    "start_time": "2024-04-26T08:08:12.393Z"
   },
   {
    "duration": 294,
    "start_time": "2024-04-26T08:08:12.405Z"
   },
   {
    "duration": 285,
    "start_time": "2024-04-26T08:08:12.701Z"
   },
   {
    "duration": 11,
    "start_time": "2024-04-26T08:08:12.988Z"
   },
   {
    "duration": 258,
    "start_time": "2024-04-26T08:08:13.001Z"
   },
   {
    "duration": 289,
    "start_time": "2024-04-26T08:08:13.262Z"
   },
   {
    "duration": 21,
    "start_time": "2024-04-26T08:08:13.553Z"
   },
   {
    "duration": 388,
    "start_time": "2024-04-26T08:08:13.576Z"
   },
   {
    "duration": 295,
    "start_time": "2024-04-26T08:08:13.966Z"
   },
   {
    "duration": 16,
    "start_time": "2024-04-26T08:08:14.263Z"
   },
   {
    "duration": 162,
    "start_time": "2024-04-26T08:08:14.281Z"
   },
   {
    "duration": 164,
    "start_time": "2024-04-26T08:08:14.446Z"
   },
   {
    "duration": 10,
    "start_time": "2024-04-26T08:08:14.612Z"
   },
   {
    "duration": 5,
    "start_time": "2024-04-26T08:08:14.624Z"
   },
   {
    "duration": 174,
    "start_time": "2024-04-26T08:08:14.631Z"
   },
   {
    "duration": 11,
    "start_time": "2024-04-26T08:08:14.806Z"
   },
   {
    "duration": 176,
    "start_time": "2024-04-26T08:08:14.818Z"
   },
   {
    "duration": 9,
    "start_time": "2024-04-26T08:08:14.996Z"
   },
   {
    "duration": 303,
    "start_time": "2024-04-26T08:08:15.007Z"
   },
   {
    "duration": 10,
    "start_time": "2024-04-26T08:08:15.311Z"
   },
   {
    "duration": 212,
    "start_time": "2024-04-26T08:08:15.323Z"
   },
   {
    "duration": 10,
    "start_time": "2024-04-26T08:08:15.537Z"
   },
   {
    "duration": 157,
    "start_time": "2024-04-26T08:08:15.549Z"
   },
   {
    "duration": 10,
    "start_time": "2024-04-26T08:08:15.708Z"
   },
   {
    "duration": 264,
    "start_time": "2024-04-26T08:08:15.719Z"
   },
   {
    "duration": 8,
    "start_time": "2024-04-26T08:08:15.985Z"
   },
   {
    "duration": 177,
    "start_time": "2024-04-26T08:08:15.995Z"
   },
   {
    "duration": 9,
    "start_time": "2024-04-26T08:08:16.173Z"
   },
   {
    "duration": 148,
    "start_time": "2024-04-26T08:08:16.184Z"
   },
   {
    "duration": 11,
    "start_time": "2024-04-26T08:08:16.333Z"
   },
   {
    "duration": 282,
    "start_time": "2024-04-26T08:08:16.346Z"
   },
   {
    "duration": 22,
    "start_time": "2024-04-26T08:08:16.630Z"
   },
   {
    "duration": 188,
    "start_time": "2024-04-26T08:08:16.654Z"
   },
   {
    "duration": 173,
    "start_time": "2024-04-26T08:08:16.844Z"
   },
   {
    "duration": 162,
    "start_time": "2024-04-26T08:08:17.019Z"
   },
   {
    "duration": 156,
    "start_time": "2024-04-26T08:08:17.183Z"
   },
   {
    "duration": 150,
    "start_time": "2024-04-26T08:08:17.340Z"
   },
   {
    "duration": 171,
    "start_time": "2024-04-26T08:08:17.492Z"
   },
   {
    "duration": 253,
    "start_time": "2024-04-26T08:08:17.665Z"
   },
   {
    "duration": 172,
    "start_time": "2024-04-26T08:08:17.920Z"
   },
   {
    "duration": 9,
    "start_time": "2024-04-26T08:08:18.094Z"
   },
   {
    "duration": 25,
    "start_time": "2024-04-26T08:08:18.106Z"
   },
   {
    "duration": 54,
    "start_time": "2024-04-26T08:08:18.133Z"
   },
   {
    "duration": 204,
    "start_time": "2024-04-26T08:08:18.189Z"
   },
   {
    "duration": 681,
    "start_time": "2024-04-26T08:16:36.109Z"
   },
   {
    "duration": 121,
    "start_time": "2024-04-26T08:16:36.792Z"
   },
   {
    "duration": 3,
    "start_time": "2024-04-26T08:16:36.915Z"
   },
   {
    "duration": 34,
    "start_time": "2024-04-26T08:16:36.920Z"
   },
   {
    "duration": 2242,
    "start_time": "2024-04-26T08:16:36.956Z"
   },
   {
    "duration": 13,
    "start_time": "2024-04-26T08:16:39.199Z"
   },
   {
    "duration": 24,
    "start_time": "2024-04-26T08:16:39.213Z"
   },
   {
    "duration": 17,
    "start_time": "2024-04-26T08:16:39.239Z"
   },
   {
    "duration": 21,
    "start_time": "2024-04-26T08:16:39.259Z"
   },
   {
    "duration": 12,
    "start_time": "2024-04-26T08:16:39.284Z"
   },
   {
    "duration": 18,
    "start_time": "2024-04-26T08:16:39.298Z"
   },
   {
    "duration": 28,
    "start_time": "2024-04-26T08:16:39.317Z"
   },
   {
    "duration": 41,
    "start_time": "2024-04-26T08:16:39.346Z"
   },
   {
    "duration": 17,
    "start_time": "2024-04-26T08:16:39.389Z"
   },
   {
    "duration": 39,
    "start_time": "2024-04-26T08:16:39.408Z"
   },
   {
    "duration": 28,
    "start_time": "2024-04-26T08:16:39.449Z"
   },
   {
    "duration": 21,
    "start_time": "2024-04-26T08:16:39.478Z"
   },
   {
    "duration": 11,
    "start_time": "2024-04-26T08:16:39.500Z"
   },
   {
    "duration": 6,
    "start_time": "2024-04-26T08:16:39.513Z"
   },
   {
    "duration": 59,
    "start_time": "2024-04-26T08:16:39.521Z"
   },
   {
    "duration": 393,
    "start_time": "2024-04-26T08:16:39.582Z"
   },
   {
    "duration": 27,
    "start_time": "2024-04-26T08:16:39.976Z"
   },
   {
    "duration": 51,
    "start_time": "2024-04-26T08:16:40.004Z"
   },
   {
    "duration": 159,
    "start_time": "2024-04-26T08:16:40.074Z"
   },
   {
    "duration": 12,
    "start_time": "2024-04-26T08:16:40.235Z"
   },
   {
    "duration": 268,
    "start_time": "2024-04-26T08:16:40.248Z"
   },
   {
    "duration": 337,
    "start_time": "2024-04-26T08:16:40.518Z"
   },
   {
    "duration": 18,
    "start_time": "2024-04-26T08:16:40.859Z"
   },
   {
    "duration": 259,
    "start_time": "2024-04-26T08:16:40.878Z"
   },
   {
    "duration": 248,
    "start_time": "2024-04-26T08:16:41.139Z"
   },
   {
    "duration": 9,
    "start_time": "2024-04-26T08:16:41.389Z"
   },
   {
    "duration": 255,
    "start_time": "2024-04-26T08:16:41.399Z"
   },
   {
    "duration": 257,
    "start_time": "2024-04-26T08:16:41.656Z"
   },
   {
    "duration": 16,
    "start_time": "2024-04-26T08:16:41.915Z"
   },
   {
    "duration": 381,
    "start_time": "2024-04-26T08:16:41.933Z"
   },
   {
    "duration": 281,
    "start_time": "2024-04-26T08:16:42.316Z"
   },
   {
    "duration": 9,
    "start_time": "2024-04-26T08:16:42.599Z"
   },
   {
    "duration": 144,
    "start_time": "2024-04-26T08:16:42.609Z"
   },
   {
    "duration": 154,
    "start_time": "2024-04-26T08:16:42.754Z"
   },
   {
    "duration": 10,
    "start_time": "2024-04-26T08:16:42.909Z"
   },
   {
    "duration": 22,
    "start_time": "2024-04-26T08:16:42.921Z"
   },
   {
    "duration": 204,
    "start_time": "2024-04-26T08:16:42.945Z"
   },
   {
    "duration": 10,
    "start_time": "2024-04-26T08:16:43.151Z"
   },
   {
    "duration": 163,
    "start_time": "2024-04-26T08:16:43.163Z"
   },
   {
    "duration": 10,
    "start_time": "2024-04-26T08:16:43.328Z"
   },
   {
    "duration": 284,
    "start_time": "2024-04-26T08:16:43.340Z"
   },
   {
    "duration": 12,
    "start_time": "2024-04-26T08:16:43.626Z"
   },
   {
    "duration": 187,
    "start_time": "2024-04-26T08:16:43.640Z"
   },
   {
    "duration": 10,
    "start_time": "2024-04-26T08:16:43.830Z"
   },
   {
    "duration": 160,
    "start_time": "2024-04-26T08:16:43.842Z"
   },
   {
    "duration": 12,
    "start_time": "2024-04-26T08:16:44.005Z"
   },
   {
    "duration": 305,
    "start_time": "2024-04-26T08:16:44.019Z"
   },
   {
    "duration": 10,
    "start_time": "2024-04-26T08:16:44.326Z"
   },
   {
    "duration": 151,
    "start_time": "2024-04-26T08:16:44.338Z"
   },
   {
    "duration": 11,
    "start_time": "2024-04-26T08:16:44.491Z"
   },
   {
    "duration": 169,
    "start_time": "2024-04-26T08:16:44.504Z"
   },
   {
    "duration": 12,
    "start_time": "2024-04-26T08:16:44.674Z"
   },
   {
    "duration": 311,
    "start_time": "2024-04-26T08:16:44.688Z"
   },
   {
    "duration": 23,
    "start_time": "2024-04-26T08:16:45.002Z"
   },
   {
    "duration": 175,
    "start_time": "2024-04-26T08:16:45.027Z"
   },
   {
    "duration": 164,
    "start_time": "2024-04-26T08:16:45.204Z"
   },
   {
    "duration": 148,
    "start_time": "2024-04-26T08:16:45.373Z"
   },
   {
    "duration": 155,
    "start_time": "2024-04-26T08:16:45.523Z"
   },
   {
    "duration": 145,
    "start_time": "2024-04-26T08:16:45.680Z"
   },
   {
    "duration": 201,
    "start_time": "2024-04-26T08:16:45.826Z"
   },
   {
    "duration": 279,
    "start_time": "2024-04-26T08:16:46.029Z"
   },
   {
    "duration": 199,
    "start_time": "2024-04-26T08:16:46.310Z"
   },
   {
    "duration": 8,
    "start_time": "2024-04-26T08:16:46.511Z"
   },
   {
    "duration": 26,
    "start_time": "2024-04-26T08:16:46.520Z"
   },
   {
    "duration": 44,
    "start_time": "2024-04-26T08:16:46.548Z"
   },
   {
    "duration": 188,
    "start_time": "2024-04-26T08:16:46.594Z"
   },
   {
    "duration": 10,
    "start_time": "2024-04-26T08:17:18.822Z"
   },
   {
    "duration": 65,
    "start_time": "2024-04-26T08:17:24.507Z"
   },
   {
    "duration": 10,
    "start_time": "2024-04-26T08:17:26.874Z"
   },
   {
    "duration": 51,
    "start_time": "2024-04-26T08:19:13.434Z"
   },
   {
    "duration": 10,
    "start_time": "2024-04-26T08:19:28.541Z"
   },
   {
    "duration": 11,
    "start_time": "2024-04-26T08:26:46.315Z"
   },
   {
    "duration": 10,
    "start_time": "2024-04-26T08:26:49.601Z"
   },
   {
    "duration": 13,
    "start_time": "2024-04-26T08:27:00.298Z"
   },
   {
    "duration": 10,
    "start_time": "2024-04-26T08:27:01.396Z"
   },
   {
    "duration": 770,
    "start_time": "2024-04-26T08:27:09.977Z"
   },
   {
    "duration": 128,
    "start_time": "2024-04-26T08:27:10.749Z"
   },
   {
    "duration": 4,
    "start_time": "2024-04-26T08:27:10.879Z"
   },
   {
    "duration": 42,
    "start_time": "2024-04-26T08:27:10.886Z"
   },
   {
    "duration": 2185,
    "start_time": "2024-04-26T08:27:10.929Z"
   },
   {
    "duration": 11,
    "start_time": "2024-04-26T08:27:13.115Z"
   },
   {
    "duration": 21,
    "start_time": "2024-04-26T08:27:13.127Z"
   },
   {
    "duration": 16,
    "start_time": "2024-04-26T08:27:13.150Z"
   },
   {
    "duration": 39,
    "start_time": "2024-04-26T08:27:13.167Z"
   },
   {
    "duration": 10,
    "start_time": "2024-04-26T08:27:13.209Z"
   },
   {
    "duration": 23,
    "start_time": "2024-04-26T08:27:13.221Z"
   },
   {
    "duration": 17,
    "start_time": "2024-04-26T08:27:13.246Z"
   },
   {
    "duration": 22,
    "start_time": "2024-04-26T08:27:13.265Z"
   },
   {
    "duration": 42,
    "start_time": "2024-04-26T08:27:13.289Z"
   },
   {
    "duration": 21,
    "start_time": "2024-04-26T08:27:13.333Z"
   },
   {
    "duration": 33,
    "start_time": "2024-04-26T08:27:13.356Z"
   },
   {
    "duration": 58,
    "start_time": "2024-04-26T08:27:13.391Z"
   },
   {
    "duration": 42,
    "start_time": "2024-04-26T08:27:13.451Z"
   },
   {
    "duration": 38,
    "start_time": "2024-04-26T08:27:13.495Z"
   },
   {
    "duration": 9,
    "start_time": "2024-04-26T08:27:13.535Z"
   },
   {
    "duration": 85,
    "start_time": "2024-04-26T08:27:13.546Z"
   },
   {
    "duration": 420,
    "start_time": "2024-04-26T08:27:13.633Z"
   },
   {
    "duration": 29,
    "start_time": "2024-04-26T08:27:14.056Z"
   },
   {
    "duration": 46,
    "start_time": "2024-04-26T08:27:14.087Z"
   },
   {
    "duration": 172,
    "start_time": "2024-04-26T08:27:14.135Z"
   },
   {
    "duration": 9,
    "start_time": "2024-04-26T08:27:14.308Z"
   },
   {
    "duration": 261,
    "start_time": "2024-04-26T08:27:14.319Z"
   },
   {
    "duration": 358,
    "start_time": "2024-04-26T08:27:14.584Z"
   },
   {
    "duration": 11,
    "start_time": "2024-04-26T08:27:14.944Z"
   },
   {
    "duration": 282,
    "start_time": "2024-04-26T08:27:14.957Z"
   },
   {
    "duration": 269,
    "start_time": "2024-04-26T08:27:15.241Z"
   },
   {
    "duration": 9,
    "start_time": "2024-04-26T08:27:15.511Z"
   },
   {
    "duration": 252,
    "start_time": "2024-04-26T08:27:15.521Z"
   },
   {
    "duration": 249,
    "start_time": "2024-04-26T08:27:15.775Z"
   },
   {
    "duration": 8,
    "start_time": "2024-04-26T08:27:16.026Z"
   },
   {
    "duration": 386,
    "start_time": "2024-04-26T08:27:16.036Z"
   },
   {
    "duration": 283,
    "start_time": "2024-04-26T08:27:16.424Z"
   },
   {
    "duration": 12,
    "start_time": "2024-04-26T08:27:16.708Z"
   },
   {
    "duration": 158,
    "start_time": "2024-04-26T08:27:16.722Z"
   },
   {
    "duration": 164,
    "start_time": "2024-04-26T08:27:16.882Z"
   },
   {
    "duration": 9,
    "start_time": "2024-04-26T08:27:17.048Z"
   },
   {
    "duration": 15,
    "start_time": "2024-04-26T08:27:17.059Z"
   },
   {
    "duration": 173,
    "start_time": "2024-04-26T08:27:17.076Z"
   },
   {
    "duration": 11,
    "start_time": "2024-04-26T08:27:17.251Z"
   },
   {
    "duration": 131,
    "start_time": "2024-04-26T08:27:17.263Z"
   },
   {
    "duration": 10,
    "start_time": "2024-04-26T08:27:17.396Z"
   },
   {
    "duration": 273,
    "start_time": "2024-04-26T08:27:17.407Z"
   },
   {
    "duration": 10,
    "start_time": "2024-04-26T08:27:17.682Z"
   },
   {
    "duration": 181,
    "start_time": "2024-04-26T08:27:17.694Z"
   },
   {
    "duration": 11,
    "start_time": "2024-04-26T08:27:17.877Z"
   },
   {
    "duration": 174,
    "start_time": "2024-04-26T08:27:17.891Z"
   },
   {
    "duration": 13,
    "start_time": "2024-04-26T08:27:18.073Z"
   },
   {
    "duration": 291,
    "start_time": "2024-04-26T08:27:18.088Z"
   },
   {
    "duration": 9,
    "start_time": "2024-04-26T08:27:18.381Z"
   },
   {
    "duration": 185,
    "start_time": "2024-04-26T08:27:18.391Z"
   },
   {
    "duration": 12,
    "start_time": "2024-04-26T08:27:18.578Z"
   },
   {
    "duration": 283,
    "start_time": "2024-04-26T08:27:18.592Z"
   },
   {
    "duration": 11,
    "start_time": "2024-04-26T08:27:18.877Z"
   },
   {
    "duration": 296,
    "start_time": "2024-04-26T08:27:18.890Z"
   },
   {
    "duration": 21,
    "start_time": "2024-04-26T08:27:19.187Z"
   },
   {
    "duration": 156,
    "start_time": "2024-04-26T08:27:19.210Z"
   },
   {
    "duration": 172,
    "start_time": "2024-04-26T08:27:19.372Z"
   },
   {
    "duration": 157,
    "start_time": "2024-04-26T08:27:19.545Z"
   },
   {
    "duration": 184,
    "start_time": "2024-04-26T08:27:19.704Z"
   },
   {
    "duration": 155,
    "start_time": "2024-04-26T08:27:19.890Z"
   },
   {
    "duration": 186,
    "start_time": "2024-04-26T08:27:20.047Z"
   },
   {
    "duration": 248,
    "start_time": "2024-04-26T08:27:20.235Z"
   },
   {
    "duration": 170,
    "start_time": "2024-04-26T08:27:20.486Z"
   },
   {
    "duration": 17,
    "start_time": "2024-04-26T08:27:20.658Z"
   },
   {
    "duration": 62,
    "start_time": "2024-04-26T08:27:20.677Z"
   },
   {
    "duration": 39,
    "start_time": "2024-04-26T08:27:20.741Z"
   },
   {
    "duration": 199,
    "start_time": "2024-04-26T08:27:20.782Z"
   },
   {
    "duration": 79,
    "start_time": "2024-04-26T08:50:28.554Z"
   },
   {
    "duration": 4,
    "start_time": "2024-04-26T08:50:36.122Z"
   },
   {
    "duration": 77,
    "start_time": "2024-04-26T08:55:38.381Z"
   },
   {
    "duration": 69,
    "start_time": "2024-04-26T08:55:42.525Z"
   },
   {
    "duration": 13,
    "start_time": "2024-04-26T08:55:48.565Z"
   },
   {
    "duration": 9,
    "start_time": "2024-04-26T08:56:16.187Z"
   },
   {
    "duration": 918,
    "start_time": "2024-04-26T08:57:35.614Z"
   },
   {
    "duration": 9,
    "start_time": "2024-04-26T09:00:10.917Z"
   },
   {
    "duration": 9,
    "start_time": "2024-04-26T09:00:57.045Z"
   },
   {
    "duration": 177,
    "start_time": "2024-04-26T09:01:00.916Z"
   },
   {
    "duration": 11,
    "start_time": "2024-04-26T09:01:16.884Z"
   },
   {
    "duration": 11,
    "start_time": "2024-04-26T09:01:27.836Z"
   },
   {
    "duration": 670,
    "start_time": "2024-04-26T09:01:51.756Z"
   },
   {
    "duration": 15,
    "start_time": "2024-04-26T09:02:30.379Z"
   },
   {
    "duration": 1309,
    "start_time": "2024-04-26T09:06:31.242Z"
   },
   {
    "duration": 1324,
    "start_time": "2024-04-26T09:06:47.004Z"
   },
   {
    "duration": 1345,
    "start_time": "2024-04-26T09:06:59.266Z"
   },
   {
    "duration": 18,
    "start_time": "2024-04-26T09:08:25.970Z"
   },
   {
    "duration": 13,
    "start_time": "2024-04-26T09:08:32.795Z"
   },
   {
    "duration": 33,
    "start_time": "2024-04-26T09:08:46.163Z"
   },
   {
    "duration": 27,
    "start_time": "2024-04-26T09:08:51.026Z"
   },
   {
    "duration": 142,
    "start_time": "2024-04-26T09:15:31.034Z"
   },
   {
    "duration": 173,
    "start_time": "2024-04-26T09:19:43.900Z"
   },
   {
    "duration": 279,
    "start_time": "2024-04-26T09:19:56.388Z"
   },
   {
    "duration": 214,
    "start_time": "2024-04-26T09:20:30.854Z"
   },
   {
    "duration": 148,
    "start_time": "2024-04-26T09:20:46.588Z"
   },
   {
    "duration": 240,
    "start_time": "2024-04-26T09:23:18.064Z"
   },
   {
    "duration": 215,
    "start_time": "2024-04-26T09:24:14.117Z"
   },
   {
    "duration": 191,
    "start_time": "2024-04-26T09:24:25.406Z"
   },
   {
    "duration": 281,
    "start_time": "2024-04-26T09:24:47.445Z"
   },
   {
    "duration": 10,
    "start_time": "2024-04-26T09:26:17.718Z"
   },
   {
    "duration": 251,
    "start_time": "2024-04-26T09:26:21.838Z"
   },
   {
    "duration": 200,
    "start_time": "2024-04-26T09:26:30.845Z"
   },
   {
    "duration": 191,
    "start_time": "2024-04-26T09:26:38.454Z"
   },
   {
    "duration": 592,
    "start_time": "2024-09-08T13:59:49.123Z"
   },
   {
    "duration": 13,
    "start_time": "2024-09-08T14:00:10.233Z"
   },
   {
    "duration": 13,
    "start_time": "2024-09-08T14:01:16.837Z"
   },
   {
    "duration": 16,
    "start_time": "2024-09-08T14:01:20.689Z"
   },
   {
    "duration": 100,
    "start_time": "2024-09-08T14:02:24.663Z"
   },
   {
    "duration": 16,
    "start_time": "2024-09-08T14:02:24.942Z"
   },
   {
    "duration": 36,
    "start_time": "2024-09-08T14:02:35.575Z"
   },
   {
    "duration": 70,
    "start_time": "2024-09-08T14:09:02.320Z"
   },
   {
    "duration": 171,
    "start_time": "2024-09-08T14:09:05.817Z"
   },
   {
    "duration": 16,
    "start_time": "2024-09-08T14:09:07.111Z"
   },
   {
    "duration": 73,
    "start_time": "2024-09-08T14:09:07.391Z"
   },
   {
    "duration": 68,
    "start_time": "2024-09-08T14:09:31.952Z"
   },
   {
    "duration": 16168,
    "start_time": "2024-09-08T14:10:46.343Z"
   },
   {
    "duration": 566,
    "start_time": "2024-09-08T14:16:10.391Z"
   },
   {
    "duration": 23,
    "start_time": "2024-09-08T14:16:10.959Z"
   },
   {
    "duration": 48,
    "start_time": "2024-09-08T14:16:10.984Z"
   },
   {
    "duration": 16256,
    "start_time": "2024-09-08T14:16:11.033Z"
   },
   {
    "duration": 1498,
    "start_time": "2024-09-08T14:16:39.376Z"
   },
   {
    "duration": 9,
    "start_time": "2024-09-08T14:16:54.864Z"
   },
   {
    "duration": 1313,
    "start_time": "2024-09-08T14:16:58.697Z"
   },
   {
    "duration": 1769,
    "start_time": "2024-09-08T14:17:05.160Z"
   },
   {
    "duration": 2095,
    "start_time": "2024-09-08T14:17:35.927Z"
   },
   {
    "duration": 1781,
    "start_time": "2024-09-08T14:17:44.888Z"
   },
   {
    "duration": 11,
    "start_time": "2024-09-08T14:24:34.249Z"
   },
   {
    "duration": 1289,
    "start_time": "2024-09-08T14:26:25.311Z"
   },
   {
    "duration": 2496,
    "start_time": "2024-09-08T14:26:35.686Z"
   },
   {
    "duration": 611,
    "start_time": "2024-09-08T14:27:28.662Z"
   },
   {
    "duration": 1735,
    "start_time": "2024-09-08T14:27:34.245Z"
   },
   {
    "duration": 48,
    "start_time": "2024-09-10T07:19:46.417Z"
   },
   {
    "duration": 743,
    "start_time": "2024-09-10T07:19:53.955Z"
   },
   {
    "duration": 17,
    "start_time": "2024-09-10T07:19:54.700Z"
   },
   {
    "duration": 38,
    "start_time": "2024-09-10T07:19:54.719Z"
   },
   {
    "duration": 2185,
    "start_time": "2024-09-10T07:19:54.759Z"
   },
   {
    "duration": 10,
    "start_time": "2024-09-10T07:19:56.946Z"
   },
   {
    "duration": 25,
    "start_time": "2024-09-10T07:19:56.957Z"
   },
   {
    "duration": 10,
    "start_time": "2024-09-10T07:20:03.020Z"
   },
   {
    "duration": 6,
    "start_time": "2024-09-10T07:23:44.358Z"
   },
   {
    "duration": 10,
    "start_time": "2024-09-10T07:23:49.702Z"
   },
   {
    "duration": 6,
    "start_time": "2024-09-10T07:26:57.076Z"
   },
   {
    "duration": 9,
    "start_time": "2024-09-10T07:27:03.674Z"
   },
   {
    "duration": 9,
    "start_time": "2024-09-10T07:27:29.034Z"
   },
   {
    "duration": 9,
    "start_time": "2024-09-10T07:27:31.618Z"
   },
   {
    "duration": 6,
    "start_time": "2024-09-10T07:27:52.561Z"
   },
   {
    "duration": 9,
    "start_time": "2024-09-10T07:29:26.604Z"
   },
   {
    "duration": 8,
    "start_time": "2024-09-10T07:29:27.051Z"
   },
   {
    "duration": 15,
    "start_time": "2024-09-10T07:32:49.921Z"
   },
   {
    "duration": 5,
    "start_time": "2024-09-10T07:40:22.880Z"
   },
   {
    "duration": 6,
    "start_time": "2024-09-10T07:40:28.520Z"
   },
   {
    "duration": 547,
    "start_time": "2024-09-10T07:41:49.474Z"
   },
   {
    "duration": 518,
    "start_time": "2024-09-10T07:41:53.147Z"
   },
   {
    "duration": 794,
    "start_time": "2024-09-10T07:41:54.770Z"
   },
   {
    "duration": 9,
    "start_time": "2024-09-10T07:42:33.140Z"
   },
   {
    "duration": 13,
    "start_time": "2024-09-10T07:42:37.817Z"
   },
   {
    "duration": 24,
    "start_time": "2024-09-10T07:45:35.536Z"
   },
   {
    "duration": 6,
    "start_time": "2024-09-10T07:46:29.815Z"
   },
   {
    "duration": 16,
    "start_time": "2024-09-10T07:47:10.855Z"
   },
   {
    "duration": 25,
    "start_time": "2024-09-10T07:47:11.224Z"
   },
   {
    "duration": 7,
    "start_time": "2024-09-10T07:47:11.830Z"
   },
   {
    "duration": 11,
    "start_time": "2024-09-10T07:58:11.472Z"
   },
   {
    "duration": 12,
    "start_time": "2024-09-10T07:59:36.695Z"
   },
   {
    "duration": 24,
    "start_time": "2024-09-10T08:03:24.388Z"
   },
   {
    "duration": 44,
    "start_time": "2024-09-10T08:24:51.840Z"
   },
   {
    "duration": 17,
    "start_time": "2024-09-10T08:26:11.633Z"
   },
   {
    "duration": 11,
    "start_time": "2024-09-10T08:26:44.496Z"
   },
   {
    "duration": 14,
    "start_time": "2024-09-10T08:26:59.823Z"
   },
   {
    "duration": 48,
    "start_time": "2024-09-10T08:30:20.696Z"
   },
   {
    "duration": 53,
    "start_time": "2024-09-10T08:34:27.620Z"
   },
   {
    "duration": 54,
    "start_time": "2024-09-10T08:35:19.226Z"
   },
   {
    "duration": 88,
    "start_time": "2024-09-10T08:56:13.641Z"
   },
   {
    "duration": 93,
    "start_time": "2024-09-10T09:06:26.614Z"
   },
   {
    "duration": 6,
    "start_time": "2024-09-10T09:12:01.031Z"
   },
   {
    "duration": 27,
    "start_time": "2024-09-10T09:12:14.080Z"
   },
   {
    "duration": 6,
    "start_time": "2024-09-10T09:14:06.996Z"
   },
   {
    "duration": 25,
    "start_time": "2024-09-10T09:14:17.385Z"
   },
   {
    "duration": 6,
    "start_time": "2024-09-10T09:14:59.446Z"
   },
   {
    "duration": 23,
    "start_time": "2024-09-10T09:15:00.493Z"
   },
   {
    "duration": 5,
    "start_time": "2024-09-10T09:15:16.214Z"
   },
   {
    "duration": 6,
    "start_time": "2024-09-10T09:15:20.037Z"
   },
   {
    "duration": 23,
    "start_time": "2024-09-10T09:15:20.469Z"
   },
   {
    "duration": 542,
    "start_time": "2024-09-10T09:15:34.958Z"
   },
   {
    "duration": 15,
    "start_time": "2024-09-10T09:15:35.502Z"
   },
   {
    "duration": 56,
    "start_time": "2024-09-10T09:15:35.518Z"
   },
   {
    "duration": 1959,
    "start_time": "2024-09-10T09:15:35.576Z"
   },
   {
    "duration": 9,
    "start_time": "2024-09-10T09:15:37.538Z"
   },
   {
    "duration": 15,
    "start_time": "2024-09-10T09:15:37.548Z"
   },
   {
    "duration": 24,
    "start_time": "2024-09-10T09:15:37.564Z"
   },
   {
    "duration": 16,
    "start_time": "2024-09-10T09:15:37.590Z"
   },
   {
    "duration": 16,
    "start_time": "2024-09-10T09:15:37.607Z"
   },
   {
    "duration": 21,
    "start_time": "2024-09-10T09:15:37.624Z"
   },
   {
    "duration": 13,
    "start_time": "2024-09-10T09:15:37.647Z"
   },
   {
    "duration": 32,
    "start_time": "2024-09-10T09:15:37.661Z"
   },
   {
    "duration": 29,
    "start_time": "2024-09-10T09:15:37.695Z"
   },
   {
    "duration": 7,
    "start_time": "2024-09-10T09:15:37.726Z"
   },
   {
    "duration": 109,
    "start_time": "2024-09-10T09:15:37.734Z"
   },
   {
    "duration": 5,
    "start_time": "2024-09-10T09:15:37.845Z"
   },
   {
    "duration": 18,
    "start_time": "2024-09-10T09:15:37.851Z"
   },
   {
    "duration": 16,
    "start_time": "2024-09-10T09:15:37.870Z"
   },
   {
    "duration": 34,
    "start_time": "2024-09-10T09:15:37.888Z"
   },
   {
    "duration": 6,
    "start_time": "2024-09-10T09:16:24.221Z"
   },
   {
    "duration": 24,
    "start_time": "2024-09-10T09:16:24.956Z"
   },
   {
    "duration": 3,
    "start_time": "2024-09-10T09:20:12.279Z"
   },
   {
    "duration": 538,
    "start_time": "2024-09-10T09:21:27.958Z"
   },
   {
    "duration": 3,
    "start_time": "2024-09-10T09:21:48.136Z"
   },
   {
    "duration": 467,
    "start_time": "2024-09-10T09:21:49.215Z"
   },
   {
    "duration": 3,
    "start_time": "2024-09-10T09:22:09.701Z"
   },
   {
    "duration": 483,
    "start_time": "2024-09-10T09:22:09.957Z"
   },
   {
    "duration": 3,
    "start_time": "2024-09-10T09:22:18.574Z"
   },
   {
    "duration": 508,
    "start_time": "2024-09-10T09:22:18.831Z"
   },
   {
    "duration": 8,
    "start_time": "2024-09-10T09:22:50.357Z"
   },
   {
    "duration": 7,
    "start_time": "2024-09-10T09:22:54.905Z"
   },
   {
    "duration": 318,
    "start_time": "2024-09-10T09:22:58.870Z"
   },
   {
    "duration": 331,
    "start_time": "2024-09-10T09:23:06.087Z"
   },
   {
    "duration": 23,
    "start_time": "2024-09-10T09:23:12.933Z"
   },
   {
    "duration": 4,
    "start_time": "2024-09-10T09:26:12.721Z"
   },
   {
    "duration": 26,
    "start_time": "2024-09-10T09:26:31.145Z"
   },
   {
    "duration": 595,
    "start_time": "2024-09-10T09:27:24.405Z"
   },
   {
    "duration": 16,
    "start_time": "2024-09-10T09:27:25.002Z"
   },
   {
    "duration": 37,
    "start_time": "2024-09-10T09:27:25.021Z"
   },
   {
    "duration": 1992,
    "start_time": "2024-09-10T09:27:25.060Z"
   },
   {
    "duration": 10,
    "start_time": "2024-09-10T09:27:27.053Z"
   },
   {
    "duration": 6,
    "start_time": "2024-09-10T09:27:27.065Z"
   },
   {
    "duration": 20,
    "start_time": "2024-09-10T09:27:27.072Z"
   },
   {
    "duration": 12,
    "start_time": "2024-09-10T09:27:27.093Z"
   },
   {
    "duration": 13,
    "start_time": "2024-09-10T09:27:27.108Z"
   },
   {
    "duration": 14,
    "start_time": "2024-09-10T09:27:27.123Z"
   },
   {
    "duration": 12,
    "start_time": "2024-09-10T09:27:27.139Z"
   },
   {
    "duration": 80,
    "start_time": "2024-09-10T09:27:27.153Z"
   },
   {
    "duration": 25,
    "start_time": "2024-09-10T09:27:27.234Z"
   },
   {
    "duration": 7,
    "start_time": "2024-09-10T09:27:27.261Z"
   },
   {
    "duration": 135,
    "start_time": "2024-09-10T09:27:27.269Z"
   },
   {
    "duration": 5,
    "start_time": "2024-09-10T09:27:27.406Z"
   },
   {
    "duration": 28,
    "start_time": "2024-09-10T09:27:27.412Z"
   },
   {
    "duration": 17,
    "start_time": "2024-09-10T09:27:27.442Z"
   },
   {
    "duration": 14,
    "start_time": "2024-09-10T09:27:27.461Z"
   },
   {
    "duration": 7,
    "start_time": "2024-09-10T09:27:27.477Z"
   },
   {
    "duration": 98,
    "start_time": "2024-09-10T09:27:27.485Z"
   },
   {
    "duration": 0,
    "start_time": "2024-09-10T09:27:27.584Z"
   },
   {
    "duration": 0,
    "start_time": "2024-09-10T09:27:27.585Z"
   },
   {
    "duration": 3,
    "start_time": "2024-09-10T09:27:36.322Z"
   },
   {
    "duration": 332,
    "start_time": "2024-09-10T09:27:36.556Z"
   },
   {
    "duration": 3,
    "start_time": "2024-09-10T09:27:37.748Z"
   },
   {
    "duration": 24,
    "start_time": "2024-09-10T09:27:38.097Z"
   },
   {
    "duration": 46,
    "start_time": "2024-09-11T10:22:54.728Z"
   },
   {
    "duration": 810,
    "start_time": "2024-09-11T10:23:00.684Z"
   },
   {
    "duration": 16,
    "start_time": "2024-09-11T10:23:01.501Z"
   },
   {
    "duration": 49,
    "start_time": "2024-09-11T10:23:01.518Z"
   },
   {
    "duration": 2242,
    "start_time": "2024-09-11T10:23:01.568Z"
   },
   {
    "duration": 10,
    "start_time": "2024-09-11T10:23:03.812Z"
   },
   {
    "duration": 10,
    "start_time": "2024-09-11T10:23:03.823Z"
   },
   {
    "duration": 13,
    "start_time": "2024-09-11T10:23:03.834Z"
   },
   {
    "duration": 7,
    "start_time": "2024-09-11T10:23:03.849Z"
   },
   {
    "duration": 12,
    "start_time": "2024-09-11T10:23:03.858Z"
   },
   {
    "duration": 31,
    "start_time": "2024-09-11T10:23:03.871Z"
   },
   {
    "duration": 17,
    "start_time": "2024-09-11T10:23:03.903Z"
   },
   {
    "duration": 19,
    "start_time": "2024-09-11T10:23:03.922Z"
   },
   {
    "duration": 26,
    "start_time": "2024-09-11T10:23:03.942Z"
   },
   {
    "duration": 6,
    "start_time": "2024-09-11T10:23:03.971Z"
   },
   {
    "duration": 129,
    "start_time": "2024-09-11T10:23:03.979Z"
   },
   {
    "duration": 5,
    "start_time": "2024-09-11T10:23:04.110Z"
   },
   {
    "duration": 13,
    "start_time": "2024-09-11T10:23:04.117Z"
   },
   {
    "duration": 6,
    "start_time": "2024-09-11T10:23:04.131Z"
   },
   {
    "duration": 7,
    "start_time": "2024-09-11T10:23:04.138Z"
   },
   {
    "duration": 5,
    "start_time": "2024-09-11T10:23:04.147Z"
   },
   {
    "duration": 328,
    "start_time": "2024-09-11T10:23:04.153Z"
   },
   {
    "duration": 3,
    "start_time": "2024-09-11T10:23:04.483Z"
   },
   {
    "duration": 52,
    "start_time": "2024-09-11T10:23:04.491Z"
   },
   {
    "duration": 119,
    "start_time": "2024-09-11T10:23:04.544Z"
   },
   {
    "duration": 230,
    "start_time": "2024-09-11T10:23:16.731Z"
   },
   {
    "duration": 311,
    "start_time": "2024-09-11T10:23:31.619Z"
   },
   {
    "duration": 240,
    "start_time": "2024-09-11T10:23:41.695Z"
   },
   {
    "duration": 300,
    "start_time": "2024-09-11T10:25:26.143Z"
   },
   {
    "duration": 246,
    "start_time": "2024-09-11T10:25:40.682Z"
   },
   {
    "duration": 298,
    "start_time": "2024-09-11T10:26:39.535Z"
   },
   {
    "duration": 55,
    "start_time": "2024-09-11T10:27:11.525Z"
   },
   {
    "duration": 338,
    "start_time": "2024-09-11T10:27:16.845Z"
   },
   {
    "duration": 240,
    "start_time": "2024-09-11T10:27:27.773Z"
   },
   {
    "duration": 251,
    "start_time": "2024-09-11T10:28:59.147Z"
   },
   {
    "duration": 247,
    "start_time": "2024-09-11T10:29:04.197Z"
   },
   {
    "duration": 258,
    "start_time": "2024-09-11T10:29:12.787Z"
   },
   {
    "duration": 239,
    "start_time": "2024-09-11T10:30:05.355Z"
   },
   {
    "duration": 353,
    "start_time": "2024-09-11T10:30:08.955Z"
   },
   {
    "duration": 238,
    "start_time": "2024-09-11T10:30:32.621Z"
   },
   {
    "duration": 243,
    "start_time": "2024-09-11T10:30:34.882Z"
   },
   {
    "duration": 260,
    "start_time": "2024-09-11T10:30:43.530Z"
   },
   {
    "duration": 254,
    "start_time": "2024-09-11T10:31:18.930Z"
   },
   {
    "duration": 371,
    "start_time": "2024-09-11T10:31:46.312Z"
   },
   {
    "duration": 766,
    "start_time": "2024-09-11T10:32:26.471Z"
   },
   {
    "duration": 15,
    "start_time": "2024-09-11T10:32:27.239Z"
   },
   {
    "duration": 36,
    "start_time": "2024-09-11T10:32:27.256Z"
   },
   {
    "duration": 1768,
    "start_time": "2024-09-11T10:32:27.294Z"
   },
   {
    "duration": 10,
    "start_time": "2024-09-11T10:32:29.064Z"
   },
   {
    "duration": 11,
    "start_time": "2024-09-11T10:32:29.075Z"
   },
   {
    "duration": 20,
    "start_time": "2024-09-11T10:32:29.087Z"
   },
   {
    "duration": 13,
    "start_time": "2024-09-11T10:32:29.109Z"
   },
   {
    "duration": 27,
    "start_time": "2024-09-11T10:32:29.124Z"
   },
   {
    "duration": 10,
    "start_time": "2024-09-11T10:32:29.153Z"
   },
   {
    "duration": 11,
    "start_time": "2024-09-11T10:32:29.165Z"
   },
   {
    "duration": 23,
    "start_time": "2024-09-11T10:32:29.178Z"
   },
   {
    "duration": 27,
    "start_time": "2024-09-11T10:32:29.202Z"
   },
   {
    "duration": 6,
    "start_time": "2024-09-11T10:32:29.232Z"
   },
   {
    "duration": 124,
    "start_time": "2024-09-11T10:32:29.240Z"
   },
   {
    "duration": 5,
    "start_time": "2024-09-11T10:32:29.366Z"
   },
   {
    "duration": 11,
    "start_time": "2024-09-11T10:32:29.372Z"
   },
   {
    "duration": 7,
    "start_time": "2024-09-11T10:32:29.390Z"
   },
   {
    "duration": 8,
    "start_time": "2024-09-11T10:32:29.399Z"
   },
   {
    "duration": 20,
    "start_time": "2024-09-11T10:32:29.409Z"
   },
   {
    "duration": 331,
    "start_time": "2024-09-11T10:32:29.430Z"
   },
   {
    "duration": 3,
    "start_time": "2024-09-11T10:32:29.763Z"
   },
   {
    "duration": 32,
    "start_time": "2024-09-11T10:32:29.768Z"
   },
   {
    "duration": 252,
    "start_time": "2024-09-11T10:32:29.801Z"
   },
   {
    "duration": 335,
    "start_time": "2024-09-11T10:32:58.176Z"
   },
   {
    "duration": 732,
    "start_time": "2024-09-11T10:34:36.795Z"
   },
   {
    "duration": 16,
    "start_time": "2024-09-11T10:34:37.529Z"
   },
   {
    "duration": 49,
    "start_time": "2024-09-11T10:34:37.547Z"
   },
   {
    "duration": 1800,
    "start_time": "2024-09-11T10:34:37.598Z"
   },
   {
    "duration": 9,
    "start_time": "2024-09-11T10:34:39.400Z"
   },
   {
    "duration": 10,
    "start_time": "2024-09-11T10:34:39.411Z"
   },
   {
    "duration": 14,
    "start_time": "2024-09-11T10:34:39.422Z"
   },
   {
    "duration": 15,
    "start_time": "2024-09-11T10:34:39.437Z"
   },
   {
    "duration": 13,
    "start_time": "2024-09-11T10:34:39.453Z"
   },
   {
    "duration": 22,
    "start_time": "2024-09-11T10:34:39.468Z"
   },
   {
    "duration": 16,
    "start_time": "2024-09-11T10:34:39.491Z"
   },
   {
    "duration": 22,
    "start_time": "2024-09-11T10:34:39.509Z"
   },
   {
    "duration": 39,
    "start_time": "2024-09-11T10:34:39.533Z"
   },
   {
    "duration": 14,
    "start_time": "2024-09-11T10:34:39.575Z"
   },
   {
    "duration": 124,
    "start_time": "2024-09-11T10:34:39.592Z"
   },
   {
    "duration": 5,
    "start_time": "2024-09-11T10:34:39.718Z"
   },
   {
    "duration": 11,
    "start_time": "2024-09-11T10:34:39.725Z"
   },
   {
    "duration": 6,
    "start_time": "2024-09-11T10:34:39.738Z"
   },
   {
    "duration": 13,
    "start_time": "2024-09-11T10:34:39.746Z"
   },
   {
    "duration": 3,
    "start_time": "2024-09-11T10:34:39.761Z"
   },
   {
    "duration": 357,
    "start_time": "2024-09-11T10:34:39.766Z"
   },
   {
    "duration": 4,
    "start_time": "2024-09-11T10:34:40.125Z"
   },
   {
    "duration": 39,
    "start_time": "2024-09-11T10:34:40.131Z"
   },
   {
    "duration": 272,
    "start_time": "2024-09-11T10:34:40.171Z"
   },
   {
    "duration": 58,
    "start_time": "2024-09-11T10:35:10.581Z"
   },
   {
    "duration": 322,
    "start_time": "2024-09-11T10:35:15.005Z"
   },
   {
    "duration": 260,
    "start_time": "2024-09-11T10:35:18.692Z"
   },
   {
    "duration": 248,
    "start_time": "2024-09-11T10:35:21.980Z"
   },
   {
    "duration": 237,
    "start_time": "2024-09-11T10:35:32.062Z"
   },
   {
    "duration": 235,
    "start_time": "2024-09-11T10:35:37.383Z"
   },
   {
    "duration": 238,
    "start_time": "2024-09-11T10:35:50.261Z"
   },
   {
    "duration": 357,
    "start_time": "2024-09-11T10:35:55.638Z"
   },
   {
    "duration": 244,
    "start_time": "2024-09-11T10:37:33.890Z"
   },
   {
    "duration": 246,
    "start_time": "2024-09-11T10:39:04.337Z"
   },
   {
    "duration": 232,
    "start_time": "2024-09-11T10:39:59.167Z"
   },
   {
    "duration": 249,
    "start_time": "2024-09-11T10:40:07.256Z"
   },
   {
    "duration": 369,
    "start_time": "2024-09-11T10:41:28.952Z"
   },
   {
    "duration": 166,
    "start_time": "2024-09-11T10:41:50.934Z"
   },
   {
    "duration": 74,
    "start_time": "2024-09-11T10:42:43.805Z"
   },
   {
    "duration": 121,
    "start_time": "2024-09-11T10:42:45.693Z"
   },
   {
    "duration": 244,
    "start_time": "2024-09-11T10:42:56.860Z"
   },
   {
    "duration": 256,
    "start_time": "2024-09-11T10:43:25.455Z"
   },
   {
    "duration": 243,
    "start_time": "2024-09-11T10:43:28.740Z"
   },
   {
    "duration": 236,
    "start_time": "2024-09-11T10:43:41.163Z"
   },
   {
    "duration": 371,
    "start_time": "2024-09-11T10:43:51.819Z"
   },
   {
    "duration": 256,
    "start_time": "2024-09-11T10:44:09.011Z"
   },
   {
    "duration": 254,
    "start_time": "2024-09-11T10:45:45.922Z"
   },
   {
    "duration": 234,
    "start_time": "2024-09-11T10:46:01.297Z"
   },
   {
    "duration": 247,
    "start_time": "2024-09-11T10:46:06.824Z"
   },
   {
    "duration": 160,
    "start_time": "2024-09-11T10:46:46.592Z"
   },
   {
    "duration": 57,
    "start_time": "2024-09-11T10:47:00.863Z"
   },
   {
    "duration": 230,
    "start_time": "2024-09-11T10:47:04.369Z"
   },
   {
    "duration": 137,
    "start_time": "2024-09-11T10:47:17.055Z"
   },
   {
    "duration": 263,
    "start_time": "2024-09-11T10:48:41.662Z"
   },
   {
    "duration": 220,
    "start_time": "2024-09-11T10:48:54.933Z"
   },
   {
    "duration": 130,
    "start_time": "2024-09-11T10:49:56.868Z"
   },
   {
    "duration": 1118,
    "start_time": "2024-09-11T12:36:34.727Z"
   },
   {
    "duration": 16,
    "start_time": "2024-09-11T12:36:35.847Z"
   },
   {
    "duration": 34,
    "start_time": "2024-09-11T12:36:35.865Z"
   },
   {
    "duration": 1770,
    "start_time": "2024-09-11T12:36:35.900Z"
   },
   {
    "duration": 11,
    "start_time": "2024-09-11T12:36:37.672Z"
   },
   {
    "duration": 17,
    "start_time": "2024-09-11T12:36:37.684Z"
   },
   {
    "duration": 25,
    "start_time": "2024-09-11T12:36:37.703Z"
   },
   {
    "duration": 22,
    "start_time": "2024-09-11T12:36:37.730Z"
   },
   {
    "duration": 21,
    "start_time": "2024-09-11T12:36:37.753Z"
   },
   {
    "duration": 12,
    "start_time": "2024-09-11T12:36:37.775Z"
   },
   {
    "duration": 28,
    "start_time": "2024-09-11T12:36:37.789Z"
   },
   {
    "duration": 15,
    "start_time": "2024-09-11T12:36:37.818Z"
   },
   {
    "duration": 36,
    "start_time": "2024-09-11T12:36:37.835Z"
   },
   {
    "duration": 8,
    "start_time": "2024-09-11T12:36:37.873Z"
   },
   {
    "duration": 110,
    "start_time": "2024-09-11T12:36:37.882Z"
   },
   {
    "duration": 5,
    "start_time": "2024-09-11T12:36:37.994Z"
   },
   {
    "duration": 21,
    "start_time": "2024-09-11T12:36:38.001Z"
   },
   {
    "duration": 17,
    "start_time": "2024-09-11T12:36:38.023Z"
   },
   {
    "duration": 10,
    "start_time": "2024-09-11T12:36:38.042Z"
   },
   {
    "duration": 10,
    "start_time": "2024-09-11T12:36:38.054Z"
   },
   {
    "duration": 322,
    "start_time": "2024-09-11T12:36:38.065Z"
   },
   {
    "duration": 3,
    "start_time": "2024-09-11T12:36:38.389Z"
   },
   {
    "duration": 38,
    "start_time": "2024-09-11T12:36:38.393Z"
   },
   {
    "duration": 241,
    "start_time": "2024-09-11T12:36:38.433Z"
   },
   {
    "duration": 317,
    "start_time": "2024-09-11T12:36:38.676Z"
   },
   {
    "duration": 262,
    "start_time": "2024-09-11T12:36:38.994Z"
   },
   {
    "duration": 143,
    "start_time": "2024-09-11T12:36:39.258Z"
   },
   {
    "duration": 129,
    "start_time": "2024-09-11T12:36:53.628Z"
   },
   {
    "duration": 127,
    "start_time": "2024-09-11T12:37:00.332Z"
   },
   {
    "duration": 120,
    "start_time": "2024-09-11T12:37:08.243Z"
   },
   {
    "duration": 1887,
    "start_time": "2024-09-11T12:37:49.938Z"
   },
   {
    "duration": 67,
    "start_time": "2024-09-11T12:38:03.317Z"
   },
   {
    "duration": 15,
    "start_time": "2024-09-11T12:38:09.466Z"
   },
   {
    "duration": 118,
    "start_time": "2024-09-11T12:41:10.815Z"
   },
   {
    "duration": 146,
    "start_time": "2024-09-11T12:41:29.606Z"
   },
   {
    "duration": 204,
    "start_time": "2024-09-11T12:41:42.543Z"
   },
   {
    "duration": 682,
    "start_time": "2024-09-11T12:42:18.061Z"
   },
   {
    "duration": 14,
    "start_time": "2024-09-11T12:42:18.745Z"
   },
   {
    "duration": 31,
    "start_time": "2024-09-11T12:42:18.761Z"
   },
   {
    "duration": 1776,
    "start_time": "2024-09-11T12:42:18.794Z"
   },
   {
    "duration": 10,
    "start_time": "2024-09-11T12:42:20.572Z"
   },
   {
    "duration": 9,
    "start_time": "2024-09-11T12:42:20.584Z"
   },
   {
    "duration": 13,
    "start_time": "2024-09-11T12:42:20.594Z"
   },
   {
    "duration": 9,
    "start_time": "2024-09-11T12:42:20.609Z"
   },
   {
    "duration": 33,
    "start_time": "2024-09-11T12:42:20.619Z"
   },
   {
    "duration": 12,
    "start_time": "2024-09-11T12:42:20.654Z"
   },
   {
    "duration": 14,
    "start_time": "2024-09-11T12:42:20.667Z"
   },
   {
    "duration": 16,
    "start_time": "2024-09-11T12:42:20.684Z"
   },
   {
    "duration": 43,
    "start_time": "2024-09-11T12:42:20.702Z"
   },
   {
    "duration": 8,
    "start_time": "2024-09-11T12:42:20.747Z"
   },
   {
    "duration": 108,
    "start_time": "2024-09-11T12:42:20.756Z"
   },
   {
    "duration": 5,
    "start_time": "2024-09-11T12:42:20.865Z"
   },
   {
    "duration": 18,
    "start_time": "2024-09-11T12:42:20.872Z"
   },
   {
    "duration": 7,
    "start_time": "2024-09-11T12:42:20.891Z"
   },
   {
    "duration": 25,
    "start_time": "2024-09-11T12:42:20.899Z"
   },
   {
    "duration": 9,
    "start_time": "2024-09-11T12:42:20.926Z"
   },
   {
    "duration": 325,
    "start_time": "2024-09-11T12:42:20.936Z"
   },
   {
    "duration": 4,
    "start_time": "2024-09-11T12:42:21.262Z"
   },
   {
    "duration": 33,
    "start_time": "2024-09-11T12:42:21.267Z"
   },
   {
    "duration": 243,
    "start_time": "2024-09-11T12:42:21.302Z"
   },
   {
    "duration": 383,
    "start_time": "2024-09-11T12:42:21.547Z"
   },
   {
    "duration": 237,
    "start_time": "2024-09-11T12:42:21.932Z"
   },
   {
    "duration": 141,
    "start_time": "2024-09-11T12:42:22.170Z"
   },
   {
    "duration": 133,
    "start_time": "2024-09-11T12:42:26.905Z"
   },
   {
    "duration": 1162,
    "start_time": "2024-09-11T12:44:13.643Z"
   },
   {
    "duration": 50,
    "start_time": "2024-09-11T12:44:18.144Z"
   },
   {
    "duration": 46,
    "start_time": "2024-09-11T12:44:30.553Z"
   },
   {
    "duration": 215,
    "start_time": "2024-09-11T12:46:13.615Z"
   },
   {
    "duration": 292,
    "start_time": "2024-09-11T12:46:25.990Z"
   },
   {
    "duration": 9,
    "start_time": "2024-09-11T12:46:57.165Z"
   },
   {
    "duration": 9,
    "start_time": "2024-09-11T12:47:05.470Z"
   },
   {
    "duration": 9,
    "start_time": "2024-09-11T12:47:13.701Z"
   },
   {
    "duration": 417,
    "start_time": "2024-09-11T12:47:13.958Z"
   },
   {
    "duration": 9,
    "start_time": "2024-09-11T12:47:25.972Z"
   },
   {
    "duration": 282,
    "start_time": "2024-09-11T12:47:26.188Z"
   },
   {
    "duration": 247,
    "start_time": "2024-09-11T12:47:40.548Z"
   },
   {
    "duration": 275,
    "start_time": "2024-09-11T12:47:47.596Z"
   },
   {
    "duration": 274,
    "start_time": "2024-09-11T12:47:59.283Z"
   },
   {
    "duration": 271,
    "start_time": "2024-09-11T12:48:18.491Z"
   },
   {
    "duration": 381,
    "start_time": "2024-09-11T12:50:26.305Z"
   },
   {
    "duration": 56,
    "start_time": "2024-09-11T12:50:38.552Z"
   },
   {
    "duration": 285,
    "start_time": "2024-09-11T12:50:41.977Z"
   },
   {
    "duration": 259,
    "start_time": "2024-09-11T12:50:51.600Z"
   },
   {
    "duration": 279,
    "start_time": "2024-09-11T12:51:02.162Z"
   },
   {
    "duration": 272,
    "start_time": "2024-09-11T12:51:06.719Z"
   },
   {
    "duration": 362,
    "start_time": "2024-09-11T12:51:24.170Z"
   },
   {
    "duration": 278,
    "start_time": "2024-09-11T12:51:26.992Z"
   },
   {
    "duration": 280,
    "start_time": "2024-09-11T12:51:28.712Z"
   },
   {
    "duration": 256,
    "start_time": "2024-09-11T12:51:32.465Z"
   },
   {
    "duration": 263,
    "start_time": "2024-09-11T12:51:35.151Z"
   },
   {
    "duration": 290,
    "start_time": "2024-09-11T12:52:04.311Z"
   },
   {
    "duration": 377,
    "start_time": "2024-09-11T12:52:16.287Z"
   },
   {
    "duration": 259,
    "start_time": "2024-09-11T12:53:42.350Z"
   },
   {
    "duration": 271,
    "start_time": "2024-09-11T12:53:46.359Z"
   },
   {
    "duration": 313,
    "start_time": "2024-09-11T12:53:51.197Z"
   },
   {
    "duration": 18,
    "start_time": "2024-09-11T12:54:01.925Z"
   },
   {
    "duration": 293,
    "start_time": "2024-09-11T12:54:26.965Z"
   },
   {
    "duration": 8,
    "start_time": "2024-09-11T12:56:50.674Z"
   },
   {
    "duration": 378,
    "start_time": "2024-09-11T12:57:05.013Z"
   },
   {
    "duration": 287,
    "start_time": "2024-09-11T12:57:09.025Z"
   },
   {
    "duration": 265,
    "start_time": "2024-09-11T12:57:13.954Z"
   },
   {
    "duration": 10,
    "start_time": "2024-09-11T12:58:41.846Z"
   },
   {
    "duration": 267,
    "start_time": "2024-09-11T12:58:42.244Z"
   },
   {
    "duration": 258,
    "start_time": "2024-09-11T12:59:22.183Z"
   },
   {
    "duration": 308,
    "start_time": "2024-09-11T12:59:29.503Z"
   },
   {
    "duration": 423,
    "start_time": "2024-09-11T12:59:35.455Z"
   },
   {
    "duration": 281,
    "start_time": "2024-09-11T12:59:45.006Z"
   },
   {
    "duration": 10,
    "start_time": "2024-09-11T13:00:31.950Z"
   },
   {
    "duration": 261,
    "start_time": "2024-09-11T13:00:45.214Z"
   },
   {
    "duration": 242,
    "start_time": "2024-09-11T13:00:56.149Z"
   },
   {
    "duration": 142,
    "start_time": "2024-09-11T13:01:03.792Z"
   },
   {
    "duration": 148,
    "start_time": "2024-09-11T13:01:18.221Z"
   },
   {
    "duration": 98,
    "start_time": "2024-09-11T13:01:28.006Z"
   },
   {
    "duration": 10,
    "start_time": "2024-09-11T13:01:44.813Z"
   },
   {
    "duration": 271,
    "start_time": "2024-09-11T13:01:48.844Z"
   },
   {
    "duration": 253,
    "start_time": "2024-09-11T13:03:24.139Z"
   },
   {
    "duration": 10,
    "start_time": "2024-09-11T13:03:32.115Z"
   },
   {
    "duration": 26,
    "start_time": "2024-09-11T13:03:42.626Z"
   },
   {
    "duration": 272,
    "start_time": "2024-09-11T13:04:08.273Z"
   },
   {
    "duration": 756,
    "start_time": "2024-09-11T13:05:04.387Z"
   },
   {
    "duration": 18,
    "start_time": "2024-09-11T13:05:05.146Z"
   },
   {
    "duration": 110,
    "start_time": "2024-09-11T13:05:05.166Z"
   },
   {
    "duration": 2116,
    "start_time": "2024-09-11T13:05:05.278Z"
   },
   {
    "duration": 10,
    "start_time": "2024-09-11T13:05:07.396Z"
   },
   {
    "duration": 25,
    "start_time": "2024-09-11T13:05:07.407Z"
   },
   {
    "duration": 22,
    "start_time": "2024-09-11T13:05:07.434Z"
   },
   {
    "duration": 9,
    "start_time": "2024-09-11T13:05:07.457Z"
   },
   {
    "duration": 110,
    "start_time": "2024-09-11T13:05:07.467Z"
   },
   {
    "duration": 16,
    "start_time": "2024-09-11T13:05:07.579Z"
   },
   {
    "duration": 45,
    "start_time": "2024-09-11T13:05:07.596Z"
   },
   {
    "duration": 21,
    "start_time": "2024-09-11T13:05:07.644Z"
   },
   {
    "duration": 37,
    "start_time": "2024-09-11T13:05:07.666Z"
   },
   {
    "duration": 8,
    "start_time": "2024-09-11T13:05:07.705Z"
   },
   {
    "duration": 118,
    "start_time": "2024-09-11T13:05:07.714Z"
   },
   {
    "duration": 13,
    "start_time": "2024-09-11T13:05:07.834Z"
   },
   {
    "duration": 35,
    "start_time": "2024-09-11T13:05:07.849Z"
   },
   {
    "duration": 14,
    "start_time": "2024-09-11T13:05:07.885Z"
   },
   {
    "duration": 5,
    "start_time": "2024-09-11T13:05:07.901Z"
   },
   {
    "duration": 6,
    "start_time": "2024-09-11T13:05:07.908Z"
   },
   {
    "duration": 370,
    "start_time": "2024-09-11T13:05:07.916Z"
   },
   {
    "duration": 4,
    "start_time": "2024-09-11T13:05:08.288Z"
   },
   {
    "duration": 24,
    "start_time": "2024-09-11T13:05:08.293Z"
   },
   {
    "duration": 17,
    "start_time": "2024-09-11T13:05:08.318Z"
   },
   {
    "duration": 278,
    "start_time": "2024-09-11T13:05:08.337Z"
   },
   {
    "duration": 9,
    "start_time": "2024-09-11T13:05:08.617Z"
   },
   {
    "duration": 373,
    "start_time": "2024-09-11T13:05:08.628Z"
   },
   {
    "duration": 10,
    "start_time": "2024-09-11T13:05:09.002Z"
   },
   {
    "duration": 289,
    "start_time": "2024-09-11T13:05:09.013Z"
   },
   {
    "duration": 9,
    "start_time": "2024-09-11T13:05:09.304Z"
   },
   {
    "duration": 261,
    "start_time": "2024-09-11T13:05:09.314Z"
   },
   {
    "duration": 8,
    "start_time": "2024-09-11T13:05:09.577Z"
   },
   {
    "duration": 306,
    "start_time": "2024-09-11T13:05:09.586Z"
   },
   {
    "duration": 9,
    "start_time": "2024-09-11T13:05:09.893Z"
   },
   {
    "duration": 288,
    "start_time": "2024-09-11T13:05:09.903Z"
   },
   {
    "duration": 803,
    "start_time": "2024-09-11T13:06:25.301Z"
   },
   {
    "duration": 27,
    "start_time": "2024-09-11T13:06:26.105Z"
   },
   {
    "duration": 41,
    "start_time": "2024-09-11T13:06:26.134Z"
   },
   {
    "duration": 2017,
    "start_time": "2024-09-11T13:06:26.177Z"
   },
   {
    "duration": 11,
    "start_time": "2024-09-11T13:06:28.196Z"
   },
   {
    "duration": 6,
    "start_time": "2024-09-11T13:06:28.208Z"
   },
   {
    "duration": 34,
    "start_time": "2024-09-11T13:06:28.216Z"
   },
   {
    "duration": 9,
    "start_time": "2024-09-11T13:06:28.252Z"
   },
   {
    "duration": 14,
    "start_time": "2024-09-11T13:06:28.262Z"
   },
   {
    "duration": 11,
    "start_time": "2024-09-11T13:06:28.278Z"
   },
   {
    "duration": 14,
    "start_time": "2024-09-11T13:06:28.290Z"
   },
   {
    "duration": 27,
    "start_time": "2024-09-11T13:06:28.336Z"
   },
   {
    "duration": 23,
    "start_time": "2024-09-11T13:06:28.365Z"
   },
   {
    "duration": 7,
    "start_time": "2024-09-11T13:06:28.391Z"
   },
   {
    "duration": 119,
    "start_time": "2024-09-11T13:06:28.399Z"
   },
   {
    "duration": 15,
    "start_time": "2024-09-11T13:06:28.519Z"
   },
   {
    "duration": 21,
    "start_time": "2024-09-11T13:06:28.542Z"
   },
   {
    "duration": 5,
    "start_time": "2024-09-11T13:06:28.565Z"
   },
   {
    "duration": 5,
    "start_time": "2024-09-11T13:06:28.571Z"
   },
   {
    "duration": 3,
    "start_time": "2024-09-11T13:06:28.578Z"
   },
   {
    "duration": 388,
    "start_time": "2024-09-11T13:06:28.582Z"
   },
   {
    "duration": 4,
    "start_time": "2024-09-11T13:06:28.971Z"
   },
   {
    "duration": 24,
    "start_time": "2024-09-11T13:06:28.977Z"
   },
   {
    "duration": 43,
    "start_time": "2024-09-11T13:06:29.003Z"
   },
   {
    "duration": 265,
    "start_time": "2024-09-11T13:06:29.048Z"
   },
   {
    "duration": 12,
    "start_time": "2024-09-11T13:06:29.314Z"
   },
   {
    "duration": 389,
    "start_time": "2024-09-11T13:06:29.329Z"
   },
   {
    "duration": 32,
    "start_time": "2024-09-11T13:06:29.720Z"
   },
   {
    "duration": 260,
    "start_time": "2024-09-11T13:06:29.754Z"
   },
   {
    "duration": 19,
    "start_time": "2024-09-11T13:06:30.016Z"
   },
   {
    "duration": 321,
    "start_time": "2024-09-11T13:06:30.037Z"
   },
   {
    "duration": 8,
    "start_time": "2024-09-11T13:06:30.359Z"
   },
   {
    "duration": 307,
    "start_time": "2024-09-11T13:06:30.368Z"
   },
   {
    "duration": 9,
    "start_time": "2024-09-11T13:06:30.676Z"
   },
   {
    "duration": 312,
    "start_time": "2024-09-11T13:06:30.687Z"
   },
   {
    "duration": 1150,
    "start_time": "2024-09-11T13:06:31.001Z"
   },
   {
    "duration": 261,
    "start_time": "2024-09-11T13:06:48.048Z"
   },
   {
    "duration": 276,
    "start_time": "2024-09-11T13:06:55.399Z"
   },
   {
    "duration": 336,
    "start_time": "2024-09-11T13:09:00.446Z"
   },
   {
    "duration": 260,
    "start_time": "2024-09-11T13:10:54.892Z"
   },
   {
    "duration": 207,
    "start_time": "2024-09-11T13:11:00.822Z"
   },
   {
    "duration": 194,
    "start_time": "2024-09-11T13:11:28.466Z"
   },
   {
    "duration": 200,
    "start_time": "2024-09-11T13:11:35.554Z"
   },
   {
    "duration": 189,
    "start_time": "2024-09-11T13:12:14.635Z"
   },
   {
    "duration": 6068,
    "start_time": "2024-09-11T13:12:24.561Z"
   },
   {
    "duration": 6179,
    "start_time": "2024-09-11T13:12:43.539Z"
   },
   {
    "duration": 5911,
    "start_time": "2024-09-11T13:13:01.818Z"
   },
   {
    "duration": 2111,
    "start_time": "2024-09-11T13:13:34.912Z"
   },
   {
    "duration": 935,
    "start_time": "2024-09-11T13:13:46.041Z"
   },
   {
    "duration": 2179,
    "start_time": "2024-09-11T13:13:50.296Z"
   },
   {
    "duration": 200,
    "start_time": "2024-09-11T13:14:41.391Z"
   },
   {
    "duration": 173,
    "start_time": "2024-09-11T13:14:51.847Z"
   },
   {
    "duration": 445,
    "start_time": "2024-09-11T13:15:21.943Z"
   },
   {
    "duration": 286,
    "start_time": "2024-09-11T13:15:31.390Z"
   },
   {
    "duration": 199,
    "start_time": "2024-09-11T13:15:43.478Z"
   },
   {
    "duration": 916,
    "start_time": "2024-09-11T13:18:25.819Z"
   },
   {
    "duration": 179,
    "start_time": "2024-09-11T13:18:32.898Z"
   },
   {
    "duration": 326,
    "start_time": "2024-09-11T13:19:00.147Z"
   },
   {
    "duration": 364,
    "start_time": "2024-09-11T13:19:03.714Z"
   },
   {
    "duration": 303,
    "start_time": "2024-09-11T13:19:14.722Z"
   },
   {
    "duration": 7,
    "start_time": "2024-09-11T13:19:27.914Z"
   },
   {
    "duration": 199,
    "start_time": "2024-09-11T13:19:33.313Z"
   },
   {
    "duration": 6,
    "start_time": "2024-09-11T13:21:16.313Z"
   },
   {
    "duration": 11,
    "start_time": "2024-09-11T13:21:22.112Z"
   },
   {
    "duration": 193,
    "start_time": "2024-09-11T13:21:48.687Z"
   },
   {
    "duration": 214,
    "start_time": "2024-09-11T13:22:02.925Z"
   },
   {
    "duration": 256,
    "start_time": "2024-09-11T13:22:06.878Z"
   },
   {
    "duration": 184,
    "start_time": "2024-09-11T13:23:38.563Z"
   },
   {
    "duration": 10,
    "start_time": "2024-09-11T13:23:42.942Z"
   },
   {
    "duration": 228,
    "start_time": "2024-09-11T13:24:03.619Z"
   },
   {
    "duration": 375,
    "start_time": "2024-09-11T13:24:19.539Z"
   },
   {
    "duration": 9,
    "start_time": "2024-09-11T13:26:22.931Z"
   },
   {
    "duration": 288,
    "start_time": "2024-09-11T13:26:32.176Z"
   },
   {
    "duration": 270,
    "start_time": "2024-09-11T13:27:00.527Z"
   },
   {
    "duration": 187,
    "start_time": "2024-09-11T13:30:48.125Z"
   },
   {
    "duration": 158,
    "start_time": "2024-09-11T13:31:00.715Z"
   },
   {
    "duration": 146,
    "start_time": "2024-09-11T13:31:08.642Z"
   },
   {
    "duration": 964,
    "start_time": "2024-09-11T13:31:37.090Z"
   },
   {
    "duration": 149,
    "start_time": "2024-09-11T13:31:45.811Z"
   },
   {
    "duration": 176,
    "start_time": "2024-09-11T13:31:49.121Z"
   },
   {
    "duration": 159,
    "start_time": "2024-09-11T13:32:12.812Z"
   },
   {
    "duration": 270,
    "start_time": "2024-09-11T13:32:26.291Z"
   },
   {
    "duration": 174,
    "start_time": "2024-09-11T13:33:10.553Z"
   },
   {
    "duration": 7,
    "start_time": "2024-09-11T13:33:42.072Z"
   },
   {
    "duration": 72,
    "start_time": "2024-09-11T13:33:48.417Z"
   },
   {
    "duration": 9,
    "start_time": "2024-09-11T13:34:04.346Z"
   },
   {
    "duration": 53,
    "start_time": "2024-09-11T13:34:45.817Z"
   },
   {
    "duration": 28,
    "start_time": "2024-09-11T13:34:53.826Z"
   },
   {
    "duration": 54,
    "start_time": "2024-09-11T13:35:00.338Z"
   },
   {
    "duration": 175,
    "start_time": "2024-09-11T13:35:02.886Z"
   },
   {
    "duration": 970,
    "start_time": "2024-09-11T13:35:22.553Z"
   },
   {
    "duration": 1089,
    "start_time": "2024-09-11T13:35:29.975Z"
   },
   {
    "duration": 181,
    "start_time": "2024-09-11T13:36:03.046Z"
   },
   {
    "duration": 137,
    "start_time": "2024-09-11T13:36:16.996Z"
   },
   {
    "duration": 185,
    "start_time": "2024-09-11T13:36:21.876Z"
   },
   {
    "duration": 8,
    "start_time": "2024-09-11T13:36:59.356Z"
   },
   {
    "duration": 5,
    "start_time": "2024-09-11T13:37:02.092Z"
   },
   {
    "duration": 162,
    "start_time": "2024-09-11T13:37:26.179Z"
   },
   {
    "duration": 167,
    "start_time": "2024-09-11T13:37:29.150Z"
   },
   {
    "duration": 171,
    "start_time": "2024-09-11T13:39:54.012Z"
   },
   {
    "duration": 197,
    "start_time": "2024-09-11T13:39:54.313Z"
   },
   {
    "duration": 952,
    "start_time": "2024-09-11T13:39:54.576Z"
   },
   {
    "duration": 6,
    "start_time": "2024-09-11T13:39:59.537Z"
   },
   {
    "duration": 13,
    "start_time": "2024-09-11T13:41:33.847Z"
   },
   {
    "duration": 1123,
    "start_time": "2024-09-11T13:41:34.126Z"
   },
   {
    "duration": 0,
    "start_time": "2024-09-11T13:41:35.251Z"
   },
   {
    "duration": 14,
    "start_time": "2024-09-11T13:41:44.001Z"
   },
   {
    "duration": 1102,
    "start_time": "2024-09-11T13:41:47.495Z"
   },
   {
    "duration": 16,
    "start_time": "2024-09-11T13:42:02.174Z"
   },
   {
    "duration": 189,
    "start_time": "2024-09-11T13:42:10.454Z"
   },
   {
    "duration": 186,
    "start_time": "2024-09-11T13:42:22.150Z"
   },
   {
    "duration": 7,
    "start_time": "2024-09-11T13:42:25.365Z"
   },
   {
    "duration": 266,
    "start_time": "2024-09-11T13:45:25.924Z"
   },
   {
    "duration": 189,
    "start_time": "2024-09-11T13:45:44.826Z"
   },
   {
    "duration": 7,
    "start_time": "2024-09-11T13:45:49.251Z"
   },
   {
    "duration": 183,
    "start_time": "2024-09-11T13:47:50.511Z"
   },
   {
    "duration": 187,
    "start_time": "2024-09-11T13:48:13.919Z"
   },
   {
    "duration": 183,
    "start_time": "2024-09-11T13:48:28.432Z"
   },
   {
    "duration": 180,
    "start_time": "2024-09-11T13:48:37.439Z"
   },
   {
    "duration": 119,
    "start_time": "2024-09-11T13:49:05.537Z"
   },
   {
    "duration": 177,
    "start_time": "2024-09-11T13:49:14.126Z"
   },
   {
    "duration": 157,
    "start_time": "2024-09-11T13:49:32.071Z"
   },
   {
    "duration": 201,
    "start_time": "2024-09-11T13:49:36.822Z"
   },
   {
    "duration": 198,
    "start_time": "2024-09-11T13:49:40.677Z"
   },
   {
    "duration": 25,
    "start_time": "2024-09-11T13:49:45.621Z"
   },
   {
    "duration": 212,
    "start_time": "2024-09-11T13:49:49.061Z"
   },
   {
    "duration": 181,
    "start_time": "2024-09-11T13:49:55.349Z"
   },
   {
    "duration": 198,
    "start_time": "2024-09-11T13:52:46.916Z"
   },
   {
    "duration": 168,
    "start_time": "2024-09-11T13:52:57.585Z"
   },
   {
    "duration": 259,
    "start_time": "2024-09-11T13:53:21.156Z"
   },
   {
    "duration": 149,
    "start_time": "2024-09-11T13:53:23.531Z"
   },
   {
    "duration": 142,
    "start_time": "2024-09-11T13:53:25.621Z"
   },
   {
    "duration": 137,
    "start_time": "2024-09-11T13:53:28.274Z"
   },
   {
    "duration": 145,
    "start_time": "2024-09-11T13:53:30.561Z"
   },
   {
    "duration": 138,
    "start_time": "2024-09-11T13:53:33.529Z"
   },
   {
    "duration": 196,
    "start_time": "2024-09-11T13:53:36.473Z"
   },
   {
    "duration": 184,
    "start_time": "2024-09-11T13:53:52.448Z"
   },
   {
    "duration": 5,
    "start_time": "2024-09-11T13:54:39.937Z"
   },
   {
    "duration": 184,
    "start_time": "2024-09-11T13:55:09.736Z"
   },
   {
    "duration": 162,
    "start_time": "2024-09-11T13:56:04.790Z"
   },
   {
    "duration": 319,
    "start_time": "2024-09-11T13:56:05.240Z"
   },
   {
    "duration": 158,
    "start_time": "2024-09-11T13:56:11.574Z"
   },
   {
    "duration": 309,
    "start_time": "2024-09-11T13:56:16.120Z"
   },
   {
    "duration": 5,
    "start_time": "2024-09-11T13:56:24.887Z"
   },
   {
    "duration": 403,
    "start_time": "2024-09-11T13:58:03.036Z"
   },
   {
    "duration": 119,
    "start_time": "2024-09-11T13:58:11.343Z"
   },
   {
    "duration": 179,
    "start_time": "2024-09-11T13:58:14.861Z"
   },
   {
    "duration": 274,
    "start_time": "2024-09-11T13:58:32.324Z"
   },
   {
    "duration": 175,
    "start_time": "2024-09-11T13:58:48.716Z"
   },
   {
    "duration": 144,
    "start_time": "2024-09-11T13:59:23.322Z"
   },
   {
    "duration": 152,
    "start_time": "2024-09-11T13:59:29.978Z"
   },
   {
    "duration": 150,
    "start_time": "2024-09-11T13:59:43.421Z"
   },
   {
    "duration": 145,
    "start_time": "2024-09-11T13:59:50.850Z"
   },
   {
    "duration": 5,
    "start_time": "2024-09-11T13:59:51.196Z"
   },
   {
    "duration": 275,
    "start_time": "2024-09-11T14:03:22.771Z"
   },
   {
    "duration": 202,
    "start_time": "2024-09-11T14:03:49.703Z"
   },
   {
    "duration": 182,
    "start_time": "2024-09-11T14:03:53.574Z"
   },
   {
    "duration": 189,
    "start_time": "2024-09-11T14:04:03.845Z"
   },
   {
    "duration": 6,
    "start_time": "2024-09-11T14:04:13.501Z"
   },
   {
    "duration": 158,
    "start_time": "2024-09-11T14:04:23.654Z"
   },
   {
    "duration": 717,
    "start_time": "2024-09-11T14:04:32.437Z"
   },
   {
    "duration": 10,
    "start_time": "2024-09-11T14:04:38.389Z"
   },
   {
    "duration": 9,
    "start_time": "2024-09-11T14:04:42.165Z"
   },
   {
    "duration": 770,
    "start_time": "2024-09-11T14:04:45.893Z"
   },
   {
    "duration": 135,
    "start_time": "2024-09-11T14:04:53.140Z"
   },
   {
    "duration": 160,
    "start_time": "2024-09-11T14:04:58.238Z"
   },
   {
    "duration": 175,
    "start_time": "2024-09-11T14:05:02.350Z"
   },
   {
    "duration": 203,
    "start_time": "2024-09-11T14:05:16.124Z"
   },
   {
    "duration": 158,
    "start_time": "2024-09-11T14:05:54.884Z"
   },
   {
    "duration": 168,
    "start_time": "2024-09-11T14:06:15.748Z"
   },
   {
    "duration": 154,
    "start_time": "2024-09-11T14:06:26.541Z"
   },
   {
    "duration": 156,
    "start_time": "2024-09-11T14:06:40.637Z"
   },
   {
    "duration": 8,
    "start_time": "2024-09-11T14:06:56.404Z"
   },
   {
    "duration": 169,
    "start_time": "2024-09-11T14:07:05.858Z"
   },
   {
    "duration": 170,
    "start_time": "2024-09-11T14:07:10.267Z"
   },
   {
    "duration": 177,
    "start_time": "2024-09-11T14:07:13.450Z"
   },
   {
    "duration": 203,
    "start_time": "2024-09-11T14:07:26.122Z"
   },
   {
    "duration": 151,
    "start_time": "2024-09-11T14:07:28.282Z"
   },
   {
    "duration": 4,
    "start_time": "2024-09-11T14:07:28.435Z"
   },
   {
    "duration": 275,
    "start_time": "2024-09-11T14:07:29.529Z"
   },
   {
    "duration": 5,
    "start_time": "2024-09-11T14:07:29.805Z"
   },
   {
    "duration": 172,
    "start_time": "2024-09-11T14:08:01.345Z"
   },
   {
    "duration": 173,
    "start_time": "2024-09-11T14:09:01.688Z"
   },
   {
    "duration": 944,
    "start_time": "2024-09-11T14:09:11.352Z"
   },
   {
    "duration": 186,
    "start_time": "2024-09-11T14:09:13.832Z"
   },
   {
    "duration": 6,
    "start_time": "2024-09-11T14:09:26.551Z"
   },
   {
    "duration": 212,
    "start_time": "2024-09-11T14:10:02.417Z"
   },
   {
    "duration": 5,
    "start_time": "2024-09-11T14:10:02.863Z"
   },
   {
    "duration": 169,
    "start_time": "2024-09-11T14:11:11.325Z"
   },
   {
    "duration": 5,
    "start_time": "2024-09-11T14:11:11.541Z"
   },
   {
    "duration": 159,
    "start_time": "2024-09-11T14:11:24.093Z"
   },
   {
    "duration": 182,
    "start_time": "2024-09-11T14:11:29.045Z"
   },
   {
    "duration": 169,
    "start_time": "2024-09-11T14:11:39.349Z"
   },
   {
    "duration": 162,
    "start_time": "2024-09-11T14:12:59.987Z"
   },
   {
    "duration": 17,
    "start_time": "2024-09-11T14:35:08.981Z"
   },
   {
    "duration": 17,
    "start_time": "2024-09-11T14:35:31.650Z"
   },
   {
    "duration": 14,
    "start_time": "2024-09-11T14:35:41.737Z"
   },
   {
    "duration": 16,
    "start_time": "2024-09-11T14:35:59.512Z"
   },
   {
    "duration": 4,
    "start_time": "2024-09-11T14:37:33.135Z"
   },
   {
    "duration": 15,
    "start_time": "2024-09-11T14:37:51.685Z"
   },
   {
    "duration": 27,
    "start_time": "2024-09-11T14:37:57.558Z"
   },
   {
    "duration": 24,
    "start_time": "2024-09-11T14:38:04.679Z"
   },
   {
    "duration": 16,
    "start_time": "2024-09-11T14:39:54.412Z"
   },
   {
    "duration": 11,
    "start_time": "2024-09-11T14:40:04.316Z"
   },
   {
    "duration": 13,
    "start_time": "2024-09-11T14:40:44.267Z"
   },
   {
    "duration": 21,
    "start_time": "2024-09-11T14:40:48.931Z"
   },
   {
    "duration": 19,
    "start_time": "2024-09-11T14:41:05.338Z"
   },
   {
    "duration": 34,
    "start_time": "2024-09-11T14:41:30.540Z"
   },
   {
    "duration": 24,
    "start_time": "2024-09-11T14:41:34.925Z"
   },
   {
    "duration": 55,
    "start_time": "2024-09-11T14:41:49.170Z"
   },
   {
    "duration": 25,
    "start_time": "2024-09-11T14:41:53.298Z"
   },
   {
    "duration": 23,
    "start_time": "2024-09-11T14:42:21.897Z"
   },
   {
    "duration": 27,
    "start_time": "2024-09-11T14:42:25.489Z"
   },
   {
    "duration": 26,
    "start_time": "2024-09-11T14:42:40.497Z"
   },
   {
    "duration": 27,
    "start_time": "2024-09-11T14:42:47.659Z"
   },
   {
    "duration": 24,
    "start_time": "2024-09-11T14:42:53.393Z"
   },
   {
    "duration": 19,
    "start_time": "2024-09-11T14:43:04.592Z"
   },
   {
    "duration": 24,
    "start_time": "2024-09-11T14:43:06.857Z"
   },
   {
    "duration": 23,
    "start_time": "2024-09-11T14:43:42.559Z"
   },
   {
    "duration": 21,
    "start_time": "2024-09-11T14:43:56.642Z"
   },
   {
    "duration": 23,
    "start_time": "2024-09-11T14:43:58.687Z"
   },
   {
    "duration": 22,
    "start_time": "2024-09-11T14:44:11.726Z"
   },
   {
    "duration": 23,
    "start_time": "2024-09-11T14:44:44.366Z"
   },
   {
    "duration": 24,
    "start_time": "2024-09-11T14:45:10.237Z"
   },
   {
    "duration": 13,
    "start_time": "2024-09-11T14:45:16.599Z"
   },
   {
    "duration": 15,
    "start_time": "2024-09-11T14:45:19.958Z"
   },
   {
    "duration": 23,
    "start_time": "2024-09-11T14:45:47.862Z"
   },
   {
    "duration": 15,
    "start_time": "2024-09-11T14:45:54.517Z"
   },
   {
    "duration": 16,
    "start_time": "2024-09-11T14:46:04.413Z"
   },
   {
    "duration": 22,
    "start_time": "2024-09-11T14:46:08.789Z"
   },
   {
    "duration": 20,
    "start_time": "2024-09-11T14:46:22.526Z"
   },
   {
    "duration": 16,
    "start_time": "2024-09-11T14:46:29.092Z"
   },
   {
    "duration": 18,
    "start_time": "2024-09-11T14:46:40.731Z"
   },
   {
    "duration": 17,
    "start_time": "2024-09-11T14:46:44.284Z"
   },
   {
    "duration": 11,
    "start_time": "2024-09-11T14:46:52.612Z"
   },
   {
    "duration": 15,
    "start_time": "2024-09-11T14:46:56.021Z"
   },
   {
    "duration": 16,
    "start_time": "2024-09-11T14:47:06.091Z"
   },
   {
    "duration": 23,
    "start_time": "2024-09-11T14:47:17.316Z"
   },
   {
    "duration": 25,
    "start_time": "2024-09-11T14:47:39.605Z"
   },
   {
    "duration": 17,
    "start_time": "2024-09-11T14:47:43.005Z"
   },
   {
    "duration": 9,
    "start_time": "2024-09-11T14:53:21.615Z"
   },
   {
    "duration": 42,
    "start_time": "2024-09-11T14:53:24.740Z"
   },
   {
    "duration": 23,
    "start_time": "2024-09-11T14:54:32.851Z"
   },
   {
    "duration": 32,
    "start_time": "2024-09-11T14:54:37.731Z"
   },
   {
    "duration": 164,
    "start_time": "2024-09-11T14:56:19.474Z"
   },
   {
    "duration": 7,
    "start_time": "2024-09-11T14:56:28.690Z"
   },
   {
    "duration": 167,
    "start_time": "2024-09-11T14:56:32.538Z"
   },
   {
    "duration": 167,
    "start_time": "2024-09-11T14:56:35.096Z"
   },
   {
    "duration": 165,
    "start_time": "2024-09-11T14:56:51.656Z"
   },
   {
    "duration": 68,
    "start_time": "2024-09-11T14:57:06.728Z"
   },
   {
    "duration": 317,
    "start_time": "2024-09-11T14:57:09.822Z"
   },
   {
    "duration": 22,
    "start_time": "2024-09-11T14:57:47.200Z"
   },
   {
    "duration": 189,
    "start_time": "2024-09-11T14:57:47.679Z"
   },
   {
    "duration": 14,
    "start_time": "2024-09-11T14:57:56.287Z"
   },
   {
    "duration": 8,
    "start_time": "2024-09-11T14:57:58.399Z"
   },
   {
    "duration": 385,
    "start_time": "2024-09-11T14:58:01.766Z"
   },
   {
    "duration": 202,
    "start_time": "2024-09-11T14:58:10.984Z"
   },
   {
    "duration": 157,
    "start_time": "2024-09-11T15:00:17.847Z"
   },
   {
    "duration": 169,
    "start_time": "2024-09-11T15:00:34.004Z"
   },
   {
    "duration": 156,
    "start_time": "2024-09-11T15:00:44.572Z"
   },
   {
    "duration": 176,
    "start_time": "2024-09-11T15:01:32.079Z"
   },
   {
    "duration": 199,
    "start_time": "2024-09-11T15:01:46.283Z"
   },
   {
    "duration": 57,
    "start_time": "2024-09-11T15:02:48.557Z"
   },
   {
    "duration": 54,
    "start_time": "2024-09-11T15:03:04.050Z"
   },
   {
    "duration": 52,
    "start_time": "2024-09-11T15:03:06.370Z"
   },
   {
    "duration": 55,
    "start_time": "2024-09-11T15:03:08.309Z"
   },
   {
    "duration": 53,
    "start_time": "2024-09-11T15:03:19.043Z"
   },
   {
    "duration": 214,
    "start_time": "2024-09-11T15:03:29.602Z"
   },
   {
    "duration": 11,
    "start_time": "2024-09-11T15:04:24.018Z"
   },
   {
    "duration": 72,
    "start_time": "2024-09-11T15:04:48.620Z"
   },
   {
    "duration": 6,
    "start_time": "2024-09-11T15:04:52.944Z"
   },
   {
    "duration": 202,
    "start_time": "2024-09-11T15:05:58.912Z"
   }
  ],
  "colab": {
   "provenance": []
  },
  "kernelspec": {
   "display_name": "Python 3 (ipykernel)",
   "language": "python",
   "name": "python3"
  },
  "language_info": {
   "codemirror_mode": {
    "name": "ipython",
    "version": 3
   },
   "file_extension": ".py",
   "mimetype": "text/x-python",
   "name": "python",
   "nbconvert_exporter": "python",
   "pygments_lexer": "ipython3",
   "version": "3.9.5"
  },
  "toc": {
   "base_numbering": 1,
   "nav_menu": {},
   "number_sections": true,
   "sideBar": true,
   "skip_h1_title": true,
   "title_cell": "Table of Contents",
   "title_sidebar": "Contents",
   "toc_cell": false,
   "toc_position": {
    "height": "calc(100% - 180px)",
    "left": "10px",
    "top": "150px",
    "width": "384px"
   },
   "toc_section_display": true,
   "toc_window_display": false
  }
 },
 "nbformat": 4,
 "nbformat_minor": 1
}
