{
 "cells": [
  {
   "cell_type": "markdown",
   "metadata": {
    "deletable": false,
    "editable": false,
    "id": "E0vqbgi9ay0H"
   },
   "source": [
    "# Яндекс Музыка"
   ]
  },
  {
   "cell_type": "markdown",
   "metadata": {
    "deletable": false,
    "editable": false,
    "id": "VUC88oWjTJw2"
   },
   "source": [
    "Сравнение Москвы и Петербурга окружено мифами. Например:\n",
    " * Москва — мегаполис, подчинённый жёсткому ритму рабочей недели;\n",
    " * Петербург — культурная столица, со своими вкусами.\n",
    "\n",
    "На данных Яндекс Музыки вы сравните поведение пользователей двух столиц.\n",
    "\n",
    "**Цель исследования** — проверьте три гипотезы:\n",
    "1. Активность пользователей зависит от дня недели. Причём в Москве и Петербурге это проявляется по-разному.\n",
    "2. В понедельник утром в Москве преобладают одни жанры, а в Петербурге — другие. Так же и вечером пятницы преобладают разные жанры — в зависимости от города.\n",
    "3. Москва и Петербург предпочитают разные жанры музыки. В Москве чаще слушают поп-музыку, в Петербурге — русский рэп.\n",
    "\n",
    "**Ход исследования**\n",
    "\n",
    "Данные о поведении пользователей вы получите из файла `yandex_music_project.csv`. О качестве данных ничего не известно. Поэтому перед проверкой гипотез понадобится обзор данных.\n",
    "\n",
    "Вы проверите данные на ошибки и оцените их влияние на исследование. Затем, на этапе предобработки вы поищете возможность исправить самые критичные ошибки данных.\n",
    "\n",
    "Таким образом, исследование пройдёт в три этапа:\n",
    " 1. Обзор данных.\n",
    " 2. Предобработка данных.\n",
    " 3. Проверка гипотез.\n",
    "\n"
   ]
  },
  {
   "cell_type": "markdown",
   "metadata": {
    "deletable": false,
    "editable": false,
    "id": "Ml1hmfXC_Zcs"
   },
   "source": [
    "## Обзор данных\n",
    "\n",
    "Составьте первое представление о данных Яндекс Музыки.\n",
    "\n",
    "\n"
   ]
  },
  {
   "cell_type": "markdown",
   "metadata": {
    "deletable": false,
    "editable": false,
    "id": "57eAOGIz_Zcs",
    "tags": [
     "start_task"
    ]
   },
   "source": [
    "**Задание 1**"
   ]
  },
  {
   "cell_type": "code",
   "execution_count": 3,
   "metadata": {
    "deletable": false,
    "id": "AXN7PHPN_Zcs"
   },
   "outputs": [],
   "source": [
    "import pandas as pd # импорт библиотке pandas"
   ]
  },
  {
   "cell_type": "markdown",
   "metadata": {
    "deletable": false,
    "editable": false,
    "id": "SG23P8tt_Zcs",
    "tags": [
     "start_task"
    ]
   },
   "source": [
    "**Задание 2**"
   ]
  },
  {
   "cell_type": "code",
   "execution_count": 4,
   "metadata": {
    "deletable": false,
    "id": "fFVu7vqh_Zct"
   },
   "outputs": [],
   "source": [
    "df = pd.read_csv('/datasets/yandex_music_project.csv') # чтение файла csv"
   ]
  },
  {
   "cell_type": "markdown",
   "metadata": {
    "deletable": false,
    "editable": false,
    "id": "rDoOMd3uTqnZ",
    "tags": [
     "start_task"
    ]
   },
   "source": [
    "**Задание 3**"
   ]
  },
  {
   "cell_type": "code",
   "execution_count": 5,
   "metadata": {
    "deletable": false,
    "id": "oWTVX3gW_Zct"
   },
   "outputs": [
    {
     "data": {
      "text/html": [
       "<div>\n",
       "<style scoped>\n",
       "    .dataframe tbody tr th:only-of-type {\n",
       "        vertical-align: middle;\n",
       "    }\n",
       "\n",
       "    .dataframe tbody tr th {\n",
       "        vertical-align: top;\n",
       "    }\n",
       "\n",
       "    .dataframe thead th {\n",
       "        text-align: right;\n",
       "    }\n",
       "</style>\n",
       "<table border=\"1\" class=\"dataframe\">\n",
       "  <thead>\n",
       "    <tr style=\"text-align: right;\">\n",
       "      <th></th>\n",
       "      <th>userID</th>\n",
       "      <th>Track</th>\n",
       "      <th>artist</th>\n",
       "      <th>genre</th>\n",
       "      <th>City</th>\n",
       "      <th>time</th>\n",
       "      <th>Day</th>\n",
       "    </tr>\n",
       "  </thead>\n",
       "  <tbody>\n",
       "    <tr>\n",
       "      <th>0</th>\n",
       "      <td>FFB692EC</td>\n",
       "      <td>Kamigata To Boots</td>\n",
       "      <td>The Mass Missile</td>\n",
       "      <td>rock</td>\n",
       "      <td>Saint-Petersburg</td>\n",
       "      <td>20:28:33</td>\n",
       "      <td>Wednesday</td>\n",
       "    </tr>\n",
       "    <tr>\n",
       "      <th>1</th>\n",
       "      <td>55204538</td>\n",
       "      <td>Delayed Because of Accident</td>\n",
       "      <td>Andreas Rönnberg</td>\n",
       "      <td>rock</td>\n",
       "      <td>Moscow</td>\n",
       "      <td>14:07:09</td>\n",
       "      <td>Friday</td>\n",
       "    </tr>\n",
       "    <tr>\n",
       "      <th>2</th>\n",
       "      <td>20EC38</td>\n",
       "      <td>Funiculì funiculà</td>\n",
       "      <td>Mario Lanza</td>\n",
       "      <td>pop</td>\n",
       "      <td>Saint-Petersburg</td>\n",
       "      <td>20:58:07</td>\n",
       "      <td>Wednesday</td>\n",
       "    </tr>\n",
       "    <tr>\n",
       "      <th>3</th>\n",
       "      <td>A3DD03C9</td>\n",
       "      <td>Dragons in the Sunset</td>\n",
       "      <td>Fire + Ice</td>\n",
       "      <td>folk</td>\n",
       "      <td>Saint-Petersburg</td>\n",
       "      <td>08:37:09</td>\n",
       "      <td>Monday</td>\n",
       "    </tr>\n",
       "    <tr>\n",
       "      <th>4</th>\n",
       "      <td>E2DC1FAE</td>\n",
       "      <td>Soul People</td>\n",
       "      <td>Space Echo</td>\n",
       "      <td>dance</td>\n",
       "      <td>Moscow</td>\n",
       "      <td>08:34:34</td>\n",
       "      <td>Monday</td>\n",
       "    </tr>\n",
       "    <tr>\n",
       "      <th>5</th>\n",
       "      <td>842029A1</td>\n",
       "      <td>Преданная</td>\n",
       "      <td>IMPERVTOR</td>\n",
       "      <td>rusrap</td>\n",
       "      <td>Saint-Petersburg</td>\n",
       "      <td>13:09:41</td>\n",
       "      <td>Friday</td>\n",
       "    </tr>\n",
       "    <tr>\n",
       "      <th>6</th>\n",
       "      <td>4CB90AA5</td>\n",
       "      <td>True</td>\n",
       "      <td>Roman Messer</td>\n",
       "      <td>dance</td>\n",
       "      <td>Moscow</td>\n",
       "      <td>13:00:07</td>\n",
       "      <td>Wednesday</td>\n",
       "    </tr>\n",
       "    <tr>\n",
       "      <th>7</th>\n",
       "      <td>F03E1C1F</td>\n",
       "      <td>Feeling This Way</td>\n",
       "      <td>Polina Griffith</td>\n",
       "      <td>dance</td>\n",
       "      <td>Moscow</td>\n",
       "      <td>20:47:49</td>\n",
       "      <td>Wednesday</td>\n",
       "    </tr>\n",
       "    <tr>\n",
       "      <th>8</th>\n",
       "      <td>8FA1D3BE</td>\n",
       "      <td>И вновь продолжается бой</td>\n",
       "      <td>NaN</td>\n",
       "      <td>ruspop</td>\n",
       "      <td>Moscow</td>\n",
       "      <td>09:17:40</td>\n",
       "      <td>Friday</td>\n",
       "    </tr>\n",
       "    <tr>\n",
       "      <th>9</th>\n",
       "      <td>E772D5C0</td>\n",
       "      <td>Pessimist</td>\n",
       "      <td>NaN</td>\n",
       "      <td>dance</td>\n",
       "      <td>Saint-Petersburg</td>\n",
       "      <td>21:20:49</td>\n",
       "      <td>Wednesday</td>\n",
       "    </tr>\n",
       "  </tbody>\n",
       "</table>\n",
       "</div>"
      ],
      "text/plain": [
       "     userID                        Track            artist   genre  \\\n",
       "0  FFB692EC            Kamigata To Boots  The Mass Missile    rock   \n",
       "1  55204538  Delayed Because of Accident  Andreas Rönnberg    rock   \n",
       "2    20EC38            Funiculì funiculà       Mario Lanza     pop   \n",
       "3  A3DD03C9        Dragons in the Sunset        Fire + Ice    folk   \n",
       "4  E2DC1FAE                  Soul People        Space Echo   dance   \n",
       "5  842029A1                    Преданная         IMPERVTOR  rusrap   \n",
       "6  4CB90AA5                         True      Roman Messer   dance   \n",
       "7  F03E1C1F             Feeling This Way   Polina Griffith   dance   \n",
       "8  8FA1D3BE     И вновь продолжается бой               NaN  ruspop   \n",
       "9  E772D5C0                    Pessimist               NaN   dance   \n",
       "\n",
       "             City        time        Day  \n",
       "0  Saint-Petersburg  20:28:33  Wednesday  \n",
       "1            Moscow  14:07:09     Friday  \n",
       "2  Saint-Petersburg  20:58:07  Wednesday  \n",
       "3  Saint-Petersburg  08:37:09     Monday  \n",
       "4            Moscow  08:34:34     Monday  \n",
       "5  Saint-Petersburg  13:09:41     Friday  \n",
       "6            Moscow  13:00:07  Wednesday  \n",
       "7            Moscow  20:47:49  Wednesday  \n",
       "8            Moscow  09:17:40     Friday  \n",
       "9  Saint-Petersburg  21:20:49  Wednesday  "
      ]
     },
     "execution_count": 5,
     "metadata": {},
     "output_type": "execute_result"
    }
   ],
   "source": [
    "df.head(10) # вывели на экран первые десять строк датафрейма df"
   ]
  },
  {
   "cell_type": "markdown",
   "metadata": {
    "deletable": false,
    "editable": false,
    "id": "EO73Kwic_Zct",
    "tags": [
     "start_task"
    ]
   },
   "source": [
    "**Задание 4**"
   ]
  },
  {
   "cell_type": "code",
   "execution_count": 6,
   "metadata": {
    "deletable": false,
    "id": "DSf2kIb-_Zct"
   },
   "outputs": [
    {
     "name": "stdout",
     "output_type": "stream",
     "text": [
      "<class 'pandas.core.frame.DataFrame'>\n",
      "RangeIndex: 65079 entries, 0 to 65078\n",
      "Data columns (total 7 columns):\n",
      " #   Column    Non-Null Count  Dtype \n",
      "---  ------    --------------  ----- \n",
      " 0     userID  65079 non-null  object\n",
      " 1   Track     63848 non-null  object\n",
      " 2   artist    57876 non-null  object\n",
      " 3   genre     63881 non-null  object\n",
      " 4     City    65079 non-null  object\n",
      " 5   time      65079 non-null  object\n",
      " 6   Day       65079 non-null  object\n",
      "dtypes: object(7)\n",
      "memory usage: 3.5+ MB\n"
     ]
    }
   ],
   "source": [
    "df.info() # получаем общую информацию"
   ]
  },
  {
   "cell_type": "markdown",
   "metadata": {
    "deletable": false,
    "editable": false,
    "id": "TaQ2Iwbr_Zct"
   },
   "source": [
    "Количество значений в столбцах различается. Значит, в данных есть пропущенные значения."
   ]
  },
  {
   "cell_type": "markdown",
   "metadata": {
    "deletable": false,
    "editable": false,
    "id": "4P0UCWzswgEm",
    "tags": [
     "start_task"
    ]
   },
   "source": [
    "**Задание 5**"
   ]
  },
  {
   "cell_type": "code",
   "execution_count": 7,
   "metadata": {
    "id": "c137-ZstwgEm"
   },
   "outputs": [],
   "source": [
    "# В названиях колонок видны три нарушения стиля:\n",
    "# Строчные буквы сочетаются с прописными.\n",
    "# Встречаются пробелы.\n",
    "# Найдите третье нарушение стиля. \n",
    "# 3. Не используется змеиный регистр"
   ]
  },
  {
   "cell_type": "markdown",
   "metadata": {
    "deletable": false,
    "editable": false,
    "id": "MCB6-dXG_Zct"
   },
   "source": [
    "**Выводы**\n",
    "\n",
    "В каждой строке таблицы — данные о прослушанном треке. Часть колонок описывает саму композицию: название, исполнителя и жанр. Остальные данные рассказывают о пользователе: из какого он города, когда он слушал музыку.\n",
    "\n",
    "Предварительно можно утверждать, что данных достаточно для проверки гипотез. Но встречаются пропуски в данных, а в названиях колонок — расхождения с хорошим стилем.\n",
    "\n",
    "Чтобы двигаться дальше, нужно устранить проблемы в данных."
   ]
  },
  {
   "cell_type": "markdown",
   "metadata": {
    "deletable": false,
    "editable": false,
    "id": "SjYF6Ub9_Zct"
   },
   "source": [
    "## Предобработка данных"
   ]
  },
  {
   "cell_type": "markdown",
   "metadata": {
    "deletable": false,
    "editable": false,
    "id": "dIaKXr29_Zct",
    "tags": [
     "start_task"
    ]
   },
   "source": [
    "### Переименование столбцов\n",
    "\n",
    "**Задание 6**"
   ]
  },
  {
   "cell_type": "code",
   "execution_count": 8,
   "metadata": {
    "deletable": false,
    "id": "oKOTdF_Q_Zct"
   },
   "outputs": [
    {
     "data": {
      "text/plain": [
       "Index(['  userID', 'Track', 'artist', 'genre', '  City  ', 'time', 'Day'], dtype='object')"
      ]
     },
     "execution_count": 8,
     "metadata": {},
     "output_type": "execute_result"
    }
   ],
   "source": [
    "df.columns # вывели на экран названия столбцов датафрейма df."
   ]
  },
  {
   "cell_type": "markdown",
   "metadata": {
    "deletable": false,
    "editable": false,
    "id": "zj5534cv_Zct",
    "tags": [
     "start_task"
    ]
   },
   "source": [
    "**Задание 7**"
   ]
  },
  {
   "cell_type": "code",
   "execution_count": 10,
   "metadata": {
    "deletable": false,
    "id": "ISlFqs5y_Zct"
   },
   "outputs": [],
   "source": [
    "df = df.rename(columns={'  userID':'user_id', 'Track':'track', '  City  ':'city', 'Day':'day'}) # переименовали наименование столбцов"
   ]
  },
  {
   "cell_type": "markdown",
   "metadata": {
    "deletable": false,
    "editable": false,
    "id": "1dqbh00J_Zct",
    "tags": [
     "start_task"
    ]
   },
   "source": [
    "**Задание 8**"
   ]
  },
  {
   "cell_type": "code",
   "execution_count": 11,
   "metadata": {
    "deletable": false,
    "id": "d4NOAmTW_Zct"
   },
   "outputs": [
    {
     "data": {
      "text/plain": [
       "Index(['user_id', 'track', 'artist', 'genre', 'city', 'time', 'day'], dtype='object')"
      ]
     },
     "execution_count": 11,
     "metadata": {},
     "output_type": "execute_result"
    }
   ],
   "source": [
    "df.columns #проверяем результат"
   ]
  },
  {
   "cell_type": "markdown",
   "metadata": {
    "deletable": false,
    "editable": false,
    "id": "5ISfbcfY_Zct",
    "tags": [
     "start_task"
    ]
   },
   "source": [
    "### Обработка пропущенных значений\n",
    "\n",
    "**Задание 9**"
   ]
  },
  {
   "cell_type": "code",
   "execution_count": 13,
   "metadata": {
    "deletable": false,
    "id": "RskX29qr_Zct"
   },
   "outputs": [
    {
     "data": {
      "text/plain": [
       "user_id       0\n",
       "track      1231\n",
       "artist     7203\n",
       "genre      1198\n",
       "city          0\n",
       "time          0\n",
       "day           0\n",
       "dtype: int64"
      ]
     },
     "execution_count": 13,
     "metadata": {},
     "output_type": "execute_result"
    }
   ],
   "source": [
    "df.isna().sum() # посчитали, сколько в каждом из столбцов таблицы пропущенных значений"
   ]
  },
  {
   "cell_type": "markdown",
   "metadata": {
    "deletable": false,
    "editable": false,
    "id": "fSv2laPA_Zct",
    "tags": [
     "start_task"
    ]
   },
   "source": [
    "**Задание 10**"
   ]
  },
  {
   "cell_type": "code",
   "execution_count": 14,
   "metadata": {
    "deletable": false,
    "id": "KplB5qWs_Zct"
   },
   "outputs": [],
   "source": [
    "columns_to_replace = ['track', 'artist', 'genre']\n",
    "for i in columns_to_replace:\n",
    "    df[i] = df[i].fillna('unknown') # заменили пропущенные значения в столбцах track, artist и genre на строку 'unknown'"
   ]
  },
  {
   "cell_type": "markdown",
   "metadata": {
    "deletable": false,
    "editable": false,
    "id": "Ilsm-MZo_Zct",
    "tags": [
     "start_task"
    ]
   },
   "source": [
    "**Задание 11**"
   ]
  },
  {
   "cell_type": "code",
   "execution_count": 15,
   "metadata": {
    "deletable": false,
    "id": "Tq4nYRX4_Zct",
    "scrolled": true
   },
   "outputs": [
    {
     "data": {
      "text/plain": [
       "user_id    0\n",
       "track      0\n",
       "artist     0\n",
       "genre      0\n",
       "city       0\n",
       "time       0\n",
       "day        0\n",
       "dtype: int64"
      ]
     },
     "execution_count": 15,
     "metadata": {},
     "output_type": "execute_result"
    }
   ],
   "source": [
    "df.isna().sum() # проверяем коливество пропусков"
   ]
  },
  {
   "cell_type": "markdown",
   "metadata": {
    "deletable": false,
    "editable": false,
    "id": "BWKRtBJ3_Zct",
    "tags": [
     "start_task"
    ]
   },
   "source": [
    "### Обработка дубликатов\n",
    "\n",
    "**Задание 12**"
   ]
  },
  {
   "cell_type": "code",
   "execution_count": 17,
   "metadata": {
    "deletable": false,
    "id": "36eES_S0_Zct"
   },
   "outputs": [
    {
     "data": {
      "text/plain": [
       "3826"
      ]
     },
     "execution_count": 17,
     "metadata": {},
     "output_type": "execute_result"
    }
   ],
   "source": [
    "df.duplicated().sum() # подсчитаем количество явных дубликатов"
   ]
  },
  {
   "cell_type": "markdown",
   "metadata": {
    "deletable": false,
    "editable": false,
    "id": "Ot25h6XR_Zct",
    "tags": [
     "start_task"
    ]
   },
   "source": [
    "**Задание 13**"
   ]
  },
  {
   "cell_type": "code",
   "execution_count": 19,
   "metadata": {
    "deletable": false,
    "id": "exFHq6tt_Zct"
   },
   "outputs": [],
   "source": [
    "df = df.drop_duplicates().reset_index(drop=True) # удалим явные строки-дубликаты в данных. В этой же строке вызвали метод, который создаст новые индексы и удалит старые"
   ]
  },
  {
   "cell_type": "markdown",
   "metadata": {
    "deletable": false,
    "editable": false,
    "id": "Im2YwBEG_Zct",
    "tags": [
     "start_task"
    ]
   },
   "source": [
    "**Задание 14**"
   ]
  },
  {
   "cell_type": "code",
   "execution_count": 20,
   "metadata": {
    "deletable": false,
    "id": "-8PuNWQ0_Zct"
   },
   "outputs": [
    {
     "data": {
      "text/plain": [
       "0"
      ]
     },
     "execution_count": 20,
     "metadata": {},
     "output_type": "execute_result"
    }
   ],
   "source": [
    "df.duplicated().sum() # проверим количество явных дубликатов"
   ]
  },
  {
   "cell_type": "markdown",
   "metadata": {
    "deletable": false,
    "editable": false,
    "id": "eSjWwsOh_Zct",
    "tags": [
     "start_task"
    ]
   },
   "source": [
    "**Задание 15**"
   ]
  },
  {
   "cell_type": "code",
   "execution_count": 22,
   "metadata": {
    "deletable": false,
    "id": "JIUcqzZN_Zct"
   },
   "outputs": [
    {
     "data": {
      "text/plain": [
       "array(['acid', 'acoustic', 'action', 'adult', 'africa', 'afrikaans',\n",
       "       'alternative', 'alternativepunk', 'ambient', 'americana',\n",
       "       'animated', 'anime', 'arabesk', 'arabic', 'arena',\n",
       "       'argentinetango', 'art', 'audiobook', 'author', 'avantgarde',\n",
       "       'axé', 'baile', 'balkan', 'beats', 'bigroom', 'black', 'bluegrass',\n",
       "       'blues', 'bollywood', 'bossa', 'brazilian', 'breakbeat', 'breaks',\n",
       "       'broadway', 'cantautori', 'cantopop', 'canzone', 'caribbean',\n",
       "       'caucasian', 'celtic', 'chamber', 'chanson', 'children', 'chill',\n",
       "       'chinese', 'choral', 'christian', 'christmas', 'classical',\n",
       "       'classicmetal', 'club', 'colombian', 'comedy', 'conjazz',\n",
       "       'contemporary', 'country', 'cuban', 'dance', 'dancehall',\n",
       "       'dancepop', 'dark', 'death', 'deep', 'deutschrock', 'deutschspr',\n",
       "       'dirty', 'disco', 'dnb', 'documentary', 'downbeat', 'downtempo',\n",
       "       'drum', 'dub', 'dubstep', 'eastern', 'easy', 'electronic',\n",
       "       'electropop', 'emo', 'entehno', 'epicmetal', 'estrada', 'ethnic',\n",
       "       'eurofolk', 'european', 'experimental', 'extrememetal', 'fado',\n",
       "       'fairytail', 'film', 'fitness', 'flamenco', 'folk', 'folklore',\n",
       "       'folkmetal', 'folkrock', 'folktronica', 'forró', 'frankreich',\n",
       "       'französisch', 'french', 'funk', 'future', 'gangsta', 'garage',\n",
       "       'german', 'ghazal', 'gitarre', 'glitch', 'gospel', 'gothic',\n",
       "       'grime', 'grunge', 'gypsy', 'handsup', \"hard'n'heavy\", 'hardcore',\n",
       "       'hardstyle', 'hardtechno', 'hip', 'hip-hop', 'hiphop',\n",
       "       'historisch', 'holiday', 'hop', 'horror', 'house', 'hymn', 'idm',\n",
       "       'independent', 'indian', 'indie', 'indipop', 'industrial',\n",
       "       'inspirational', 'instrumental', 'international', 'irish', 'jam',\n",
       "       'japanese', 'jazz', 'jewish', 'jpop', 'jungle', 'k-pop',\n",
       "       'karadeniz', 'karaoke', 'kayokyoku', 'korean', 'laiko', 'latin',\n",
       "       'latino', 'leftfield', 'local', 'lounge', 'loungeelectronic',\n",
       "       'lovers', 'malaysian', 'mandopop', 'marschmusik', 'meditative',\n",
       "       'mediterranean', 'melodic', 'metal', 'metalcore', 'mexican',\n",
       "       'middle', 'minimal', 'miscellaneous', 'modern', 'mood', 'mpb',\n",
       "       'muslim', 'native', 'neoklassik', 'neue', 'new', 'newage',\n",
       "       'newwave', 'nu', 'nujazz', 'numetal', 'oceania', 'old', 'opera',\n",
       "       'orchestral', 'other', 'piano', 'podcasts', 'pop', 'popdance',\n",
       "       'popelectronic', 'popeurodance', 'poprussian', 'post',\n",
       "       'posthardcore', 'postrock', 'power', 'progmetal', 'progressive',\n",
       "       'psychedelic', 'punjabi', 'punk', 'quebecois', 'ragga', 'ram',\n",
       "       'rancheras', 'rap', 'rave', 'reggae', 'reggaeton', 'regional',\n",
       "       'relax', 'religious', 'retro', 'rhythm', 'rnb', 'rnr', 'rock',\n",
       "       'rockabilly', 'rockalternative', 'rockindie', 'rockother',\n",
       "       'romance', 'roots', 'ruspop', 'rusrap', 'rusrock', 'russian',\n",
       "       'salsa', 'samba', 'scenic', 'schlager', 'self', 'sertanejo',\n",
       "       'shanson', 'shoegazing', 'showtunes', 'singer', 'ska', 'skarock',\n",
       "       'slow', 'smooth', 'soft', 'soul', 'soulful', 'sound', 'soundtrack',\n",
       "       'southern', 'specialty', 'speech', 'spiritual', 'sport',\n",
       "       'stonerrock', 'surf', 'swing', 'synthpop', 'synthrock',\n",
       "       'sängerportrait', 'tango', 'tanzorchester', 'taraftar', 'tatar',\n",
       "       'tech', 'techno', 'teen', 'thrash', 'top', 'traditional',\n",
       "       'tradjazz', 'trance', 'tribal', 'trip', 'triphop', 'tropical',\n",
       "       'türk', 'türkçe', 'ukrrock', 'unknown', 'urban', 'uzbek',\n",
       "       'variété', 'vi', 'videogame', 'vocal', 'western', 'world',\n",
       "       'worldbeat', 'ïîï', 'электроника'], dtype=object)"
      ]
     },
     "execution_count": 22,
     "metadata": {},
     "output_type": "execute_result"
    }
   ],
   "source": [
    "df['genre'].sort_values().unique() # вывели на экран список уникальных названий жанров, отсортированный в алфавитном порядке"
   ]
  },
  {
   "cell_type": "markdown",
   "metadata": {
    "deletable": false,
    "editable": false,
    "id": "qej-Qmuo_Zct",
    "tags": [
     "start_task"
    ]
   },
   "source": [
    "**Задание 16**"
   ]
  },
  {
   "cell_type": "code",
   "execution_count": 24,
   "metadata": {
    "deletable": false,
    "id": "ErNDkmns_Zct"
   },
   "outputs": [],
   "source": [
    "df['genre'] = df['genre'].replace(['hip', 'hop', 'hip-hop'], 'hip-hop') # устранение дубликатов hiphop"
   ]
  },
  {
   "cell_type": "markdown",
   "metadata": {
    "deletable": false,
    "editable": false,
    "id": "zQKF16_RG15m",
    "tags": [
     "start_task"
    ]
   },
   "source": [
    "**Задание 17**"
   ]
  },
  {
   "cell_type": "code",
   "execution_count": 25,
   "metadata": {
    "deletable": false,
    "id": "wvixALnFG15m"
   },
   "outputs": [
    {
     "data": {
      "text/plain": [
       "array(['acid', 'acoustic', 'action', 'adult', 'africa', 'afrikaans',\n",
       "       'alternative', 'alternativepunk', 'ambient', 'americana',\n",
       "       'animated', 'anime', 'arabesk', 'arabic', 'arena',\n",
       "       'argentinetango', 'art', 'audiobook', 'author', 'avantgarde',\n",
       "       'axé', 'baile', 'balkan', 'beats', 'bigroom', 'black', 'bluegrass',\n",
       "       'blues', 'bollywood', 'bossa', 'brazilian', 'breakbeat', 'breaks',\n",
       "       'broadway', 'cantautori', 'cantopop', 'canzone', 'caribbean',\n",
       "       'caucasian', 'celtic', 'chamber', 'chanson', 'children', 'chill',\n",
       "       'chinese', 'choral', 'christian', 'christmas', 'classical',\n",
       "       'classicmetal', 'club', 'colombian', 'comedy', 'conjazz',\n",
       "       'contemporary', 'country', 'cuban', 'dance', 'dancehall',\n",
       "       'dancepop', 'dark', 'death', 'deep', 'deutschrock', 'deutschspr',\n",
       "       'dirty', 'disco', 'dnb', 'documentary', 'downbeat', 'downtempo',\n",
       "       'drum', 'dub', 'dubstep', 'eastern', 'easy', 'electronic',\n",
       "       'electropop', 'emo', 'entehno', 'epicmetal', 'estrada', 'ethnic',\n",
       "       'eurofolk', 'european', 'experimental', 'extrememetal', 'fado',\n",
       "       'fairytail', 'film', 'fitness', 'flamenco', 'folk', 'folklore',\n",
       "       'folkmetal', 'folkrock', 'folktronica', 'forró', 'frankreich',\n",
       "       'französisch', 'french', 'funk', 'future', 'gangsta', 'garage',\n",
       "       'german', 'ghazal', 'gitarre', 'glitch', 'gospel', 'gothic',\n",
       "       'grime', 'grunge', 'gypsy', 'handsup', \"hard'n'heavy\", 'hardcore',\n",
       "       'hardstyle', 'hardtechno', 'hip-hop', 'hiphop', 'historisch',\n",
       "       'holiday', 'horror', 'house', 'hymn', 'idm', 'independent',\n",
       "       'indian', 'indie', 'indipop', 'industrial', 'inspirational',\n",
       "       'instrumental', 'international', 'irish', 'jam', 'japanese',\n",
       "       'jazz', 'jewish', 'jpop', 'jungle', 'k-pop', 'karadeniz',\n",
       "       'karaoke', 'kayokyoku', 'korean', 'laiko', 'latin', 'latino',\n",
       "       'leftfield', 'local', 'lounge', 'loungeelectronic', 'lovers',\n",
       "       'malaysian', 'mandopop', 'marschmusik', 'meditative',\n",
       "       'mediterranean', 'melodic', 'metal', 'metalcore', 'mexican',\n",
       "       'middle', 'minimal', 'miscellaneous', 'modern', 'mood', 'mpb',\n",
       "       'muslim', 'native', 'neoklassik', 'neue', 'new', 'newage',\n",
       "       'newwave', 'nu', 'nujazz', 'numetal', 'oceania', 'old', 'opera',\n",
       "       'orchestral', 'other', 'piano', 'podcasts', 'pop', 'popdance',\n",
       "       'popelectronic', 'popeurodance', 'poprussian', 'post',\n",
       "       'posthardcore', 'postrock', 'power', 'progmetal', 'progressive',\n",
       "       'psychedelic', 'punjabi', 'punk', 'quebecois', 'ragga', 'ram',\n",
       "       'rancheras', 'rap', 'rave', 'reggae', 'reggaeton', 'regional',\n",
       "       'relax', 'religious', 'retro', 'rhythm', 'rnb', 'rnr', 'rock',\n",
       "       'rockabilly', 'rockalternative', 'rockindie', 'rockother',\n",
       "       'romance', 'roots', 'ruspop', 'rusrap', 'rusrock', 'russian',\n",
       "       'salsa', 'samba', 'scenic', 'schlager', 'self', 'sertanejo',\n",
       "       'shanson', 'shoegazing', 'showtunes', 'singer', 'ska', 'skarock',\n",
       "       'slow', 'smooth', 'soft', 'soul', 'soulful', 'sound', 'soundtrack',\n",
       "       'southern', 'specialty', 'speech', 'spiritual', 'sport',\n",
       "       'stonerrock', 'surf', 'swing', 'synthpop', 'synthrock',\n",
       "       'sängerportrait', 'tango', 'tanzorchester', 'taraftar', 'tatar',\n",
       "       'tech', 'techno', 'teen', 'thrash', 'top', 'traditional',\n",
       "       'tradjazz', 'trance', 'tribal', 'trip', 'triphop', 'tropical',\n",
       "       'türk', 'türkçe', 'ukrrock', 'unknown', 'urban', 'uzbek',\n",
       "       'variété', 'vi', 'videogame', 'vocal', 'western', 'world',\n",
       "       'worldbeat', 'ïîï', 'электроника'], dtype=object)"
      ]
     },
     "execution_count": 25,
     "metadata": {},
     "output_type": "execute_result"
    }
   ],
   "source": [
    "df['genre'].sort_values().unique() # проверяем"
   ]
  },
  {
   "cell_type": "markdown",
   "metadata": {
    "deletable": false,
    "editable": false,
    "id": "jz6a9-7HQUDd"
   },
   "source": [
    "**Выводы**\n",
    "\n",
    "Предобработка обнаружила три проблемы в данных:\n",
    "\n",
    "- нарушения в стиле заголовков,\n",
    "- пропущенные значения,\n",
    "- дубликаты — явные и неявные.\n",
    "\n",
    "Вы исправили заголовки, чтобы упростить работу с таблицей. Без дубликатов исследование станет более точным.\n",
    "\n",
    "Пропущенные значения вы заменили на `'unknown'`. Ещё предстоит увидеть, не повредят ли исследованию пропуски в колонке `genre`.\n",
    "\n",
    "Теперь можно перейти к проверке гипотез."
   ]
  },
  {
   "cell_type": "markdown",
   "metadata": {
    "deletable": false,
    "editable": false,
    "id": "WttZHXH0SqKk"
   },
   "source": [
    "## Проверка гипотез"
   ]
  },
  {
   "cell_type": "markdown",
   "metadata": {
    "deletable": false,
    "editable": false,
    "id": "Im936VVi_Zcu"
   },
   "source": [
    "### Сравнение поведения пользователей двух столиц"
   ]
  },
  {
   "cell_type": "markdown",
   "metadata": {
    "deletable": false,
    "editable": false,
    "id": "nwt_MuaL_Zcu"
   },
   "source": [
    "Первая гипотеза утверждает, что пользователи по-разному слушают музыку в Москве и Санкт-Петербурге. Проверим это предположение по данным о трёх днях недели — понедельнике, среде и пятнице. Для этого:\n",
    "\n",
    "* Разделим пользователей Москвы и Санкт-Петербурга.\n",
    "* Сравним, сколько треков послушала каждая группа пользователей в понедельник, среду и пятницу.\n"
   ]
  },
  {
   "cell_type": "markdown",
   "metadata": {
    "deletable": false,
    "id": "8Dw_YMmT_Zcu",
    "tags": [
     "start_task"
    ]
   },
   "source": [
    "**Задание 18**\n",
    "\n"
   ]
  },
  {
   "cell_type": "code",
   "execution_count": 27,
   "metadata": {
    "deletable": false,
    "id": "0_Qs96oh_Zcu"
   },
   "outputs": [
    {
     "data": {
      "text/plain": [
       "city\n",
       "Moscow              42741\n",
       "Saint-Petersburg    18512\n",
       "Name: user_id, dtype: int64"
      ]
     },
     "execution_count": 27,
     "metadata": {},
     "output_type": "execute_result"
    }
   ],
   "source": [
    "df.groupby('city')['user_id'].count() # подсчёт прослушиваний в каждом городе"
   ]
  },
  {
   "cell_type": "markdown",
   "metadata": {
    "id": "dzli3w8o_Zcu",
    "tags": [
     "start_task"
    ]
   },
   "source": [
    "**Задание 19**\n"
   ]
  },
  {
   "cell_type": "code",
   "execution_count": 29,
   "metadata": {
    "deletable": false,
    "id": "uZMKjiJz_Zcu"
   },
   "outputs": [
    {
     "data": {
      "text/plain": [
       "day\n",
       "Friday       21840\n",
       "Monday       21354\n",
       "Wednesday    18059\n",
       "Name: user_id, dtype: int64"
      ]
     },
     "execution_count": 29,
     "metadata": {},
     "output_type": "execute_result"
    }
   ],
   "source": [
    "df.groupby('day')['user_id'].count() # подсчёт прослушиваний в каждый из трёх дней"
   ]
  },
  {
   "cell_type": "markdown",
   "metadata": {
    "deletable": false,
    "editable": false,
    "id": "POzs8bGa_Zcu",
    "tags": [
     "start_task"
    ]
   },
   "source": [
    "**Задание 20**"
   ]
  },
  {
   "cell_type": "code",
   "execution_count": 47,
   "metadata": {
    "deletable": false,
    "id": "Nz3GdQB1_Zcu"
   },
   "outputs": [],
   "source": [
    "def number_tracks(day, city):\n",
    "    # выберите только строки df со значением переменной day в столбце day\n",
    "    track_list = df[df['day']==day]\n",
    "    # выберите только строки track_list со значением переменной city в столбце city\n",
    "    track_list = df[df['city']==city]\n",
    "    # вызовите метод подсчета строк для track_list и выберите столбец user_id\n",
    "    track_list_count = track_list['user_id'].count()\n",
    "    # верните значение track_list_count из функции\n",
    "    return track_list_count"
   ]
  },
  {
   "cell_type": "markdown",
   "metadata": {
    "deletable": false,
    "editable": false,
    "id": "ytf7xFrFJQ2r",
    "tags": [
     "start_task"
    ]
   },
   "source": [
    "**Задание 21**"
   ]
  },
  {
   "cell_type": "code",
   "execution_count": 41,
   "metadata": {
    "deletable": false,
    "id": "rJcRATNQ_Zcu"
   },
   "outputs": [
    {
     "data": {
      "text/plain": [
       "15740"
      ]
     },
     "execution_count": 41,
     "metadata": {},
     "output_type": "execute_result"
    }
   ],
   "source": [
    "number_tracks('Monday', 'Moscow') # количество прослушиваний в Москве по понедельникам"
   ]
  },
  {
   "cell_type": "code",
   "execution_count": 42,
   "metadata": {
    "deletable": false,
    "id": "hq_ncZ5T_Zcu"
   },
   "outputs": [
    {
     "data": {
      "text/plain": [
       "5614"
      ]
     },
     "execution_count": 42,
     "metadata": {},
     "output_type": "execute_result"
    }
   ],
   "source": [
    "number_tracks('Monday', 'Saint-Petersburg') # количество прослушиваний в Санкт-Петербурге по понедельникам"
   ]
  },
  {
   "cell_type": "code",
   "execution_count": 43,
   "metadata": {
    "deletable": false,
    "id": "_NTy2VPU_Zcu"
   },
   "outputs": [
    {
     "data": {
      "text/plain": [
       "11056"
      ]
     },
     "execution_count": 43,
     "metadata": {},
     "output_type": "execute_result"
    }
   ],
   "source": [
    "number_tracks('Wednesday', 'Moscow')# количество прослушиваний в Москве по средам"
   ]
  },
  {
   "cell_type": "code",
   "execution_count": 44,
   "metadata": {
    "deletable": false,
    "id": "j2y3TAwo_Zcu"
   },
   "outputs": [
    {
     "data": {
      "text/plain": [
       "7003"
      ]
     },
     "execution_count": 44,
     "metadata": {},
     "output_type": "execute_result"
    }
   ],
   "source": [
    "number_tracks('Wednesday', 'Saint-Petersburg')# количество прослушиваний в Санкт-Петербурге по средам"
   ]
  },
  {
   "cell_type": "code",
   "execution_count": 45,
   "metadata": {
    "deletable": false,
    "id": "vYDw5u_K_Zcu"
   },
   "outputs": [
    {
     "data": {
      "text/plain": [
       "15945"
      ]
     },
     "execution_count": 45,
     "metadata": {},
     "output_type": "execute_result"
    }
   ],
   "source": [
    "number_tracks('Friday', 'Moscow')# количество прослушиваний в Москве по пятницам"
   ]
  },
  {
   "cell_type": "code",
   "execution_count": 46,
   "metadata": {
    "deletable": false,
    "id": "8_yzFtW3_Zcu"
   },
   "outputs": [
    {
     "data": {
      "text/plain": [
       "5895"
      ]
     },
     "execution_count": 46,
     "metadata": {},
     "output_type": "execute_result"
    }
   ],
   "source": [
    "number_tracks('Friday', 'Saint-Petersburg')# количество прослушиваний в Санкт-Петербурге по пятницам"
   ]
  },
  {
   "cell_type": "markdown",
   "metadata": {
    "deletable": false,
    "editable": false,
    "id": "7QXffbO-_Zcu",
    "tags": [
     "start_task"
    ]
   },
   "source": [
    "**Задание 22**"
   ]
  },
  {
   "cell_type": "code",
   "execution_count": 51,
   "metadata": {
    "deletable": false,
    "id": "APAcLpOr_Zcu"
   },
   "outputs": [
    {
     "data": {
      "text/html": [
       "<div>\n",
       "<style scoped>\n",
       "    .dataframe tbody tr th:only-of-type {\n",
       "        vertical-align: middle;\n",
       "    }\n",
       "\n",
       "    .dataframe tbody tr th {\n",
       "        vertical-align: top;\n",
       "    }\n",
       "\n",
       "    .dataframe thead th {\n",
       "        text-align: right;\n",
       "    }\n",
       "</style>\n",
       "<table border=\"1\" class=\"dataframe\">\n",
       "  <thead>\n",
       "    <tr style=\"text-align: right;\">\n",
       "      <th></th>\n",
       "      <th>city</th>\n",
       "      <th>monday</th>\n",
       "      <th>wednesday</th>\n",
       "      <th>friday</th>\n",
       "    </tr>\n",
       "  </thead>\n",
       "  <tbody>\n",
       "    <tr>\n",
       "      <th>0</th>\n",
       "      <td>Москва</td>\n",
       "      <td>15750</td>\n",
       "      <td>11056</td>\n",
       "      <td>15945</td>\n",
       "    </tr>\n",
       "    <tr>\n",
       "      <th>1</th>\n",
       "      <td>Санкт-Петербург</td>\n",
       "      <td>5614</td>\n",
       "      <td>7003</td>\n",
       "      <td>5895</td>\n",
       "    </tr>\n",
       "  </tbody>\n",
       "</table>\n",
       "</div>"
      ],
      "text/plain": [
       "              city  monday  wednesday  friday\n",
       "0           Москва   15750      11056   15945\n",
       "1  Санкт-Петербург    5614       7003    5895"
      ]
     },
     "execution_count": 51,
     "metadata": {},
     "output_type": "execute_result"
    }
   ],
   "source": [
    "info = pd.DataFrame(data=[['Москва',15750,11056,15945], ['Санкт-Петербург',5614,7003,5895]], columns=['city', 'monday', 'wednesday', 'friday'])\n",
    "info # c помощью конструктора pd.DataFrame создаем таблицу info, где:\n",
    "# названия колонок — ['city', 'monday', 'wednesday', 'friday'];\n",
    "# данные — результаты, которые вы получили с помощью number_tracks"
   ]
  },
  {
   "cell_type": "markdown",
   "metadata": {
    "deletable": false,
    "editable": false,
    "id": "-EgPIHYu_Zcu"
   },
   "source": [
    "**Выводы**\n",
    "\n",
    "Данные показывают разницу поведения пользователей:\n",
    "\n",
    "- В Москве пик прослушиваний приходится на понедельник и пятницу, а в среду заметен спад.\n",
    "- В Петербурге, наоборот, больше слушают музыку по средам. Активность в понедельник и пятницу здесь почти в равной мере уступает среде.\n",
    "\n",
    "Значит, данные говорят в пользу первой гипотезы."
   ]
  },
  {
   "cell_type": "markdown",
   "metadata": {
    "deletable": false,
    "editable": false,
    "id": "atZAxtq4_Zcu"
   },
   "source": [
    "### Музыка в начале и в конце недели"
   ]
  },
  {
   "cell_type": "markdown",
   "metadata": {
    "deletable": false,
    "editable": false,
    "id": "eXrQqXFH_Zcu"
   },
   "source": [
    "Согласно второй гипотезе, утром в понедельник в Москве преобладают одни жанры, а в Петербурге — другие. Так же и вечером пятницы преобладают разные жанры — в зависимости от города."
   ]
  },
  {
   "cell_type": "markdown",
   "metadata": {
    "deletable": false,
    "editable": false,
    "id": "S8UcW6Hw_Zcu",
    "tags": [
     "start_task"
    ]
   },
   "source": [
    "**Задание 23**"
   ]
  },
  {
   "cell_type": "code",
   "execution_count": 58,
   "metadata": {
    "deletable": false,
    "id": "qeaFfM_P_Zcu"
   },
   "outputs": [],
   "source": [
    "moscow_general = df[df['city'] == 'Moscow'] "
   ]
  },
  {
   "cell_type": "code",
   "execution_count": 59,
   "metadata": {
    "deletable": false,
    "id": "ORaVRKto_Zcu"
   },
   "outputs": [],
   "source": [
    "spb_general = df[df['city'] == 'Saint-Petersburg'] # сохраняем таблицы с данными в две переменные:\n",
    "# по Москве — в moscow_general;\n",
    "# по Санкт-Петербургу — в spb_general."
   ]
  },
  {
   "cell_type": "markdown",
   "metadata": {
    "deletable": false,
    "editable": false,
    "id": "MEJV-CX2_Zcu",
    "tags": [
     "start_task"
    ]
   },
   "source": [
    "**Задание 24**"
   ]
  },
  {
   "cell_type": "code",
   "execution_count": 60,
   "metadata": {
    "deletable": false,
    "id": "laJT9BYl_Zcu"
   },
   "outputs": [],
   "source": [
    "def genre_weekday(df, day, time1, time2):\n",
    "    # последовательная фильтрация\n",
    "    # оставляем в genre_df только те строки df, у которых день равен day\n",
    "    genre_df = df[df['day']==day]# ваш код здесь\n",
    "    # оставляем в genre_df только те строки genre_df, у которых время меньше time2\n",
    "    genre_df = genre_df[genre_df['time']<time2] # ваш код здесь\n",
    "    # оставляем в genre_df только те строки genre_df, у которых время больше time1\n",
    "    genre_df = genre_df[genre_df['time']>time1] # ваш код здесь\n",
    "    # сгруппируем отфильтрованный датафрейм по столбцу с названиями жанров, возьмём столбец genre и посчитаем кол-во строк для каждого жанра методом count()\n",
    "    genre_df_grouped = genre_df.groupby('genre')['genre'].count() # ваш код здесь\n",
    "    # отсортируем результат по убыванию (чтобы в начале Series оказались самые популярные жанры)\n",
    "    genre_df_sorted = genre_df_grouped.sort_values(ascending=False) # ваш код здесь\n",
    "    # вернём Series с 10 самыми популярными жанрами в указанный отрезок времени заданного дня\n",
    "    return genre_df_sorted[:10]"
   ]
  },
  {
   "cell_type": "markdown",
   "metadata": {
    "deletable": false,
    "editable": false,
    "id": "la2s2_PF_Zcu",
    "tags": [
     "start_task"
    ]
   },
   "source": [
    "**Задание 25**"
   ]
  },
  {
   "cell_type": "code",
   "execution_count": 61,
   "metadata": {
    "deletable": false,
    "id": "yz7itPUQ_Zcu"
   },
   "outputs": [
    {
     "data": {
      "text/plain": [
       "genre\n",
       "pop            781\n",
       "dance          549\n",
       "electronic     480\n",
       "rock           474\n",
       "hip-hop        282\n",
       "ruspop         186\n",
       "world          181\n",
       "rusrap         175\n",
       "alternative    164\n",
       "unknown        161\n",
       "Name: genre, dtype: int64"
      ]
     },
     "execution_count": 61,
     "metadata": {},
     "output_type": "execute_result"
    }
   ],
   "source": [
    "genre_weekday(moscow_general, 'Monday', '07:00', '11:00') # вызов функции для утра понедельника в Москве"
   ]
  },
  {
   "cell_type": "code",
   "execution_count": 62,
   "metadata": {
    "deletable": false,
    "id": "kwUcHPdy_Zcu"
   },
   "outputs": [
    {
     "data": {
      "text/plain": [
       "genre\n",
       "pop            218\n",
       "dance          182\n",
       "rock           162\n",
       "electronic     147\n",
       "hip-hop         79\n",
       "ruspop          64\n",
       "alternative     58\n",
       "rusrap          55\n",
       "jazz            44\n",
       "classical       40\n",
       "Name: genre, dtype: int64"
      ]
     },
     "execution_count": 62,
     "metadata": {},
     "output_type": "execute_result"
    }
   ],
   "source": [
    "genre_weekday(spb_general, 'Monday', '07:00', '11:00') # вызов функции для утра понедельника в Петербурге"
   ]
  },
  {
   "cell_type": "code",
   "execution_count": 63,
   "metadata": {
    "deletable": false,
    "id": "EzXVRE1o_Zcu"
   },
   "outputs": [
    {
     "data": {
      "text/plain": [
       "genre\n",
       "pop            717\n",
       "dance          524\n",
       "rock           518\n",
       "electronic     485\n",
       "hip-hop        231\n",
       "alternative    182\n",
       "world          172\n",
       "classical      172\n",
       "ruspop         149\n",
       "rusrap         133\n",
       "Name: genre, dtype: int64"
      ]
     },
     "execution_count": 63,
     "metadata": {},
     "output_type": "execute_result"
    }
   ],
   "source": [
    "genre_weekday(moscow_general, 'Monday', '17:00', '23:00') # вызов функции для вечера понедельника в Москве"
   ]
  },
  {
   "cell_type": "code",
   "execution_count": 64,
   "metadata": {
    "deletable": false,
    "id": "JZaEKu5v_Zcu"
   },
   "outputs": [
    {
     "data": {
      "text/plain": [
       "genre\n",
       "pop            263\n",
       "rock           208\n",
       "electronic     192\n",
       "dance          191\n",
       "hip-hop        100\n",
       "alternative     72\n",
       "classical       71\n",
       "jazz            57\n",
       "rusrap          54\n",
       "ruspop          53\n",
       "Name: genre, dtype: int64"
      ]
     },
     "execution_count": 64,
     "metadata": {},
     "output_type": "execute_result"
    }
   ],
   "source": [
    "genre_weekday(spb_general, 'Monday', '17:00', '23:00') # вызов функции для вечера понедельника в Петербурге"
   ]
  },
  {
   "cell_type": "markdown",
   "metadata": {
    "deletable": false,
    "editable": false,
    "id": "wrCe4MNX_Zcu"
   },
   "source": [
    "**Выводы**\n",
    "\n",
    "Если сравнить топ-10 жанров в понедельник утром, можно сделать такие выводы:\n",
    "\n",
    "1. В Москве и Петербурге слушают похожую музыку. Единственное различие — в московский рейтинг вошёл жанр “world”, а в петербургский — джаз и классика.\n",
    "\n",
    "2. В Москве пропущенных значений оказалось так много, что значение `'unknown'` заняло десятое место среди самых популярных жанров. Значит, пропущенные значения занимают существенную долю в данных и угрожают достоверности исследования.\n",
    "\n",
    "Вечер пятницы не меняет эту картину. Некоторые жанры поднимаются немного выше, другие спускаются, но в целом топ-10 остаётся тем же самым.\n",
    "\n",
    "Таким образом, вторая гипотеза подтвердилась лишь частично:\n",
    "* Пользователи слушают похожую музыку в начале недели и в конце.\n",
    "* Разница между Москвой и Петербургом не слишком выражена. В Москве чаще слушают русскую популярную музыку, в Петербурге — джаз.\n",
    "\n",
    "Однако пропуски в данных ставят под сомнение этот результат. В Москве их так много, что рейтинг топ-10 мог бы выглядеть иначе, если бы не утерянные  данные о жанрах."
   ]
  },
  {
   "cell_type": "markdown",
   "metadata": {
    "deletable": false,
    "editable": false,
    "id": "JolODAqr_Zcu"
   },
   "source": [
    "### Жанровые предпочтения в Москве и Петербурге\n",
    "\n",
    "Гипотеза: Петербург — столица рэпа, музыку этого жанра там слушают чаще, чем в Москве.  А Москва — город контрастов, в котором, тем не менее, преобладает поп-музыка."
   ]
  },
  {
   "cell_type": "markdown",
   "metadata": {
    "deletable": false,
    "editable": false,
    "id": "DlegSvaT_Zcu",
    "tags": [
     "start_task"
    ]
   },
   "source": [
    "**Задание 26**"
   ]
  },
  {
   "cell_type": "code",
   "execution_count": 68,
   "metadata": {
    "deletable": false,
    "id": "r19lIPke_Zcu"
   },
   "outputs": [],
   "source": [
    "moscow_genres = moscow_general.groupby('genre')['genre'].count().sort_values(ascending=False) # сгруппируем таблицу moscow_general по жанру и посчитаем прослушивания треков каждого жанра методом count()"
   ]
  },
  {
   "cell_type": "markdown",
   "metadata": {
    "deletable": false,
    "editable": false,
    "id": "6kMuomxTiIr8",
    "tags": [
     "start_task"
    ]
   },
   "source": [
    "**Задание 27**"
   ]
  },
  {
   "cell_type": "code",
   "execution_count": 69,
   "metadata": {
    "deletable": false,
    "id": "WhCSooF8_Zcv"
   },
   "outputs": [
    {
     "data": {
      "text/plain": [
       "genre\n",
       "pop            5892\n",
       "dance          4435\n",
       "rock           3965\n",
       "electronic     3786\n",
       "hip-hop        2043\n",
       "classical      1616\n",
       "world          1432\n",
       "alternative    1379\n",
       "ruspop         1372\n",
       "rusrap         1161\n",
       "Name: genre, dtype: int64"
      ]
     },
     "execution_count": 69,
     "metadata": {},
     "output_type": "execute_result"
    }
   ],
   "source": [
    "moscow_genres.head(10) # просмотр первых 10 строк moscow_genres"
   ]
  },
  {
   "cell_type": "markdown",
   "metadata": {
    "deletable": false,
    "editable": false,
    "id": "cnPG2vnN_Zcv",
    "tags": [
     "start_task"
    ]
   },
   "source": [
    "**Задание 28**"
   ]
  },
  {
   "cell_type": "code",
   "execution_count": 70,
   "metadata": {
    "deletable": false,
    "id": "gluLIpE7_Zcv"
   },
   "outputs": [],
   "source": [
    "spb_genres = spb_general.groupby('genre')['genre'].count().sort_values(ascending=False) # сгруппируем таблицу spb_general по жанру и посчитаем прослушивания треков каждого жанра методом count()"
   ]
  },
  {
   "cell_type": "markdown",
   "metadata": {
    "deletable": false,
    "editable": false,
    "id": "5Doha_ODgyQ8",
    "tags": [
     "start_task"
    ]
   },
   "source": [
    "**Задание 29**"
   ]
  },
  {
   "cell_type": "code",
   "execution_count": 72,
   "metadata": {
    "deletable": false,
    "id": "uaGJHjVU_Zcv"
   },
   "outputs": [
    {
     "data": {
      "text/plain": [
       "genre\n",
       "pop            2431\n",
       "dance          1932\n",
       "rock           1879\n",
       "electronic     1736\n",
       "hip-hop         934\n",
       "alternative     649\n",
       "classical       646\n",
       "rusrap          564\n",
       "ruspop          538\n",
       "world           515\n",
       "Name: genre, dtype: int64"
      ]
     },
     "execution_count": 72,
     "metadata": {},
     "output_type": "execute_result"
    }
   ],
   "source": [
    "spb_genres.head(10) # просмотр первых 10 строк spb_genres"
   ]
  },
  {
   "cell_type": "markdown",
   "metadata": {
    "deletable": false,
    "editable": false,
    "id": "RY51YJYu_Zcv"
   },
   "source": [
    "**Выводы**"
   ]
  },
  {
   "cell_type": "markdown",
   "metadata": {
    "deletable": false,
    "editable": false,
    "id": "nVhnJEm__Zcv"
   },
   "source": [
    "Гипотеза частично подтвердилась:\n",
    "* Поп-музыка — самый популярный жанр в Москве, как и предполагала гипотеза. Более того, в топ-10 жанров встречается близкий жанр — русская популярная музыка.\n",
    "* Вопреки ожиданиям, рэп одинаково популярен в Москве и Петербурге.\n"
   ]
  },
  {
   "cell_type": "markdown",
   "metadata": {
    "deletable": false,
    "editable": false,
    "id": "ykKQ0N65_Zcv"
   },
   "source": [
    "## Итоги исследования"
   ]
  },
  {
   "cell_type": "markdown",
   "metadata": {
    "deletable": false,
    "editable": false,
    "id": "tjUwbHb3_Zcv"
   },
   "source": [
    "Вы проверили три гипотезы и установили:\n",
    "\n",
    "1. День недели по-разному влияет на активность пользователей в Москве и Петербурге.\n",
    "\n",
    "Первая гипотеза полностью подтвердилась.\n",
    "\n",
    "2. Музыкальные предпочтения не сильно меняются в течение недели — будь то Москва или Петербург. Небольшие различия заметны в начале недели, по понедельникам:\n",
    "* в Москве слушают музыку жанра “world”,\n",
    "* в Петербурге — джаз и классику.\n",
    "\n",
    "Таким образом, вторая гипотеза подтвердилась лишь отчасти. Этот результат мог оказаться иным, если бы не пропуски в данных.\n",
    "\n",
    "3. Во вкусах пользователей Москвы и Петербурга больше общего, чем различий. Вопреки ожиданиям, предпочтения жанров в Петербурге напоминают московские.\n",
    "\n",
    "Третья гипотеза не подтвердилась. Если различия в предпочтениях и существуют, на основной массе пользователей они незаметны.\n",
    "\n",
    "**На практике исследования содержат проверки статистических гипотез.**\n",
    "Из части данных одного сервиса невозможно сделать какие-то выводы о всех пользователях сервиса без методов статистики.\n",
    "Проверки статистических гипотез покажут, насколько они достоверны, исходя из имеющихся данных.\n",
    "С методами проверок гипотез вы ещё познакомитесь в следующих темах."
   ]
  }
 ],
 "metadata": {
  "ExecuteTimeLog": [
   {
    "duration": 49,
    "start_time": "2024-03-24T08:35:10.943Z"
   },
   {
    "duration": 6,
    "start_time": "2024-03-24T08:35:21.791Z"
   },
   {
    "duration": 6,
    "start_time": "2024-03-24T08:35:24.480Z"
   },
   {
    "duration": 8,
    "start_time": "2024-03-24T08:36:01.183Z"
   },
   {
    "duration": 5,
    "start_time": "2024-03-24T08:36:43.456Z"
   },
   {
    "duration": 7,
    "start_time": "2024-03-24T08:38:21.826Z"
   },
   {
    "duration": 60,
    "start_time": "2024-03-24T08:41:00.698Z"
   },
   {
    "duration": 9,
    "start_time": "2024-03-24T08:44:11.319Z"
   },
   {
    "duration": 8,
    "start_time": "2024-03-24T08:44:37.548Z"
   },
   {
    "duration": 7,
    "start_time": "2024-03-24T08:44:52.293Z"
   },
   {
    "duration": 48,
    "start_time": "2024-03-24T08:45:40.719Z"
   },
   {
    "duration": 402,
    "start_time": "2024-03-24T08:45:53.717Z"
   },
   {
    "duration": 475,
    "start_time": "2024-03-24T08:45:55.798Z"
   },
   {
    "duration": 26,
    "start_time": "2024-03-24T08:45:57.622Z"
   },
   {
    "duration": 44,
    "start_time": "2024-03-24T08:46:15.134Z"
   },
   {
    "duration": 3,
    "start_time": "2024-03-24T08:48:51.643Z"
   },
   {
    "duration": 3,
    "start_time": "2024-03-24T08:50:54.681Z"
   },
   {
    "duration": 13,
    "start_time": "2024-03-24T08:52:30.275Z"
   },
   {
    "duration": 4,
    "start_time": "2024-03-24T08:52:53.956Z"
   },
   {
    "duration": 29,
    "start_time": "2024-03-24T08:56:06.685Z"
   },
   {
    "duration": 70,
    "start_time": "2024-03-24T09:00:32.896Z"
   },
   {
    "duration": 71,
    "start_time": "2024-03-24T09:00:41.411Z"
   },
   {
    "duration": 8,
    "start_time": "2024-03-24T09:02:01.912Z"
   },
   {
    "duration": 47,
    "start_time": "2024-03-24T09:02:30.936Z"
   },
   {
    "duration": 7,
    "start_time": "2024-03-24T09:02:33.839Z"
   },
   {
    "duration": 389,
    "start_time": "2024-03-24T09:02:46.897Z"
   },
   {
    "duration": 184,
    "start_time": "2024-03-24T09:02:48.496Z"
   },
   {
    "duration": 19,
    "start_time": "2024-03-24T09:02:50.056Z"
   },
   {
    "duration": 37,
    "start_time": "2024-03-24T09:02:52.265Z"
   },
   {
    "duration": 2,
    "start_time": "2024-03-24T09:02:54.553Z"
   },
   {
    "duration": 4,
    "start_time": "2024-03-24T09:02:57.129Z"
   },
   {
    "duration": 13,
    "start_time": "2024-03-24T09:02:59.881Z"
   },
   {
    "duration": 4,
    "start_time": "2024-03-24T09:03:02.665Z"
   },
   {
    "duration": 29,
    "start_time": "2024-03-24T09:03:05.241Z"
   },
   {
    "duration": 69,
    "start_time": "2024-03-24T09:03:50.970Z"
   },
   {
    "duration": 50,
    "start_time": "2024-03-24T09:10:18.605Z"
   },
   {
    "duration": 456,
    "start_time": "2024-03-24T09:10:39.372Z"
   },
   {
    "duration": 184,
    "start_time": "2024-03-24T09:10:41.180Z"
   },
   {
    "duration": 19,
    "start_time": "2024-03-24T09:10:42.805Z"
   },
   {
    "duration": 36,
    "start_time": "2024-03-24T09:10:44.740Z"
   },
   {
    "duration": 3,
    "start_time": "2024-03-24T09:10:47.892Z"
   },
   {
    "duration": 3,
    "start_time": "2024-03-24T09:10:50.613Z"
   },
   {
    "duration": 11,
    "start_time": "2024-03-24T09:10:51.861Z"
   },
   {
    "duration": 3,
    "start_time": "2024-03-24T09:10:53.349Z"
   },
   {
    "duration": 39,
    "start_time": "2024-03-24T09:10:55.148Z"
   },
   {
    "duration": 35,
    "start_time": "2024-03-24T09:10:56.877Z"
   },
   {
    "duration": 28,
    "start_time": "2024-03-24T09:10:58.621Z"
   },
   {
    "duration": 102,
    "start_time": "2024-03-24T09:11:44.766Z"
   },
   {
    "duration": 94,
    "start_time": "2024-03-24T09:12:49.894Z"
   },
   {
    "duration": 82,
    "start_time": "2024-03-24T09:13:39.743Z"
   },
   {
    "duration": 418,
    "start_time": "2024-03-24T09:14:05.324Z"
   },
   {
    "duration": 194,
    "start_time": "2024-03-24T09:14:06.940Z"
   },
   {
    "duration": 18,
    "start_time": "2024-03-24T09:14:08.780Z"
   },
   {
    "duration": 34,
    "start_time": "2024-03-24T09:14:10.956Z"
   },
   {
    "duration": 2,
    "start_time": "2024-03-24T09:14:13.620Z"
   },
   {
    "duration": 3,
    "start_time": "2024-03-24T09:14:16.877Z"
   },
   {
    "duration": 11,
    "start_time": "2024-03-24T09:14:18.325Z"
   },
   {
    "duration": 4,
    "start_time": "2024-03-24T09:14:22.797Z"
   },
   {
    "duration": 27,
    "start_time": "2024-03-24T09:14:24.437Z"
   },
   {
    "duration": 22,
    "start_time": "2024-03-24T09:14:26.460Z"
   },
   {
    "duration": 29,
    "start_time": "2024-03-24T09:14:28.644Z"
   },
   {
    "duration": 80,
    "start_time": "2024-03-24T09:14:49.165Z"
   },
   {
    "duration": 81,
    "start_time": "2024-03-24T09:14:51.244Z"
   },
   {
    "duration": 65,
    "start_time": "2024-03-24T09:14:55.269Z"
   },
   {
    "duration": 920,
    "start_time": "2024-03-24T09:19:07.471Z"
   },
   {
    "duration": 76,
    "start_time": "2024-03-24T09:19:16.303Z"
   },
   {
    "duration": 65,
    "start_time": "2024-03-24T09:22:10.089Z"
   },
   {
    "duration": 14,
    "start_time": "2024-03-24T09:22:45.184Z"
   },
   {
    "duration": 45,
    "start_time": "2024-03-24T09:23:37.737Z"
   },
   {
    "duration": 8,
    "start_time": "2024-03-24T09:25:41.609Z"
   },
   {
    "duration": 14,
    "start_time": "2024-03-24T09:26:01.858Z"
   },
   {
    "duration": 5,
    "start_time": "2024-03-24T09:27:18.620Z"
   },
   {
    "duration": 15,
    "start_time": "2024-03-24T09:27:45.130Z"
   },
   {
    "duration": 3,
    "start_time": "2024-03-24T09:31:55.604Z"
   },
   {
    "duration": 18,
    "start_time": "2024-03-24T09:33:30.381Z"
   },
   {
    "duration": 18,
    "start_time": "2024-03-24T09:33:34.932Z"
   },
   {
    "duration": 18,
    "start_time": "2024-03-24T09:33:37.605Z"
   },
   {
    "duration": 16,
    "start_time": "2024-03-24T09:33:39.917Z"
   },
   {
    "duration": 23,
    "start_time": "2024-03-24T09:33:41.845Z"
   },
   {
    "duration": 19,
    "start_time": "2024-03-24T09:33:43.876Z"
   },
   {
    "duration": 9,
    "start_time": "2024-03-24T09:35:33.574Z"
   },
   {
    "duration": 9,
    "start_time": "2024-03-24T09:35:42.925Z"
   },
   {
    "duration": 58,
    "start_time": "2024-03-24T09:36:41.110Z"
   },
   {
    "duration": 9,
    "start_time": "2024-03-24T09:37:14.975Z"
   },
   {
    "duration": 440,
    "start_time": "2024-03-24T09:37:37.439Z"
   },
   {
    "duration": 190,
    "start_time": "2024-03-24T09:37:38.904Z"
   },
   {
    "duration": 18,
    "start_time": "2024-03-24T09:37:40.424Z"
   },
   {
    "duration": 36,
    "start_time": "2024-03-24T09:37:42.208Z"
   },
   {
    "duration": 2,
    "start_time": "2024-03-24T09:37:44.377Z"
   },
   {
    "duration": 4,
    "start_time": "2024-03-24T09:37:46.096Z"
   },
   {
    "duration": 12,
    "start_time": "2024-03-24T09:37:47.312Z"
   },
   {
    "duration": 3,
    "start_time": "2024-03-24T09:37:49.040Z"
   },
   {
    "duration": 29,
    "start_time": "2024-03-24T09:37:50.648Z"
   },
   {
    "duration": 24,
    "start_time": "2024-03-24T09:37:52.168Z"
   },
   {
    "duration": 29,
    "start_time": "2024-03-24T09:37:53.912Z"
   },
   {
    "duration": 69,
    "start_time": "2024-03-24T09:37:55.840Z"
   },
   {
    "duration": 89,
    "start_time": "2024-03-24T09:37:57.561Z"
   },
   {
    "duration": 65,
    "start_time": "2024-03-24T09:37:59.040Z"
   },
   {
    "duration": 44,
    "start_time": "2024-03-24T09:38:00.753Z"
   },
   {
    "duration": 12,
    "start_time": "2024-03-24T09:38:04.120Z"
   },
   {
    "duration": 46,
    "start_time": "2024-03-24T09:38:06.208Z"
   },
   {
    "duration": 21,
    "start_time": "2024-03-24T09:38:09.049Z"
   },
   {
    "duration": 14,
    "start_time": "2024-03-24T09:38:10.552Z"
   },
   {
    "duration": 4,
    "start_time": "2024-03-24T09:38:11.889Z"
   },
   {
    "duration": 24,
    "start_time": "2024-03-24T09:38:13.729Z"
   },
   {
    "duration": 22,
    "start_time": "2024-03-24T09:38:15.849Z"
   },
   {
    "duration": 20,
    "start_time": "2024-03-24T09:38:17.601Z"
   },
   {
    "duration": 20,
    "start_time": "2024-03-24T09:38:18.769Z"
   },
   {
    "duration": 26,
    "start_time": "2024-03-24T09:38:19.450Z"
   },
   {
    "duration": 21,
    "start_time": "2024-03-24T09:38:20.120Z"
   },
   {
    "duration": 78,
    "start_time": "2024-03-24T09:38:22.185Z"
   },
   {
    "duration": 9,
    "start_time": "2024-03-24T09:38:32.617Z"
   },
   {
    "duration": 10,
    "start_time": "2024-03-24T09:39:01.905Z"
   },
   {
    "duration": 6,
    "start_time": "2024-03-24T09:39:35.241Z"
   },
   {
    "duration": 69,
    "start_time": "2024-03-24T09:47:59.006Z"
   },
   {
    "duration": 108,
    "start_time": "2024-03-24T09:48:31.342Z"
   },
   {
    "duration": 66,
    "start_time": "2024-03-24T09:48:47.645Z"
   },
   {
    "duration": 5,
    "start_time": "2024-03-24T09:48:59.654Z"
   },
   {
    "duration": 8,
    "start_time": "2024-03-24T09:50:51.494Z"
   },
   {
    "duration": 7,
    "start_time": "2024-03-24T09:51:24.647Z"
   },
   {
    "duration": 7,
    "start_time": "2024-03-24T09:51:35.334Z"
   },
   {
    "duration": 8,
    "start_time": "2024-03-24T09:51:37.999Z"
   },
   {
    "duration": 7,
    "start_time": "2024-03-24T09:51:41.895Z"
   },
   {
    "duration": 7,
    "start_time": "2024-03-24T09:51:53.087Z"
   },
   {
    "duration": 8,
    "start_time": "2024-03-24T09:52:01.959Z"
   },
   {
    "duration": 8,
    "start_time": "2024-03-24T09:52:05.679Z"
   },
   {
    "duration": 7,
    "start_time": "2024-03-24T09:52:07.511Z"
   },
   {
    "duration": 8,
    "start_time": "2024-03-24T09:52:09.191Z"
   },
   {
    "duration": 448,
    "start_time": "2024-03-24T09:52:45.559Z"
   },
   {
    "duration": 215,
    "start_time": "2024-03-24T09:52:46.791Z"
   },
   {
    "duration": 19,
    "start_time": "2024-03-24T09:52:48.367Z"
   },
   {
    "duration": 36,
    "start_time": "2024-03-24T09:52:50.591Z"
   },
   {
    "duration": 4,
    "start_time": "2024-03-24T09:52:52.269Z"
   },
   {
    "duration": 4,
    "start_time": "2024-03-24T09:52:55.103Z"
   },
   {
    "duration": 12,
    "start_time": "2024-03-24T09:52:56.767Z"
   },
   {
    "duration": 3,
    "start_time": "2024-03-24T09:52:58.360Z"
   },
   {
    "duration": 29,
    "start_time": "2024-03-24T09:53:00.047Z"
   },
   {
    "duration": 22,
    "start_time": "2024-03-24T09:53:01.456Z"
   },
   {
    "duration": 30,
    "start_time": "2024-03-24T09:53:03.391Z"
   },
   {
    "duration": 73,
    "start_time": "2024-03-24T09:53:04.831Z"
   },
   {
    "duration": 86,
    "start_time": "2024-03-24T09:53:06.495Z"
   },
   {
    "duration": 68,
    "start_time": "2024-03-24T09:53:07.992Z"
   },
   {
    "duration": 58,
    "start_time": "2024-03-24T09:53:09.567Z"
   },
   {
    "duration": 13,
    "start_time": "2024-03-24T09:53:12.518Z"
   },
   {
    "duration": 45,
    "start_time": "2024-03-24T09:53:13.727Z"
   },
   {
    "duration": 13,
    "start_time": "2024-03-24T09:53:16.400Z"
   },
   {
    "duration": 13,
    "start_time": "2024-03-24T09:53:17.960Z"
   },
   {
    "duration": 3,
    "start_time": "2024-03-24T09:53:19.312Z"
   },
   {
    "duration": 19,
    "start_time": "2024-03-24T09:53:21.056Z"
   },
   {
    "duration": 17,
    "start_time": "2024-03-24T09:53:22.688Z"
   },
   {
    "duration": 16,
    "start_time": "2024-03-24T09:53:23.232Z"
   },
   {
    "duration": 15,
    "start_time": "2024-03-24T09:53:23.784Z"
   },
   {
    "duration": 18,
    "start_time": "2024-03-24T09:53:24.289Z"
   },
   {
    "duration": 17,
    "start_time": "2024-03-24T09:53:24.760Z"
   },
   {
    "duration": 7,
    "start_time": "2024-03-24T09:53:26.760Z"
   },
   {
    "duration": 11,
    "start_time": "2024-03-24T09:53:28.903Z"
   },
   {
    "duration": 10,
    "start_time": "2024-03-24T09:53:30.527Z"
   },
   {
    "duration": 6,
    "start_time": "2024-03-24T09:53:32.200Z"
   },
   {
    "duration": 17,
    "start_time": "2024-03-24T09:53:34.264Z"
   },
   {
    "duration": 12,
    "start_time": "2024-03-24T09:53:35.064Z"
   },
   {
    "duration": 21,
    "start_time": "2024-03-24T09:53:35.832Z"
   },
   {
    "duration": 13,
    "start_time": "2024-03-24T09:53:36.432Z"
   },
   {
    "duration": 78,
    "start_time": "2024-03-24T09:57:00.226Z"
   },
   {
    "duration": 11,
    "start_time": "2024-03-24T09:57:25.794Z"
   },
   {
    "duration": 61,
    "start_time": "2024-03-24T09:57:56.370Z"
   },
   {
    "duration": 6,
    "start_time": "2024-03-24T09:58:12.569Z"
   },
   {
    "duration": 6,
    "start_time": "2024-03-24T09:58:58.643Z"
   },
   {
    "duration": 6,
    "start_time": "2024-03-24T09:59:15.123Z"
   },
   {
    "duration": 441,
    "start_time": "2024-07-18T06:23:52.559Z"
   },
   {
    "duration": 9,
    "start_time": "2024-07-18T06:26:53.819Z"
   },
   {
    "duration": 3,
    "start_time": "2024-07-18T06:31:32.654Z"
   },
   {
    "duration": 275,
    "start_time": "2024-07-18T06:33:04.718Z"
   },
   {
    "duration": 12,
    "start_time": "2024-07-18T06:33:45.119Z"
   },
   {
    "duration": 34,
    "start_time": "2024-07-18T06:34:33.661Z"
   },
   {
    "duration": 3,
    "start_time": "2024-07-18T06:36:15.868Z"
   },
   {
    "duration": 4,
    "start_time": "2024-07-18T06:36:55.416Z"
   },
   {
    "duration": 10,
    "start_time": "2024-07-18T06:38:36.778Z"
   },
   {
    "duration": 13,
    "start_time": "2024-07-18T06:38:51.328Z"
   },
   {
    "duration": 4,
    "start_time": "2024-07-18T06:39:18.657Z"
   },
   {
    "duration": 27,
    "start_time": "2024-07-18T06:39:40.897Z"
   },
   {
    "duration": 28,
    "start_time": "2024-07-18T06:40:15.244Z"
   },
   {
    "duration": 20,
    "start_time": "2024-07-18T06:42:01.558Z"
   },
   {
    "duration": 28,
    "start_time": "2024-07-18T06:42:42.311Z"
   },
   {
    "duration": 67,
    "start_time": "2024-07-18T06:43:39.318Z"
   },
   {
    "duration": 66,
    "start_time": "2024-07-18T06:43:54.044Z"
   },
   {
    "duration": 89,
    "start_time": "2024-07-18T06:44:49.103Z"
   },
   {
    "duration": 67,
    "start_time": "2024-07-18T06:45:14.808Z"
   },
   {
    "duration": 70,
    "start_time": "2024-07-18T06:45:39.367Z"
   },
   {
    "duration": 45,
    "start_time": "2024-07-18T06:47:11.315Z"
   },
   {
    "duration": 43,
    "start_time": "2024-07-18T06:47:33.969Z"
   },
   {
    "duration": 12,
    "start_time": "2024-07-18T06:49:09.972Z"
   },
   {
    "duration": 11,
    "start_time": "2024-07-18T06:49:21.610Z"
   },
   {
    "duration": 46,
    "start_time": "2024-07-18T06:52:00.521Z"
   },
   {
    "duration": 313,
    "start_time": "2024-07-18T06:54:33.583Z"
   },
   {
    "duration": 12,
    "start_time": "2024-07-18T06:54:42.440Z"
   },
   {
    "duration": 12,
    "start_time": "2024-07-18T06:55:26.159Z"
   },
   {
    "duration": 12,
    "start_time": "2024-07-18T06:55:33.858Z"
   },
   {
    "duration": 4,
    "start_time": "2024-07-18T06:57:49.690Z"
   },
   {
    "duration": 3,
    "start_time": "2024-07-18T06:57:52.090Z"
   },
   {
    "duration": 24,
    "start_time": "2024-07-18T06:58:25.930Z"
   },
   {
    "duration": 23,
    "start_time": "2024-07-18T06:58:56.668Z"
   },
   {
    "duration": 23,
    "start_time": "2024-07-18T06:59:02.340Z"
   },
   {
    "duration": 20,
    "start_time": "2024-07-18T06:59:10.946Z"
   },
   {
    "duration": 21,
    "start_time": "2024-07-18T06:59:24.130Z"
   },
   {
    "duration": 18,
    "start_time": "2024-07-18T06:59:46.365Z"
   },
   {
    "duration": 23,
    "start_time": "2024-07-18T06:59:55.188Z"
   },
   {
    "duration": 20,
    "start_time": "2024-07-18T07:00:03.915Z"
   },
   {
    "duration": 4,
    "start_time": "2024-07-18T07:00:27.277Z"
   },
   {
    "duration": 18,
    "start_time": "2024-07-18T07:00:29.276Z"
   },
   {
    "duration": 15,
    "start_time": "2024-07-18T07:00:29.749Z"
   },
   {
    "duration": 16,
    "start_time": "2024-07-18T07:00:30.142Z"
   },
   {
    "duration": 15,
    "start_time": "2024-07-18T07:00:31.308Z"
   },
   {
    "duration": 18,
    "start_time": "2024-07-18T07:00:31.589Z"
   },
   {
    "duration": 17,
    "start_time": "2024-07-18T07:00:32.614Z"
   },
   {
    "duration": 3,
    "start_time": "2024-07-18T07:00:53.260Z"
   },
   {
    "duration": 4,
    "start_time": "2024-07-18T07:02:12.525Z"
   },
   {
    "duration": 11,
    "start_time": "2024-07-18T07:02:19.702Z"
   },
   {
    "duration": 9,
    "start_time": "2024-07-18T07:02:47.556Z"
   },
   {
    "duration": 9,
    "start_time": "2024-07-18T07:02:52.321Z"
   },
   {
    "duration": 10,
    "start_time": "2024-07-18T07:04:01.568Z"
   },
   {
    "duration": 63,
    "start_time": "2024-07-18T07:05:24.663Z"
   },
   {
    "duration": 4,
    "start_time": "2024-07-18T07:05:31.263Z"
   },
   {
    "duration": 7,
    "start_time": "2024-07-18T07:05:32.064Z"
   },
   {
    "duration": 4,
    "start_time": "2024-07-18T07:05:45.905Z"
   },
   {
    "duration": 7,
    "start_time": "2024-07-18T07:05:46.792Z"
   },
   {
    "duration": 11,
    "start_time": "2024-07-18T07:05:49.064Z"
   },
   {
    "duration": 10,
    "start_time": "2024-07-18T07:05:49.369Z"
   },
   {
    "duration": 3,
    "start_time": "2024-07-18T07:05:50.017Z"
   },
   {
    "duration": 15,
    "start_time": "2024-07-18T07:05:50.904Z"
   },
   {
    "duration": 11,
    "start_time": "2024-07-18T07:06:16.688Z"
   },
   {
    "duration": 17,
    "start_time": "2024-07-18T07:06:37.341Z"
   },
   {
    "duration": 12,
    "start_time": "2024-07-18T07:06:37.745Z"
   },
   {
    "duration": 12,
    "start_time": "2024-07-18T07:08:34.322Z"
   },
   {
    "duration": 10,
    "start_time": "2024-07-18T07:09:05.552Z"
   },
   {
    "duration": 7,
    "start_time": "2024-07-18T07:09:43.024Z"
   },
   {
    "duration": 9,
    "start_time": "2024-07-18T07:09:55.608Z"
   },
   {
    "duration": 5,
    "start_time": "2024-07-18T07:09:57.067Z"
   },
   {
    "duration": 8,
    "start_time": "2024-07-18T07:10:26.973Z"
   },
   {
    "duration": 5,
    "start_time": "2024-07-18T07:10:32.484Z"
   },
   {
    "duration": 5,
    "start_time": "2024-07-18T07:10:40.667Z"
   }
  ],
  "celltoolbar": "Отсутствует",
  "colab": {
   "collapsed_sections": [
    "E0vqbgi9ay0H",
    "VUC88oWjTJw2"
   ],
   "provenance": []
  },
  "kernelspec": {
   "display_name": "Python 3 (ipykernel)",
   "language": "python",
   "name": "python3"
  },
  "language_info": {
   "codemirror_mode": {
    "name": "ipython",
    "version": 3
   },
   "file_extension": ".py",
   "mimetype": "text/x-python",
   "name": "python",
   "nbconvert_exporter": "python",
   "pygments_lexer": "ipython3",
   "version": "3.9.5"
  },
  "toc": {
   "base_numbering": 1,
   "nav_menu": {
    "height": "215px",
    "width": "403px"
   },
   "number_sections": true,
   "sideBar": true,
   "skip_h1_title": true,
   "title_cell": "Table of Contents",
   "title_sidebar": "Contents",
   "toc_cell": false,
   "toc_position": {
    "height": "calc(100% - 180px)",
    "left": "10px",
    "top": "150px",
    "width": "285.825px"
   },
   "toc_section_display": true,
   "toc_window_display": false
  }
 },
 "nbformat": 4,
 "nbformat_minor": 1
}
